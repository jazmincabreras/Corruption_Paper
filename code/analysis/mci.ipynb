{
 "cells": [
  {
   "cell_type": "markdown",
   "id": "2541017a-17fd-450d-89dd-d9cda4529777",
   "metadata": {},
   "source": [
    "# Variable dependiente: Monto Corrupción Intensa (numérica)"
   ]
  },
  {
   "cell_type": "markdown",
   "id": "a6761da3-4f37-4091-a9c0-b1ae998b4611",
   "metadata": {},
   "source": [
    "## 1. Data"
   ]
  },
  {
   "cell_type": "markdown",
   "id": "6c8210e9-8f9f-4372-86aa-29957283d48d",
   "metadata": {},
   "source": [
    "#### 1.1. Import libraries and data"
   ]
  },
  {
   "cell_type": "code",
   "execution_count": 1,
   "id": "8455f216-b1fa-4f2f-aced-06bc0a3a1a99",
   "metadata": {},
   "outputs": [],
   "source": [
    "import warnings\n",
    "warnings.filterwarnings('ignore')"
   ]
  },
  {
   "cell_type": "code",
   "execution_count": 2,
   "id": "872db2ab-e158-4a3e-8a84-9fb88658226f",
   "metadata": {},
   "outputs": [],
   "source": [
    "import pandas as  pd, numpy as np\n",
    "import matplotlib.pyplot as plt\n",
    "import statsmodels.api as sm\n",
    "import statsmodels.formula.api as smf"
   ]
  },
  {
   "cell_type": "code",
   "execution_count": 3,
   "id": "908e0c89-5533-4936-a177-0e04af2555ef",
   "metadata": {},
   "outputs": [],
   "source": [
    "import funciones as fun\n",
    "import variables_nombres as vn"
   ]
  },
  {
   "cell_type": "code",
   "execution_count": 16,
   "id": "001770f9-a6a3-43cd-8dd3-9bd5891658f3",
   "metadata": {},
   "outputs": [],
   "source": [
    "path = r'..\\..\\output\\data_preprocess\\dfs_0_i_mci.csv'\n",
    "data = pd.read_csv( path )"
   ]
  },
  {
   "cell_type": "code",
   "execution_count": 17,
   "id": "05769dd3-31a4-4953-a620-f9e605473bf1",
   "metadata": {
    "tags": []
   },
   "outputs": [],
   "source": [
    "# Borrar otras variables dependientes. Solo nos quedamos con 'monto_corrup1'\n",
    "data = data.drop( [ 'tipo_control', 'corrup_intensa', 'corrup_amplia', \n",
    "                    'per_corrup1', 'per_corrup2' ], \n",
    "                  axis = 1 )"
   ]
  },
  {
   "cell_type": "code",
   "execution_count": 18,
   "id": "c45068a4-648c-4424-9c65-7ed87a246f74",
   "metadata": {},
   "outputs": [],
   "source": [
    "# Borrar aquellas filas en las que la variable dependiente tenga missing\n",
    "data = data.dropna( axis = 0, subset = [ 'monto_corrup1' ] )"
   ]
  },
  {
   "cell_type": "code",
   "execution_count": 19,
   "id": "948f980a-49c6-4ca4-902e-20773a4973f3",
   "metadata": {},
   "outputs": [],
   "source": [
    "data = data.dropna( axis = 1 )"
   ]
  },
  {
   "cell_type": "code",
   "execution_count": 20,
   "id": "1d7f74de-a6d3-4b3c-926f-2ff857557336",
   "metadata": {},
   "outputs": [
    {
     "data": {
      "text/plain": [
       "(697, 1048)"
      ]
     },
     "execution_count": 20,
     "metadata": {},
     "output_type": "execute_result"
    }
   ],
   "source": [
    "data.shape"
   ]
  },
  {
   "cell_type": "markdown",
   "id": "30c1702e-7a51-4caa-bc7e-6862250caa05",
   "metadata": {
    "jupyter": {
     "outputs_hidden": true
    },
    "tags": []
   },
   "source": [
    "#### 1.2. Split data into training and test set"
   ]
  },
  {
   "cell_type": "code",
   "execution_count": 21,
   "id": "16e2ac40-ef13-46ce-ae69-89c25192aa94",
   "metadata": {},
   "outputs": [],
   "source": [
    "np.random.seed( 22 )\n",
    "training = np.random.choice( data.index, size=int( len( data )*( 3/4 )), replace = False )\n",
    "\n",
    "data_train = data.loc[ training, : ]\n",
    "data_test = data.drop( training, axis = 0 )"
   ]
  },
  {
   "cell_type": "markdown",
   "id": "ac3c561a-1f5d-4f7e-8391-aae83ebb4e83",
   "metadata": {},
   "source": [
    "## 2. Definir el modelo"
   ]
  },
  {
   "cell_type": "code",
   "execution_count": 22,
   "id": "dc6367b4-2b10-4854-9fde-ab037134e453",
   "metadata": {},
   "outputs": [],
   "source": [
    "import statsmodels.formula.api as smf\n",
    "import patsy"
   ]
  },
  {
   "cell_type": "code",
   "execution_count": 23,
   "id": "cc7cbc58-0d60-4916-9a24-acff132d8af9",
   "metadata": {},
   "outputs": [],
   "source": [
    "# data_vars = data.columns.tolist()\n",
    "# data_vars = pd.DataFrame( data_vars )\n",
    "# data_vars.to_excel( r'..\\..\\extra\\vars_list\\mci.xlsx' )"
   ]
  },
  {
   "cell_type": "markdown",
   "id": "04eb391d-7e2d-4714-9af7-87cc90cb7c47",
   "metadata": {},
   "source": [
    "#### 2.1. Construir modelos"
   ]
  },
  {
   "cell_type": "code",
   "execution_count": 24,
   "id": "d895f27b-af7f-4dd1-892c-22e6cf5a29c4",
   "metadata": {},
   "outputs": [
    {
     "name": "stdout",
     "output_type": "stream",
     "text": [
      "Wall time: 2.64 s\n"
     ]
    }
   ],
   "source": [
    "%%time\n",
    "\n",
    "formula_basic = \"monto_corrup1 ~ tejgfun_ct05pgercon + dfgpimpiafun_ct05pgercon + devppimfun_ct05pgercon + dfgdevpiagfun_ct05opseg + devppimfun_ct05trab + tejgfun_ct05come + dfgpimpiafun_ct05come + piagfun_ct05agro + pimgfun_ct05agro + tejgfun_ct05agro + devppimfun_ct05agro + piagfun_ct05energia + tejgfun_ct05energia + devppimfun_ct05energia + piagfun_ct05ind + pimgfun_ct05ind + dfgpimpiafun_ct05ind + devppimfun_ct05ind + tdvgfun_ct05trans + dfgdevpiagfun_ct05trans + dfgpimpiafun_ct05amb + dfgdevpiagfun_ct05amb + pimgfun_ct05san + tejgfun_ct05san + dfgpimpiafun_ct05san + devppimfun_ct05san + tejgfun_ct05viv + dfgdevpiagfun_ct05viv + devppimfun_ct05viv + devppimfun_ct05cydep + devppimfun_ct05edu + piagfun_ct05protsoc + tejgfun_ct05protsoc + devppimfun_ct05protsoc + dfgpimpiafun_ct05prevsoc + devppimfun_ct05dpub + devppimfun_ct06pgercon + dfgdevpiagfun_ct06opseg + tdvgfun_ct06trab + tejgfun_ct06come + dfgpimpiafun_ct06come + devppimfun_ct06come + piagfun_ct06turi + tdvgfun_ct06turi + devppimfun_ct06agro + dfgpimpiafun_ct06pesca + devppimfun_ct06ind + dfgpimpiafun_ct06trans + dfgdevpiagfun_ct06trans + devppimfun_ct06trans + piagfun_ct06san + pimgfun_ct06san + dfgdevpiagfun_ct06san + devppimfun_ct06san + tejgfun_ct06viv + tdvgfun_ct06viv + dfgdevpiagfun_ct06viv + devppimfun_ct06viv + piagfun_ct06salud + pimgfun_ct06salud + dfgpimpiafun_ct06salud + devppimfun_ct06salud + piagfun_ct06edu + dfgpimpiafun_ct06edu + pimgfun_ct06protsoc + devppimfun_ct06protsoc + dfgdevpiagft_rdet + devppimft_rdet + piagrb_reod + tejgrb_reod + tdvgrb_reod + devppimrb_reod + devppimrb_redr + devppimrb_rooc + dfgdevpiagrb_fonc + devppimrb_fonc + devppimrb_impm + devppimrb_canr + devppimct_r00gstcr + dfgdevpiagct_r00gstcp + dfgdevpiagct_r19gstcr + tejgct_r13gstcr + tdvgct_r13gstcr + devppimct_r13gstcr + devppimct_r07gstcr + tejgct_r07gstcp + piagct_r07srdeu + pimgct_r07srdeu + tejgct_r07srdeu + dfgdevpiagct_r07srdeu + devppimct_r07srdeu + dfgpimpiact_r08gstcr + dfgdevpiagct_r08gstcr + piagct_r18gstcr + pimgge_r00ct05pobso + dfgpimpiage_r00ct05pobso + devppimge_r00ct05popso + tejgge_r00ct05biser + devppimge_r00ct05biser + tejgge_r00ct05otgst + tdvgge_r00ct05otgst + devppimgge_r00ct05otgst + devppimgge_r00ct06dotra + devppimgge_r00ct06otgst + dfgpimpiagge_r09ct05pobso + dfgdevpiagge_r09ct05pobso + devppimgge_r09ct05pobso + piagge_r09ct05popso + dfgdevpiagge_r09ct05popso + devppimgge_r09ct05popso + dfgpimpiagge_r09ct05biser + dfgdevpiagge_r09ct05biser + pimgge_r09ct05dotra + tdvgge_r09ct05dotra + devppimgge_r09ct05dotra + piagge_r09ct05otgst + tejgge_r09ct05otgst + dfgdevpiagge_r09ct05otgst + devppimgge_r09ct05otgst + pimgge_r09ct06dotra + dfgpimpiagge_r09ct06dotra + devppimgge_r09ct06dotra + piagge_r09ct06otgst + tejgge_r09ct06otgst + tdvgge_r09ct06otgst + devppimgge_r09ct06otgst + tejgge_r09ct06acanf + dfgpimpiagge_r09ct06acanf + dfgdevpiagge_r09ct06acanf + devppimgge_r09ct06acanf + dfgdevpiagge_r09ct07sedpu + devppimgge_r09ct07sedpu + dfgpimpiagge_r19ct06dotra + dfgdevpiagge_r19ct06dotra + devppimgge_r19ct06dotra + dfgdevpiagge_r13ct05pobso + tejgge_r13ct05popso + dfgpimpiagge_r13ct05popso + devppimgge_r13ct05popso + piagge_r13ct05dotra + pimgge_r13ct05dotra + tejgge_r13ct05dotra + tejgge_r13ct05otgst + dfgpimpiagge_r13ct05otgst + dfgdevpiagge_r13ct05otgst + devppimgge_r13ct05otgst + dfgpimpiagge_r13ct06dotra + devppimgge_r13ct06dotra + piagge_r07ct05pobso + tejgge_r07ct05pobso + dfgpimpiagge_r07ct05pobso + dfgdevpiagge_r07ct05pobso + devppimgge_r07ct05pobso + tejgge_r07ct05popso + dfgpimpiagge_r07ct05popso + devppimgge_r07ct05popso + tejgge_r07ct05biser + tdvgge_r07ct05biser + dfgdevpiagge_r07ct05biser + devppimgge_r07ct05biser + pimgge_r07ct05dotra + tejgge_r07ct05dotra + dfgpimpiagge_r07ct05dotra + devppimgge_r07ct05dotra + tejgge_r07ct05otgst + tdvgge_r07ct05otgst + dfgpimpiagge_r07ct05otgst + devppimgge_r07ct05otgst + dfgpimpiage_r08ct05pobso + devppimge_r08ct05pobso + dfgpimpiage_r08ct05popso + devppimge_r08ct05popso + tejgge_r08ct05dotra + tdvgge_r08ct05dotra + dfgdevpiagge_r08ct05dotra + devppimge_r08ct05dotra + tejgge_r08ct05otgst + tdvgge_r08ct05otgst + dfgpimpiagge_r08ct05otgst + devppimgge_r08ct05otgst + tejgge_r08ct06acanf + dfgpimpiagge_r08ct06acanf + devppimgge_r08ct06acanf + dfgdevpiagge_r08ct06acacf + piagge_r08ct07sedpu + pimgge_r18ct05pobso + devppimge_r18ct05pobso + dfgdevpiagge_r18ct05popso + devppimge_r18ct05popso + dfgdevpiagge_r18ct05biser + devppimge_r18ct05biser + pimgge_r18ct05dotra + dfgdevpiagge_r18ct05dotra + devppimge_r18ct05dotra + piagge_r18ct05otgst + pimgge_r18ct05otgst + dfgpimpiagge_r18ct05otgst + devppimgge_r18ct05otgst + dfgpimpiagge_r18ct06acacf + piagge_r18ct07sedpu + piagkft_reod + pimgkft_reod + devppimgkft_reod + piagkft_redr + tdvgkft_redr + tejgkft_rooc + dfgpimpiagkft_rooc + piagkft_dotr + tejgkft_dotr + devppimgkft_dotr + devppimgkft_rdet + dfgpimpiagkftr07_rdet + dfgdevpiagkftr07_rdet + devppimgkftr07_rdet + dfgdevpiagkftr08_rdet + tejgfun_f1ct05agro + tejgfun_f1ct05amb + tejgfun_f1ct05come + devppimfun_f1ct05come + tejgfun_f1ct05cydep + devppimfun_f1ct05cydep + devppimfun_f1ct05edu + tejgfun_f1ct05opseg + dfgpimpiafun_f1ct05opseg + tdvgfun_f1ct05pgercon + devppimfun_f1ct05pgercon + tejgfun_f1ct05salud + tdvgfun_f1ct05salud + devppimfun_f1ct05salud + tejgfun_f1ct05san + dfgdevpiagfun_f1ct05san + devppimfun_f1ct05san + piagfun_f1ct05trans + tejgfun_f1ct05trans + tdvgfun_f1ct05trans + devppimfun_f1ct05trans + devppimfun_f1ct05turi + tejgfun_f1ct05viv + tdvgfun_f1ct05viv + devppimfun_f1ct05viv + tdvgfun_f1ct06agro + devppimfun_f1ct06agro + devppimfun_f1ct06amb + tejgfun_f1ct06come + devppimfun_f1ct06come + piagfun_f1ct06edu + dfgpimpiafun_f1ct06edu + devppimfun_f1ct06edu + devppimfun_f1ct06opseg + tdvgfun_f1ct06pgercon + devppimfun_f1ct06pgercon + tejgfun_f1ct06protsoc + dfgpimpiafun_f1ct06protsoc + devppimfun_f1ct06protsoc + devppimfun_f1ct06salud + devppimfun_f1ct06trans + dfgdevpiagfun_f1ct06viv + devppimfun_f1ct06viv + piagfun_f2ct05agro + pimgfun_f2ct05agro + dfgdevpiagfun_f2ct05agro + devppimfun_f2ct05agro + dfgpimpiafun_f2ct05amb + devppimfun_f2ct05amb + dfgdevpiagfun_f2ct05cydep + devppimfun_f2ct05cydep + piagfun_f2ct05edu + pimgfun_f2ct05edu + dfgpimpiafun_f2ct05edu + devppimfun_f2ct05edu + devppimfun_f2ct05energia + dfgdevpiagfun_f2ct05opseg + devppimfun_f2ct05opseg + devppimfun_f2ct05pgercon + piagfun_f2ct05protsoc + tejgfun_f2ct05protsoc + tejgfun_f2ct05salud + dfgdevpiagfun_f2ct05salud + devppimfun_f2ct05salud + piagfun_f2ct05san + pimgfun_f2ct05san + tejgfun_f2ct05san + dfgpimpiafun_f2ct05san + devppimfun_f2ct05san + tdvgfun_f2ct05trans + dfgdevpiagfun_f2ct05trans + devppimfun_f2ct05trans + pimgfun_f2ct05turi + dfgpimpiafun_f2ct05turi + devppimfun_f2ct05turi + tdvgfun_f2ct05viv + devppimfun_f2ct05viv + piagfun_f2ct06agro + tejgfun_f2ct06agro + dfgpimpiafun_f2ct06agro + dfgdevpiagfun_f2ct06agro + devppimfun_f2ct06agro + piagfun_f2ct06amb + tejgfun_f2ct06amb + dfgdevpiagfun_f2ct06amb + devppimfun_f2ct06amb + piagfun_f2ct06come + pimgfun_f2ct06come + tejgfun_f2ct06come + dfgpimpiafun_f2ct06come + dfgdevpiagfun_f2ct06come + devppimfun_f2ct06come + tejgfun_f2ct06comunica + dfgpimpiafun_f2ct06comunica + dfgdevpiagfun_f2ct06comunica + tejgfun_f2ct06cydep + dfgpimpiafun_f2ct06cydep + dfgdevpiagfun_f2ct06cydep + devppimfun_f2ct06cydep + devppimfun_f2ct06edu + piagfun_f2ct06energia + pimgfun_f2ct06energia + tdvgfun_f2ct06energia + pimgfun_f2ct06ind + dfgdevpiagfun_f2ct06ind + devppimfun_f2ct06ind + piagfun_f2ct06opseg + tejgfun_f2ct06opseg + devppimfun_f2ct06opseg + piagfun_f2ct06pgercon + pimgfun_f2ct06pgercon + tejgfun_f2ct06pgercon + dfgdevpiagfun_f2ct06pgercon + devppimfun_f2ct06pgercon + piagfun_f2ct06protsoc + pimgfun_f2ct06protsoc + dfgpimpiafun_f2ct06protsoc + dfgdevpiagfun_f2ct06protsoc + devppimfun_f2ct06protsoc + piagfun_f2ct06salud + pimgfun_f2ct06salud + tdvgfun_f2ct06salud + devppimfun_f2ct06salud + piagfun_f2ct06san + tejgfun_f2ct06san + tdvgfun_f2ct06san + devppimfun_f2ct06san + pimgfun_f2ct06trans + dfgpimpiafun_f2ct06trans + devppimfun_f2ct06trans + piagfun_f2ct06turi + pimgfun_f2ct06turi + tejgfun_f2ct06turi + tdvgfun_f2ct06turi + devppimfun_f2ct06turi + tejgfun_f2ct06viv + tdvgfun_f2ct06viv + devppimfun_f2ct06viv + devppimfun_f3ct05opseg + tejgfun_f3ct05pgercon + dfgpimpiafun_f3ct05pgercon + tdvgfun_f3ct06opseg + tejgfun_f3ct06pgercon + devppimfun_f3ct06pgercon + dfgpimpiafun_f4ct05agro + devppimfun_f4ct05agro + tejgfun_f4ct05amb + devppimfun_f4ct05amb + tdvgfun_f4ct05come + dfgpimpiafun_f4ct05come + dfgpimpiafun_f4ct05cydep + devppimfun_f4ct05cydep + devppimfun_f4ct05edu + dfgpimpiafun_f4ct05opseg + devppimfun_f4ct05opseg + tdvgfun_f4ct05pgercon + dfgpimpiafun_f4ct05pgercon + tejgfun_f4ct05protsoc + dfgdevpiagfun_f4ct05protsoc + devppimfun_f4ct05protsoc + tejgfun_f4ct05salud + tdvgfun_f4ct05salud + devppimfun_f4ct05salud + dfgpimpiafun_f4ct05san + dfgpimpiafun_f4ct05trans + devppimfun_f4ct05trans + tejgfun_f4ct05turi + dfgpimpiafun_f4ct05turi + devppimfun_f4ct05turi + tdvgfun_f4ct05viv + dfgpimpiafun_f4ct05viv + devppimfun_f4ct05viv + devppimfun_f4ct06agro + dfgpimpiafun_f4ct06amb + dfgdevpiagfun_f4ct06come + tejgfun_f4ct06cydep + dfgdevpiagfun_f4ct06cydep + devppimfun_f4ct06cydep + tejgfun_f4ct06edu + tejgfun_f4ct06opseg + devppimfun_f4ct06opseg + piagfun_f4ct06pgercon + tejgfun_f4ct06pgercon + dfgpimpiafun_f4ct06pgercon + devppimfun_f4ct06pgercon + dfgpimpiafun_f4ct06protsoc + devppimfun_f4ct06protsoc + devppimfun_f4ct06salud + devppimfun_f4ct06trans + dfgpimpiafun_f4ct06turi + dfgdevpiagfun_f4ct06turi + devppimfun_f4ct06turi + tejgfun_f4ct06viv + devppimfun_f4ct06viv + dfgdevpiagfun_f5ct05agro + dfgdevpiagfun_f5ct05amb + devppimfun_f5ct05amb + piagfun_f5ct05come + tejgfun_f5ct05come + devppimfun_f5ct05comunica + tdvgfun_f5ct05edu + tdvgfun_f5ct05energia + dfgdevpiagfun_f5ct05energia + dfgpimpiafun_f5ct05ind + dfgdevpiagfun_f5ct05opseg + devppimfun_f5ct05opseg + dfgdevpiagfun_f5ct05pgercon + tejgfun_f5ct05prevsoc + tdvgfun_f5ct05prevsoc + tejgfun_f5ct05protsoc + tdvgfun_f5ct05protsoc + dfgpimpiafun_f5ct05protsoc + devppimfun_f5ct05protsoc + piagfun_f5ct05salud + devppimfun_f5ct05salud + piagfun_f5ct05san + devppimfun_f5ct05trab + tejgfun_f5ct05trans + devppimfun_f5ct05trans + tdvgfun_f5ct05turi + dfgdevpiagfun_f5ct05turi + devppimfun_f5ct05turi + piagfun_f5ct05viv + dfgpimpiafun_f5ct05viv + devppimfun_f5ct06amb + piagfun_f5ct06come + dfgpimpiafun_f5ct06come + dfgdevpiagfun_f5ct06come + tdvgfun_f5ct06comunica + devppimfun_f5ct06cydep + dfgdevpiagfun_f5ct06energia + piagfun_f5ct06opseg + devppimfun_f5ct06opseg + piagfun_f5ct06pgercon + dfgdevpiagfun_f5ct06san + tejgfun_f5ct06trab + devppimfun_f5ct06trab + dfgpimpiafun_f5ct06trans + dfgdevpiagfun_f5ct06trans + pimgfun_f5ct06turi + devppimfun_f5ct06turi + tejgfun_f5ct06viv + devppimfun_f5energia + piagfun_f5pesca + pimgfun_f5pesca + piagfun_f5r07ct05agro + pimgfun_f5r07ct05agro + tejgfun_f5r07ct05agro + devppimfun_f5r07ct05agro + piagfun_f5r07ct05amb + tejgfun_f5r07ct05amb + dfgdevpiagfun_f5r07ct05amb + tejgfun_f5r07ct05come + tdvgfun_f5r07ct05come + dfgdevpiagfun_f5r07ct05come + devppimfun_f5r07ct05come + piagfun_f5r07ct05comunica + tejgfun_f5r07ct05comunica + dfgdevpiagfun_f5r07ct05comunica + devppimfun_f5r07ct05comunica + piagfun_f5r07ct05cydep + tejgfun_f5r07ct05cydep + dfgdevpiagfun_f5r07ct05cydep + devppimfun_f5r07ct05cydep + dfgdevpiagfun_f5r07ct05dpub + pimgfun_f5r07ct05edu + dfgpimpiafun_f5r07ct05edu + devppimfun_f5r07ct05edu + tejgfun_f5r07ct05energia + tdvgfun_f5r07ct05energia + dfgpimpiafun_f5r07ct05energia + devppimfun_f5r07ct05energia + pimgfun_f5r07ct05ind + dfgpimpiafun_f5r07ct05ind + dfgdevpiagfun_f5r07ct05opseg + dfgdevpiagfun_f5r07ct05pgercon + piagfun_f5r07ct05protsoc + pimgfun_f5r07ct05protsoc + dfgpimpiafun_f5r07ct05protsoc + dfgdevpiagfun_f5r07ct05protsoc + devppimfun_f5r07ct05protsoc + tejgfun_f5r07ct05salud + tdvgfun_f5r07ct05salud + devppimfun_f5r07ct05salud + pimgfun_f5r07ct05san + tejgfun_f5r07ct05san + dfgpimpiafun_f5r07ct05san + devppimfun_f5r07ct05san + piagfun_f5r07ct05trans + tejgfun_f5r07ct05trans + tdvgfun_f5r07ct05trans + dfgdevpiagfun_f5r07ct05trans + devppimfun_f5r07ct05trans + piagfun_f5r07ct05turi + tdvgfun_f5r07ct05turi + dfgdevpiagfun_f5r07ct05turi + tejgfun_f5r07ct05viv + tdvgfun_f5r07ct05viv + dfgpimpiafun_f5r07ct05viv + dfgdevpiagfun_f5r07ct05viv + devppimfun_f5r07ct05viv + tejgfun_f5r07ct06agro + dfgpimpiafun_f5r07ct06agro + devppimfun_f5r07ct06agro + piagfun_f5r07ct06amb + tejgfun_f5r07ct06amb + devppimfun_f5r07ct06amb + pimgfun_f5r07ct06come + tejgfun_f5r07ct06come + tdvgfun_f5r07ct06come + dfgpimpiafun_f5r07ct06come + devppimfun_f5r07ct06come + devppimfun_f5r07ct06comunica + tejgfun_f5r07ct06cydep + dfgpimpiafun_f5r07ct06cydep + devppimfun_f5r07ct06cydep + piagfun_f5r07ct06edu + pimgfun_f5r07ct06energia + tejgfun_f5r07ct06energia + dfgpimpiafun_f5r07ct06ind + devppimfun_f5r07ct06ind + piagfun_f5r07ct06opseg + tejgfun_f5r07ct06opseg + tdvgfun_f5r07ct06opseg + devppimfun_f5r07ct06opseg + tejgfun_f5r07ct06pgercon + dfgdevpiagfun_f5r07ct06pgercon + devppimfun_f5r07ct06pgercon + dfgpimpiafun_f5r07ct06prevsoc + pimgfun_f5r07ct06protsoc + tejgfun_f5r07ct06protsoc + devppimfun_f5r07ct06protsoc + piagfun_f5r07ct06salud + pimgfun_f5r07ct06salud + devppimfun_f5r07ct06salud + tejgfun_f5r07ct06san + pimgfun_f5r07ct06trab + devppimfun_f5r07ct06trab + piagfun_f5r07ct06trans + dfgpimpiafun_f5r07ct06trans + devppimfun_f5r07ct06trans + tejgfun_f5r07ct06turi + devppimfun_f5r07ct06turi + piagfun_f5r07ct06viv + devppimfun_f5r07ct06viv + tejgfun_f5r08ct05agro + tdvgfun_f5r08ct05agro + dfgdevpiagfun_f5r08ct05agro + devppimfun_f5r08ct05agro + tejgfun_f5r08ct05amb + dfgdevpiagfun_f5r08ct05amb + dfgpimpiafun_f5r08ct05comunica + piagfun_f5r08ct05cydep + dfgdevpiagfun_f5r08ct05cydep + tdvgfun_f5r08ct05dpub + tejgfun_f5r08ct05edu + dfgpimpiafun_f5r08ct05edu + devppimfun_f5r08ct05edu + piagfun_f5r08ct05energia + dfgdevpiagfun_f5r08ct05energia + devppimfun_f5r08ct05energia + dfgdevpiagfun_f5r08ct05pgercon + dfgdevpiagfun_f5r08ct05protsoc + tejgfun_f5r08ct05salud + dfgpimpiafun_f5r08ct05salud + devppimfun_f5r08ct05salud + piagfun_f5r08ct05san + pimgfun_f5r08ct05san + tejgfun_f5r08ct05san + dfgpimpiafun_f5r08ct05san + devppimfun_f5r08ct05san + tejgfun_f5r08ct05trans + dfgpimpiafun_f5r08ct05trans + dfgdevpiagfun_f5r08ct05trans + devppimfun_f5r08ct05trans + piagfun_f5r08ct05turi + devppimfun_f5r08ct05viv + piagfun_f5r08ct06agro + devppimfun_f5r08ct06agro + pimgfun_f5r08ct06amb + tejgfun_f5r08ct06amb + dfgdevpiagfun_f5r08ct06amb + devppimfun_f5r08ct06amb + pimgfun_f5r08ct06come + tejgfun_f5r08ct06come + tdvgfun_f5r08ct06come + dfgpimpiafun_f5r08ct06come + devppimfun_f5r08ct06come + piagfun_f5r08ct06comunica + pimgfun_f5r08ct06comunica + devppimfun_f5r08ct06comunica + piagfun_f5r08ct06cydep + tejgfun_f5r08ct06cydep + dfgpimpiafun_f5r08ct06cydep + devppimfun_f5r08ct06cydep + piagfun_f5r08ct06edu + pimgfun_f5r08ct06edu + devppimfun_f5r08ct06edu + piagfun_f5r08ct06energia + devppimfun_f5r08ct06energia + piagfun_f5r08ct06opseg + tejgfun_f5r08ct06opseg + tdvgfun_f5r08ct06opseg + devppimfun_f5r08ct06opseg + piagfun_f5r08ct06pgercon + pimgfun_f5r08ct06pgercon + dfgdevpiagfun_f5r08ct06pgercon + devppimfun_f5r08ct06pgercon + piagfun_f5r08ct06protsoc + dfgdevpiagfun_f5r08ct06protsoc + devppimfun_f5r08ct06protsoc + pimgfun_f5r08ct06salud + tejgfun_f5r08ct06salud + dfgpimpiafun_f5r08ct06salud + devppimfun_f5r08ct06salud + devppimfun_f5r08ct06san + dfgpimpiafun_f5r08ct06trab + pimgfun_f5r08ct06trans + devppimfun_f5r08ct06trans + tejgfun_f5r08ct06turi + dfgdevpiagfun_f5r08ct06turi + devppimfun_f5r08ct06turi + piagfun_f5r08ct06viv + tejgfun_f5r08ct06viv + dfgpimpiafun_f5r08ct06viv + devppimfun_f5r08ct06viv + piagfun_f5r18ct05agro + tejgfun_f5r18ct05agro + devppimfun_f5r18ct05agro + piagfun_f5r18ct05amb + tejgfun_f5r18ct05amb + tdvgfun_f5r18ct05amb + dfgdevpiagfun_f5r18ct05amb + devppimfun_f5r18ct05amb + piagfun_f5r18ct05come + tejgfun_f5r18ct05come + devppimfun_f5r18ct05come + tdvgfun_f5r18ct05comunica + dfgdevpiagfun_f5r18ct05comunica + pimgfun_f5r18ct05cydep + dfgpimpiafun_f5r18ct05cydep + devppimfun_f5r18ct05cydep + piagfun_f5r18ct05edu + tejgfun_f5r18ct05edu + dfgdevpiagfun_f5r18ct05edu + devppimfun_f5r18ct05edu + piagfun_f5r18ct05energia + pimgfun_f5r18ct05energia + devppimfun_f5r18ct05energia + dfgpimpiafun_f5r18ct05ind + devppimfun_f5r18ct05ind + piagfun_f5r18ct05opseg + tejgfun_f5r18ct05opseg + dfgdevpiagfun_f5r18ct05opseg + devppimfun_f5r18ct05opseg + devppimfun_f5r18ct05pesca + devppimfun_f5r18ct05pgercon + pimgfun_f5r18ct05prevsoc + devppimfun_f5r18ct05prevsoc + pimgfun_f5r18ct05protsoc + tejgfun_f5r18ct05protsoc + tdvgfun_f5r18ct05protsoc + dfgdevpiagfun_f5r18ct05protsoc + devppimfun_f5r18ct05protsoc + tejgfun_f5r18ct05salud + dfgdevpiagfun_f5r18ct05salud + devppimfun_f5r18ct05salud + piagfun_f5r18ct05san + devppimfun_f5r18ct05san + devppimfun_f5r18ct05trab + piagfun_f5r18ct05trans + tejgfun_f5r18ct05trans + devppimfun_f5r18ct05trans + piagfun_f5r18ct05turi + tejgfun_f5r18ct05turi + tdvgfun_f5r18ct05turi + dfgpimpiafun_f5r18ct05turi + devppimfun_f5r18ct05turi + piagfun_f5r18ct05viv + pimgfun_f5r18ct05viv + tejgfun_f5r18ct05viv + tdvgfun_f5r18ct05viv + devppimfun_f5r18ct05viv + tejgfun_f5r18ct06agro + dfgdevpiagfun_f5r18ct06agro + devppimfun_f5r18ct06agro + devppimfun_f5r18ct06amb + devppimfun_f5r18ct06come + devppimfun_f5r18ct06cydep + devppimfun_f5r18ct06opseg + pimgfun_f5r18ct06pgercon + dfgpimpiafun_f5r18ct06pgercon + devppimfun_f5r18ct06pgercon + piagfun_f5r18ct06prevsoc + devppimfun_f5r18ct06prevsoc + tejgfun_f5r18ct06protsoc + devppimfun_f5r18ct06protsoc + dfgdevpiagfun_f5r18ct06salud + devppimfun_f5r18ct06salud + dfgpimpiafun_f5r18ct06trab + devppimfun_f5r18ct06trab + devppimfun_f5r18ct06trans + dfgdevpiagfun_f5r18ct06viv + devppimfun_f5r18ct06viv + piagtotfun_f1agro + tdvgtotfun_f1agro + devppimtotfun_f1agro + piagtotfun_f1amb + tejgtotfun_f1amb + devppimtotfun_f1amb + tejgtotfun_f1cydep + dfgpimpiatotfun_f1cydep + devppimtotfun_f1cydep + piagtotfun_f1edu + tejgtotfun_f1edu + tejgtotfun_f1energia + devppimtotfun_f1energia + pimgtotfun_f1opseg + tdvgtotfun_f1opseg + devppimtotfun_f1opseg + dfgdevpiagtotfun_f1pgercon + piagtotfun_f1prevsoc + tdvgtotfun_f1prevsoc + devppimtotfun_f1prevsoc + dfgpimpiatotfun_f1protsoc + piagtotfun_f1salud + pimgtotfun_f1salud + tejgtotfun_f1salud + piagtotfun_f1san + tdvgtotfun_f1san + dfgpimpiatotfun_f1san + devppimtotfun_f1san + dfgdevpiagtotfun_f1trab + devppimtotfun_f1trab + pimgtotfun_f1trans + tdvgtotfun_f1trans + tdvgtotfun_f1turi + devppimtotfun_f1turi + piagtotfun_f2agro + devppimtotfun_f2agro + dfgdevpiagtotfun_f2amb + tdvgtotfun_f2come + dfgpimpiatotfun_f2come + dfgdevpiagtotfun_f2come + pimgtotfun_f2comunica + piagtotfun_f2cydep + pimgtotfun_f2cydep + tejgtotfun_f2cydep + dfgpimpiatotfun_f2cydep + dfgpimpiatotfun_f2dpub + piagtotfun_f2edu + pimgtotfun_f2edu + dfgdevpiagtotfun_f2edu + devppimtotfun_f2edu + piagtotfun_f2energia + pimgtotfun_f2energia + tejgtotfun_f2energia + devppimtotfun_f2energia + tejgtotfun_f2pgercon + dfgpimpiatotfun_f2pgercon + dfgpimpiatotfun_f2prevsoc + devppimtotfun_f2prevsoc + pimgtotfun_f2protsoc + dfgpimpiatotfun_f2protsoc + devppimtotfun_f2protsoc + pimgtotfun_f2salud + piagtotfun_f2san + tejgtotfun_f2san + tdvgtotfun_f2san + dfgpimpiatotfun_f2san + dfgdevpiagtotfun_f2san + devppimtotfun_f2san + tejgtotfun_f2trab + devppimtotfun_f2trab + dfgpimpiatotfun_f2trans + devppimtotfun_f2trans + tejgtotfun_f2turi + dfgpimpiatotfun_f2turi + dfgdevpiagtotfun_f2viv + piagtotfun_f3agro + tejgtotfun_f3agro + dfgpimpiatotfun_f3agro + devppimtotfun_f3agro + tdvgtotfun_f3amb + devppimtotfun_f3amb + dfgpimpiatotfun_f3comunica + tejgtotfun_f3cydep + dfgpimpiatotfun_f3cydep + devppimtotfun_f3cydep + tejgtotfun_f3edu + dfgpimpiatotfun_f3edu + dfgdevpiagtotfun_f3edu + devppimtotfun_f3edu + tejgtotfun_f3energia + dfgpimpiatotfun_f3energia + devppimtotfun_f3energia + tejgtotfun_f3opseg + tdvgtotfun_f3opseg + dfgpimpiatotfun_f3opseg + devppimtotfun_f3opseg + piagtotfun_f3pgercon + dfgpimpiatotfun_f3pgercon + devppimtotfun_f3pgercon + tejgtotfun_f3protsoc + dfgpimpiatotfun_f3protsoc + devppimtotfun_f3protsoc + tejgtotfun_f3salud + devppimtotfun_f3salud + piagtotfun_f3san + pimgtotfun_f3san + tejgtotfun_f3san + devppimtotfun_f3san + piagtotfun_f3trans + tdvgtotfun_f3trans + devppimtotfun_f3trans + devppimtotfun_f3turi + piagtotfun_f3viv + pimgtotfun_f3viv + tejgtotfun_f3viv + devppimtotfun_f3viv + tejgtotfun_f4agro + dfgpimpiatotfun_f4agro + piagtotfun_f4amb + tejgtotfun_f4amb + dfgpimpiatotfun_f4amb + devppimtotfun_f4amb + devppimtotfun_f4come + dfgpimpiatotfun_f4cydep + devppimtotfun_f4cydep + dfgdevpiagtotfun_f4edu + devppimtotfun_f4edu + tejgtotfun_f4energia + dfgpimpiatotfun_f4energia + dfgdevpiagtotfun_f4energia + devppimtotfun_f4energia + piagtotfun_f4pgercon + tejgtotfun_f4pgercon + devppimtotfun_f4pgercon + dfgpimpiatotfun_f4prevsoc + tejgtotfun_f4protsoc + piagtotfun_f4salud + pimgtotfun_f4salud + devppimtotfun_f4salud + dfgpimpiatotfun_f4san + devppimtotfun_f4san + tdvgtotfun_f4trab + devppimtotfun_f4trab + devppimtotfun_f4turi + devppimtotfun_f5agro + tejgtotfun_f5amb + tdvgtotfun_f5amb + dfgdevpiagtotfun_f5amb + devppimtotfun_f5amb + tdvgtotfun_f5come + dfgdevpiagtotfun_f5come + devppimtotfun_f5come + piagtotfun_f5comunica + pimgtotfun_f5comunica + devppimtotfun_f5comunica + piagtotfun_f5cydep + tejgtotfun_f5cydep + tdvgtotfun_f5cydep + devppimtotfun_f5cydep + piagtotfun_f5dpub + tejgtotfun_f5dpub + tdvgtotfun_f5dpub + dfgpimpiatotfun_f5dpub + devppimtotfun_f5dpub + pimgtotfun_f5edu + devppimtotfun_f5edu + piagtotfun_f5ind + pimgtotfun_f5ind + tdvgtotfun_f5ind + devppimtotfun_f5ind + piagtotfun_f5opseg + tejgtotfun_f5opseg + tdvgtotfun_f5opseg + dfgpimpiatotfun_f5opseg + devppimtotfun_f5opseg + devppimtotfun_f5pgercon + dfgdevpiagtotfun_f5prevsoc + devppimtotfun_f5prevsoc + piagtotfun_f5protsoc + pimgtotfun_f5protsoc + dfgpimpiatotfun_f5protsoc + devppimtotfun_f5protsoc + piagtotfun_f5r07agro + pimgtotfun_f5r07agro + devppimtotfun_f5r07agro + dfgpimpiatotfun_f5r07amb + devppimtotfun_f5r07amb + dfgdevpiagtotfun_f5r07come + piagtotfun_f5r07comunica + pimgtotfun_f5r07comunica + dfgdevpiagtotfun_f5r07comunica + piagtotfun_f5r07cydep + devppimtotfun_f5r07cydep + pimgtotfun_f5r07edu + dfgpimpiatotfun_f5r07edu + devppimtotfun_f5r07edu + piagtotfun_f5r07energia + dfgdevpiagtotfun_f5r07energia + devppimtotfun_f5r07energia + pimgtotfun_f5r07ind + dfgpimpiatotfun_f5r07ind + dfgdevpiagtotfun_f5r07ind + tejgtotfun_f5r07opseg + tdvgtotfun_f5r07opseg + dfgdevpiagtotfun_f5r07opseg + devppimtotfun_f5r07opseg + piagtotfun_f5r07pesca + pimgtotfun_f5r07pesca + tejgtotfun_f5r07pesca + dfgdevpiagtotfun_f5r07pesca + tejgtotfun_f5r07pgercon + tdvgtotfun_f5r07pgercon + dfgdevpiagtotfun_f5r07pgercon + devppimtotfun_f5r07pgercon + tdvgtotfun_f5r07prevsoc + dfgdevpiagtotfun_f5r07prevsoc + devppimtotfun_f5r07prevsoc + piagtotfun_f5r07protsoc + tejgtotfun_f5r07protsoc + tdvgtotfun_f5r07protsoc + dfgpimpiatotfun_f5r07protsoc + dfgpimpiatotfun_f5r07salud + piagtotfun_f5r07san + pimgtotfun_f5r07san + dfgpimpiatotfun_f5r07san + devppimtotfun_f5r07san + dfgdevpiagtotfun_f5r07trab + devppimtotfun_f5r07trab + piagtotfun_f5r07turi + pimgtotfun_f5r07turi + tejgtotfun_f5r07turi + tdvgtotfun_f5r07turi + dfgpimpiatotfun_f5r07turi + devppimtotfun_f5r07turi + tejgtotfun_f5r07viv + tdvgtotfun_f5r07viv + dfgpimpiatotfun_f5r07viv + devppimtotfun_f5r07viv + piagtotfun_f5r08agro + pimgtotfun_f5r08agro + dfgdevpiagtotfun_f5r08agro + dfgpimpiatotfun_f5r08amb + devppimtotfun_f5r08amb + dfgdevpiagtotfun_f5r08come + devppimtotfun_f5r08come + devppimtotfun_f5r08cydep + tdvgtotfun_f5r08dpub + dfgdevpiagtotfun_f5r08dpub + devppimtotfun_f5r08dpub + piagtotfun_f5r08edu + tdvgtotfun_f5r08edu + dfgpimpiatotfun_f5r08edu + devppimtotfun_f5r08edu + piagtotfun_f5r08energia + pimgtotfun_f5r08energia + devppimtotfun_f5r08energia + dfgpimpiatotfun_f5r08ind + piagtotfun_f5r08opseg + tejgtotfun_f5r08opseg + dfgdevpiagtotfun_f5r08opseg + devppimtotfun_f5r08opseg + dfgpimpiatotfun_f5r08pgercon + dfgdevpiagtotfun_f5r08prevsoc + devppimtotfun_f5r08prevsoc + dfgdevpiagtotfun_f5r08protsoc + devppimtotfun_f5r08protsoc + piagtotfun_f5r08salud + piagtotfun_f5r08san + tejgtotfun_f5r08san + tdvgtotfun_f5r08san + dfgpimpiatotfun_f5r08san + dfgdevpiagtotfun_f5r08trab + devppimtotfun_f5r08trab + piagtotfun_f5r08trans + dfgpimpiatotfun_f5r08trans + devppimtotfun_f5r08turi + dfgpimpiatotfun_f5r08viv + dfgpimpiatotfun_f5r18agro + devppimtotfun_f5r18agro + piagtotfun_f5r18amb + tejgtotfun_f5r18amb + devppimtotfun_f5r18amb + pimgtotfun_f5r18come + devppimtotfun_f5r18come + piagtotfun_f5r18cydep + tdvgtotfun_f5r18cydep + tejgtotfun_f5r18dpub + dfgdevpiagtotfun_f5r18dpub + devppimtotfun_f5r18dpub + dfgdevpiagtotfun_f5r18edu + dfgpimpiatotfun_f5r18ind + devppimtotfun_f5r18ind + dfgpimpiatotfun_f5r18just + dfgdevpiagtotfun_f5r18just + piagtotfun_f5r18opseg + tejgtotfun_f5r18opseg + devppimtotfun_f5r18opseg + devppimtotfun_f5r18pesca + devppimtotfun_f5r18pgercon + pimgtotfun_f5r18prevsoc + pimgtotfun_f5r18protsoc + devppimtotfun_f5r18protsoc + devppimtotfun_f5r18salud + devppimtotfun_f5r18trab + dfgdevpiagtotfun_f5r18trans + tejgtotfun_f5r18turi + devppimtotfun_f5r18turi + piagtotfun_f5r18viv + tejgtotfun_f5r18viv + dfgpimpiatotfun_f5r18viv + devppimtotfun_f5r18viv + devppimtotfun_f5salud + devppimtotfun_f5san + piagtotfun_f5trab + pimgtotfun_f5trab + tejgtotfun_f5trab + devppimtotfun_f5trab + piagtotfun_f5trans + tejgtotfun_f5trans + devppimtotfun_f5trans + tdvgtotfun_f5turi + dfgpimpiatotfun_f5turi + devppimtotfun_f5turi + piagtotfun_f5viv + tejgtotfun_f5viv + tdvgtotfun_f5viv + dfgpimpiatotfun_f5viv + devppimtotfun_f5viv\"\n",
    "\n",
    "y_basic_train, x_basic_train = patsy.dmatrices( formula_basic, data_train, return_type = 'dataframe' )\n",
    "y_basic_test, x_basic_test = patsy.dmatrices( formula_basic, data_test, return_type = 'dataframe' )\n",
    "p_basic = x_basic_train.shape[ 1 ]"
   ]
  },
  {
   "cell_type": "markdown",
   "id": "d1dabe78-a4b2-4545-b3fa-22fc9421580c",
   "metadata": {},
   "source": [
    "#### 2.2. Generar variables dependientes"
   ]
  },
  {
   "cell_type": "code",
   "execution_count": 25,
   "id": "c12c3447-8dab-47a2-819e-5f2469a52728",
   "metadata": {},
   "outputs": [],
   "source": [
    "Y_train = data_train[ 'monto_corrup1' ]\n",
    "Y_test = data_test[ 'monto_corrup1' ]"
   ]
  },
  {
   "cell_type": "code",
   "execution_count": 26,
   "id": "9982b5b0-4ba9-470f-bf66-0e778d869804",
   "metadata": {},
   "outputs": [
    {
     "data": {
      "text/plain": [
       "1048"
      ]
     },
     "execution_count": 26,
     "metadata": {},
     "output_type": "execute_result"
    }
   ],
   "source": [
    "p_basic"
   ]
  },
  {
   "cell_type": "markdown",
   "id": "ec3e12b8-66c2-48e9-b408-ccdfc45976c8",
   "metadata": {},
   "source": [
    "## 3. OLS"
   ]
  },
  {
   "cell_type": "code",
   "execution_count": 27,
   "id": "2ac32781-232c-4c53-bc4b-adee7bc6a66f",
   "metadata": {},
   "outputs": [
    {
     "data": {
      "text/html": [
       "<div>\n",
       "<style scoped>\n",
       "    .dataframe tbody tr th:only-of-type {\n",
       "        vertical-align: middle;\n",
       "    }\n",
       "\n",
       "    .dataframe tbody tr th {\n",
       "        vertical-align: top;\n",
       "    }\n",
       "\n",
       "    .dataframe thead th {\n",
       "        text-align: right;\n",
       "    }\n",
       "</style>\n",
       "<table border=\"1\" class=\"dataframe\">\n",
       "  <thead>\n",
       "    <tr style=\"text-align: right;\">\n",
       "      <th></th>\n",
       "      <th>Intercept</th>\n",
       "      <th>tejgfun_ct05pgercon</th>\n",
       "      <th>dfgpimpiafun_ct05pgercon</th>\n",
       "      <th>devppimfun_ct05pgercon</th>\n",
       "      <th>dfgdevpiagfun_ct05opseg</th>\n",
       "      <th>devppimfun_ct05trab</th>\n",
       "      <th>tejgfun_ct05come</th>\n",
       "      <th>dfgpimpiafun_ct05come</th>\n",
       "      <th>piagfun_ct05agro</th>\n",
       "      <th>pimgfun_ct05agro</th>\n",
       "      <th>...</th>\n",
       "      <th>tejgtotfun_f5trans</th>\n",
       "      <th>devppimtotfun_f5trans</th>\n",
       "      <th>tdvgtotfun_f5turi</th>\n",
       "      <th>dfgpimpiatotfun_f5turi</th>\n",
       "      <th>devppimtotfun_f5turi</th>\n",
       "      <th>piagtotfun_f5viv</th>\n",
       "      <th>tejgtotfun_f5viv</th>\n",
       "      <th>tdvgtotfun_f5viv</th>\n",
       "      <th>dfgpimpiatotfun_f5viv</th>\n",
       "      <th>devppimtotfun_f5viv</th>\n",
       "    </tr>\n",
       "  </thead>\n",
       "  <tbody>\n",
       "    <tr>\n",
       "      <th>111</th>\n",
       "      <td>1.0</td>\n",
       "      <td>14.741224</td>\n",
       "      <td>1.521017</td>\n",
       "      <td>4.414397</td>\n",
       "      <td>0.003624</td>\n",
       "      <td>0.0</td>\n",
       "      <td>10.820944</td>\n",
       "      <td>-0.000078</td>\n",
       "      <td>11.260623</td>\n",
       "      <td>10.157160</td>\n",
       "      <td>...</td>\n",
       "      <td>12.268174</td>\n",
       "      <td>4.403565</td>\n",
       "      <td>9.894497</td>\n",
       "      <td>0.01982</td>\n",
       "      <td>1.973697</td>\n",
       "      <td>9.210440</td>\n",
       "      <td>13.272788</td>\n",
       "      <td>13.272788</td>\n",
       "      <td>0.761231</td>\n",
       "      <td>4.335396</td>\n",
       "    </tr>\n",
       "    <tr>\n",
       "      <th>203</th>\n",
       "      <td>1.0</td>\n",
       "      <td>0.000000</td>\n",
       "      <td>0.211993</td>\n",
       "      <td>4.492683</td>\n",
       "      <td>0.207339</td>\n",
       "      <td>0.0</td>\n",
       "      <td>0.000000</td>\n",
       "      <td>0.000000</td>\n",
       "      <td>9.190240</td>\n",
       "      <td>10.221068</td>\n",
       "      <td>...</td>\n",
       "      <td>0.000000</td>\n",
       "      <td>4.615112</td>\n",
       "      <td>0.000000</td>\n",
       "      <td>0.00000</td>\n",
       "      <td>0.000000</td>\n",
       "      <td>0.000000</td>\n",
       "      <td>0.000000</td>\n",
       "      <td>0.000000</td>\n",
       "      <td>0.000000</td>\n",
       "      <td>0.000000</td>\n",
       "    </tr>\n",
       "    <tr>\n",
       "      <th>123</th>\n",
       "      <td>1.0</td>\n",
       "      <td>13.379194</td>\n",
       "      <td>0.098364</td>\n",
       "      <td>4.559225</td>\n",
       "      <td>0.008637</td>\n",
       "      <td>0.0</td>\n",
       "      <td>0.000000</td>\n",
       "      <td>0.000000</td>\n",
       "      <td>0.000000</td>\n",
       "      <td>10.017709</td>\n",
       "      <td>...</td>\n",
       "      <td>11.425120</td>\n",
       "      <td>4.362993</td>\n",
       "      <td>0.000000</td>\n",
       "      <td>0.00000</td>\n",
       "      <td>0.000000</td>\n",
       "      <td>0.000000</td>\n",
       "      <td>0.000000</td>\n",
       "      <td>0.000000</td>\n",
       "      <td>0.000000</td>\n",
       "      <td>0.000000</td>\n",
       "    </tr>\n",
       "    <tr>\n",
       "      <th>278</th>\n",
       "      <td>1.0</td>\n",
       "      <td>0.000000</td>\n",
       "      <td>0.185180</td>\n",
       "      <td>4.412523</td>\n",
       "      <td>-0.003166</td>\n",
       "      <td>0.0</td>\n",
       "      <td>0.000000</td>\n",
       "      <td>0.000000</td>\n",
       "      <td>8.936035</td>\n",
       "      <td>8.936035</td>\n",
       "      <td>...</td>\n",
       "      <td>0.000000</td>\n",
       "      <td>3.100539</td>\n",
       "      <td>0.000000</td>\n",
       "      <td>0.00000</td>\n",
       "      <td>0.000000</td>\n",
       "      <td>12.669137</td>\n",
       "      <td>0.000000</td>\n",
       "      <td>12.372842</td>\n",
       "      <td>0.084414</td>\n",
       "      <td>4.090181</td>\n",
       "    </tr>\n",
       "    <tr>\n",
       "      <th>108</th>\n",
       "      <td>1.0</td>\n",
       "      <td>12.905449</td>\n",
       "      <td>0.033543</td>\n",
       "      <td>4.502254</td>\n",
       "      <td>0.000000</td>\n",
       "      <td>0.0</td>\n",
       "      <td>0.000000</td>\n",
       "      <td>0.000000</td>\n",
       "      <td>0.000000</td>\n",
       "      <td>0.000000</td>\n",
       "      <td>...</td>\n",
       "      <td>12.081162</td>\n",
       "      <td>4.570474</td>\n",
       "      <td>0.000000</td>\n",
       "      <td>0.00000</td>\n",
       "      <td>0.000000</td>\n",
       "      <td>0.000000</td>\n",
       "      <td>0.000000</td>\n",
       "      <td>0.000000</td>\n",
       "      <td>0.000000</td>\n",
       "      <td>0.000000</td>\n",
       "    </tr>\n",
       "  </tbody>\n",
       "</table>\n",
       "<p>5 rows × 1048 columns</p>\n",
       "</div>"
      ],
      "text/plain": [
       "     Intercept  tejgfun_ct05pgercon  dfgpimpiafun_ct05pgercon  \\\n",
       "111        1.0            14.741224                  1.521017   \n",
       "203        1.0             0.000000                  0.211993   \n",
       "123        1.0            13.379194                  0.098364   \n",
       "278        1.0             0.000000                  0.185180   \n",
       "108        1.0            12.905449                  0.033543   \n",
       "\n",
       "     devppimfun_ct05pgercon  dfgdevpiagfun_ct05opseg  devppimfun_ct05trab  \\\n",
       "111                4.414397                 0.003624                  0.0   \n",
       "203                4.492683                 0.207339                  0.0   \n",
       "123                4.559225                 0.008637                  0.0   \n",
       "278                4.412523                -0.003166                  0.0   \n",
       "108                4.502254                 0.000000                  0.0   \n",
       "\n",
       "     tejgfun_ct05come  dfgpimpiafun_ct05come  piagfun_ct05agro  \\\n",
       "111         10.820944              -0.000078         11.260623   \n",
       "203          0.000000               0.000000          9.190240   \n",
       "123          0.000000               0.000000          0.000000   \n",
       "278          0.000000               0.000000          8.936035   \n",
       "108          0.000000               0.000000          0.000000   \n",
       "\n",
       "     pimgfun_ct05agro  ...  tejgtotfun_f5trans  devppimtotfun_f5trans  \\\n",
       "111         10.157160  ...           12.268174               4.403565   \n",
       "203         10.221068  ...            0.000000               4.615112   \n",
       "123         10.017709  ...           11.425120               4.362993   \n",
       "278          8.936035  ...            0.000000               3.100539   \n",
       "108          0.000000  ...           12.081162               4.570474   \n",
       "\n",
       "     tdvgtotfun_f5turi  dfgpimpiatotfun_f5turi  devppimtotfun_f5turi  \\\n",
       "111           9.894497                 0.01982              1.973697   \n",
       "203           0.000000                 0.00000              0.000000   \n",
       "123           0.000000                 0.00000              0.000000   \n",
       "278           0.000000                 0.00000              0.000000   \n",
       "108           0.000000                 0.00000              0.000000   \n",
       "\n",
       "     piagtotfun_f5viv  tejgtotfun_f5viv  tdvgtotfun_f5viv  \\\n",
       "111          9.210440         13.272788         13.272788   \n",
       "203          0.000000          0.000000          0.000000   \n",
       "123          0.000000          0.000000          0.000000   \n",
       "278         12.669137          0.000000         12.372842   \n",
       "108          0.000000          0.000000          0.000000   \n",
       "\n",
       "     dfgpimpiatotfun_f5viv  devppimtotfun_f5viv  \n",
       "111               0.761231             4.335396  \n",
       "203               0.000000             0.000000  \n",
       "123               0.000000             0.000000  \n",
       "278               0.084414             4.090181  \n",
       "108               0.000000             0.000000  \n",
       "\n",
       "[5 rows x 1048 columns]"
      ]
     },
     "execution_count": 27,
     "metadata": {},
     "output_type": "execute_result"
    }
   ],
   "source": [
    "x_basic_train.head()"
   ]
  },
  {
   "cell_type": "markdown",
   "id": "752e2597-ff71-4986-a5c8-2e6b65a4e40d",
   "metadata": {},
   "source": [
    "#### 3.1. Ajustar el modelo"
   ]
  },
  {
   "cell_type": "code",
   "execution_count": 28,
   "id": "78ecc511-ae59-47d1-a9c4-bd531675f31c",
   "metadata": {},
   "outputs": [],
   "source": [
    "fit_lm_basic = smf.ols( formula_basic, data = data_train ).fit()"
   ]
  },
  {
   "cell_type": "markdown",
   "id": "a83323a8-e11a-4c54-b512-9a8502c974d9",
   "metadata": {},
   "source": [
    "#### 3.2. Calcular out-of-sample MSE y Standard Error"
   ]
  },
  {
   "cell_type": "code",
   "execution_count": 29,
   "id": "62a72e1b-94b3-47e7-991a-fadf8e35eb89",
   "metadata": {},
   "outputs": [
    {
     "name": "stdout",
     "output_type": "stream",
     "text": [
      "The mean squared error (MSE) using the basic model is equal to: 205.24355573531764\n"
     ]
    }
   ],
   "source": [
    "# Only MSE\n",
    "\n",
    "yhat_lm_basic = fit_lm_basic.predict( data_test )\n",
    "print(\"The mean squared error (MSE) using the basic model is equal to:\", ( ( Y_test - yhat_lm_basic )**2 ).mean() )"
   ]
  },
  {
   "cell_type": "code",
   "execution_count": 30,
   "id": "b51fe3fd-528e-48f5-817d-9038700dfb49",
   "metadata": {},
   "outputs": [
    {
     "data": {
      "text/plain": [
       "Coef.       205.243556\n",
       "Std.Err.     22.275421\n",
       "Name: const, dtype: float64"
      ]
     },
     "execution_count": 30,
     "metadata": {},
     "output_type": "execute_result"
    }
   ],
   "source": [
    "# MSE and SE\n",
    "\n",
    "resid_basic  = ( Y_test - yhat_lm_basic )**2\n",
    "\n",
    "MSE_lm_basic = sm.OLS( resid_basic , np.ones( resid_basic.shape[ 0 ] ) ).fit().summary2().tables[ 1 ].iloc[ 0, 0:2 ]\n",
    "MSE_lm_basic"
   ]
  },
  {
   "cell_type": "markdown",
   "id": "a565331d-c243-4332-8761-a99a5ef56160",
   "metadata": {},
   "source": [
    "#### 3.3. Calcular R Cuadrado out-of-sample"
   ]
  },
  {
   "cell_type": "code",
   "execution_count": 31,
   "id": "6d9c263b-66a9-4bf9-a775-7ec766d43b05",
   "metadata": {},
   "outputs": [
    {
     "name": "stdout",
     "output_type": "stream",
     "text": [
      "The R^2 using the basic model is equal to: -3.420698510200258\n"
     ]
    }
   ],
   "source": [
    "R2_lm_basic = 1 - ( MSE_lm_basic[ 0 ]/Y_test.var() )\n",
    "print( f\"The R^2 using the basic model is equal to: { R2_lm_basic }\" )"
   ]
  },
  {
   "cell_type": "markdown",
   "id": "ec35172c-d07c-4bb6-99d7-e7289b071a16",
   "metadata": {},
   "source": [
    "## 4. Lasso, Ridge and Elastic Net"
   ]
  },
  {
   "cell_type": "markdown",
   "id": "2f160c38-771e-45bc-87a8-863dc3f0c6bf",
   "metadata": {},
   "source": [
    "#### 4.1. Theoretical Lasso from hdm package"
   ]
  },
  {
   "cell_type": "code",
   "execution_count": 32,
   "id": "e8976ff1-f600-4849-8a48-a6645e387112",
   "metadata": {},
   "outputs": [],
   "source": [
    "import hdmpy as hdm"
   ]
  },
  {
   "cell_type": "code",
   "execution_count": 39,
   "id": "ae68655f-4602-4136-86d6-847fac8aa109",
   "metadata": {},
   "outputs": [],
   "source": [
    "fit_rlasso = hdm.rlasso( x_basic_train.to_numpy() , Y_train.to_numpy().reshape( Y_train.size , 1 ) , post = False )\n",
    "fit_rlasso_post = hdm.rlasso( x_basic_train.to_numpy() , Y_train.to_numpy().reshape( Y_train.size , 1 ) , post = True )"
   ]
  },
  {
   "cell_type": "code",
   "execution_count": 40,
   "id": "939155e3-36cd-4110-8773-671103d41eb0",
   "metadata": {},
   "outputs": [],
   "source": [
    "# Getting mean of each variable\n",
    "meanx = x_basic_test.mean( axis = 0 ).values.\\\n",
    "                        reshape( x_basic_test.shape[ 1 ] , 1 )\n",
    "\n",
    "# Reducing the mean\n",
    "new_x1 = x_basic_test.to_numpy() - \\\n",
    "                    (np.ones( ( x_basic_test.shape[ 0 ] , 1 ) ) @ meanx.T)\n",
    "\n",
    "# Getting the significant variables\n",
    "x1_est_rlasso = new_x1[ :, fit_rlasso.est['index'].iloc[:, 0].to_list()]\n",
    "\n",
    "# Getting the coef. from significant variables\n",
    "beta_rlasso = fit_rlasso.est['beta'].loc[ fit_rlasso.est['index'].\\\n",
    "                                     iloc[:, 0].to_list(), ].to_numpy()\n",
    "\n",
    "# yhat\n",
    "yhat_rlasso = (x1_est_rlasso @ beta_rlasso) + np.mean( Y_test.to_numpy() )\n",
    "residuals_rlasso = Y_test.to_numpy().reshape( Y_test.to_numpy().size, 1)  - yhat_rlasso"
   ]
  },
  {
   "cell_type": "code",
   "execution_count": 41,
   "id": "d6007f2d-4846-4bbf-b7d2-7bcff13d28aa",
   "metadata": {},
   "outputs": [],
   "source": [
    "# Getting mean of each variable\n",
    "meanx = x_basic_test.mean( axis = 0 ).values.\\\n",
    "                        reshape(x_basic_test.shape[ 1 ] , 1 )\n",
    "\n",
    "# Reducing the mean\n",
    "new_x1 = x_basic_test.to_numpy() - \\\n",
    "                    (np.ones( (x_basic_test.shape[ 0 ] , 1 ) ) @ meanx.T)\n",
    "\n",
    "# Getting the significant variables\n",
    "x1_est_rlasso_post = new_x1[ :, fit_rlasso_post.est['index'].iloc[:, 0].to_list()]\n",
    "\n",
    "# Getting the coef. from significant variables\n",
    "beta_rlasso_post = fit_rlasso_post.est['beta'].loc[ fit_rlasso_post.est['index'].\\\n",
    "                                     iloc[:, 0].to_list(), ].to_numpy()\n",
    "\n",
    "# yhat\n",
    "yhat_rlasso_post = (x1_est_rlasso_post @ beta_rlasso_post) + np.mean( Y_test.to_numpy() )\n",
    "residuals_rlasso_post = Y_test.to_numpy().reshape( Y_test.to_numpy().size, 1)  - yhat_rlasso_post"
   ]
  },
  {
   "cell_type": "code",
   "execution_count": 42,
   "id": "720605ec-2d24-47c9-b180-a3e89174fff7",
   "metadata": {},
   "outputs": [
    {
     "name": "stdout",
     "output_type": "stream",
     "text": [
      "The R^2 using the basic model is equal to 0.009500219286579625,for lasso and -0.031333742891812566 for post-lasso\n"
     ]
    }
   ],
   "source": [
    "MSE_lasso = sm.OLS( ( residuals_rlasso )**2 , np.ones( yhat_rlasso.size )  ).fit().summary2().tables[1].round(3)\n",
    "MSE_lasso_post = sm.OLS( ( residuals_rlasso_post )**2  , np.ones( yhat_rlasso_post.size )  ).fit().summary2().tables[1].round(3)\n",
    "\n",
    "R2_lasso = 1 - MSE_lasso.iloc[0, 0]/ np.var( Y_test )\n",
    "R2_lasso_post = 1 - MSE_lasso_post.iloc[0, 0]/ np.var( Y_test )\n",
    "\n",
    "print( f\"The R^2 using the basic model is equal to {R2_lasso},for lasso and {R2_lasso_post} for post-lasso\") # R^2 lasso/post-lasso (basic model) "
   ]
  },
  {
   "cell_type": "markdown",
   "id": "f3784ec3-bddb-4856-935e-3d19b80a5b50",
   "metadata": {},
   "source": [
    "#### 4.2. Cross Validated Lasso, Ridge and Elastic Net"
   ]
  },
  {
   "cell_type": "code",
   "execution_count": 43,
   "id": "9ecfb2f0-189c-4690-89be-720b4894f471",
   "metadata": {},
   "outputs": [],
   "source": [
    "from sklearn.linear_model import LassoCV, RidgeCV, ElasticNetCV"
   ]
  },
  {
   "cell_type": "code",
   "execution_count": 44,
   "id": "1bab0926-6bc9-4260-83ce-fbb3c56eaa5d",
   "metadata": {},
   "outputs": [
    {
     "name": "stdout",
     "output_type": "stream",
     "text": [
      "R^2 using cross-validation for lasso, ridge, and elastic net in the basic model: 0.00632, -2.50734, 0.00632\n"
     ]
    }
   ],
   "source": [
    "fit_lasso_cv = LassoCV( cv = 10, fit_intercept = True, normalize = False, random_state = 0 ).fit( x_basic_train, Y_train )\n",
    "fit_ridge = RidgeCV( cv = 10, fit_intercept = True, normalize = False, scoring = None ).fit( x_basic_train, Y_train )\n",
    "fit_elnet = ElasticNetCV( cv = 10, fit_intercept = True, normalize = False, random_state = 0 ).fit( x_basic_train, Y_train )\n",
    "\n",
    "yhat_lasso_cv = fit_lasso_cv.predict( x_basic_test )\n",
    "yhat_ridge = fit_ridge.predict( x_basic_test )\n",
    "yhat_elnet = fit_elnet.predict( x_basic_test )\n",
    "\n",
    "residual_lasso = ( yhat_lasso_cv - Y_test )**2\n",
    "residual_ridge = ( yhat_ridge - Y_test )**2\n",
    "residual_elnet = ( yhat_elnet - Y_test )**2\n",
    "\n",
    "MSE_lasso_cv = sm.OLS( residual_lasso, np.ones( Y_test.size )).fit().summary2().tables[ 1 ].round( 3 )\n",
    "MSE_ridge = sm.OLS( residual_ridge, np.ones( Y_test.size )).fit().summary2().tables[ 1 ].round( 3 )\n",
    "MSE_elnet = sm.OLS( residual_elnet, np.ones( Y_test.size )).fit().summary2().tables[ 1 ].round( 3 )\n",
    "\n",
    "R2_lasso_cv = 1 - MSE_lasso_cv.iloc[ 0, 0 ] / np.var( Y_test )\n",
    "R2_ridge = 1 - MSE_ridge.iloc[ 0, 0 ]  / np.var( Y_test )\n",
    "R2_elnet = 1 - MSE_elnet.iloc[ 0, 0 ]  / np.var( Y_test )\n",
    "\n",
    "print( \"R^2 using cross-validation for lasso, ridge, and elastic net in the basic model: {:.5f}, {:.5f}, {:.5f}\".format( R2_lasso_cv, R2_ridge, R2_elnet ) )"
   ]
  },
  {
   "cell_type": "markdown",
   "id": "3994e108-13fd-4eab-b22a-7b07c5487f81",
   "metadata": {},
   "source": [
    "## 5. Non Linear Models"
   ]
  },
  {
   "cell_type": "markdown",
   "id": "edf63d64-c804-4c45-93f4-b6afde2a6b6b",
   "metadata": {},
   "source": [
    "#### 5.1. Regression Trees"
   ]
  },
  {
   "cell_type": "code",
   "execution_count": 45,
   "id": "7c3685d8-2547-45bd-b2be-31aca3650051",
   "metadata": {},
   "outputs": [],
   "source": [
    "from sklearn.tree import DecisionTreeRegressor\n",
    "from sklearn import tree"
   ]
  },
  {
   "cell_type": "code",
   "execution_count": 46,
   "id": "622ab15f-727a-4d8e-8ce6-0e440000e159",
   "metadata": {},
   "outputs": [
    {
     "data": {
      "text/plain": [
       "DecisionTreeRegressor(min_impurity_decrease=0.001, random_state=0)"
      ]
     },
     "execution_count": 46,
     "metadata": {},
     "output_type": "execute_result"
    }
   ],
   "source": [
    "# Fit the model\n",
    "\n",
    "fit_trees = DecisionTreeRegressor( random_state = 0, min_impurity_decrease = 0.001 )\n",
    "fit_trees.fit( x_basic_train, y_basic_train )"
   ]
  },
  {
   "cell_type": "code",
   "execution_count": null,
   "id": "65c1884d-514c-4e79-bc99-f0896c53db99",
   "metadata": {
    "tags": []
   },
   "outputs": [],
   "source": [
    "# Plot the tree\n",
    "\n",
    "# from sklearn.tree import plot_tree\n",
    "\n",
    "# plt.figure( figsize=( 30, 20 ) )\n",
    "# plot_tree( fit_trees, filled = True )\n",
    "# plt.show()"
   ]
  },
  {
   "cell_type": "code",
   "execution_count": 47,
   "id": "600fdb86-10fb-4ed2-8af0-ec7052a48134",
   "metadata": {},
   "outputs": [
    {
     "data": {
      "text/html": [
       "<div>\n",
       "<style scoped>\n",
       "    .dataframe tbody tr th:only-of-type {\n",
       "        vertical-align: middle;\n",
       "    }\n",
       "\n",
       "    .dataframe tbody tr th {\n",
       "        vertical-align: top;\n",
       "    }\n",
       "\n",
       "    .dataframe thead th {\n",
       "        text-align: right;\n",
       "    }\n",
       "</style>\n",
       "<table border=\"1\" class=\"dataframe\">\n",
       "  <thead>\n",
       "    <tr style=\"text-align: right;\">\n",
       "      <th></th>\n",
       "      <th>ccp_alphas</th>\n",
       "      <th>impurities</th>\n",
       "    </tr>\n",
       "  </thead>\n",
       "  <tbody>\n",
       "    <tr>\n",
       "      <th>0</th>\n",
       "      <td>0.000000</td>\n",
       "      <td>3.493740</td>\n",
       "    </tr>\n",
       "    <tr>\n",
       "      <th>1</th>\n",
       "      <td>0.004611</td>\n",
       "      <td>3.498351</td>\n",
       "    </tr>\n",
       "    <tr>\n",
       "      <th>2</th>\n",
       "      <td>0.005597</td>\n",
       "      <td>3.503948</td>\n",
       "    </tr>\n",
       "    <tr>\n",
       "      <th>3</th>\n",
       "      <td>0.005764</td>\n",
       "      <td>3.509712</td>\n",
       "    </tr>\n",
       "    <tr>\n",
       "      <th>4</th>\n",
       "      <td>0.005823</td>\n",
       "      <td>3.515535</td>\n",
       "    </tr>\n",
       "  </tbody>\n",
       "</table>\n",
       "</div>"
      ],
      "text/plain": [
       "   ccp_alphas  impurities\n",
       "0    0.000000    3.493740\n",
       "1    0.004611    3.498351\n",
       "2    0.005597    3.503948\n",
       "3    0.005764    3.509712\n",
       "4    0.005823    3.515535"
      ]
     },
     "execution_count": 47,
     "metadata": {},
     "output_type": "execute_result"
    }
   ],
   "source": [
    "# Determine the optimar complexity of the regression tree\n",
    "\n",
    "s = pd.DataFrame( fit_trees.cost_complexity_pruning_path( y_basic_train, x_basic_train ) )\n",
    "s.head()"
   ]
  },
  {
   "cell_type": "code",
   "execution_count": null,
   "id": "ea50d8a1-8bd8-4dc9-adcf-9bebc4fe67cb",
   "metadata": {},
   "outputs": [],
   "source": [
    "### PREGUNTA: DE DÓNDE SALE ESE VALOR DE ALPHA"
   ]
  },
  {
   "cell_type": "code",
   "execution_count": 48,
   "id": "b19be5bb-1ee1-420f-8453-0e1a887b0d9e",
   "metadata": {},
   "outputs": [
    {
     "data": {
      "text/plain": [
       "DecisionTreeRegressor(ccp_alpha=0.00188444410871555)"
      ]
     },
     "execution_count": 48,
     "metadata": {},
     "output_type": "execute_result"
    }
   ],
   "source": [
    "# Prune the tree\n",
    "\n",
    "fit_prunnedtree = DecisionTreeRegressor( ccp_alpha = 0.00188444410871555 )\n",
    "fit_prunnedtree.fit( x_basic_train, y_basic_train )"
   ]
  },
  {
   "cell_type": "code",
   "execution_count": null,
   "id": "d439f190-f5c1-4126-a2fa-f007ecb20850",
   "metadata": {},
   "outputs": [],
   "source": [
    "# Plot the prunned tree\n",
    "\n",
    "# plot_tree(fit_prunnedtree, filled=True)\n",
    "# plt.show()"
   ]
  },
  {
   "cell_type": "code",
   "execution_count": 49,
   "id": "dbffc344-dd27-4432-9d7c-cdacfbaab4b1",
   "metadata": {},
   "outputs": [
    {
     "name": "stdout",
     "output_type": "stream",
     "text": [
      "R^2 of the pruned tree: -0.9842056231787784\n"
     ]
    }
   ],
   "source": [
    "# Calculate MSE and R2 for prunned tree\n",
    "\n",
    "y_hat_pt = fit_prunnedtree.predict( x_basic_test )\n",
    "residual_pt = ( y_hat_pt - Y_test )**2\n",
    "MSE_pt = sm.OLS( residual_pt, np.ones( y_hat_pt.size )).fit().summary2().tables[ 1 ].round( 3 )\n",
    "R2_pt = 1 - MSE_pt.iloc[ 0, 0 ]/np.var( Y_test )\n",
    "print( f\"R^2 of the pruned tree: { R2_pt }\" )"
   ]
  },
  {
   "cell_type": "markdown",
   "id": "a13fb653-726e-4fc1-8411-7a44cc8c505c",
   "metadata": {},
   "source": [
    "#### 5.2. Random Forest and Booested Trees"
   ]
  },
  {
   "cell_type": "code",
   "execution_count": 50,
   "id": "7004494d-eada-4387-b469-33c921eca607",
   "metadata": {},
   "outputs": [],
   "source": [
    "from sklearn.ensemble import RandomForestRegressor\n",
    "from sklearn.ensemble import GradientBoostingRegressor "
   ]
  },
  {
   "cell_type": "code",
   "execution_count": 51,
   "id": "b533654e-2672-4089-93d2-d13a9605ba30",
   "metadata": {},
   "outputs": [],
   "source": [
    "# random forest\n",
    "fit_rf = RandomForestRegressor( n_estimators = 2000, min_samples_leaf = 5).fit( x_basic_train, Y_train )\n",
    "\n",
    "# boosting\n",
    "fit_boost = GradientBoostingRegressor( loss = 'ls', learning_rate = 0.01, n_estimators = 1000, max_depth = 2, subsample = 0.5).fit( x_basic_train, Y_train )\n",
    "\n",
    "# Evaluating the methods\n",
    "yhat_rf = fit_rf.predict( x_basic_test )\n",
    "residual_rf = ( yhat_rf - Y_test )**2\n",
    "yhat_boost = fit_boost.predict( x_basic_test )\n",
    "residual_bst = ( yhat_boost - Y_test )**2\n",
    "\n",
    "# Calculate MSE\n",
    "MSE_rf = sm.OLS( residual_pt, np.ones( yhat_rf.size )).fit().summary2().tables[ 1 ].round( 3 )\n",
    "MSE_bst = sm.OLS( residual_bst, np.ones( yhat_boost.size )).fit().summary2().tables[ 1 ].round( 3 )\n",
    "\n",
    "# Calculate R2\n",
    "R2_rf = 1 - MSE_rf.iloc[ 0, 0 ] / Y_test.var()\n",
    "R2_boost = 1 - MSE_bst.iloc[ 0, 0 ] / Y_test.var()"
   ]
  },
  {
   "cell_type": "code",
   "execution_count": 52,
   "id": "b6ec4abe-e0ba-4a8f-b807-ddd03ac594f3",
   "metadata": {},
   "outputs": [
    {
     "name": "stdout",
     "output_type": "stream",
     "text": [
      "R^2 of the random forest and boosted trees:-0.97287, -0.05361\n"
     ]
    }
   ],
   "source": [
    "print( \"R^2 of the random forest and boosted trees:{:.5f}, {:.5f}\".format( R2_rf, R2_boost ) )"
   ]
  },
  {
   "cell_type": "markdown",
   "id": "c35ad74a-8143-4bfd-89bd-9324d5c730b1",
   "metadata": {},
   "source": [
    "## 6. Resultados"
   ]
  },
  {
   "cell_type": "code",
   "execution_count": 53,
   "id": "c4defc4d-aaed-432b-9008-94811212a1d6",
   "metadata": {},
   "outputs": [
    {
     "data": {
      "text/html": [
       "<div>\n",
       "<style scoped>\n",
       "    .dataframe tbody tr th:only-of-type {\n",
       "        vertical-align: middle;\n",
       "    }\n",
       "\n",
       "    .dataframe tbody tr th {\n",
       "        vertical-align: top;\n",
       "    }\n",
       "\n",
       "    .dataframe thead th {\n",
       "        text-align: right;\n",
       "    }\n",
       "</style>\n",
       "<table border=\"1\" class=\"dataframe\">\n",
       "  <thead>\n",
       "    <tr style=\"text-align: right;\">\n",
       "      <th></th>\n",
       "      <th>Models</th>\n",
       "      <th>MSE</th>\n",
       "      <th>S.E for MSE</th>\n",
       "      <th>R-squared</th>\n",
       "    </tr>\n",
       "  </thead>\n",
       "  <tbody>\n",
       "    <tr>\n",
       "      <th>0</th>\n",
       "      <td>Least Squares (basic)</td>\n",
       "      <td>205.243556</td>\n",
       "      <td>22.275421</td>\n",
       "      <td>-3.420699</td>\n",
       "    </tr>\n",
       "    <tr>\n",
       "      <th>1</th>\n",
       "      <td>Lasso</td>\n",
       "      <td>45.724000</td>\n",
       "      <td>2.469000</td>\n",
       "      <td>0.009500</td>\n",
       "    </tr>\n",
       "    <tr>\n",
       "      <th>2</th>\n",
       "      <td>Post_Lasso</td>\n",
       "      <td>45.724000</td>\n",
       "      <td>3.042000</td>\n",
       "      <td>-0.031334</td>\n",
       "    </tr>\n",
       "    <tr>\n",
       "      <th>3</th>\n",
       "      <td>Cross-Validated lasso</td>\n",
       "      <td>45.871000</td>\n",
       "      <td>2.309000</td>\n",
       "      <td>0.006316</td>\n",
       "    </tr>\n",
       "    <tr>\n",
       "      <th>4</th>\n",
       "      <td>Cross-Validated ridge</td>\n",
       "      <td>161.908000</td>\n",
       "      <td>17.308000</td>\n",
       "      <td>-2.507345</td>\n",
       "    </tr>\n",
       "    <tr>\n",
       "      <th>5</th>\n",
       "      <td>Cross-Validated elnet</td>\n",
       "      <td>45.871000</td>\n",
       "      <td>2.275000</td>\n",
       "      <td>0.006316</td>\n",
       "    </tr>\n",
       "    <tr>\n",
       "      <th>6</th>\n",
       "      <td>Random Forest</td>\n",
       "      <td>91.596000</td>\n",
       "      <td>7.662000</td>\n",
       "      <td>-0.972867</td>\n",
       "    </tr>\n",
       "    <tr>\n",
       "      <th>7</th>\n",
       "      <td>Boosted Trees</td>\n",
       "      <td>48.917000</td>\n",
       "      <td>3.350000</td>\n",
       "      <td>-0.053613</td>\n",
       "    </tr>\n",
       "    <tr>\n",
       "      <th>8</th>\n",
       "      <td>Pruned Tree</td>\n",
       "      <td>91.596000</td>\n",
       "      <td>7.662000</td>\n",
       "      <td>-0.984206</td>\n",
       "    </tr>\n",
       "  </tbody>\n",
       "</table>\n",
       "</div>"
      ],
      "text/plain": [
       "                  Models         MSE  S.E for MSE  R-squared\n",
       "0  Least Squares (basic)  205.243556    22.275421  -3.420699\n",
       "1                  Lasso   45.724000     2.469000   0.009500\n",
       "2             Post_Lasso   45.724000     3.042000  -0.031334\n",
       "3  Cross-Validated lasso   45.871000     2.309000   0.006316\n",
       "4  Cross-Validated ridge  161.908000    17.308000  -2.507345\n",
       "5  Cross-Validated elnet   45.871000     2.275000   0.006316\n",
       "6          Random Forest   91.596000     7.662000  -0.972867\n",
       "7          Boosted Trees   48.917000     3.350000  -0.053613\n",
       "8            Pruned Tree   91.596000     7.662000  -0.984206"
      ]
     },
     "execution_count": 53,
     "metadata": {},
     "output_type": "execute_result"
    }
   ],
   "source": [
    "table = pd.DataFrame(columns=[\"MSE\", \"S.E for MSE\", \"R-squared\"]) \n",
    "table.loc[0]  = [MSE_lm_basic[0], MSE_lm_basic[1], R2_lm_basic]\n",
    "table.loc[1]  = [MSE_lasso.iloc[0, 0], MSE_lasso.iloc[0, 1], R2_lasso]\n",
    "table.loc[2]  = [MSE_lasso.iloc[0, 0], MSE_lasso_post.iloc[0, 1], R2_lasso_post]\n",
    "table.loc[3]  = [MSE_lasso_cv.iloc[0, 0], MSE_lasso_cv.iloc[0, 1], R2_lasso_cv]\n",
    "table.loc[4]  = [MSE_ridge.iloc[0, 0], MSE_ridge.iloc[0, 1], R2_ridge]\n",
    "table.loc[5]  = [MSE_elnet.iloc[0, 0], MSE_elnet.iloc[0, 1], R2_elnet]\n",
    "table.loc[6] = [MSE_rf.iloc[0, 0], MSE_rf.iloc[0, 1], R2_rf]\n",
    "table.loc[7] = [MSE_bst.iloc[0, 0], MSE_bst.iloc[0, 1], R2_boost]\n",
    "table.loc[8] = [MSE_pt.iloc[0, 0], MSE_pt.iloc[0, 1], R2_pt]\n",
    "models_row = [ \"Least Squares (basic)\", \"Lasso\", \"Post_Lasso\", \"Cross-Validated lasso\", \n",
    "               \"Cross-Validated ridge\", \"Cross-Validated elnet\", \"Random Forest\", \n",
    "               \"Boosted Trees\", \"Pruned Tree\" ]\n",
    "table.insert( 0, \"Models\", models_row )\n",
    "table"
   ]
  }
 ],
 "metadata": {
  "kernelspec": {
   "display_name": "Python 3 (ipykernel)",
   "language": "python",
   "name": "python3"
  },
  "language_info": {
   "codemirror_mode": {
    "name": "ipython",
    "version": 3
   },
   "file_extension": ".py",
   "mimetype": "text/x-python",
   "name": "python",
   "nbconvert_exporter": "python",
   "pygments_lexer": "ipython3",
   "version": "3.9.13"
  }
 },
 "nbformat": 4,
 "nbformat_minor": 5
}
