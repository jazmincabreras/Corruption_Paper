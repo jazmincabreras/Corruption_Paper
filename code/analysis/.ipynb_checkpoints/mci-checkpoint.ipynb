{
 "cells": [
  {
   "cell_type": "markdown",
   "id": "a6761da3-4f37-4091-a9c0-b1ae998b4611",
   "metadata": {},
   "source": [
    "## 1. Data"
   ]
  },
  {
   "cell_type": "markdown",
   "id": "6c8210e9-8f9f-4372-86aa-29957283d48d",
   "metadata": {},
   "source": [
    "#### 1.1. Import libraries and data"
   ]
  },
  {
   "cell_type": "code",
   "execution_count": 7,
   "id": "872db2ab-e158-4a3e-8a84-9fb88658226f",
   "metadata": {},
   "outputs": [],
   "source": [
    "import pandas as pd\n",
    "import numpy as np\n",
    "import os\n",
    "from urllib.request import urlopen\n",
    "import math\n",
    "import matplotlib.pyplot as plt\n",
    "import random\n",
    "import warnings\n",
    "warnings.filterwarnings('ignore')"
   ]
  },
  {
   "cell_type": "code",
   "execution_count": 8,
   "id": "908e0c89-5533-4936-a177-0e04af2555ef",
   "metadata": {},
   "outputs": [],
   "source": [
    "import funciones as fun\n",
    "import variables_nombres as vn"
   ]
  },
  {
   "cell_type": "code",
   "execution_count": 9,
   "id": "001770f9-a6a3-43cd-8dd3-9bd5891658f3",
   "metadata": {},
   "outputs": [],
   "source": [
    "path = r'..\\..\\output\\data_preprocess\\dfs_0_i_mci.csv'\n",
    "data = pd.read_csv( path )"
   ]
  },
  {
   "cell_type": "code",
   "execution_count": 10,
   "id": "05769dd3-31a4-4953-a620-f9e605473bf1",
   "metadata": {},
   "outputs": [],
   "source": [
    "# Borrar otras variables dependientes. Solo nos quedamos con 'monto_corrup2'\n",
    "data = data.drop( [ 'monto_examinado', 'monto_objeto_servicio', 'corrup_intensa', \n",
    "                    'corrup_amplia', 'per_corrup1', 'per_corrup2' ], \n",
    "                  axis = 1 )"
   ]
  },
  {
   "cell_type": "code",
   "execution_count": 11,
   "id": "c45068a4-648c-4424-9c65-7ed87a246f74",
   "metadata": {},
   "outputs": [],
   "source": [
    "# Borrar aquellas filas en las que la variable dependiente tenga missing\n",
    "data = data.dropna( axis = 0, subset = [ 'monto_corrup1' ] )"
   ]
  },
  {
   "cell_type": "code",
   "execution_count": 12,
   "id": "948f980a-49c6-4ca4-902e-20773a4973f3",
   "metadata": {},
   "outputs": [],
   "source": [
    "data = data.dropna( axis = 1 )"
   ]
  },
  {
   "cell_type": "markdown",
   "id": "30c1702e-7a51-4caa-bc7e-6862250caa05",
   "metadata": {
    "jupyter": {
     "outputs_hidden": true
    },
    "tags": []
   },
   "source": [
    "#### 1.2. Split data into training and test set"
   ]
  },
  {
   "cell_type": "code",
   "execution_count": 13,
   "id": "8696e0c0-1940-4f88-af25-3a108fc1c556",
   "metadata": {},
   "outputs": [],
   "source": [
    "nrow = data.shape[0]\n",
    "length = int(nrow*(3/4))"
   ]
  },
  {
   "cell_type": "code",
   "execution_count": 14,
   "id": "a19d2399-0172-4840-ae08-eec657c7b4d0",
   "metadata": {},
   "outputs": [],
   "source": [
    "from numpy.random import default_rng\n",
    "\n",
    "random.seed(22)\n",
    "rng = default_rng()\n",
    "training = rng.choice( nrow, size = length, replace=False )\n",
    "training_bool = data.index.isin( training )\n",
    "\n",
    "data_train = data.iloc[ training, : ]\n",
    "data_test = data[ ~training_bool ]"
   ]
  },
  {
   "cell_type": "markdown",
   "id": "ac3c561a-1f5d-4f7e-8391-aae83ebb4e83",
   "metadata": {},
   "source": [
    "## 2. Definir el modelo"
   ]
  },
  {
   "cell_type": "code",
   "execution_count": 15,
   "id": "dc6367b4-2b10-4854-9fde-ab037134e453",
   "metadata": {},
   "outputs": [],
   "source": [
    "import statsmodels.api as sm\n",
    "import statsmodels.formula.api as smf\n",
    "import patsy"
   ]
  },
  {
   "cell_type": "markdown",
   "id": "04eb391d-7e2d-4714-9af7-87cc90cb7c47",
   "metadata": {},
   "source": [
    "#### 2.1. Construir modelos"
   ]
  },
  {
   "cell_type": "code",
   "execution_count": 16,
   "id": "d895f27b-af7f-4dd1-892c-22e6cf5a29c4",
   "metadata": {},
   "outputs": [
    {
     "name": "stdout",
     "output_type": "stream",
     "text": [
      "Wall time: 2.54 s\n"
     ]
    }
   ],
   "source": [
    "%%time\n",
    "\n",
    "formula_basic = \"monto_corrup1 ~ tejgfun_ct05pgercon + devppimfun_ct05pgercon + devppimfun_ct05trab + tejgfun_ct05come + tdvgfun_ct05come + piagfun_ct05agro + pimgfun_ct05agro + tejgfun_ct05agro + devppimfun_ct05agro + piagfun_ct05energia + pimgfun_ct05energia + tejgfun_ct05energia + devppimfun_ct05energia + piagfun_ct05ind + pimgfun_ct05ind + devppimfun_ct05ind + tejgfun_ct05trans + tdvgfun_ct05trans + tejgfun_ct05san + devppimfun_ct05san + devppimfun_ct05viv + devppimfun_ct05cydep + devppimfun_ct05protsoc + devppimfun_ct05dpub + tejgfun_ct06opseg + tdvgfun_ct06opseg + tejgfun_ct06come + devppimfun_ct06come + piagfun_ct06turi + tdvgfun_ct06turi + devppimfun_ct06turi + devppimfun_ct06ind + devppimfun_ct06trans + devppimfun_ct06amb + piagfun_ct06san + pimgfun_ct06san + devppimfun_ct06san + tejgfun_ct06viv + tdvgfun_ct06viv + devppimfun_ct06viv + piagfun_ct06salud + pimgfun_ct06salud + devppimfun_ct06salud + tejgfun_ct06cydep + piagfun_ct06edu + pimgfun_ct06protsoc + devppimft_rdet + tejgrb_reod + tdvgrb_reod + devppimrb_reod + devppimrb_redr + devppimrb_rooc + devppimrb_fonc + devppimrb_impm + devppimrb_canr + devppimct_r00gstcr + dfgdevpiagct_r19gstcr + tejgct_r19gstcp + tejgct_r13gstcr + tdvgct_r13gstcr + devppimct_r13gstcr + tejgct_r07gstcp + piagct_r07srdeu + pimgct_r07srdeu + tejgct_r07srdeu + devppimct_r07srdeu + piagct_r18gstcr + devppimct_r18gstcr + pimgge_r00ct05pobso + tejgge_r00ct05popso + devppimge_r00ct05popso + piagge_r00ct05biser + tejgge_r00ct05biser + devppimge_r00ct05biser + devppimgge_r00ct05otgst + dfgdevpiagge_r00ct06dotra + devppimgge_r00ct06otgst + dfgpimpiagge_r00ct06acanf + devppimgge_r09ct05pobso + piagge_r09ct05popso + devppimgge_r09ct05popso + pimgge_r09ct05dotra + tdvgge_r09ct05dotra + devppimgge_r09ct05dotra + piagge_r09ct05otgst + tejgge_r09ct05otgst + devppimgge_r09ct05otgst + pimgge_r09ct06dotra + devppimgge_r09ct06dotra + piagge_r09ct06otgst + tejgge_r09ct06otgst + tdvgge_r09ct06otgst + devppimgge_r09ct06otgst + tejgge_r09ct06acanf + tdvgge_r09ct06acanf + devppimgge_r09ct06acanf + dfgpimpiagge_r09ct07sedpu + devppimgge_r09ct07sedpu + dfgpimpiagge_r19ct06dotra + dfgdevpiagge_r19ct06dotra + devppimgge_r19ct06dotra + dfgpimpiagge_r13ct05pobso + tejgge_r13ct05popso + dfgpimpiagge_r13ct05popso + devppimgge_r13ct05popso + piagge_r13ct05dotra + pimgge_r13ct05dotra + tejgge_r13ct05dotra + tejgge_r13ct05otgst + dfgpimpiagge_r13ct05otgst + devppimgge_r13ct05otgst + dfgpimpiagge_r13ct06dotra + dfgdevpiagge_r13ct06dotra + piagge_r07ct05pobso + tejgge_r07ct05pobso + devppimgge_r07ct05pobso + tejgge_r07ct05popso + devppimgge_r07ct05popso + tejgge_r07ct05biser + tdvgge_r07ct05biser + devppimgge_r07ct05biser + pimgge_r07ct05dotra + tejgge_r07ct05dotra + devppimgge_r07ct05dotra + pimgge_r07ct05otgst + tejgge_r07ct05otgst + devppimgge_r07ct05otgst + devppimge_r08ct05pobso + devppimge_r08ct05popso + pimgge_r08ct05dotra + tejgge_r08ct05dotra + devppimge_r08ct05dotra + tejgge_r08ct05otgst + devppimgge_r08ct05otgst + devppimgge_r08ct06acanf + piagge_r08ct07sedpu + piagge_r18ct05pobso + pimgge_r18ct05pobso + devppimge_r18ct05pobso + devppimge_r18ct05popso + pimgge_r18ct05dotra + devppimge_r18ct05dotra + piagge_r18ct05otgst + pimgge_r18ct05otgst + devppimgge_r18ct05otgst + dfgpimpiagge_r18ct06acacf + piagge_r18ct07sedpu + piagkft_reod + devppimgkft_reod + piagkft_redr + piagkft_rooc + dfgpimpiagkft_rooc + piagkft_dotr + tejgkft_dotr + devppimgkft_dotr + devppimgkft_rdet + devppimgkftr07_rdet + tejgfun_f1ct05agro + tejgfun_f1ct05amb + tejgfun_f1ct05come + devppimfun_f1ct05come + tejgfun_f1ct05cydep + devppimfun_f1ct05cydep + devppimfun_f1ct05edu + tejgfun_f1ct05opseg + dfgpimpiafun_f1ct05opseg + devppimfun_f1ct05opseg + tdvgfun_f1ct05pgercon + devppimfun_f1ct05pgercon + tejgfun_f1ct05salud + tdvgfun_f1ct05salud + devppimfun_f1ct05salud + tejgfun_f1ct05san + dfgdevpiagfun_f1ct05san + devppimfun_f1ct05san + piagfun_f1ct05trans + pimgfun_f1ct05trans + tejgfun_f1ct05trans + dfgdevpiagfun_f1ct05trans + devppimfun_f1ct05trans + devppimfun_f1ct05turi + tejgfun_f1ct05viv + tdvgfun_f1ct05viv + devppimfun_f1ct05viv + tdvgfun_f1ct06agro + devppimfun_f1ct06agro + pimgfun_f1ct06amb + devppimfun_f1ct06amb + tejgfun_f1ct06come + devppimfun_f1ct06come + piagfun_f1ct06edu + tejgfun_f1ct06edu + dfgpimpiafun_f1ct06edu + devppimfun_f1ct06edu + devppimfun_f1ct06opseg + dfgpimpiafun_f1ct06pgercon + devppimfun_f1ct06pgercon + tejgfun_f1ct06protsoc + dfgpimpiafun_f1ct06protsoc + devppimfun_f1ct06protsoc + devppimfun_f1ct06salud + devppimfun_f1ct06trans + devppimfun_f1ct06viv + piagfun_f2ct05agro + pimgfun_f2ct05agro + devppimfun_f2ct05agro + devppimfun_f2ct05amb + piagfun_f2ct05come + devppimfun_f2ct05cydep + pimgfun_f2ct05edu + devppimfun_f2ct05edu + devppimfun_f2ct05energia + devppimfun_f2ct05opseg + devppimfun_f2ct05pgercon + piagfun_f2ct05protsoc + tejgfun_f2ct05protsoc + devppimfun_f2ct05salud + piagfun_f2ct05san + pimgfun_f2ct05san + tejgfun_f2ct05san + devppimfun_f2ct05san + tejgfun_f2ct05trans + tdvgfun_f2ct05trans + devppimfun_f2ct05trans + pimgfun_f2ct05turi + devppimfun_f2ct05turi + tejgfun_f2ct05viv + tdvgfun_f2ct05viv + devppimfun_f2ct05viv + piagfun_f2ct06agro + tejgfun_f2ct06agro + devppimfun_f2ct06agro + piagfun_f2ct06amb + pimgfun_f2ct06amb + tejgfun_f2ct06amb + devppimfun_f2ct06amb + piagfun_f2ct06come + pimgfun_f2ct06come + tejgfun_f2ct06come + devppimfun_f2ct06come + tejgfun_f2ct06comunica + dfgpimpiafun_f2ct06comunica + piagfun_f2ct06cydep + tejgfun_f2ct06cydep + tdvgfun_f2ct06cydep + devppimfun_f2ct06cydep + devppimfun_f2ct06edu + piagfun_f2ct06energia + pimgfun_f2ct06energia + tdvgfun_f2ct06energia + pimgfun_f2ct06ind + devppimfun_f2ct06ind + devppimfun_f2ct06opseg + piagfun_f2ct06pgercon + pimgfun_f2ct06pgercon + tejgfun_f2ct06pgercon + devppimfun_f2ct06pgercon + piagfun_f2ct06protsoc + pimgfun_f2ct06protsoc + devppimfun_f2ct06protsoc + piagfun_f2ct06salud + pimgfun_f2ct06salud + tdvgfun_f2ct06salud + devppimfun_f2ct06salud + piagfun_f2ct06san + tdvgfun_f2ct06san + devppimfun_f2ct06san + pimgfun_f2ct06trans + devppimfun_f2ct06trans + piagfun_f2ct06turi + pimgfun_f2ct06turi + tejgfun_f2ct06turi + devppimfun_f2ct06turi + tejgfun_f2ct06viv + devppimfun_f2ct06viv + pimgfun_f3ct05ind + devppimfun_f3ct05opseg + tejgfun_f3ct05pgercon + dfgpimpiafun_f3ct05pgercon + dfgdevpiagfun_f3ct06opseg + tejgfun_f3ct06pgercon + devppimfun_f3ct06pgercon + tejgfun_f3ct06san + dfgpimpiafun_f4ct05agro + devppimfun_f4ct05agro + tejgfun_f4ct05amb + tdvgfun_f4ct05amb + devppimfun_f4ct05amb + tdvgfun_f4ct05come + dfgpimpiafun_f4ct05come + tdvgfun_f4ct05cydep + devppimfun_f4ct05cydep + devppimfun_f4ct05edu + dfgpimpiafun_f4ct05opseg + devppimfun_f4ct05opseg + tdvgfun_f4ct05pgercon + tejgfun_f4ct05protsoc + dfgdevpiagfun_f4ct05protsoc + devppimfun_f4ct05protsoc + pimgfun_f4ct05salud + tejgfun_f4ct05salud + devppimfun_f4ct05salud + dfgpimpiafun_f4ct05san + dfgpimpiafun_f4ct05trans + devppimfun_f4ct05trans + tejgfun_f4ct05turi + dfgpimpiafun_f4ct05turi + devppimfun_f4ct05turi + tdvgfun_f4ct05viv + dfgpimpiafun_f4ct05viv + devppimfun_f4ct05viv + devppimfun_f4ct06agro + tejgfun_f4ct06amb + dfgpimpiafun_f4ct06amb + dfgdevpiagfun_f4ct06come + tejgfun_f4ct06cydep + devppimfun_f4ct06cydep + tejgfun_f4ct06edu + tejgfun_f4ct06opseg + devppimfun_f4ct06opseg + piagfun_f4ct06pgercon + tdvgfun_f4ct06pgercon + devppimfun_f4ct06pgercon + tejgfun_f4ct06protsoc + devppimfun_f4ct06protsoc + devppimfun_f4ct06salud + devppimfun_f4ct06trab + devppimfun_f4ct06trans + dfgpimpiafun_f4ct06turi + dfgdevpiagfun_f4ct06turi + devppimfun_f4ct06turi + dfgpimpiafun_f4ct06viv + devppimfun_f4ct06viv + tejgfun_f5ct05agro + piagfun_f5ct05amb + tejgfun_f5ct05amb + devppimfun_f5ct05amb + piagfun_f5ct05come + tejgfun_f5ct05come + devppimfun_f5ct05comunica + piagfun_f5ct05cydep + tejgfun_f5ct05cydep + tejgfun_f5ct05edu + tdvgfun_f5ct05edu + devppimfun_f5ct05edu + tdvgfun_f5ct05energia + tejgfun_f5ct05opseg + devppimfun_f5ct05opseg + tejgfun_f5ct05prevsoc + tdvgfun_f5ct05prevsoc + tejgfun_f5ct05protsoc + tdvgfun_f5ct05protsoc + devppimfun_f5ct05protsoc + piagfun_f5ct05salud + devppimfun_f5ct05salud + piagfun_f5ct05san + devppimfun_f5ct05trab + devppimfun_f5ct05trans + tdvgfun_f5ct05turi + devppimfun_f5ct05turi + tejgfun_f5ct05viv + devppimfun_f5ct06agro + piagfun_f5ct06come + pimgfun_f5ct06come + tdvgfun_f5ct06comunica + devppimfun_f5ct06cydep + devppimfun_f5ct06opseg + tejgfun_f5ct06pgercon + devppimfun_f5ct06pgercon + devppimfun_f5ct06protsoc + tejgfun_f5ct06trab + devppimfun_f5ct06trab + piagfun_f5ct06trans + pimgfun_f5ct06turi + devppimfun_f5energia + pimgfun_f5pesca + devppimfun_f5pesca + piagfun_f5r07ct05agro + tejgfun_f5r07ct05agro + tdvgfun_f5r07ct05agro + devppimfun_f5r07ct05agro + piagfun_f5r07ct05amb + tejgfun_f5r07ct05amb + devppimfun_f5r07ct05amb + tejgfun_f5r07ct05come + tdvgfun_f5r07ct05come + devppimfun_f5r07ct05come + piagfun_f5r07ct05comunica + tejgfun_f5r07ct05comunica + devppimfun_f5r07ct05comunica + piagfun_f5r07ct05cydep + tejgfun_f5r07ct05cydep + devppimfun_f5r07ct05cydep + devppimfun_f5r07ct05dpub + pimgfun_f5r07ct05edu + tejgfun_f5r07ct05edu + devppimfun_f5r07ct05edu + tejgfun_f5r07ct05energia + tdvgfun_f5r07ct05energia + devppimfun_f5r07ct05energia + pimgfun_f5r07ct05ind + devppimfun_f5r07ct05opseg + tejgfun_f5r07ct05pgercon + piagfun_f5r07ct05protsoc + pimgfun_f5r07ct05protsoc + devppimfun_f5r07ct05protsoc + tejgfun_f5r07ct05salud + tdvgfun_f5r07ct05salud + devppimfun_f5r07ct05salud + pimgfun_f5r07ct05san + tejgfun_f5r07ct05san + devppimfun_f5r07ct05san + piagfun_f5r07ct05trans + tejgfun_f5r07ct05trans + tdvgfun_f5r07ct05trans + devppimfun_f5r07ct05trans + piagfun_f5r07ct05turi + tdvgfun_f5r07ct05turi + tejgfun_f5r07ct05viv + tdvgfun_f5r07ct05viv + devppimfun_f5r07ct05viv + tejgfun_f5r07ct06agro + devppimfun_f5r07ct06agro + piagfun_f5r07ct06amb + tejgfun_f5r07ct06amb + devppimfun_f5r07ct06amb + pimgfun_f5r07ct06come + tejgfun_f5r07ct06come + tdvgfun_f5r07ct06come + devppimfun_f5r07ct06come + devppimfun_f5r07ct06comunica + tejgfun_f5r07ct06cydep + devppimfun_f5r07ct06cydep + piagfun_f5r07ct06edu + piagfun_f5r07ct06energia + pimgfun_f5r07ct06energia + tejgfun_f5r07ct06energia + tdvgfun_f5r07ct06ind + devppimfun_f5r07ct06ind + piagfun_f5r07ct06opseg + tejgfun_f5r07ct06opseg + devppimfun_f5r07ct06opseg + tejgfun_f5r07ct06pgercon + devppimfun_f5r07ct06pgercon + dfgdevpiagfun_f5r07ct06prevsoc + piagfun_f5r07ct06protsoc + pimgfun_f5r07ct06protsoc + tejgfun_f5r07ct06protsoc + devppimfun_f5r07ct06protsoc + piagfun_f5r07ct06salud + pimgfun_f5r07ct06salud + devppimfun_f5r07ct06salud + pimgfun_f5r07ct06trab + devppimfun_f5r07ct06trab + piagfun_f5r07ct06trans + devppimfun_f5r07ct06trans + tejgfun_f5r07ct06turi + devppimfun_f5r07ct06turi + piagfun_f5r07ct06viv + devppimfun_f5r07ct06viv + pimgfun_f5r08ct05agro + devppimfun_f5r08ct05agro + tdvgfun_f5r08ct05dpub + tejgfun_f5r08ct05edu + devppimfun_f5r08ct05edu + piagfun_f5r08ct05energia + devppimfun_f5r08ct05energia + piagfun_f5r08ct05opseg + piagfun_f5r08ct05pgercon + piagfun_f5r08ct05protsoc + tejgfun_f5r08ct05salud + devppimfun_f5r08ct05salud + piagfun_f5r08ct05san + pimgfun_f5r08ct05san + tejgfun_f5r08ct05san + devppimfun_f5r08ct05san + tejgfun_f5r08ct05trab + devppimfun_f5r08ct05trans + piagfun_f5r08ct05turi + piagfun_f5r08ct05viv + piagfun_f5r08ct06agro + devppimfun_f5r08ct06agro + piagfun_f5r08ct06amb + pimgfun_f5r08ct06amb + tejgfun_f5r08ct06amb + devppimfun_f5r08ct06amb + tejgfun_f5r08ct06come + tdvgfun_f5r08ct06come + devppimfun_f5r08ct06come + piagfun_f5r08ct06comunica + pimgfun_f5r08ct06comunica + devppimfun_f5r08ct06comunica + piagfun_f5r08ct06cydep + pimgfun_f5r08ct06cydep + tejgfun_f5r08ct06cydep + devppimfun_f5r08ct06cydep + piagfun_f5r08ct06edu + devppimfun_f5r08ct06edu + piagfun_f5r08ct06energia + devppimfun_f5r08ct06energia + piagfun_f5r08ct06opseg + pimgfun_f5r08ct06opseg + devppimfun_f5r08ct06opseg + piagfun_f5r08ct06pgercon + devppimfun_f5r08ct06pgercon + piagfun_f5r08ct06protsoc + pimgfun_f5r08ct06protsoc + tejgfun_f5r08ct06protsoc + devppimfun_f5r08ct06protsoc + pimgfun_f5r08ct06salud + tejgfun_f5r08ct06salud + devppimfun_f5r08ct06salud + devppimfun_f5r08ct06san + dfgpimpiafun_f5r08ct06trab + tejgfun_f5r08ct06trans + devppimfun_f5r08ct06trans + tejgfun_f5r08ct06turi + dfgpimpiafun_f5r08ct06turi + devppimfun_f5r08ct06turi + piagfun_f5r08ct06viv + tejgfun_f5r08ct06viv + devppimfun_f5r08ct06viv + piagfun_f5r18ct05agro + devppimfun_f5r18ct05agro + tejgfun_f5r18ct05amb + tdvgfun_f5r18ct05amb + devppimfun_f5r18ct05amb + piagfun_f5r18ct05come + tejgfun_f5r18ct05come + devppimfun_f5r18ct05come + tdvgfun_f5r18ct05comunica + pimgfun_f5r18ct05cydep + devppimfun_f5r18ct05cydep + piagfun_f5r18ct05edu + tdvgfun_f5r18ct05edu + devppimfun_f5r18ct05edu + piagfun_f5r18ct05energia + tdvgfun_f5r18ct05energia + devppimfun_f5r18ct05energia + dfgpimpiafun_f5r18ct05ind + devppimfun_f5r18ct05ind + piagfun_f5r18ct05opseg + tejgfun_f5r18ct05opseg + devppimfun_f5r18ct05opseg + dfgpimpiafun_f5r18ct05pesca + devppimfun_f5r18ct05pgercon + pimgfun_f5r18ct05prevsoc + devppimfun_f5r18ct05prevsoc + piagfun_f5r18ct05protsoc + pimgfun_f5r18ct05protsoc + tejgfun_f5r18ct05protsoc + devppimfun_f5r18ct05protsoc + tejgfun_f5r18ct05salud + devppimfun_f5r18ct05salud + piagfun_f5r18ct05san + devppimfun_f5r18ct05san + devppimfun_f5r18ct05trab + piagfun_f5r18ct05trans + tejgfun_f5r18ct05trans + devppimfun_f5r18ct05trans + piagfun_f5r18ct05turi + tejgfun_f5r18ct05turi + tdvgfun_f5r18ct05turi + devppimfun_f5r18ct05turi + piagfun_f5r18ct05viv + tejgfun_f5r18ct05viv + tdvgfun_f5r18ct05viv + devppimfun_f5r18ct05viv + tejgfun_f5r18ct06agro + devppimfun_f5r18ct06amb + devppimfun_f5r18ct06come + devppimfun_f5r18ct06cydep + piagfun_f5r18ct06opseg + devppimfun_f5r18ct06opseg + piagfun_f5r18ct06pgercon + devppimfun_f5r18ct06pgercon + piagfun_f5r18ct06prevsoc + devppimfun_f5r18ct06prevsoc + tejgfun_f5r18ct06protsoc + devppimfun_f5r18ct06protsoc + devppimfun_f5r18ct06salud + dfgpimpiafun_f5r18ct06trab + devppimfun_f5r18ct06trab + devppimfun_f5r18ct06trans + tdvgfun_f5r18ct06viv + devppimfun_f5r18ct06viv + piagtotfun_f1agro + tdvgtotfun_f1agro + devppimtotfun_f1agro + devppimtotfun_f1amb + tejgtotfun_f1cydep + dfgpimpiatotfun_f1cydep + devppimtotfun_f1cydep + tejgtotfun_f1energia + devppimtotfun_f1energia + piagtotfun_f1opseg + pimgtotfun_f1opseg + tdvgtotfun_f1opseg + piagtotfun_f1prevsoc + devppimtotfun_f1prevsoc + piagtotfun_f1protsoc + piagtotfun_f1salud + pimgtotfun_f1salud + piagtotfun_f1san + tejgtotfun_f1san + tdvgtotfun_f1san + devppimtotfun_f1san + dfgdevpiagtotfun_f1trab + pimgtotfun_f1trans + tejgtotfun_f1trans + tdvgtotfun_f1turi + devppimtotfun_f1turi + pimgtotfun_f1viv + tejgtotfun_f1viv + piagtotfun_f2agro + devppimtotfun_f2agro + tejgtotfun_f2amb + devppimtotfun_f2come + pimgtotfun_f2comunica + piagtotfun_f2cydep + pimgtotfun_f2cydep + tejgtotfun_f2cydep + dfgpimpiatotfun_f2dpub + piagtotfun_f2edu + pimgtotfun_f2edu + devppimtotfun_f2edu + piagtotfun_f2energia + tejgtotfun_f2energia + devppimtotfun_f2energia + devppimtotfun_f2ind + piagtotfun_f2pgercon + tejgtotfun_f2pgercon + devppimtotfun_f2prevsoc + devppimtotfun_f2protsoc + tejgtotfun_f2salud + piagtotfun_f2san + tdvgtotfun_f2san + devppimtotfun_f2san + tejgtotfun_f2trab + devppimtotfun_f2trab + devppimtotfun_f2trans + tejgtotfun_f2turi + piagtotfun_f2viv + piagtotfun_f3agro + tejgtotfun_f3agro + dfgpimpiatotfun_f3agro + devppimtotfun_f3agro + tdvgtotfun_f3amb + devppimtotfun_f3amb + dfgpimpiatotfun_f3comunica + tejgtotfun_f3cydep + dfgpimpiatotfun_f3cydep + devppimtotfun_f3cydep + tejgtotfun_f3edu + devppimtotfun_f3edu + tejgtotfun_f3energia + dfgpimpiatotfun_f3energia + devppimtotfun_f3energia + tejgtotfun_f3opseg + dfgpimpiatotfun_f3opseg + dfgdevpiagtotfun_f3opseg + devppimtotfun_f3opseg + piagtotfun_f3pgercon + dfgpimpiatotfun_f3pgercon + devppimtotfun_f3pgercon + tejgtotfun_f3protsoc + dfgpimpiatotfun_f3protsoc + devppimtotfun_f3protsoc + tejgtotfun_f3salud + devppimtotfun_f3salud + piagtotfun_f3san + pimgtotfun_f3san + devppimtotfun_f3san + devppimtotfun_f3trab + tdvgtotfun_f3trans + devppimtotfun_f3trans + piagtotfun_f3viv + pimgtotfun_f3viv + tejgtotfun_f3viv + devppimtotfun_f3viv + tejgtotfun_f4agro + dfgpimpiatotfun_f4agro + piagtotfun_f4amb + dfgpimpiatotfun_f4amb + devppimtotfun_f4amb + devppimtotfun_f4come + dfgdevpiagtotfun_f4cydep + devppimtotfun_f4cydep + dfgdevpiagtotfun_f4edu + devppimtotfun_f4edu + tejgtotfun_f4energia + dfgpimpiatotfun_f4energia + dfgdevpiagtotfun_f4energia + devppimtotfun_f4energia + piagtotfun_f4pgercon + pimgtotfun_f4pgercon + tdvgtotfun_f4pgercon + devppimtotfun_f4pgercon + dfgpimpiatotfun_f4prevsoc + tejgtotfun_f4protsoc + piagtotfun_f4salud + pimgtotfun_f4salud + devppimtotfun_f4salud + tejgtotfun_f4san + devppimtotfun_f4san + tdvgtotfun_f4trab + devppimtotfun_f4trab + devppimtotfun_f4turi + devppimtotfun_f5agro + devppimtotfun_f5amb + tdvgtotfun_f5come + devppimtotfun_f5come + piagtotfun_f5comunica + pimgtotfun_f5comunica + devppimtotfun_f5comunica + piagtotfun_f5cydep + devppimtotfun_f5cydep + piagtotfun_f5dpub + tejgtotfun_f5dpub + tdvgtotfun_f5dpub + devppimtotfun_f5dpub + pimgtotfun_f5edu + devppimtotfun_f5edu + piagtotfun_f5ind + pimgtotfun_f5ind + tdvgtotfun_f5ind + devppimtotfun_f5ind + piagtotfun_f5opseg + tdvgtotfun_f5opseg + devppimtotfun_f5opseg + piagtotfun_f5pgercon + devppimtotfun_f5pgercon + devppimtotfun_f5prevsoc + piagtotfun_f5protsoc + pimgtotfun_f5protsoc + tejgtotfun_f5protsoc + devppimtotfun_f5protsoc + piagtotfun_f5r07agro + pimgtotfun_f5r07agro + devppimtotfun_f5r07agro + piagtotfun_f5r07comunica + pimgtotfun_f5r07comunica + piagtotfun_f5r07cydep + devppimtotfun_f5r07cydep + pimgtotfun_f5r07edu + devppimtotfun_f5r07edu + devppimtotfun_f5r07energia + pimgtotfun_f5r07ind + tejgtotfun_f5r07opseg + tdvgtotfun_f5r07opseg + piagtotfun_f5r07pesca + tejgtotfun_f5r07pesca + tdvgtotfun_f5r07pgercon + devppimtotfun_f5r07pgercon + tdvgtotfun_f5r07prevsoc + devppimtotfun_f5r07prevsoc + piagtotfun_f5r07protsoc + tejgtotfun_f5r07protsoc + tdvgtotfun_f5r07protsoc + piagtotfun_f5r07san + pimgtotfun_f5r07san + tejgtotfun_f5r07san + devppimtotfun_f5r07san + devppimtotfun_f5r07trab + piagtotfun_f5r07turi + pimgtotfun_f5r07turi + tejgtotfun_f5r07turi + tdvgtotfun_f5r07turi + devppimtotfun_f5r07turi + tejgtotfun_f5r07viv + tdvgtotfun_f5r07viv + devppimtotfun_f5r07viv + piagtotfun_f5r08agro + pimgtotfun_f5r08agro + tejgtotfun_f5r08agro + devppimtotfun_f5r08amb + devppimtotfun_f5r08cydep + tdvgtotfun_f5r08dpub + devppimtotfun_f5r08dpub + piagtotfun_f5r08edu + tdvgtotfun_f5r08edu + devppimtotfun_f5r08edu + piagtotfun_f5r08energia + pimgtotfun_f5r08energia + devppimtotfun_f5r08energia + tdvgtotfun_f5r08opseg + devppimtotfun_f5r08opseg + devppimtotfun_f5r08prevsoc + devppimtotfun_f5r08protsoc + piagtotfun_f5r08salud + pimgtotfun_f5r08san + tejgtotfun_f5r08san + tdvgtotfun_f5r08san + devppimtotfun_f5r08trab + devppimtotfun_f5r08turi + devppimtotfun_f5r08viv + devppimtotfun_f5r18agro + piagtotfun_f5r18amb + tejgtotfun_f5r18amb + devppimtotfun_f5r18amb + devppimtotfun_f5r18come + piagtotfun_f5r18cydep + tdvgtotfun_f5r18cydep + tejgtotfun_f5r18dpub + devppimtotfun_f5r18dpub + devppimtotfun_f5r18ind + tejgtotfun_f5r18opseg + devppimtotfun_f5r18opseg + devppimtotfun_f5r18pgercon + pimgtotfun_f5r18prevsoc + pimgtotfun_f5r18protsoc + devppimtotfun_f5r18protsoc + devppimtotfun_f5r18salud + devppimtotfun_f5r18trab + devppimtotfun_f5r18turi + piagtotfun_f5r18viv + devppimtotfun_f5r18viv + devppimtotfun_f5salud + devppimtotfun_f5san + piagtotfun_f5trab + pimgtotfun_f5trab + tejgtotfun_f5trab + devppimtotfun_f5trab + tejgtotfun_f5trans + devppimtotfun_f5trans + tdvgtotfun_f5turi + devppimtotfun_f5turi + piagtotfun_f5viv + tejgtotfun_f5viv + tdvgtotfun_f5viv + devppimtotfun_f5viv\"\n",
    "\n",
    "y_basic_train, model_X_basic_train = patsy.dmatrices(formula_basic, data_train, return_type='dataframe')\n",
    "y_basic_test, model_X_basic_test = patsy.dmatrices(formula_basic, data_test, return_type='dataframe')\n",
    "p_basic = model_X_basic_train.shape[ 1 ]"
   ]
  },
  {
   "cell_type": "code",
   "execution_count": null,
   "id": "31bf481a-3321-432a-8d82-32e5376ca948",
   "metadata": {
    "tags": []
   },
   "outputs": [],
   "source": [
    "model_X_basic_train"
   ]
  },
  {
   "cell_type": "markdown",
   "id": "0e50b315-7023-478c-ad5d-510be5e29456",
   "metadata": {},
   "source": [
    "#### 2.2. Generar las variables dependientes"
   ]
  },
  {
   "cell_type": "code",
   "execution_count": 17,
   "id": "36e08cbb-9c35-4782-9c5d-ee394f1fcf72",
   "metadata": {},
   "outputs": [],
   "source": [
    "Y_train = data_train[ 'monto_corrup1' ]\n",
    "Y_test = data_test[ 'monto_corrup1' ]"
   ]
  },
  {
   "cell_type": "markdown",
   "id": "9b1b2cc0-b276-4a4c-8a92-a2894e171b86",
   "metadata": {},
   "source": [
    "#### 2.3. Obtenemos el length del modelo"
   ]
  },
  {
   "cell_type": "code",
   "execution_count": 18,
   "id": "df75b2ec-7681-45ca-8e74-00987da3f892",
   "metadata": {
    "tags": []
   },
   "outputs": [
    {
     "name": "stdout",
     "output_type": "stream",
     "text": [
      "832\n"
     ]
    }
   ],
   "source": [
    "print(p_basic)"
   ]
  },
  {
   "cell_type": "markdown",
   "id": "6a02e3a5-716e-45a0-b8ff-7efd9c64ede1",
   "metadata": {},
   "source": [
    "## 3. Modelo OLS"
   ]
  },
  {
   "cell_type": "code",
   "execution_count": 19,
   "id": "12af9d8b-8756-4379-8850-a37e01f6d66d",
   "metadata": {},
   "outputs": [
    {
     "name": "stdout",
     "output_type": "stream",
     "text": [
      "The mean squared error (MSE) using the basic model is equal to 92753552386812.45 \n"
     ]
    }
   ],
   "source": [
    "# ols (basic model)\n",
    "lm_basic = sm.OLS( Y_train, model_X_basic_train )\n",
    "fit_lm_basic = lm_basic.fit()\n",
    "\n",
    "# Compute the Out-Of-Sample Performance\n",
    "yhat_lm_basic = fit_lm_basic.predict( model_X_basic_test )\n",
    "print( f'The mean squared error (MSE) using the basic model is equal to {np.mean((Y_test-yhat_lm_basic)**2)} ')   "
   ]
  },
  {
   "cell_type": "code",
   "execution_count": 20,
   "id": "bd11b145-ac61-4d2f-a410-83d7a25646db",
   "metadata": {},
   "outputs": [
    {
     "data": {
      "text/plain": [
       "Coef.       9.275355e+13\n",
       "Std.Err.    2.097473e+13\n",
       "Name: const, dtype: float64"
      ]
     },
     "execution_count": 20,
     "metadata": {},
     "output_type": "execute_result"
    }
   ],
   "source": [
    "resid_basic = ( Y_test-yhat_lm_basic )**2\n",
    "\n",
    "MSE_lm_basic = sm.OLS( resid_basic , np.ones( resid_basic.shape[0] ) ).fit().summary2().tables[1].iloc[0, 0:2]\n",
    "MSE_lm_basic"
   ]
  },
  {
   "cell_type": "code",
   "execution_count": 21,
   "id": "a6ce484c-c450-4c7c-99f9-32370b9413dc",
   "metadata": {},
   "outputs": [
    {
     "name": "stdout",
     "output_type": "stream",
     "text": [
      "The R^2 using the basic model is equal to 0.6317979624046004\n"
     ]
    }
   ],
   "source": [
    "R2_lm_basic = 1 - ( MSE_lm_basic[0]/Y_test.var() )\n",
    "print( f\"The R^2 using the basic model is equal to {R2_lm_basic}\" ) "
   ]
  },
  {
   "cell_type": "markdown",
   "id": "c12c785f-2e7e-4039-8d22-d0d4c40225d9",
   "metadata": {},
   "source": [
    "## 4. Métodos de Regularización"
   ]
  },
  {
   "cell_type": "code",
   "execution_count": 22,
   "id": "dc75f9e0-81d7-4c26-a69f-f4fed4b97bb9",
   "metadata": {},
   "outputs": [],
   "source": [
    "import hdmpy"
   ]
  },
  {
   "cell_type": "markdown",
   "id": "854ff481-1657-4375-b006-a096366d9d79",
   "metadata": {},
   "source": [
    "### 4.1. Lasso teórico"
   ]
  },
  {
   "cell_type": "code",
   "execution_count": 23,
   "id": "36acb9ac-8657-498a-becb-0899728f510c",
   "metadata": {},
   "outputs": [],
   "source": [
    "# Apply transformations\n",
    "\n",
    "fit_rlasso = hdmpy.rlasso( model_X_basic_train.to_numpy() , Y_train.to_numpy().reshape( Y_train.size , 1 ) , post = False )\n",
    "fit_rlasso_post = hdmpy.rlasso( model_X_basic_train.to_numpy() , Y_train.to_numpy().reshape( Y_train.size , 1 ) , post = True )"
   ]
  },
  {
   "cell_type": "code",
   "execution_count": 24,
   "id": "597524f6-8d5c-4649-b7ea-56082f77ac4e",
   "metadata": {},
   "outputs": [],
   "source": [
    "# Getting mean of each variable\n",
    "meanx = model_X_basic_test.mean( axis = 0 ).values.\\\n",
    "                        reshape( model_X_basic_test.shape[ 1 ] , 1 )\n",
    "\n",
    "# Reducing the mean\n",
    "new_x1 = model_X_basic_test.to_numpy() - \\\n",
    "                    (np.ones( ( model_X_basic_test.shape[ 0 ] , 1 ) ) @ meanx.T)\n",
    "\n",
    "# Getting the significant variables\n",
    "x1_est_rlasso = new_x1[ :, fit_rlasso.est['index'].iloc[:, 0].to_list()]\n",
    "\n",
    "# Getting the coef. from significant variables\n",
    "beta_rlasso = fit_rlasso.est['beta'].loc[ fit_rlasso.est['index'].\\\n",
    "                                     iloc[:, 0].to_list(), ].to_numpy()\n",
    "\n",
    "# yhat\n",
    "yhat_rlasso = (x1_est_rlasso @ beta_rlasso) + np.mean( Y_test.to_numpy() )\n",
    "residuals_rlasso = Y_test.to_numpy().reshape( Y_test.to_numpy().size, 1)  - yhat_rlasso"
   ]
  },
  {
   "cell_type": "code",
   "execution_count": 25,
   "id": "16a574e7-f113-441f-979e-7de3a95e7401",
   "metadata": {},
   "outputs": [
    {
     "name": "stdout",
     "output_type": "stream",
     "text": [
      "The R^2 using the basic model is equal to 0.012234403735778998 for lasso\n"
     ]
    }
   ],
   "source": [
    "MSE_lasso = sm.OLS( ( residuals_rlasso )**2 , np.ones( yhat_rlasso.size )  ).fit().summary2().tables[1].round(3)\n",
    "\n",
    "R2_lasso = 1 - MSE_lasso.iloc[0, 0]/ np.var( Y_test )\n",
    "\n",
    "print( f\"The R^2 using the basic model is equal to {R2_lasso} for lasso\") # R^2 lasso/post-lasso (basic model) "
   ]
  },
  {
   "cell_type": "markdown",
   "id": "7c2a2285-34ef-4fe8-8a72-ccb805a8e338",
   "metadata": {},
   "source": [
    "### 4.2 Lasso, Ridge y Elastic Net con Cross Validation"
   ]
  },
  {
   "cell_type": "code",
   "execution_count": null,
   "id": "b3f1ebe1-f541-4bcd-97fb-23327f81dcac",
   "metadata": {},
   "outputs": [],
   "source": [
    "from sklearn.linear_model import LassoCV\n",
    "from sklearn.preprocessing import StandardScaler\n",
    "from sklearn.linear_model import RidgeCV, ElasticNetCV\n",
    "import statsmodels.api as sm"
   ]
  },
  {
   "cell_type": "code",
   "execution_count": null,
   "id": "17868271-4e91-45f4-83be-e6a8fb4d335d",
   "metadata": {},
   "outputs": [],
   "source": [
    "%%time\n",
    "\n",
    "# Reshaping Y variable\n",
    "Y_vec = Y_train.to_numpy().reshape( Y_train.to_numpy().size, 1)\n",
    "\n",
    "# Scalar distribution\n",
    "scaler = StandardScaler()\n",
    "scaler.fit( Y_vec )\n",
    "std_Y = scaler.transform( Y_vec )\n",
    "\n",
    "# Regressions\n",
    "fit_lasso_cv_basic = LassoCV(cv = 10 , random_state = 0 , normalize = True ).fit( model_X_basic_train, std_Y )\n",
    "fit_ridge_basic = ElasticNetCV( cv = 10 , normalize = True , random_state = 0 , l1_ratio = 0.0001 ).fit( model_X_basic_train , std_Y )\n",
    "fit_elnet_basic = ElasticNetCV( cv = 10 , normalize = True , random_state = 0 , l1_ratio = 0.5, max_iter = 100000 ).fit( model_X_basic_train , std_Y )\n",
    "\n",
    "# Predictions\n",
    "yhat_lasso_cv_basic = scaler.inverse_transform( fit_lasso_cv_basic.predict( model_X_basic_test ).reshape(-1,1) )\n",
    "yhat_ridge_basic = scaler.inverse_transform( fit_ridge_basic.predict( model_X_basic_test ).reshape(-1,1) )\n",
    "yhat_elnet_basic = scaler.inverse_transform( fit_elnet_basic.predict( model_X_basic_test ).reshape(-1,1) )"
   ]
  },
  {
   "cell_type": "code",
   "execution_count": null,
   "id": "59088203-32a3-46df-adbb-03228e9a3981",
   "metadata": {},
   "outputs": [],
   "source": [
    "MSE_lasso_cv_basic = sm.OLS( ((Y_test.to_numpy().reshape(-1,1) - yhat_lasso_cv_basic)**2 ) , np.ones( yhat_lasso_cv_basic.shape )  ).fit().summary2().tables[1].round(3)\n",
    "MSE_ridge_basic = sm.OLS( ((Y_test.to_numpy().reshape(-1,1) - yhat_ridge_basic)**2 ) , np.ones( yhat_ridge_basic.size )  ).fit().summary2().tables[1].round(3)\n",
    "MSE_elnet_basic = sm.OLS( ((Y_test.to_numpy().reshape(-1,1) - yhat_elnet_basic)**2 ) , np.ones( yhat_elnet_basic.size )  ).fit().summary2().tables[1].round(3)\n",
    "# our coefficient of MSE_elnet are far from r output"
   ]
  },
  {
   "cell_type": "code",
   "execution_count": null,
   "id": "a304456b-f025-4db2-889f-0cc7c910cc9a",
   "metadata": {},
   "outputs": [],
   "source": [
    "R2_lasso_cv_basic = 1- MSE_ridge_basic.iloc[0,0] / np.var( Y_test )\n",
    "R2_ridge_basic = 1- MSE_lasso_cv_basic.iloc[0,0] / np.var( Y_test )\n",
    "R2_elnet_basic = 1- MSE_elnet_basic.iloc[0,0] / np.var( Y_test )"
   ]
  },
  {
   "cell_type": "markdown",
   "id": "861cbed8-1a34-44aa-a7bc-fee01524fe92",
   "metadata": {},
   "source": [
    "## 5. Random Forest Regressor"
   ]
  },
  {
   "cell_type": "code",
   "execution_count": null,
   "id": "9982b5b0-4ba9-470f-bf66-0e778d869804",
   "metadata": {},
   "outputs": [],
   "source": [
    "from sklearn.ensemble import RandomForestRegressor\n",
    "from sklearn.metrics import r2_score, mean_squared_error, accuracy_score\n",
    "from sklearn.model_selection import RandomizedSearchCV\n",
    "from sklearn.model_selection import GridSearchCV, train_test_split"
   ]
  },
  {
   "cell_type": "code",
   "execution_count": null,
   "id": "9b2420ee-d4a3-49d5-b5c0-beff9a2c17c2",
   "metadata": {
    "tags": []
   },
   "outputs": [],
   "source": [
    "path = r'..\\..\\output\\data_preprocess\\dfs_0_i_mci.csv'\n",
    "data = pd.read_csv( path )"
   ]
  },
  {
   "cell_type": "code",
   "execution_count": null,
   "id": "78ecc511-ae59-47d1-a9c4-bd531675f31c",
   "metadata": {},
   "outputs": [],
   "source": [
    "data = data.drop( [ 'monto_examinado', 'monto_objeto_servicio', 'corrup_intensa', \n",
    "                    'corrup_amplia', 'per_corrup1', 'per_corrup2' ], \n",
    "                  axis = 1 )"
   ]
  },
  {
   "cell_type": "code",
   "execution_count": null,
   "id": "5bc00fdb-9852-40aa-b6f2-39adf9258339",
   "metadata": {},
   "outputs": [],
   "source": [
    "# Borrar aquellas filas en las que la variable dependiente tenga missing\n",
    "data = data.dropna( axis = 0, subset = [ 'monto_corrup1' ] )"
   ]
  },
  {
   "cell_type": "code",
   "execution_count": null,
   "id": "1fad92ee-418d-4353-b784-b29735e7d0c1",
   "metadata": {},
   "outputs": [],
   "source": [
    "data = data.dropna( axis = 1 )"
   ]
  },
  {
   "cell_type": "code",
   "execution_count": null,
   "id": "01dbbfb9-cab3-473b-b9da-6f1f5adbb6d0",
   "metadata": {},
   "outputs": [],
   "source": [
    "data.isnull().sum().sum()"
   ]
  },
  {
   "cell_type": "code",
   "execution_count": null,
   "id": "c6d9ebda-88ab-4a55-963f-272b55882abd",
   "metadata": {},
   "outputs": [],
   "source": [
    "x_train, x_test, y_train, y_test = train_test_split(data, data['monto_corrup1'], test_size = 0.3)"
   ]
  },
  {
   "cell_type": "code",
   "execution_count": null,
   "id": "2d1b5443-f42e-4d15-ae53-d61b86e37843",
   "metadata": {},
   "outputs": [],
   "source": [
    "%%time\n",
    "\n",
    "rf = RandomForestRegressor(random_state=0, n_jobs=5)\n",
    "\n",
    "# Parameters \n",
    "params = {\n",
    "    'n_estimators': [300, 200, 100, 50],\n",
    "    'min_samples_split': [400, 200],\n",
    "    'min_samples_leaf': [50],\n",
    "    'criterion': ['squared_error']}\n",
    "\n",
    "\n",
    "fgrid_search_cv = GridSearchCV(estimator = rf, \n",
    "                          param_grid = params, \n",
    "                          cv= 5,\n",
    "                          scoring= 'r2',\n",
    "                          return_train_score=True,\n",
    "                          n_jobs = 5, \n",
    "                          verbose = 10)\n",
    "\n",
    "fgrid_model_result = fgrid_search_cv.fit(x_train, y_train) \n",
    "print(fgrid_model_result.best_params_)\n",
    "print(fgrid_model_result.best_score_)"
   ]
  },
  {
   "cell_type": "code",
   "execution_count": null,
   "id": "d8db7715-3318-4918-9b56-f9bd68996561",
   "metadata": {},
   "outputs": [],
   "source": [
    "# Mostrar los mejores parametros\n",
    "fgrid_model_result.best_params_"
   ]
  },
  {
   "cell_type": "code",
   "execution_count": null,
   "id": "99a39725-0fcd-4fda-bbe9-422ed84f7e7e",
   "metadata": {},
   "outputs": [],
   "source": [
    "# Entrenar el modelo optimo\n",
    "modelo_optimo = RandomForestRegressor( n_estimators = 300, \n",
    "                                       min_samples_split = 400, \n",
    "                                       min_samples_leaf = 50, \n",
    "                                       criterion = 'squared_error' )\n",
    "modelo_optimo.fit(x_train, y_train)\n",
    "y_pred = modelo_optimo.predict(x_test)"
   ]
  },
  {
   "cell_type": "code",
   "execution_count": null,
   "id": "bc26303b-0009-4cf4-88bb-373c47aea1ab",
   "metadata": {},
   "outputs": [],
   "source": [
    "MSE_random_forest = mean_squared_error(y_test, y_pred)\n",
    "R2_random_forest = r2_score(y_test, y_pred)"
   ]
  },
  {
   "cell_type": "markdown",
   "id": "368d015c-aa0a-4ce7-886a-04b31cb0765e",
   "metadata": {},
   "source": [
    "## 6. XGboost"
   ]
  },
  {
   "cell_type": "code",
   "execution_count": null,
   "id": "c76d4253-200a-4926-a2a1-e4e4734694ef",
   "metadata": {},
   "outputs": [],
   "source": [
    "from xgboost import XGBRegressor"
   ]
  },
  {
   "cell_type": "code",
   "execution_count": null,
   "id": "987b6ae4-20b9-453e-93dc-f33448d93acd",
   "metadata": {
    "tags": []
   },
   "outputs": [],
   "source": [
    "%%time\n",
    "\n",
    "xgb = XGBRegressor()\n",
    "\n",
    "params = {\n",
    "      'n_estimators': [300, 200, 100],\n",
    "      'learning_rate': [1],\n",
    "      'max_depth': [5],\n",
    "      'reg':['squarederror']\n",
    "}\n",
    "\n",
    "xgb_grid_search_cv = GridSearchCV(estimator = xgb, \n",
    "                          param_grid = params, \n",
    "                          cv= 5,\n",
    "                          scoring= 'r2',\n",
    "                          return_train_score=True,\n",
    "                          n_jobs = 5, \n",
    "                          verbose = 10)\n",
    "\n",
    "xgrid_model_result = xgb_grid_search_cv.fit(x_train, y_train) \n",
    "print(xgrid_model_result.best_params_)\n",
    "print(xgrid_model_result.best_score_)"
   ]
  },
  {
   "cell_type": "code",
   "execution_count": null,
   "id": "0627057e-05a6-4ebd-bf8d-b153bcefbdc8",
   "metadata": {},
   "outputs": [],
   "source": [
    "# Mostrar los mejores parametros\n",
    "xgrid_model_result.best_params_"
   ]
  },
  {
   "cell_type": "code",
   "execution_count": null,
   "id": "57381efa-0d6c-4b68-8f06-9f14d17fa3a7",
   "metadata": {
    "tags": []
   },
   "outputs": [],
   "source": [
    "# Entrenar el modelo optimo\n",
    "xgb_modelo_optimo = XGBRegressor( learning_rate = 1, \n",
    "                                       max_depth = 5, \n",
    "                                       n_estimators = 100, \n",
    "                                       reg = 'squared_error' )\n",
    "xgb_modelo_optimo.fit(x_train, y_train)\n",
    "y_pred = xgb_modelo_optimo.predict(x_test)"
   ]
  },
  {
   "cell_type": "code",
   "execution_count": null,
   "id": "16b439a3-5886-4f3d-8a13-13c81b0e1ae5",
   "metadata": {},
   "outputs": [],
   "source": [
    "MSE_xgboost = mean_squared_error(y_test, y_pred)\n",
    "R2_xgboost = r2_score(y_test, y_pred)"
   ]
  },
  {
   "cell_type": "code",
   "execution_count": null,
   "id": "0c93671e-e824-412f-b671-2a867ff60e67",
   "metadata": {},
   "outputs": [],
   "source": [
    "R2_xgboost"
   ]
  },
  {
   "cell_type": "markdown",
   "id": "f2f5b8e1-42a4-4795-8a25-27a16d525b85",
   "metadata": {},
   "source": [
    "## 7. Resultados"
   ]
  },
  {
   "cell_type": "code",
   "execution_count": null,
   "id": "087d25fd-ebe1-420e-922b-b980ecebf160",
   "metadata": {},
   "outputs": [],
   "source": [
    "table = np.zeros( (7, 3) )"
   ]
  },
  {
   "cell_type": "code",
   "execution_count": null,
   "id": "93306717-4aa0-47df-94bd-bca806cc40cd",
   "metadata": {},
   "outputs": [],
   "source": [
    "table[0,0:2]   = MSE_lm_basic\n",
    "table[1,0:2]   = MSE_lasso.iloc[0, [0, 1]]\n",
    "table[2,0:2]   = MSE_lasso_cv_basic.iloc[0, [0, 1]]\n",
    "table[3,0:2]   = MSE_ridge_basic.iloc[0, [0, 1]]\n",
    "table[4,0:2]   = MSE_elnet_basic.iloc[0, [0, 1]]\n",
    "table[5,0]   = MSE_random_forest\n",
    "table[6,0]   = MSE_xgboost"
   ]
  },
  {
   "cell_type": "code",
   "execution_count": null,
   "id": "135944b4-e019-4183-9f6f-8691d8affcf8",
   "metadata": {},
   "outputs": [],
   "source": [
    "table[0,2]   = R2_lm_basic\n",
    "table[1,2]   = R2_lasso\n",
    "table[2,2]   = R2_lasso_cv_basic\n",
    "table[3,2]   = R2_ridge_basic\n",
    "table[4,2]   = R2_elnet_basic\n",
    "table[5,2]   = R2_random_forest\n",
    "table[6,2]   = R2_xgboost"
   ]
  },
  {
   "cell_type": "code",
   "execution_count": null,
   "id": "9655a166-f5a5-41f3-8ac3-20cee74e88ba",
   "metadata": {},
   "outputs": [],
   "source": [
    "colnames_table= [\"MSE\", \"S_E_ for MSE\", \"R-squared\"]\n",
    "rownames_table= [\"Least Squares (basic)\", \"Lasso\",  \"Cross-Validated lasso\", \n",
    "                 \"Cross-Validated ridge\",\"Cross-Validated elnet\", \"Random Forest\",\n",
    "                 \"XGBoost\"]\n",
    "\n",
    "table_pandas = pd.DataFrame( table, columns = colnames_table )\n",
    "table_pandas.index = rownames_table\n",
    "\n",
    "table_pandas = table_pandas.round(3)\n",
    "table_pandas"
   ]
  },
  {
   "cell_type": "code",
   "execution_count": null,
   "id": "2bd81550-d886-4ff2-a143-11c027dc7530",
   "metadata": {},
   "outputs": [],
   "source": []
  },
  {
   "cell_type": "code",
   "execution_count": null,
   "id": "010213fd-587e-4491-888c-600c8c39a9fe",
   "metadata": {},
   "outputs": [],
   "source": []
  },
  {
   "cell_type": "code",
   "execution_count": null,
   "id": "d345f293-2587-4a15-aa75-6ad8a4fe470f",
   "metadata": {},
   "outputs": [],
   "source": []
  },
  {
   "cell_type": "code",
   "execution_count": null,
   "id": "2b9e6915-dae8-41df-9726-645c0b077a26",
   "metadata": {},
   "outputs": [],
   "source": []
  },
  {
   "cell_type": "code",
   "execution_count": null,
   "id": "a61e16c9-7eab-4fb0-bc7d-861fb0fa9035",
   "metadata": {},
   "outputs": [],
   "source": []
  },
  {
   "cell_type": "code",
   "execution_count": null,
   "id": "e94080a2-5a51-4f65-87ea-2bf36e846aed",
   "metadata": {},
   "outputs": [],
   "source": []
  },
  {
   "cell_type": "code",
   "execution_count": null,
   "id": "fbbd5682-e3fe-4426-9202-fa44d565f7b0",
   "metadata": {},
   "outputs": [],
   "source": []
  },
  {
   "cell_type": "code",
   "execution_count": null,
   "id": "3d062bf1-a603-4719-952e-4936a8f9207a",
   "metadata": {},
   "outputs": [],
   "source": []
  },
  {
   "cell_type": "markdown",
   "id": "f2e64895-a6de-4951-a070-085d45349cb3",
   "metadata": {},
   "source": [
    "Apuntes:\n",
    "\n",
    "* Para definir los modelos patsy, estos borran por default la data missing. Para evitar este comportamiento se adiciona el parámetro: NA_action=patsy.NAAction(NA_types=[])\n",
    "https://stackoverflow.com/questions/51640071/stop-patsy-dmatrix-from-dropping-nan-rows\n",
    "\n",
    "\n",
    "* Para correr con missing values los modelos OLS, se adiciona el parámetro: missing='drop'\n",
    "\n",
    "* Si ponemos los dos ajustes, el modelo OLS si corre. \n",
    "\n",
    "* Este error \"zero-size array to reduction operation maximum which has no identity\" ocurre porque cuando tenemos demasiados missings, la dataframe se queda sin columnas, pues todas tienen al menos un missing. https://stackoverflow.com/questions/45545774/multiple-ols-regression-with-statsmodel-valueerror-zero-size-array-to-reduction\n",
    "\n",
    "* Directriz: quedarse solo con SIAF para los modelos del Jupyter Notebook, y considerar SIAF y Renamu para el árbol"
   ]
  }
 ],
 "metadata": {
  "kernelspec": {
   "display_name": "Python 3 (ipykernel)",
   "language": "python",
   "name": "python3"
  },
  "language_info": {
   "codemirror_mode": {
    "name": "ipython",
    "version": 3
   },
   "file_extension": ".py",
   "mimetype": "text/x-python",
   "name": "python",
   "nbconvert_exporter": "python",
   "pygments_lexer": "ipython3",
   "version": "3.9.13"
  }
 },
 "nbformat": 4,
 "nbformat_minor": 5
}
