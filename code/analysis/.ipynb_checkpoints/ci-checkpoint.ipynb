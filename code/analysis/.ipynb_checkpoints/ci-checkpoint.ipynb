{
 "cells": [
  {
   "cell_type": "markdown",
   "id": "fa83588d-21c5-482b-9a30-93fb486073ae",
   "metadata": {},
   "source": [
    "## 1. Data"
   ]
  },
  {
   "cell_type": "code",
   "execution_count": 29,
   "id": "bd7f2b1f-13c4-44b1-ae99-21e610fbf6ef",
   "metadata": {},
   "outputs": [],
   "source": [
    "import pandas as pd\n",
    "import numpy as np\n",
    "from sklearn.ensemble import RandomForestClassifier\n",
    "from sklearn.metrics import r2_score\n",
    "from sklearn.model_selection import RandomizedSearchCV\n",
    "from sklearn.model_selection import GridSearchCV, train_test_split"
   ]
  },
  {
   "cell_type": "code",
   "execution_count": 30,
   "id": "d031ebd0-f647-4e9f-be1d-5ee2284b029d",
   "metadata": {},
   "outputs": [],
   "source": [
    "# Cargar datos\n",
    "path = r'..\\..\\output\\data_preprocess\\dfs_0_i_ci.csv'\n",
    "data = pd.read_csv( path )"
   ]
  },
  {
   "cell_type": "code",
   "execution_count": 31,
   "id": "67b9f0df-1530-4ec4-b283-2fc591d66a0e",
   "metadata": {},
   "outputs": [],
   "source": [
    "# Borrar otras predictoras\n",
    "data = data.drop( [ 'monto_examinado', 'monto_objeto_servicio', 'monto_corrup1', \n",
    "                    'corrup_amplia', 'per_corrup1', 'per_corrup2' ], \n",
    "                axis = 1 )"
   ]
  },
  {
   "cell_type": "code",
   "execution_count": 32,
   "id": "ac7cd645-9230-4a95-8507-84207f7b06bd",
   "metadata": {},
   "outputs": [],
   "source": [
    "# Borrar columnas con missing\n",
    "data = data.dropna( axis = 1 )"
   ]
  },
  {
   "cell_type": "markdown",
   "id": "df796fff-eadc-4c69-b7fa-6853601b39d6",
   "metadata": {},
   "source": [
    "## 2. Random Forest"
   ]
  },
  {
   "cell_type": "code",
   "execution_count": 69,
   "id": "339e91e6-3c2d-4e4a-b5bf-890898dc71b2",
   "metadata": {},
   "outputs": [],
   "source": [
    "from sklearn.ensemble import RandomForestClassifier\n",
    "from sklearn.metrics import accuracy_score, confusion_matrix, log_loss\n",
    "from sklearn.model_selection import RandomizedSearchCV\n",
    "from sklearn.model_selection import GridSearchCV, train_test_split"
   ]
  },
  {
   "cell_type": "code",
   "execution_count": 51,
   "id": "42e8bb05-114a-4ae9-a412-9a0fe9a1dce0",
   "metadata": {},
   "outputs": [],
   "source": [
    "dep_var = ['corrup_intensa']\n",
    "pred_vars = [col for col in data.columns if col not in dep_var]"
   ]
  },
  {
   "cell_type": "code",
   "execution_count": 98,
   "id": "af755156-3df6-4a8c-a2fc-631b8d10f67d",
   "metadata": {},
   "outputs": [],
   "source": [
    "# Split\n",
    "x_train, x_test, y_train, y_test = train_test_split(data[pred_vars], data['corrup_intensa'], test_size = 0.3)"
   ]
  },
  {
   "cell_type": "code",
   "execution_count": 92,
   "id": "c15fc3cc-88e8-4ab4-81b9-b425da97bc32",
   "metadata": {},
   "outputs": [
    {
     "name": "stdout",
     "output_type": "stream",
     "text": [
      "Fitting 5 folds for each of 144 candidates, totalling 720 fits\n",
      "{'criterion': 'gini', 'max_depth': 7, 'max_features': 'auto', 'n_estimators': 200}\n",
      "0.7017439082656474\n",
      "Wall time: 1min 13s\n"
     ]
    }
   ],
   "source": [
    "%%time\n",
    "\n",
    "model = RandomForestClassifier()\n",
    "param_grid = { \n",
    "    'n_estimators': [50, 100, 200, 300],\n",
    "    'max_features': ['auto', 'sqrt', 'log2'],\n",
    "    'max_depth' : [2,3,4,5,6,7],\n",
    "    'criterion' :['gini', 'entropy']\n",
    "}\n",
    "\n",
    "search = GridSearchCV(estimator=model,\n",
    "                      param_grid=param_grid,\n",
    "                      cv= 5,\n",
    "                      n_jobs = 5,\n",
    "                      verbose = 10)\n",
    "search.fit(x_train, y_train)\n",
    "print(search.best_params_)\n",
    "print(search.best_score_)"
   ]
  },
  {
   "cell_type": "code",
   "execution_count": 93,
   "id": "930ece65-9f2c-41be-bb12-738187dec3a7",
   "metadata": {},
   "outputs": [
    {
     "data": {
      "text/plain": [
       "{'criterion': 'gini',\n",
       " 'max_depth': 7,\n",
       " 'max_features': 'auto',\n",
       " 'n_estimators': 200}"
      ]
     },
     "execution_count": 93,
     "metadata": {},
     "output_type": "execute_result"
    }
   ],
   "source": [
    "# Mostrar los mejores parametros\n",
    "search.best_params_"
   ]
  },
  {
   "cell_type": "code",
   "execution_count": 94,
   "id": "ec1bb0fc-09d4-455e-915b-1d8b9163275b",
   "metadata": {},
   "outputs": [
    {
     "data": {
      "text/plain": [
       "RandomForestClassifier(max_depth=7, n_estimators=200)"
      ]
     },
     "execution_count": 94,
     "metadata": {},
     "output_type": "execute_result"
    }
   ],
   "source": [
    "# Entrenar el modelo optimo\n",
    "modelo_optimo = RandomForestClassifier(max_features='auto', \n",
    "                                       n_estimators= 200, \n",
    "                                       max_depth = 7, \n",
    "                                       criterion = 'gini')\n",
    "modelo_optimo.fit(x_train, y_train)"
   ]
  },
  {
   "cell_type": "code",
   "execution_count": 95,
   "id": "3308c911-ede0-4ff3-b64d-ac4c07526717",
   "metadata": {},
   "outputs": [],
   "source": [
    "# Conjunto de prueba\n",
    "y_pred = modelo_optimo.predict(x_test)"
   ]
  },
  {
   "cell_type": "code",
   "execution_count": 96,
   "id": "125bd0fd-c5bf-4af3-b4b1-84db8ca31d8c",
   "metadata": {},
   "outputs": [],
   "source": [
    "# Guardar indicadores\n",
    "accuracy_random_forest = accuracy_score(y_test, y_pred)\n",
    "log_loss_random_forest = log_loss(y_test, y_pred)"
   ]
  },
  {
   "cell_type": "code",
   "execution_count": 66,
   "id": "f5e519c6-b78a-4fed-a231-fa3091d1fa46",
   "metadata": {
    "collapsed": true,
    "jupyter": {
     "outputs_hidden": true
    },
    "tags": []
   },
   "outputs": [
    {
     "data": {
      "text/html": [
       "<div>\n",
       "<style scoped>\n",
       "    .dataframe tbody tr th:only-of-type {\n",
       "        vertical-align: middle;\n",
       "    }\n",
       "\n",
       "    .dataframe tbody tr th {\n",
       "        vertical-align: top;\n",
       "    }\n",
       "\n",
       "    .dataframe thead th {\n",
       "        text-align: right;\n",
       "    }\n",
       "</style>\n",
       "<table border=\"1\" class=\"dataframe\">\n",
       "  <thead>\n",
       "    <tr style=\"text-align: right;\">\n",
       "      <th></th>\n",
       "      <th>0</th>\n",
       "    </tr>\n",
       "  </thead>\n",
       "  <tbody>\n",
       "    <tr>\n",
       "      <th>tejgtotfun_f2opseg</th>\n",
       "      <td>0.012644</td>\n",
       "    </tr>\n",
       "    <tr>\n",
       "      <th>piagtotfun_f1pgercon</th>\n",
       "      <td>0.010858</td>\n",
       "    </tr>\n",
       "    <tr>\n",
       "      <th>devppimge_r08ct05pobso</th>\n",
       "      <td>0.009835</td>\n",
       "    </tr>\n",
       "    <tr>\n",
       "      <th>tejgfun_ct05protsoc</th>\n",
       "      <td>0.008795</td>\n",
       "    </tr>\n",
       "    <tr>\n",
       "      <th>tejgtotfun_f5viv</th>\n",
       "      <td>0.008768</td>\n",
       "    </tr>\n",
       "    <tr>\n",
       "      <th>...</th>\n",
       "      <td>...</td>\n",
       "    </tr>\n",
       "    <tr>\n",
       "      <th>tdvgfun_f3ct05pgercon</th>\n",
       "      <td>0.000000</td>\n",
       "    </tr>\n",
       "    <tr>\n",
       "      <th>tejgfun_f3ct05pgercon</th>\n",
       "      <td>0.000000</td>\n",
       "    </tr>\n",
       "    <tr>\n",
       "      <th>devppimfun_f3ct05opseg</th>\n",
       "      <td>0.000000</td>\n",
       "    </tr>\n",
       "    <tr>\n",
       "      <th>dfgpimpiatotfun_f2trab</th>\n",
       "      <td>0.000000</td>\n",
       "    </tr>\n",
       "    <tr>\n",
       "      <th>piagfun_f5r07ct06ind</th>\n",
       "      <td>0.000000</td>\n",
       "    </tr>\n",
       "  </tbody>\n",
       "</table>\n",
       "<p>828 rows × 1 columns</p>\n",
       "</div>"
      ],
      "text/plain": [
       "                               0\n",
       "tejgtotfun_f2opseg      0.012644\n",
       "piagtotfun_f1pgercon    0.010858\n",
       "devppimge_r08ct05pobso  0.009835\n",
       "tejgfun_ct05protsoc     0.008795\n",
       "tejgtotfun_f5viv        0.008768\n",
       "...                          ...\n",
       "tdvgfun_f3ct05pgercon   0.000000\n",
       "tejgfun_f3ct05pgercon   0.000000\n",
       "devppimfun_f3ct05opseg  0.000000\n",
       "dfgpimpiatotfun_f2trab  0.000000\n",
       "piagfun_f5r07ct06ind    0.000000\n",
       "\n",
       "[828 rows x 1 columns]"
      ]
     },
     "execution_count": 66,
     "metadata": {},
     "output_type": "execute_result"
    }
   ],
   "source": [
    "# Ver las variables que más contribuyen\n",
    "\n",
    "#pd.DataFrame(modelo_optimo.feature_importances_, index=x_train.columns).sort_values(by=0, ascending=False)"
   ]
  },
  {
   "cell_type": "markdown",
   "id": "57005a75-26df-49db-a710-b3852b88ba9f",
   "metadata": {},
   "source": [
    "## 3. XGBoost"
   ]
  },
  {
   "cell_type": "code",
   "execution_count": 73,
   "id": "17f4e33e-7a5f-4d82-9953-46c26de58a6c",
   "metadata": {},
   "outputs": [],
   "source": [
    "from xgboost import XGBClassifier"
   ]
  },
  {
   "cell_type": "code",
   "execution_count": 99,
   "id": "513e5639-b282-40c7-b8ad-e65bbfc9a304",
   "metadata": {
    "collapsed": true,
    "jupyter": {
     "outputs_hidden": true
    },
    "tags": []
   },
   "outputs": [
    {
     "name": "stdout",
     "output_type": "stream",
     "text": [
      "Fitting 5 folds for each of 9 candidates, totalling 45 fits\n"
     ]
    },
    {
     "name": "stderr",
     "output_type": "stream",
     "text": [
      "C:\\Anaconda\\lib\\site-packages\\xgboost\\data.py:262: FutureWarning: pandas.Int64Index is deprecated and will be removed from pandas in a future version. Use pandas.Index with the appropriate dtype instead.\n",
      "  elif isinstance(data.columns, (pd.Int64Index, pd.RangeIndex)):\n"
     ]
    },
    {
     "name": "stdout",
     "output_type": "stream",
     "text": [
      "[23:38:51] WARNING: C:\\Users\\dev-admin\\croot\\xgboost-split_1675120659361\\work\\src\\learner.cc:576: \n",
      "Parameters: { \"binary\" } might not be used.\n",
      "\n",
      "  This could be a false alarm, with some parameters getting used by language bindings but\n",
      "  then being mistakenly passed down to XGBoost core, or some parameter actually being used\n",
      "  but getting flagged wrongly here. Please open an issue if you find any such cases.\n",
      "\n",
      "\n",
      "[23:38:51] WARNING: C:\\Users\\dev-admin\\croot\\xgboost-split_1675120659361\\work\\src\\learner.cc:1115: Starting in XGBoost 1.3.0, the default evaluation metric used with the objective 'binary:logistic' was changed from 'error' to 'logloss'. Explicitly set eval_metric if you'd like to restore the old behavior.\n",
      "{'binary': 'logistic', 'learning_rate': 0.1, 'max_depth': 5, 'n_estimators': 300}\n",
      "0.5960144544332804\n",
      "Wall time: 33 s\n"
     ]
    }
   ],
   "source": [
    "%%time\n",
    "\n",
    "xgb = XGBClassifier(use_label_encoder=False)\n",
    "\n",
    "params = {\n",
    "      'n_estimators': [300, 200, 100],\n",
    "      'learning_rate': [0.1, 0.5, 1],\n",
    "      'max_depth': [5],\n",
    "      'binary':['logistic']\n",
    "}\n",
    "\n",
    "xgb_grid_search_cv = GridSearchCV(estimator = xgb, \n",
    "                          param_grid = params, \n",
    "                          cv= 5,\n",
    "                          n_jobs = 5,\n",
    "                          scoring = 'roc_auc',\n",
    "                          verbose = 10)\n",
    "\n",
    "xgrid_model_result = xgb_grid_search_cv.fit(x_train, y_train) \n",
    "print(xgrid_model_result.best_params_)\n",
    "print(xgrid_model_result.best_score_)"
   ]
  },
  {
   "cell_type": "code",
   "execution_count": 100,
   "id": "12cebf72-b29e-4fa0-944a-a7278d1a5a33",
   "metadata": {},
   "outputs": [
    {
     "data": {
      "text/plain": [
       "{'binary': 'logistic',\n",
       " 'learning_rate': 0.1,\n",
       " 'max_depth': 5,\n",
       " 'n_estimators': 300}"
      ]
     },
     "execution_count": 100,
     "metadata": {},
     "output_type": "execute_result"
    }
   ],
   "source": [
    "# Mostrar los mejores parametros\n",
    "xgrid_model_result.best_params_"
   ]
  },
  {
   "cell_type": "code",
   "execution_count": 101,
   "id": "efe7df67-7df5-4264-bccb-baee3357dd0f",
   "metadata": {
    "collapsed": true,
    "jupyter": {
     "outputs_hidden": true
    },
    "tags": []
   },
   "outputs": [
    {
     "name": "stderr",
     "output_type": "stream",
     "text": [
      "C:\\Anaconda\\lib\\site-packages\\xgboost\\sklearn.py:1224: UserWarning: The use of label encoder in XGBClassifier is deprecated and will be removed in a future release. To remove this warning, do the following: 1) Pass option use_label_encoder=False when constructing XGBClassifier object; and 2) Encode your labels (y) as integers starting with 0, i.e. 0, 1, 2, ..., [num_class - 1].\n",
      "  warnings.warn(label_encoder_deprecation_msg, UserWarning)\n"
     ]
    },
    {
     "name": "stdout",
     "output_type": "stream",
     "text": [
      "[23:39:13] WARNING: C:\\Users\\dev-admin\\croot\\xgboost-split_1675120659361\\work\\src\\learner.cc:1115: Starting in XGBoost 1.3.0, the default evaluation metric used with the objective 'binary:logistic' was changed from 'error' to 'logloss'. Explicitly set eval_metric if you'd like to restore the old behavior.\n"
     ]
    },
    {
     "data": {
      "text/plain": [
       "XGBClassifier(base_score=0.5, booster='gbtree', colsample_bylevel=1,\n",
       "              colsample_bynode=1, colsample_bytree=1, enable_categorical=False,\n",
       "              gamma=0, gpu_id=-1, importance_type=None,\n",
       "              interaction_constraints='', learning_rate=0.1, max_delta_step=0,\n",
       "              max_depth=5, min_child_weight=1, missing=nan,\n",
       "              monotone_constraints='()', n_estimators=200, n_jobs=8,\n",
       "              num_parallel_tree=1, predictor='auto', random_state=0,\n",
       "              reg_alpha=0, reg_lambda=1, scale_pos_weight=1, subsample=1,\n",
       "              tree_method='exact', validate_parameters=1, verbosity=None)"
      ]
     },
     "execution_count": 101,
     "metadata": {},
     "output_type": "execute_result"
    }
   ],
   "source": [
    "# Entrenar el modelo optimo\n",
    "xgb_modelo_optimo = XGBClassifier(objective= 'binary:logistic', \n",
    "                                  learning_rate = 0.1, \n",
    "                                  max_depth = 5, \n",
    "                                  n_estimators = 200)\n",
    "xgb_modelo_optimo.fit(x_train, y_train)"
   ]
  },
  {
   "cell_type": "code",
   "execution_count": 102,
   "id": "5598dd51-c3fc-4061-be9e-8cf5d1506f34",
   "metadata": {},
   "outputs": [],
   "source": [
    "y_pred = xgb_modelo_optimo.predict(x_test)"
   ]
  },
  {
   "cell_type": "code",
   "execution_count": 103,
   "id": "f857e2f8-4028-422f-9932-7a99adf77ed0",
   "metadata": {},
   "outputs": [],
   "source": [
    "accuracy_xgboost = accuracy_score(y_test, y_pred)\n",
    "log_loss_xgboost = log_loss(y_test, y_pred)"
   ]
  },
  {
   "cell_type": "markdown",
   "id": "c54dd529-7134-4afa-a985-b91234ec63d4",
   "metadata": {},
   "source": [
    "## 4. Resultados"
   ]
  },
  {
   "cell_type": "code",
   "execution_count": 107,
   "id": "cc424edc-c592-4e34-a0ab-30aefe3b4dbc",
   "metadata": {},
   "outputs": [],
   "source": [
    "table = np.zeros( (2, 2) )"
   ]
  },
  {
   "cell_type": "code",
   "execution_count": 108,
   "id": "2bca51a8-768b-43dd-9332-041e70e792ff",
   "metadata": {},
   "outputs": [],
   "source": [
    "table[0,0] = accuracy_random_forest\n",
    "table[1,0] = accuracy_xgboost"
   ]
  },
  {
   "cell_type": "code",
   "execution_count": 109,
   "id": "34406e5b-bf34-41d0-95cd-95f71097a1e4",
   "metadata": {},
   "outputs": [],
   "source": [
    "table[0,1] = log_loss_random_forest\n",
    "table[1,1] = log_loss_xgboost"
   ]
  },
  {
   "cell_type": "code",
   "execution_count": 110,
   "id": "47c274e1-374d-46d4-a552-ae5f9f43e10a",
   "metadata": {},
   "outputs": [
    {
     "data": {
      "text/html": [
       "<div>\n",
       "<style scoped>\n",
       "    .dataframe tbody tr th:only-of-type {\n",
       "        vertical-align: middle;\n",
       "    }\n",
       "\n",
       "    .dataframe tbody tr th {\n",
       "        vertical-align: top;\n",
       "    }\n",
       "\n",
       "    .dataframe thead th {\n",
       "        text-align: right;\n",
       "    }\n",
       "</style>\n",
       "<table border=\"1\" class=\"dataframe\">\n",
       "  <thead>\n",
       "    <tr style=\"text-align: right;\">\n",
       "      <th></th>\n",
       "      <th>Acccuracy_Score</th>\n",
       "      <th>Log_Loss</th>\n",
       "    </tr>\n",
       "  </thead>\n",
       "  <tbody>\n",
       "    <tr>\n",
       "      <th>Random Forest</th>\n",
       "      <td>0.684</td>\n",
       "      <td>10.926</td>\n",
       "    </tr>\n",
       "    <tr>\n",
       "      <th>XGBoost</th>\n",
       "      <td>0.694</td>\n",
       "      <td>10.573</td>\n",
       "    </tr>\n",
       "  </tbody>\n",
       "</table>\n",
       "</div>"
      ],
      "text/plain": [
       "               Acccuracy_Score  Log_Loss\n",
       "Random Forest            0.684    10.926\n",
       "XGBoost                  0.694    10.573"
      ]
     },
     "execution_count": 110,
     "metadata": {},
     "output_type": "execute_result"
    }
   ],
   "source": [
    "colnames_table = [\"Acccuracy_Score\", \"Log_Loss\"]\n",
    "rownames_table = [\"Random Forest\", \"XGBoost\"]\n",
    "\n",
    "table_pandas = pd.DataFrame( table, columns = colnames_table )\n",
    "table_pandas.index = rownames_table\n",
    "\n",
    "table_pandas = table_pandas.round(3)\n",
    "table_pandas"
   ]
  }
 ],
 "metadata": {
  "kernelspec": {
   "display_name": "Python 3 (ipykernel)",
   "language": "python",
   "name": "python3"
  },
  "language_info": {
   "codemirror_mode": {
    "name": "ipython",
    "version": 3
   },
   "file_extension": ".py",
   "mimetype": "text/x-python",
   "name": "python",
   "nbconvert_exporter": "python",
   "pygments_lexer": "ipython3",
   "version": "3.9.13"
  }
 },
 "nbformat": 4,
 "nbformat_minor": 5
}
