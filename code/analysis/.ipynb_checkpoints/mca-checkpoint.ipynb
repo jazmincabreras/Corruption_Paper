{
 "cells": [
  {
   "cell_type": "markdown",
   "id": "a6761da3-4f37-4091-a9c0-b1ae998b4611",
   "metadata": {},
   "source": [
    "## 1. Data"
   ]
  },
  {
   "cell_type": "markdown",
   "id": "6c8210e9-8f9f-4372-86aa-29957283d48d",
   "metadata": {},
   "source": [
    "#### 1.1. Import libraries and data"
   ]
  },
  {
   "cell_type": "code",
   "execution_count": 1,
   "id": "872db2ab-e158-4a3e-8a84-9fb88658226f",
   "metadata": {},
   "outputs": [],
   "source": [
    "import pandas as pd\n",
    "import numpy as np\n",
    "import os\n",
    "from urllib.request import urlopen\n",
    "import math\n",
    "import matplotlib.pyplot as plt\n",
    "import random\n",
    "import warnings\n",
    "warnings.filterwarnings('ignore')"
   ]
  },
  {
   "cell_type": "code",
   "execution_count": 2,
   "id": "908e0c89-5533-4936-a177-0e04af2555ef",
   "metadata": {},
   "outputs": [],
   "source": [
    "import funciones as fun\n",
    "import variables_nombres as vn"
   ]
  },
  {
   "cell_type": "code",
   "execution_count": 3,
   "id": "001770f9-a6a3-43cd-8dd3-9bd5891658f3",
   "metadata": {},
   "outputs": [],
   "source": [
    "path = r'..\\..\\output\\data_preprocess\\dfs_0_i_mca.csv'\n",
    "data = pd.read_csv( path )"
   ]
  },
  {
   "cell_type": "code",
   "execution_count": 4,
   "id": "05769dd3-31a4-4953-a620-f9e605473bf1",
   "metadata": {},
   "outputs": [],
   "source": [
    "# Borrar otras variables dependientes. Solo nos quedamos con 'monto_corrup2'\n",
    "data = data.drop( [ 'monto_examinado', 'monto_objeto_servicio', 'corrup_intensa', \n",
    "                    'corrup_amplia', 'per_corrup1', 'per_corrup2' ], \n",
    "                  axis = 1 )"
   ]
  },
  {
   "cell_type": "code",
   "execution_count": 5,
   "id": "c45068a4-648c-4424-9c65-7ed87a246f74",
   "metadata": {},
   "outputs": [],
   "source": [
    "# Borrar aquellas filas en las que la variable dependiente tenga missing\n",
    "data = data.dropna( axis = 0, subset = [ 'monto_corrup2' ] )"
   ]
  },
  {
   "cell_type": "code",
   "execution_count": 6,
   "id": "948f980a-49c6-4ca4-902e-20773a4973f3",
   "metadata": {},
   "outputs": [],
   "source": [
    "data = data.dropna( axis = 1 )"
   ]
  },
  {
   "cell_type": "markdown",
   "id": "30c1702e-7a51-4caa-bc7e-6862250caa05",
   "metadata": {
    "jupyter": {
     "outputs_hidden": true
    },
    "tags": []
   },
   "source": [
    "#### 1.2. Split data into training and test set"
   ]
  },
  {
   "cell_type": "code",
   "execution_count": 7,
   "id": "8696e0c0-1940-4f88-af25-3a108fc1c556",
   "metadata": {},
   "outputs": [],
   "source": [
    "nrow = data.shape[0]\n",
    "length = int(nrow*(3/4))"
   ]
  },
  {
   "cell_type": "code",
   "execution_count": 8,
   "id": "a19d2399-0172-4840-ae08-eec657c7b4d0",
   "metadata": {},
   "outputs": [],
   "source": [
    "from numpy.random import default_rng\n",
    "\n",
    "random.seed(22)\n",
    "rng = default_rng()\n",
    "training = rng.choice( nrow, size = length, replace=False )\n",
    "training_bool = data.index.isin( training )\n",
    "\n",
    "data_train = data.iloc[ training, : ]\n",
    "data_test = data[ ~training_bool ]"
   ]
  },
  {
   "cell_type": "markdown",
   "id": "ac3c561a-1f5d-4f7e-8391-aae83ebb4e83",
   "metadata": {},
   "source": [
    "## 2. Definir el modelo"
   ]
  },
  {
   "cell_type": "code",
   "execution_count": 9,
   "id": "dc6367b4-2b10-4854-9fde-ab037134e453",
   "metadata": {},
   "outputs": [],
   "source": [
    "import statsmodels.api as sm\n",
    "import statsmodels.formula.api as smf\n",
    "import patsy"
   ]
  },
  {
   "cell_type": "markdown",
   "id": "04eb391d-7e2d-4714-9af7-87cc90cb7c47",
   "metadata": {},
   "source": [
    "#### 2.1. Construir modelos"
   ]
  },
  {
   "cell_type": "code",
   "execution_count": 10,
   "id": "d895f27b-af7f-4dd1-892c-22e6cf5a29c4",
   "metadata": {},
   "outputs": [
    {
     "name": "stdout",
     "output_type": "stream",
     "text": [
      "Wall time: 1.96 s\n"
     ]
    }
   ],
   "source": [
    "%%time\n",
    "\n",
    "formula_basic = \"monto_corrup2 ~ tejgfun_ct05pgercon + devppimfun_ct05pgercon + devppimfun_ct05trab + tejgfun_ct05come + tdvgfun_ct05come + devppimfun_ct05turi + piagfun_ct05agro + pimgfun_ct05agro + tejgfun_ct05agro + devppimfun_ct05agro + pimgfun_ct05energia + tejgfun_ct05energia + devppimfun_ct05energia + piagfun_ct05ind + pimgfun_ct05ind + devppimfun_ct05ind + tejgfun_ct05trans + tejgfun_ct05san + devppimfun_ct05san + devppimfun_ct05viv + devppimfun_ct05cydep + devppimfun_ct05protsoc + devppimfun_ct05dpub + piagfun_ct06pgercon + tejgfun_ct06pgercon + tejgfun_ct06opseg + tdvgfun_ct06opseg + tdvgfun_ct06trab + tejgfun_ct06come + devppimfun_ct06come + devppimfun_ct06turi + devppimfun_ct06agro + pimgfun_ct06pesca + devppimfun_ct06energia + devppimfun_ct06ind + devppimfun_ct06trans + tejgfun_ct06comunica + devppimfun_ct06amb + piagfun_ct06san + pimgfun_ct06san + devppimfun_ct06san + tejgfun_ct06viv + tdvgfun_ct06viv + devppimfun_ct06viv + piagfun_ct06salud + pimgfun_ct06salud + devppimfun_ct06salud + tejgfun_ct06cydep + piagfun_ct06edu + tejgfun_ct06protsoc + tdvgft_rdet + devppimft_rdet + tejgrb_reod + tdvgrb_reod + devppimrb_reod + tejgrb_rooc + devppimrb_rooc + piagrb_dotr + devppimrb_fonc + devppimrb_impm + devppimrb_canr + devppimct_r09gstcr + tejgct_r19gstcr + dfgdevpiagct_r19gstcr + tejgct_r13gstcr + tdvgct_r13gstcr + devppimct_r13gstcr + tejgct_r07gstcp + piagct_r07srdeu + pimgct_r07srdeu + tdvgct_r18gstcr + devppimct_r18gstcr + pimgge_r00ct05pobso + tejgge_r00ct05popso + tejgge_r00ct05biser + devppimge_r00ct05biser + devppimgge_r00ct05otgst + dfgdevpiagge_r00ct06dotra + devppimgge_r00ct06otgst + dfgpimpiagge_r00ct06acanf + devppimgge_r09ct05pobso + piagge_r09ct05popso + devppimgge_r09ct05popso + pimgge_r09ct05dotra + tejgge_r09ct05dotra + devppimgge_r09ct05dotra + piagge_r09ct05otgst + tejgge_r09ct05otgst + devppimgge_r09ct05otgst + pimgge_r09ct06dotra + devppimgge_r09ct06dotra + piagge_r09ct06otgst + tejgge_r09ct06otgst + tdvgge_r09ct06otgst + devppimgge_r09ct06otgst + pimgge_r09ct06acanf + tejgge_r09ct06acanf + devppimgge_r09ct06acanf + dfgpimpiagge_r09ct07sedpu + devppimgge_r09ct07sedpu + dfgpimpiagge_r19ct06dotra + dfgdevpiagge_r19ct06dotra + devppimgge_r19ct06dotra + dfgpimpiagge_r19ct06acanf + dfgpimpiagge_r13ct05pobso + tejgge_r13ct05popso + dfgpimpiagge_r13ct05popso + dfgdevpiagge_r13ct05popso + devppimgge_r13ct05popso + piagge_r13ct05dotra + pimgge_r13ct05dotra + tejgge_r13ct05dotra + pimgge_r13ct05otgst + tejgge_r13ct05otgst + devppimgge_r13ct05otgst + dfgpimpiagge_r13ct06dotra + dfgdevpiagge_r13ct06dotra + tejgge_r13ct06acanf + piagge_r07ct05pobso + tejgge_r07ct05pobso + devppimgge_r07ct05pobso + tejgge_r07ct05popso + tdvgge_r07ct05popso + devppimgge_r07ct05popso + tejgge_r07ct05biser + tdvgge_r07ct05biser + devppimgge_r07ct05biser + pimgge_r07ct05dotra + tejgge_r07ct05dotra + devppimgge_r07ct05dotra + tejgge_r07ct05otgst + tdvgge_r07ct05otgst + devppimgge_r07ct05otgst + devppimge_r08ct05pobso + devppimge_r08ct05popso + pimgge_r08ct05dotra + tejgge_r08ct05dotra + devppimge_r08ct05dotra + tejgge_r08ct05otgst + devppimgge_r08ct05otgst + devppimgge_r08ct06acanf + piagge_r08ct07sedpu + tejgge_r08ct07sedpu + tejgge_r18ct05pobso + devppimge_r18ct05pobso + devppimge_r18ct05popso + tejgge_r18ct05dotra + devppimge_r18ct05dotra + piagge_r18ct05otgst + pimgge_r18ct05otgst + devppimgge_r18ct05otgst + dfgpimpiagge_r18ct06acacf + piagge_r18ct07sedpu + piagkft_reod + devppimgkft_reod + piagkft_redr + piagkft_rooc + devppimgkft_dotr + devppimgkft_rdet + devppimgkftr07_rdet + tejgfun_f1ct05agro + tejgfun_f1ct05amb + tejgfun_f1ct05come + devppimfun_f1ct05come + tejgfun_f1ct05cydep + devppimfun_f1ct05cydep + devppimfun_f1ct05edu + tejgfun_f1ct05opseg + dfgpimpiafun_f1ct05opseg + devppimfun_f1ct05opseg + tdvgfun_f1ct05pgercon + devppimfun_f1ct05pgercon + tejgfun_f1ct05salud + tdvgfun_f1ct05salud + devppimfun_f1ct05salud + tejgfun_f1ct05san + dfgdevpiagfun_f1ct05san + devppimfun_f1ct05san + piagfun_f1ct05trans + pimgfun_f1ct05trans + tejgfun_f1ct05trans + dfgdevpiagfun_f1ct05trans + devppimfun_f1ct05trans + devppimfun_f1ct05turi + tejgfun_f1ct05viv + tdvgfun_f1ct05viv + devppimfun_f1ct05viv + tdvgfun_f1ct06agro + devppimfun_f1ct06agro + pimgfun_f1ct06amb + devppimfun_f1ct06amb + tejgfun_f1ct06come + devppimfun_f1ct06come + piagfun_f1ct06edu + tejgfun_f1ct06edu + dfgpimpiafun_f1ct06edu + devppimfun_f1ct06edu + devppimfun_f1ct06opseg + dfgpimpiafun_f1ct06pgercon + devppimfun_f1ct06pgercon + tejgfun_f1ct06protsoc + dfgpimpiafun_f1ct06protsoc + devppimfun_f1ct06protsoc + devppimfun_f1ct06salud + dfgpimpiafun_f1ct06trans + devppimfun_f1ct06trans + devppimfun_f1ct06viv + piagfun_f2ct05agro + pimgfun_f2ct05agro + devppimfun_f2ct05agro + piagfun_f2ct05come + devppimfun_f2ct05cydep + pimgfun_f2ct05edu + devppimfun_f2ct05edu + tejgfun_f2ct05energia + devppimfun_f2ct05energia + devppimfun_f2ct05opseg + piagfun_f2ct05protsoc + devppimfun_f2ct05salud + piagfun_f2ct05san + pimgfun_f2ct05san + tejgfun_f2ct05san + devppimfun_f2ct05san + tejgfun_f2ct05trans + devppimfun_f2ct05trans + devppimfun_f2ct05turi + tejgfun_f2ct05viv + tdvgfun_f2ct05viv + devppimfun_f2ct05viv + piagfun_f2ct06agro + tejgfun_f2ct06agro + devppimfun_f2ct06agro + piagfun_f2ct06amb + tejgfun_f2ct06amb + devppimfun_f2ct06amb + piagfun_f2ct06come + pimgfun_f2ct06come + tejgfun_f2ct06come + devppimfun_f2ct06come + tejgfun_f2ct06comunica + dfgpimpiafun_f2ct06comunica + piagfun_f2ct06cydep + pimgfun_f2ct06cydep + tejgfun_f2ct06cydep + tdvgfun_f2ct06cydep + devppimfun_f2ct06cydep + devppimfun_f2ct06edu + piagfun_f2ct06energia + pimgfun_f2ct06energia + tdvgfun_f2ct06energia + devppimfun_f2ct06energia + pimgfun_f2ct06ind + devppimfun_f2ct06ind + piagfun_f2ct06opseg + pimgfun_f2ct06opseg + devppimfun_f2ct06opseg + piagfun_f2ct06pgercon + pimgfun_f2ct06pgercon + tejgfun_f2ct06pgercon + devppimfun_f2ct06pgercon + piagfun_f2ct06protsoc + pimgfun_f2ct06protsoc + tdvgfun_f2ct06protsoc + devppimfun_f2ct06protsoc + piagfun_f2ct06salud + tdvgfun_f2ct06salud + devppimfun_f2ct06salud + piagfun_f2ct06san + tdvgfun_f2ct06san + devppimfun_f2ct06san + pimgfun_f2ct06trans + devppimfun_f2ct06trans + piagfun_f2ct06turi + pimgfun_f2ct06turi + tejgfun_f2ct06turi + devppimfun_f2ct06turi + tejgfun_f2ct06viv + devppimfun_f2ct06viv + pimgfun_f3ct05ind + devppimfun_f3ct05opseg + dfgpimpiafun_f3ct05pgercon + tejgfun_f3ct06edu + tdvgfun_f3ct06opseg + devppimfun_f3ct06pgercon + dfgpimpiafun_f4ct05agro + devppimfun_f4ct05agro + tdvgfun_f4ct05amb + devppimfun_f4ct05amb + tdvgfun_f4ct05come + dfgpimpiafun_f4ct05come + tdvgfun_f4ct05cydep + devppimfun_f4ct05cydep + devppimfun_f4ct05edu + tejgfun_f4ct05opseg + dfgpimpiafun_f4ct05opseg + devppimfun_f4ct05opseg + pimgfun_f4ct05pgercon + tdvgfun_f4ct05pgercon + tejgfun_f4ct05protsoc + dfgdevpiagfun_f4ct05protsoc + devppimfun_f4ct05protsoc + pimgfun_f4ct05salud + tejgfun_f4ct05salud + devppimfun_f4ct05salud + dfgpimpiafun_f4ct05san + dfgdevpiagfun_f4ct05trab + dfgpimpiafun_f4ct05trans + devppimfun_f4ct05trans + tejgfun_f4ct05turi + dfgpimpiafun_f4ct05turi + devppimfun_f4ct05turi + tdvgfun_f4ct05viv + dfgpimpiafun_f4ct05viv + devppimfun_f4ct05viv + devppimfun_f4ct06agro + tejgfun_f4ct06amb + dfgpimpiafun_f4ct06amb + dfgdevpiagfun_f4ct06come + tejgfun_f4ct06cydep + devppimfun_f4ct06cydep + tejgfun_f4ct06edu + tdvgfun_f4ct06edu + tejgfun_f4ct06opseg + devppimfun_f4ct06opseg + piagfun_f4ct06pgercon + tdvgfun_f4ct06pgercon + devppimfun_f4ct06pgercon + dfgpimpiafun_f4ct06protsoc + devppimfun_f4ct06protsoc + devppimfun_f4ct06salud + devppimfun_f4ct06trans + dfgpimpiafun_f4ct06turi + dfgdevpiagfun_f4ct06turi + devppimfun_f4ct06turi + dfgpimpiafun_f4ct06viv + devppimfun_f4ct06viv + pimgfun_f5ct05agro + tejgfun_f5ct05agro + tejgfun_f5ct05amb + devppimfun_f5ct05amb + piagfun_f5ct05come + tejgfun_f5ct05come + piagfun_f5ct05comunica + devppimfun_f5ct05comunica + piagfun_f5ct05cydep + piagfun_f5ct05edu + tejgfun_f5ct05edu + tdvgfun_f5ct05edu + devppimfun_f5ct05edu + tdvgfun_f5ct05energia + pimgfun_f5ct05ind + tejgfun_f5ct05opseg + devppimfun_f5ct05opseg + tejgfun_f5ct05prevsoc + tdvgfun_f5ct05prevsoc + devppimfun_f5ct05prevsoc + tejgfun_f5ct05protsoc + tdvgfun_f5ct05protsoc + devppimfun_f5ct05protsoc + piagfun_f5ct05salud + tejgfun_f5ct05salud + devppimfun_f5ct05salud + piagfun_f5ct05san + devppimfun_f5ct05trab + pimgfun_f5ct05trans + devppimfun_f5ct05trans + piagfun_f5ct05turi + tdvgfun_f5ct05turi + tejgfun_f5ct05viv + devppimfun_f5ct06cydep + devppimfun_f5ct06opseg + devppimfun_f5ct06pgercon + devppimfun_f5ct06protsoc + tejgfun_f5ct06trab + devppimfun_f5ct06trab + piagfun_f5pesca + devppimfun_f5pesca + piagfun_f5r07ct05agro + pimgfun_f5r07ct05agro + tejgfun_f5r07ct05agro + devppimfun_f5r07ct05agro + piagfun_f5r07ct05amb + tejgfun_f5r07ct05amb + devppimfun_f5r07ct05amb + tejgfun_f5r07ct05come + tdvgfun_f5r07ct05come + devppimfun_f5r07ct05come + piagfun_f5r07ct05comunica + tejgfun_f5r07ct05comunica + devppimfun_f5r07ct05comunica + piagfun_f5r07ct05cydep + tejgfun_f5r07ct05cydep + devppimfun_f5r07ct05cydep + devppimfun_f5r07ct05dpub + pimgfun_f5r07ct05edu + tejgfun_f5r07ct05edu + devppimfun_f5r07ct05edu + pimgfun_f5r07ct05energia + tdvgfun_f5r07ct05energia + devppimfun_f5r07ct05energia + piagfun_f5r07ct05ind + devppimfun_f5r07ct05opseg + piagfun_f5r07ct05protsoc + pimgfun_f5r07ct05protsoc + devppimfun_f5r07ct05protsoc + tejgfun_f5r07ct05salud + tdvgfun_f5r07ct05salud + devppimfun_f5r07ct05salud + pimgfun_f5r07ct05san + tejgfun_f5r07ct05san + devppimfun_f5r07ct05san + piagfun_f5r07ct05trans + tejgfun_f5r07ct05trans + tdvgfun_f5r07ct05trans + devppimfun_f5r07ct05trans + piagfun_f5r07ct05turi + tejgfun_f5r07ct05turi + tdvgfun_f5r07ct05turi + tejgfun_f5r07ct05viv + tdvgfun_f5r07ct05viv + devppimfun_f5r07ct05viv + tejgfun_f5r07ct06agro + devppimfun_f5r07ct06agro + piagfun_f5r07ct06amb + tejgfun_f5r07ct06amb + devppimfun_f5r07ct06amb + pimgfun_f5r07ct06come + tejgfun_f5r07ct06come + tdvgfun_f5r07ct06come + devppimfun_f5r07ct06come + devppimfun_f5r07ct06comunica + piagfun_f5r07ct06cydep + tejgfun_f5r07ct06cydep + devppimfun_f5r07ct06cydep + piagfun_f5r07ct06edu + piagfun_f5r07ct06energia + pimgfun_f5r07ct06energia + tejgfun_f5r07ct06energia + tdvgfun_f5r07ct06ind + devppimfun_f5r07ct06ind + piagfun_f5r07ct06opseg + tejgfun_f5r07ct06opseg + devppimfun_f5r07ct06opseg + tejgfun_f5r07ct06pgercon + devppimfun_f5r07ct06pgercon + dfgdevpiagfun_f5r07ct06prevsoc + piagfun_f5r07ct06protsoc + pimgfun_f5r07ct06protsoc + tejgfun_f5r07ct06protsoc + devppimfun_f5r07ct06protsoc + piagfun_f5r07ct06salud + pimgfun_f5r07ct06salud + devppimfun_f5r07ct06salud + tejgfun_f5r07ct06san + devppimfun_f5r07ct06trab + piagfun_f5r07ct06trans + devppimfun_f5r07ct06trans + pimgfun_f5r07ct06turi + tejgfun_f5r07ct06turi + devppimfun_f5r07ct06turi + piagfun_f5r07ct06viv + devppimfun_f5r07ct06viv + pimgfun_f5r08ct05agro + devppimfun_f5r08ct05agro + tdvgfun_f5r08ct05dpub + tejgfun_f5r08ct05edu + devppimfun_f5r08ct05edu + piagfun_f5r08ct05energia + tejgfun_f5r08ct05energia + devppimfun_f5r08ct05energia + piagfun_f5r08ct05protsoc + piagfun_f5r08ct05salud + tejgfun_f5r08ct05salud + tdvgfun_f5r08ct05salud + devppimfun_f5r08ct05salud + piagfun_f5r08ct05san + pimgfun_f5r08ct05san + tejgfun_f5r08ct05san + devppimfun_f5r08ct05san + tejgfun_f5r08ct05trab + devppimfun_f5r08ct05trans + piagfun_f5r08ct05viv + piagfun_f5r08ct06agro + devppimfun_f5r08ct06agro + tejgfun_f5r08ct06amb + tdvgfun_f5r08ct06amb + devppimfun_f5r08ct06amb + tejgfun_f5r08ct06come + tdvgfun_f5r08ct06come + devppimfun_f5r08ct06come + piagfun_f5r08ct06comunica + pimgfun_f5r08ct06comunica + devppimfun_f5r08ct06comunica + piagfun_f5r08ct06cydep + tejgfun_f5r08ct06cydep + devppimfun_f5r08ct06cydep + piagfun_f5r08ct06edu + devppimfun_f5r08ct06edu + piagfun_f5r08ct06energia + pimgfun_f5r08ct06energia + devppimfun_f5r08ct06energia + piagfun_f5r08ct06opseg + pimgfun_f5r08ct06opseg + devppimfun_f5r08ct06opseg + piagfun_f5r08ct06pgercon + tejgfun_f5r08ct06pgercon + devppimfun_f5r08ct06pgercon + piagfun_f5r08ct06protsoc + pimgfun_f5r08ct06protsoc + tejgfun_f5r08ct06protsoc + devppimfun_f5r08ct06protsoc + pimgfun_f5r08ct06salud + tejgfun_f5r08ct06salud + devppimfun_f5r08ct06salud + devppimfun_f5r08ct06san + dfgpimpiafun_f5r08ct06trab + tejgfun_f5r08ct06trans + devppimfun_f5r08ct06trans + tejgfun_f5r08ct06turi + dfgpimpiafun_f5r08ct06turi + devppimfun_f5r08ct06turi + piagfun_f5r08ct06viv + tejgfun_f5r08ct06viv + tdvgfun_f5r08ct06viv + devppimfun_f5r08ct06viv + piagfun_f5r18ct05agro + devppimfun_f5r18ct05agro + piagfun_f5r18ct05amb + tejgfun_f5r18ct05amb + tdvgfun_f5r18ct05amb + devppimfun_f5r18ct05amb + piagfun_f5r18ct05come + tejgfun_f5r18ct05come + devppimfun_f5r18ct05come + tdvgfun_f5r18ct05comunica + pimgfun_f5r18ct05cydep + devppimfun_f5r18ct05cydep + piagfun_f5r18ct05edu + tdvgfun_f5r18ct05edu + devppimfun_f5r18ct05edu + piagfun_f5r18ct05energia + pimgfun_f5r18ct05energia + devppimfun_f5r18ct05energia + dfgpimpiafun_f5r18ct05ind + devppimfun_f5r18ct05ind + piagfun_f5r18ct05opseg + tejgfun_f5r18ct05opseg + devppimfun_f5r18ct05opseg + dfgpimpiafun_f5r18ct05pesca + devppimfun_f5r18ct05pgercon + pimgfun_f5r18ct05prevsoc + devppimfun_f5r18ct05prevsoc + piagfun_f5r18ct05protsoc + pimgfun_f5r18ct05protsoc + tejgfun_f5r18ct05protsoc + devppimfun_f5r18ct05protsoc + tejgfun_f5r18ct05salud + devppimfun_f5r18ct05salud + piagfun_f5r18ct05san + devppimfun_f5r18ct05san + devppimfun_f5r18ct05trab + piagfun_f5r18ct05trans + tejgfun_f5r18ct05trans + devppimfun_f5r18ct05trans + piagfun_f5r18ct05turi + tejgfun_f5r18ct05turi + tdvgfun_f5r18ct05turi + devppimfun_f5r18ct05turi + piagfun_f5r18ct05viv + tejgfun_f5r18ct05viv + devppimfun_f5r18ct05viv + devppimfun_f5r18ct06agro + devppimfun_f5r18ct06amb + devppimfun_f5r18ct06come + devppimfun_f5r18ct06comunica + devppimfun_f5r18ct06cydep + piagfun_f5r18ct06opseg + devppimfun_f5r18ct06opseg + devppimfun_f5r18ct06pgercon + piagfun_f5r18ct06prevsoc + devppimfun_f5r18ct06prevsoc + pimgfun_f5r18ct06protsoc + devppimfun_f5r18ct06protsoc + devppimfun_f5r18ct06salud + dfgpimpiafun_f5r18ct06trab + devppimfun_f5r18ct06trab + devppimfun_f5r18ct06trans + pimgfun_f5r18ct06turi + tejgfun_f5r18ct06turi + tdvgfun_f5r18ct06turi + tdvgfun_f5r18ct06viv + devppimfun_f5r18ct06viv + piagtotfun_f1agro + tdvgtotfun_f1agro + devppimtotfun_f1agro + devppimtotfun_f1amb + tejgtotfun_f1cydep + dfgpimpiatotfun_f1cydep + devppimtotfun_f1cydep + piagtotfun_f1edu + tejgtotfun_f1energia + devppimtotfun_f1energia + piagtotfun_f1opseg + pimgtotfun_f1opseg + tdvgtotfun_f1opseg + piagtotfun_f1prevsoc + devppimtotfun_f1prevsoc + piagtotfun_f1protsoc + devppimtotfun_f1protsoc + piagtotfun_f1salud + pimgtotfun_f1salud + piagtotfun_f1san + tejgtotfun_f1san + tdvgtotfun_f1san + devppimtotfun_f1san + dfgdevpiagtotfun_f1trab + tejgtotfun_f1trans + tdvgtotfun_f1turi + devppimtotfun_f1turi + pimgtotfun_f1viv + tejgtotfun_f1viv + piagtotfun_f2agro + devppimtotfun_f2agro + tejgtotfun_f2amb + devppimtotfun_f2amb + devppimtotfun_f2come + pimgtotfun_f2comunica + piagtotfun_f2cydep + pimgtotfun_f2cydep + tejgtotfun_f2cydep + dfgpimpiatotfun_f2dpub + piagtotfun_f2edu + tdvgtotfun_f2edu + devppimtotfun_f2edu + piagtotfun_f2energia + devppimtotfun_f2ind + piagtotfun_f2pgercon + tejgtotfun_f2pgercon + devppimtotfun_f2pgercon + devppimtotfun_f2prevsoc + tejgtotfun_f2protsoc + devppimtotfun_f2protsoc + piagtotfun_f2san + tdvgtotfun_f2san + devppimtotfun_f2san + devppimtotfun_f2trab + piagtotfun_f2trans + devppimtotfun_f2trans + pimgtotfun_f2turi + tejgtotfun_f2turi + tdvgtotfun_f2turi + piagtotfun_f2viv + piagtotfun_f3agro + tejgtotfun_f3agro + dfgpimpiatotfun_f3agro + devppimtotfun_f3agro + tdvgtotfun_f3amb + devppimtotfun_f3amb + dfgpimpiatotfun_f3comunica + tejgtotfun_f3cydep + dfgpimpiatotfun_f3cydep + devppimtotfun_f3cydep + devppimtotfun_f3edu + tejgtotfun_f3energia + dfgpimpiatotfun_f3energia + devppimtotfun_f3energia + tejgtotfun_f3opseg + tdvgtotfun_f3opseg + dfgpimpiatotfun_f3opseg + devppimtotfun_f3opseg + piagtotfun_f3pgercon + tejgtotfun_f3pgercon + dfgpimpiatotfun_f3pgercon + devppimtotfun_f3pgercon + tejgtotfun_f3protsoc + dfgpimpiatotfun_f3protsoc + devppimtotfun_f3protsoc + tejgtotfun_f3salud + devppimtotfun_f3salud + piagtotfun_f3san + pimgtotfun_f3san + tejgtotfun_f3san + devppimtotfun_f3san + devppimtotfun_f3trab + tdvgtotfun_f3trans + devppimtotfun_f3trans + piagtotfun_f3viv + tejgtotfun_f3viv + devppimtotfun_f3viv + tejgtotfun_f4agro + tdvgtotfun_f4agro + piagtotfun_f4amb + dfgpimpiatotfun_f4amb + devppimtotfun_f4amb + devppimtotfun_f4come + dfgdevpiagtotfun_f4cydep + devppimtotfun_f4cydep + devppimtotfun_f4edu + tejgtotfun_f4energia + dfgpimpiatotfun_f4energia + dfgdevpiagtotfun_f4energia + devppimtotfun_f4energia + piagtotfun_f4pgercon + pimgtotfun_f4pgercon + tdvgtotfun_f4pgercon + devppimtotfun_f4pgercon + tejgtotfun_f4protsoc + piagtotfun_f4salud + pimgtotfun_f4salud + devppimtotfun_f4salud + dfgpimpiatotfun_f4san + devppimtotfun_f4san + dfgdevpiagtotfun_f4trab + devppimtotfun_f4trab + devppimtotfun_f4turi + devppimtotfun_f5agro + tdvgtotfun_f5amb + devppimtotfun_f5amb + tdvgtotfun_f5come + devppimtotfun_f5come + piagtotfun_f5comunica + pimgtotfun_f5comunica + piagtotfun_f5cydep + devppimtotfun_f5cydep + piagtotfun_f5dpub + tejgtotfun_f5dpub + tdvgtotfun_f5dpub + devppimtotfun_f5dpub + pimgtotfun_f5edu + devppimtotfun_f5edu + piagtotfun_f5ind + pimgtotfun_f5ind + tdvgtotfun_f5ind + devppimtotfun_f5ind + piagtotfun_f5opseg + tdvgtotfun_f5opseg + devppimtotfun_f5opseg + devppimtotfun_f5pgercon + piagtotfun_f5protsoc + pimgtotfun_f5protsoc + tejgtotfun_f5protsoc + devppimtotfun_f5protsoc + piagtotfun_f5r07agro + pimgtotfun_f5r07agro + devppimtotfun_f5r07agro + piagtotfun_f5r07comunica + tejgtotfun_f5r07comunica + devppimtotfun_f5r07cydep + tejgtotfun_f5r07dpub + devppimtotfun_f5r07dpub + pimgtotfun_f5r07edu + tejgtotfun_f5r07edu + devppimtotfun_f5r07edu + devppimtotfun_f5r07energia + pimgtotfun_f5r07ind + tejgtotfun_f5r07opseg + tdvgtotfun_f5r07opseg + piagtotfun_f5r07pesca + tejgtotfun_f5r07pesca + tejgtotfun_f5r07pgercon + tdvgtotfun_f5r07pgercon + devppimtotfun_f5r07pgercon + devppimtotfun_f5r07prevsoc + piagtotfun_f5r07protsoc + tejgtotfun_f5r07protsoc + tdvgtotfun_f5r07protsoc + piagtotfun_f5r07san + pimgtotfun_f5r07san + devppimtotfun_f5r07san + pimgtotfun_f5r07trab + devppimtotfun_f5r07trab + piagtotfun_f5r07turi + tdvgtotfun_f5r07turi + devppimtotfun_f5r07turi + tejgtotfun_f5r07viv + tdvgtotfun_f5r07viv + devppimtotfun_f5r07viv + piagtotfun_f5r08agro + pimgtotfun_f5r08agro + tejgtotfun_f5r08agro + piagtotfun_f5r08amb + devppimtotfun_f5r08amb + devppimtotfun_f5r08cydep + devppimtotfun_f5r08dpub + tdvgtotfun_f5r08edu + devppimtotfun_f5r08edu + piagtotfun_f5r08energia + devppimtotfun_f5r08energia + piagtotfun_f5r08opseg + devppimtotfun_f5r08opseg + pimgtotfun_f5r08pgercon + devppimtotfun_f5r08prevsoc + devppimtotfun_f5r08protsoc + piagtotfun_f5r08san + tejgtotfun_f5r08san + tdvgtotfun_f5r08san + devppimtotfun_f5r08trab + devppimtotfun_f5r08turi + devppimtotfun_f5r08viv + tejgtotfun_f5r18agro + devppimtotfun_f5r18agro + piagtotfun_f5r18amb + tejgtotfun_f5r18amb + devppimtotfun_f5r18amb + piagtotfun_f5r18come + tejgtotfun_f5r18come + devppimtotfun_f5r18come + piagtotfun_f5r18cydep + pimgtotfun_f5r18cydep + tejgtotfun_f5r18dpub + devppimtotfun_f5r18dpub + devppimtotfun_f5r18ind + tejgtotfun_f5r18opseg + devppimtotfun_f5r18opseg + tejgtotfun_f5r18pesca + devppimtotfun_f5r18pgercon + pimgtotfun_f5r18prevsoc + tdvgtotfun_f5r18protsoc + devppimtotfun_f5r18protsoc + devppimtotfun_f5r18salud + devppimtotfun_f5r18trab + devppimtotfun_f5r18turi + piagtotfun_f5r18viv + devppimtotfun_f5r18viv + devppimtotfun_f5salud + devppimtotfun_f5san + piagtotfun_f5trab + tejgtotfun_f5trab + tdvgtotfun_f5trab + devppimtotfun_f5trab + tejgtotfun_f5trans + devppimtotfun_f5trans + devppimtotfun_f5turi + piagtotfun_f5viv + tejgtotfun_f5viv + tdvgtotfun_f5viv + devppimtotfun_f5viv\"\n",
    "\n",
    "y_basic_train, model_X_basic_train = patsy.dmatrices(formula_basic, data_train, return_type='dataframe')\n",
    "y_basic_test, model_X_basic_test = patsy.dmatrices(formula_basic, data_test, return_type='dataframe')\n",
    "p_basic = model_X_basic_train.shape[ 1 ]"
   ]
  },
  {
   "cell_type": "code",
   "execution_count": 11,
   "id": "31bf481a-3321-432a-8d82-32e5376ca948",
   "metadata": {
    "tags": []
   },
   "outputs": [
    {
     "data": {
      "text/html": [
       "<div>\n",
       "<style scoped>\n",
       "    .dataframe tbody tr th:only-of-type {\n",
       "        vertical-align: middle;\n",
       "    }\n",
       "\n",
       "    .dataframe tbody tr th {\n",
       "        vertical-align: top;\n",
       "    }\n",
       "\n",
       "    .dataframe thead th {\n",
       "        text-align: right;\n",
       "    }\n",
       "</style>\n",
       "<table border=\"1\" class=\"dataframe\">\n",
       "  <thead>\n",
       "    <tr style=\"text-align: right;\">\n",
       "      <th></th>\n",
       "      <th>Intercept</th>\n",
       "      <th>tejgfun_ct05pgercon</th>\n",
       "      <th>devppimfun_ct05pgercon</th>\n",
       "      <th>devppimfun_ct05trab</th>\n",
       "      <th>tejgfun_ct05come</th>\n",
       "      <th>tdvgfun_ct05come</th>\n",
       "      <th>devppimfun_ct05turi</th>\n",
       "      <th>piagfun_ct05agro</th>\n",
       "      <th>pimgfun_ct05agro</th>\n",
       "      <th>tejgfun_ct05agro</th>\n",
       "      <th>...</th>\n",
       "      <th>tejgtotfun_f5trab</th>\n",
       "      <th>tdvgtotfun_f5trab</th>\n",
       "      <th>devppimtotfun_f5trab</th>\n",
       "      <th>tejgtotfun_f5trans</th>\n",
       "      <th>devppimtotfun_f5trans</th>\n",
       "      <th>devppimtotfun_f5turi</th>\n",
       "      <th>piagtotfun_f5viv</th>\n",
       "      <th>tejgtotfun_f5viv</th>\n",
       "      <th>tdvgtotfun_f5viv</th>\n",
       "      <th>devppimtotfun_f5viv</th>\n",
       "    </tr>\n",
       "  </thead>\n",
       "  <tbody>\n",
       "    <tr>\n",
       "      <th>531</th>\n",
       "      <td>1.0</td>\n",
       "      <td>15.242411</td>\n",
       "      <td>4.515085</td>\n",
       "      <td>0.0</td>\n",
       "      <td>0.000000</td>\n",
       "      <td>0.000000</td>\n",
       "      <td>0.000000</td>\n",
       "      <td>11.002117</td>\n",
       "      <td>10.392068</td>\n",
       "      <td>10.392068</td>\n",
       "      <td>...</td>\n",
       "      <td>0.0</td>\n",
       "      <td>0.0</td>\n",
       "      <td>0.0</td>\n",
       "      <td>12.251423</td>\n",
       "      <td>3.914427</td>\n",
       "      <td>0.000000</td>\n",
       "      <td>0.000000</td>\n",
       "      <td>9.998843</td>\n",
       "      <td>9.998843</td>\n",
       "      <td>4.615121</td>\n",
       "    </tr>\n",
       "    <tr>\n",
       "      <th>306</th>\n",
       "      <td>1.0</td>\n",
       "      <td>16.208891</td>\n",
       "      <td>4.430969</td>\n",
       "      <td>0.0</td>\n",
       "      <td>12.715700</td>\n",
       "      <td>12.715700</td>\n",
       "      <td>0.000000</td>\n",
       "      <td>0.000000</td>\n",
       "      <td>0.000000</td>\n",
       "      <td>0.000000</td>\n",
       "      <td>...</td>\n",
       "      <td>0.0</td>\n",
       "      <td>0.0</td>\n",
       "      <td>0.0</td>\n",
       "      <td>15.776721</td>\n",
       "      <td>4.477108</td>\n",
       "      <td>0.000000</td>\n",
       "      <td>15.292452</td>\n",
       "      <td>14.801484</td>\n",
       "      <td>14.801483</td>\n",
       "      <td>4.445248</td>\n",
       "    </tr>\n",
       "    <tr>\n",
       "      <th>176</th>\n",
       "      <td>1.0</td>\n",
       "      <td>15.923667</td>\n",
       "      <td>4.524479</td>\n",
       "      <td>0.0</td>\n",
       "      <td>0.000000</td>\n",
       "      <td>0.000000</td>\n",
       "      <td>0.000000</td>\n",
       "      <td>0.000000</td>\n",
       "      <td>0.000000</td>\n",
       "      <td>0.000000</td>\n",
       "      <td>...</td>\n",
       "      <td>0.0</td>\n",
       "      <td>0.0</td>\n",
       "      <td>0.0</td>\n",
       "      <td>0.000000</td>\n",
       "      <td>0.000000</td>\n",
       "      <td>0.000000</td>\n",
       "      <td>9.581973</td>\n",
       "      <td>10.084767</td>\n",
       "      <td>10.084767</td>\n",
       "      <td>4.519728</td>\n",
       "    </tr>\n",
       "    <tr>\n",
       "      <th>166</th>\n",
       "      <td>1.0</td>\n",
       "      <td>15.815117</td>\n",
       "      <td>4.323288</td>\n",
       "      <td>0.0</td>\n",
       "      <td>12.130280</td>\n",
       "      <td>12.130280</td>\n",
       "      <td>0.000000</td>\n",
       "      <td>0.000000</td>\n",
       "      <td>0.000000</td>\n",
       "      <td>0.000000</td>\n",
       "      <td>...</td>\n",
       "      <td>0.0</td>\n",
       "      <td>0.0</td>\n",
       "      <td>0.0</td>\n",
       "      <td>13.570965</td>\n",
       "      <td>4.551648</td>\n",
       "      <td>0.000000</td>\n",
       "      <td>15.219740</td>\n",
       "      <td>14.864557</td>\n",
       "      <td>14.864557</td>\n",
       "      <td>4.584095</td>\n",
       "    </tr>\n",
       "    <tr>\n",
       "      <th>187</th>\n",
       "      <td>1.0</td>\n",
       "      <td>15.973295</td>\n",
       "      <td>4.525001</td>\n",
       "      <td>0.0</td>\n",
       "      <td>13.547187</td>\n",
       "      <td>13.547187</td>\n",
       "      <td>0.000000</td>\n",
       "      <td>0.000000</td>\n",
       "      <td>0.000000</td>\n",
       "      <td>0.000000</td>\n",
       "      <td>...</td>\n",
       "      <td>0.0</td>\n",
       "      <td>0.0</td>\n",
       "      <td>0.0</td>\n",
       "      <td>16.525196</td>\n",
       "      <td>4.590616</td>\n",
       "      <td>0.000000</td>\n",
       "      <td>15.303035</td>\n",
       "      <td>15.029373</td>\n",
       "      <td>15.029313</td>\n",
       "      <td>4.574586</td>\n",
       "    </tr>\n",
       "    <tr>\n",
       "      <th>...</th>\n",
       "      <td>...</td>\n",
       "      <td>...</td>\n",
       "      <td>...</td>\n",
       "      <td>...</td>\n",
       "      <td>...</td>\n",
       "      <td>...</td>\n",
       "      <td>...</td>\n",
       "      <td>...</td>\n",
       "      <td>...</td>\n",
       "      <td>...</td>\n",
       "      <td>...</td>\n",
       "      <td>...</td>\n",
       "      <td>...</td>\n",
       "      <td>...</td>\n",
       "      <td>...</td>\n",
       "      <td>...</td>\n",
       "      <td>...</td>\n",
       "      <td>...</td>\n",
       "      <td>...</td>\n",
       "      <td>...</td>\n",
       "      <td>...</td>\n",
       "    </tr>\n",
       "    <tr>\n",
       "      <th>406</th>\n",
       "      <td>1.0</td>\n",
       "      <td>17.295112</td>\n",
       "      <td>4.354129</td>\n",
       "      <td>0.0</td>\n",
       "      <td>14.926295</td>\n",
       "      <td>14.891036</td>\n",
       "      <td>0.000000</td>\n",
       "      <td>0.000000</td>\n",
       "      <td>0.000000</td>\n",
       "      <td>0.000000</td>\n",
       "      <td>...</td>\n",
       "      <td>0.0</td>\n",
       "      <td>0.0</td>\n",
       "      <td>0.0</td>\n",
       "      <td>14.344210</td>\n",
       "      <td>4.272546</td>\n",
       "      <td>0.000000</td>\n",
       "      <td>12.851607</td>\n",
       "      <td>15.211832</td>\n",
       "      <td>14.736950</td>\n",
       "      <td>4.106962</td>\n",
       "    </tr>\n",
       "    <tr>\n",
       "      <th>415</th>\n",
       "      <td>1.0</td>\n",
       "      <td>17.249116</td>\n",
       "      <td>4.309605</td>\n",
       "      <td>0.0</td>\n",
       "      <td>0.000000</td>\n",
       "      <td>0.000000</td>\n",
       "      <td>0.000000</td>\n",
       "      <td>0.000000</td>\n",
       "      <td>0.000000</td>\n",
       "      <td>0.000000</td>\n",
       "      <td>...</td>\n",
       "      <td>0.0</td>\n",
       "      <td>0.0</td>\n",
       "      <td>0.0</td>\n",
       "      <td>14.261467</td>\n",
       "      <td>3.404320</td>\n",
       "      <td>0.000000</td>\n",
       "      <td>14.567329</td>\n",
       "      <td>14.449805</td>\n",
       "      <td>14.345392</td>\n",
       "      <td>4.376232</td>\n",
       "    </tr>\n",
       "    <tr>\n",
       "      <th>509</th>\n",
       "      <td>1.0</td>\n",
       "      <td>13.700891</td>\n",
       "      <td>4.517382</td>\n",
       "      <td>0.0</td>\n",
       "      <td>0.000000</td>\n",
       "      <td>0.000000</td>\n",
       "      <td>0.000000</td>\n",
       "      <td>0.000000</td>\n",
       "      <td>0.000000</td>\n",
       "      <td>0.000000</td>\n",
       "      <td>...</td>\n",
       "      <td>0.0</td>\n",
       "      <td>0.0</td>\n",
       "      <td>0.0</td>\n",
       "      <td>0.000000</td>\n",
       "      <td>0.000000</td>\n",
       "      <td>0.000000</td>\n",
       "      <td>0.000000</td>\n",
       "      <td>0.000000</td>\n",
       "      <td>0.000000</td>\n",
       "      <td>0.000000</td>\n",
       "    </tr>\n",
       "    <tr>\n",
       "      <th>454</th>\n",
       "      <td>1.0</td>\n",
       "      <td>15.143320</td>\n",
       "      <td>4.339300</td>\n",
       "      <td>0.0</td>\n",
       "      <td>10.718917</td>\n",
       "      <td>10.681263</td>\n",
       "      <td>0.000000</td>\n",
       "      <td>0.000000</td>\n",
       "      <td>0.000000</td>\n",
       "      <td>0.000000</td>\n",
       "      <td>...</td>\n",
       "      <td>0.0</td>\n",
       "      <td>0.0</td>\n",
       "      <td>0.0</td>\n",
       "      <td>12.583871</td>\n",
       "      <td>4.577129</td>\n",
       "      <td>0.000000</td>\n",
       "      <td>0.000000</td>\n",
       "      <td>11.910120</td>\n",
       "      <td>11.910120</td>\n",
       "      <td>4.503164</td>\n",
       "    </tr>\n",
       "    <tr>\n",
       "      <th>304</th>\n",
       "      <td>1.0</td>\n",
       "      <td>0.000000</td>\n",
       "      <td>4.404227</td>\n",
       "      <td>0.0</td>\n",
       "      <td>0.000000</td>\n",
       "      <td>10.934295</td>\n",
       "      <td>4.487624</td>\n",
       "      <td>10.043293</td>\n",
       "      <td>10.043293</td>\n",
       "      <td>0.000000</td>\n",
       "      <td>...</td>\n",
       "      <td>0.0</td>\n",
       "      <td>0.0</td>\n",
       "      <td>0.0</td>\n",
       "      <td>0.000000</td>\n",
       "      <td>4.055710</td>\n",
       "      <td>3.311405</td>\n",
       "      <td>11.220686</td>\n",
       "      <td>0.000000</td>\n",
       "      <td>12.958461</td>\n",
       "      <td>3.106972</td>\n",
       "    </tr>\n",
       "  </tbody>\n",
       "</table>\n",
       "<p>429 rows × 838 columns</p>\n",
       "</div>"
      ],
      "text/plain": [
       "     Intercept  tejgfun_ct05pgercon  devppimfun_ct05pgercon  \\\n",
       "531        1.0            15.242411                4.515085   \n",
       "306        1.0            16.208891                4.430969   \n",
       "176        1.0            15.923667                4.524479   \n",
       "166        1.0            15.815117                4.323288   \n",
       "187        1.0            15.973295                4.525001   \n",
       "..         ...                  ...                     ...   \n",
       "406        1.0            17.295112                4.354129   \n",
       "415        1.0            17.249116                4.309605   \n",
       "509        1.0            13.700891                4.517382   \n",
       "454        1.0            15.143320                4.339300   \n",
       "304        1.0             0.000000                4.404227   \n",
       "\n",
       "     devppimfun_ct05trab  tejgfun_ct05come  tdvgfun_ct05come  \\\n",
       "531                  0.0          0.000000          0.000000   \n",
       "306                  0.0         12.715700         12.715700   \n",
       "176                  0.0          0.000000          0.000000   \n",
       "166                  0.0         12.130280         12.130280   \n",
       "187                  0.0         13.547187         13.547187   \n",
       "..                   ...               ...               ...   \n",
       "406                  0.0         14.926295         14.891036   \n",
       "415                  0.0          0.000000          0.000000   \n",
       "509                  0.0          0.000000          0.000000   \n",
       "454                  0.0         10.718917         10.681263   \n",
       "304                  0.0          0.000000         10.934295   \n",
       "\n",
       "     devppimfun_ct05turi  piagfun_ct05agro  pimgfun_ct05agro  \\\n",
       "531             0.000000         11.002117         10.392068   \n",
       "306             0.000000          0.000000          0.000000   \n",
       "176             0.000000          0.000000          0.000000   \n",
       "166             0.000000          0.000000          0.000000   \n",
       "187             0.000000          0.000000          0.000000   \n",
       "..                   ...               ...               ...   \n",
       "406             0.000000          0.000000          0.000000   \n",
       "415             0.000000          0.000000          0.000000   \n",
       "509             0.000000          0.000000          0.000000   \n",
       "454             0.000000          0.000000          0.000000   \n",
       "304             4.487624         10.043293         10.043293   \n",
       "\n",
       "     tejgfun_ct05agro  ...  tejgtotfun_f5trab  tdvgtotfun_f5trab  \\\n",
       "531         10.392068  ...                0.0                0.0   \n",
       "306          0.000000  ...                0.0                0.0   \n",
       "176          0.000000  ...                0.0                0.0   \n",
       "166          0.000000  ...                0.0                0.0   \n",
       "187          0.000000  ...                0.0                0.0   \n",
       "..                ...  ...                ...                ...   \n",
       "406          0.000000  ...                0.0                0.0   \n",
       "415          0.000000  ...                0.0                0.0   \n",
       "509          0.000000  ...                0.0                0.0   \n",
       "454          0.000000  ...                0.0                0.0   \n",
       "304          0.000000  ...                0.0                0.0   \n",
       "\n",
       "     devppimtotfun_f5trab  tejgtotfun_f5trans  devppimtotfun_f5trans  \\\n",
       "531                   0.0           12.251423               3.914427   \n",
       "306                   0.0           15.776721               4.477108   \n",
       "176                   0.0            0.000000               0.000000   \n",
       "166                   0.0           13.570965               4.551648   \n",
       "187                   0.0           16.525196               4.590616   \n",
       "..                    ...                 ...                    ...   \n",
       "406                   0.0           14.344210               4.272546   \n",
       "415                   0.0           14.261467               3.404320   \n",
       "509                   0.0            0.000000               0.000000   \n",
       "454                   0.0           12.583871               4.577129   \n",
       "304                   0.0            0.000000               4.055710   \n",
       "\n",
       "     devppimtotfun_f5turi  piagtotfun_f5viv  tejgtotfun_f5viv  \\\n",
       "531              0.000000          0.000000          9.998843   \n",
       "306              0.000000         15.292452         14.801484   \n",
       "176              0.000000          9.581973         10.084767   \n",
       "166              0.000000         15.219740         14.864557   \n",
       "187              0.000000         15.303035         15.029373   \n",
       "..                    ...               ...               ...   \n",
       "406              0.000000         12.851607         15.211832   \n",
       "415              0.000000         14.567329         14.449805   \n",
       "509              0.000000          0.000000          0.000000   \n",
       "454              0.000000          0.000000         11.910120   \n",
       "304              3.311405         11.220686          0.000000   \n",
       "\n",
       "     tdvgtotfun_f5viv  devppimtotfun_f5viv  \n",
       "531          9.998843             4.615121  \n",
       "306         14.801483             4.445248  \n",
       "176         10.084767             4.519728  \n",
       "166         14.864557             4.584095  \n",
       "187         15.029313             4.574586  \n",
       "..                ...                  ...  \n",
       "406         14.736950             4.106962  \n",
       "415         14.345392             4.376232  \n",
       "509          0.000000             0.000000  \n",
       "454         11.910120             4.503164  \n",
       "304         12.958461             3.106972  \n",
       "\n",
       "[429 rows x 838 columns]"
      ]
     },
     "execution_count": 11,
     "metadata": {},
     "output_type": "execute_result"
    }
   ],
   "source": [
    "model_X_basic_train"
   ]
  },
  {
   "cell_type": "markdown",
   "id": "0e50b315-7023-478c-ad5d-510be5e29456",
   "metadata": {},
   "source": [
    "#### 2.2. Generar las variables dependientes"
   ]
  },
  {
   "cell_type": "code",
   "execution_count": 12,
   "id": "36e08cbb-9c35-4782-9c5d-ee394f1fcf72",
   "metadata": {},
   "outputs": [],
   "source": [
    "Y_train = data_train[ 'monto_corrup2' ]\n",
    "Y_test = data_test[ 'monto_corrup2' ]"
   ]
  },
  {
   "cell_type": "markdown",
   "id": "9b1b2cc0-b276-4a4c-8a92-a2894e171b86",
   "metadata": {},
   "source": [
    "#### 2.3. Obtenemos el length del modelo"
   ]
  },
  {
   "cell_type": "code",
   "execution_count": 13,
   "id": "df75b2ec-7681-45ca-8e74-00987da3f892",
   "metadata": {
    "tags": []
   },
   "outputs": [
    {
     "name": "stdout",
     "output_type": "stream",
     "text": [
      "838\n"
     ]
    }
   ],
   "source": [
    "print(p_basic)"
   ]
  },
  {
   "cell_type": "markdown",
   "id": "6a02e3a5-716e-45a0-b8ff-7efd9c64ede1",
   "metadata": {},
   "source": [
    "## 3. Modelo OLS"
   ]
  },
  {
   "cell_type": "code",
   "execution_count": 14,
   "id": "12af9d8b-8756-4379-8850-a37e01f6d66d",
   "metadata": {},
   "outputs": [
    {
     "name": "stdout",
     "output_type": "stream",
     "text": [
      "The mean squared error (MSE) using the basic model is equal to 2064006188923755.0 \n"
     ]
    }
   ],
   "source": [
    "# ols (basic model)\n",
    "lm_basic = sm.OLS( Y_train, model_X_basic_train )\n",
    "fit_lm_basic = lm_basic.fit()\n",
    "\n",
    "# Compute the Out-Of-Sample Performance\n",
    "yhat_lm_basic = fit_lm_basic.predict( model_X_basic_test )\n",
    "print( f'The mean squared error (MSE) using the basic model is equal to {np.mean((Y_test-yhat_lm_basic)**2)} ')   "
   ]
  },
  {
   "cell_type": "code",
   "execution_count": 15,
   "id": "bd11b145-ac61-4d2f-a410-83d7a25646db",
   "metadata": {},
   "outputs": [
    {
     "data": {
      "text/plain": [
       "Coef.       2.064006e+15\n",
       "Std.Err.    6.115781e+14\n",
       "Name: const, dtype: float64"
      ]
     },
     "execution_count": 15,
     "metadata": {},
     "output_type": "execute_result"
    }
   ],
   "source": [
    "resid_basic = ( Y_test-yhat_lm_basic )**2\n",
    "\n",
    "MSE_lm_basic = sm.OLS( resid_basic , np.ones( resid_basic.shape[0] ) ).fit().summary2().tables[1].iloc[0, 0:2]\n",
    "MSE_lm_basic"
   ]
  },
  {
   "cell_type": "code",
   "execution_count": 16,
   "id": "a6ce484c-c450-4c7c-99f9-32370b9413dc",
   "metadata": {},
   "outputs": [
    {
     "name": "stdout",
     "output_type": "stream",
     "text": [
      "The R^2 using the basic model is equal to -4.9482946415391025\n"
     ]
    }
   ],
   "source": [
    "R2_lm_basic = 1 - ( MSE_lm_basic[0]/Y_test.var() )\n",
    "print( f\"The R^2 using the basic model is equal to {R2_lm_basic}\" ) "
   ]
  },
  {
   "cell_type": "markdown",
   "id": "c12c785f-2e7e-4039-8d22-d0d4c40225d9",
   "metadata": {},
   "source": [
    "## 4. Métodos de Regularización"
   ]
  },
  {
   "cell_type": "code",
   "execution_count": 17,
   "id": "dc75f9e0-81d7-4c26-a69f-f4fed4b97bb9",
   "metadata": {},
   "outputs": [],
   "source": [
    "import hdmpy"
   ]
  },
  {
   "cell_type": "markdown",
   "id": "854ff481-1657-4375-b006-a096366d9d79",
   "metadata": {},
   "source": [
    "### 4.1. Lasso teórico"
   ]
  },
  {
   "cell_type": "code",
   "execution_count": 18,
   "id": "36acb9ac-8657-498a-becb-0899728f510c",
   "metadata": {},
   "outputs": [],
   "source": [
    "# Apply transformations\n",
    "\n",
    "fit_rlasso = hdmpy.rlasso( model_X_basic_train.to_numpy() , Y_train.to_numpy().reshape( Y_train.size , 1 ) , post = False )\n",
    "fit_rlasso_post = hdmpy.rlasso( model_X_basic_train.to_numpy() , Y_train.to_numpy().reshape( Y_train.size , 1 ) , post = True )"
   ]
  },
  {
   "cell_type": "code",
   "execution_count": 19,
   "id": "597524f6-8d5c-4649-b7ea-56082f77ac4e",
   "metadata": {},
   "outputs": [],
   "source": [
    "# Getting mean of each variable\n",
    "meanx = model_X_basic_test.mean( axis = 0 ).values.\\\n",
    "                        reshape( model_X_basic_test.shape[ 1 ] , 1 )\n",
    "\n",
    "# Reducing the mean\n",
    "new_x1 = model_X_basic_test.to_numpy() - \\\n",
    "                    (np.ones( ( model_X_basic_test.shape[ 0 ] , 1 ) ) @ meanx.T)\n",
    "\n",
    "# Getting the significant variables\n",
    "x1_est_rlasso = new_x1[ :, fit_rlasso.est['index'].iloc[:, 0].to_list()]\n",
    "\n",
    "# Getting the coef. from significant variables\n",
    "beta_rlasso = fit_rlasso.est['beta'].loc[ fit_rlasso.est['index'].\\\n",
    "                                     iloc[:, 0].to_list(), ].to_numpy()\n",
    "\n",
    "# yhat\n",
    "yhat_rlasso = (x1_est_rlasso @ beta_rlasso) + np.mean( Y_test.to_numpy() )\n",
    "residuals_rlasso = Y_test.to_numpy().reshape( Y_test.to_numpy().size, 1)  - yhat_rlasso"
   ]
  },
  {
   "cell_type": "code",
   "execution_count": 20,
   "id": "16a574e7-f113-441f-979e-7de3a95e7401",
   "metadata": {},
   "outputs": [
    {
     "name": "stdout",
     "output_type": "stream",
     "text": [
      "The R^2 using the basic model is equal to 0.006019102401016885 for lasso\n"
     ]
    }
   ],
   "source": [
    "MSE_lasso = sm.OLS( ( residuals_rlasso )**2 , np.ones( yhat_rlasso.size )  ).fit().summary2().tables[1].round(3)\n",
    "\n",
    "R2_lasso = 1 - MSE_lasso.iloc[0, 0]/ np.var( Y_test )\n",
    "\n",
    "print( f\"The R^2 using the basic model is equal to {R2_lasso} for lasso\") # R^2 lasso/post-lasso (basic model) "
   ]
  },
  {
   "cell_type": "markdown",
   "id": "7c2a2285-34ef-4fe8-8a72-ccb805a8e338",
   "metadata": {},
   "source": [
    "### 4.2 Lasso, Ridge y Elastic Net con Cross Validation"
   ]
  },
  {
   "cell_type": "code",
   "execution_count": 21,
   "id": "b3f1ebe1-f541-4bcd-97fb-23327f81dcac",
   "metadata": {},
   "outputs": [],
   "source": [
    "from sklearn.linear_model import LassoCV\n",
    "from sklearn.preprocessing import StandardScaler\n",
    "from sklearn.linear_model import RidgeCV, ElasticNetCV\n",
    "import statsmodels.api as sm"
   ]
  },
  {
   "cell_type": "code",
   "execution_count": 22,
   "id": "17868271-4e91-45f4-83be-e6a8fb4d335d",
   "metadata": {},
   "outputs": [],
   "source": [
    "# Reshaping Y variable\n",
    "Y_vec = Y_train.to_numpy().reshape( Y_train.to_numpy().size, 1)\n",
    "\n",
    "# Scalar distribution\n",
    "scaler = StandardScaler()\n",
    "scaler.fit( Y_vec )\n",
    "std_Y = scaler.transform( Y_vec )\n",
    "\n",
    "# Regressions\n",
    "fit_lasso_cv_basic = LassoCV(cv = 10 , random_state = 0 , normalize = True ).fit( model_X_basic_train, std_Y )\n",
    "fit_ridge_basic = ElasticNetCV( cv = 10 , normalize = True , random_state = 0 , l1_ratio = 0.0001 ).fit( model_X_basic_train , std_Y )\n",
    "fit_elnet_basic = ElasticNetCV( cv = 10 , normalize = True , random_state = 0 , l1_ratio = 0.5, max_iter = 100000 ).fit( model_X_basic_train , std_Y )\n",
    "\n",
    "# Predictions\n",
    "yhat_lasso_cv_basic = scaler.inverse_transform( fit_lasso_cv_basic.predict( model_X_basic_test ).reshape(-1,1) )\n",
    "yhat_ridge_basic = scaler.inverse_transform( fit_ridge_basic.predict( model_X_basic_test ).reshape(-1,1) )\n",
    "yhat_elnet_basic = scaler.inverse_transform( fit_elnet_basic.predict( model_X_basic_test ).reshape(-1,1) )"
   ]
  },
  {
   "cell_type": "code",
   "execution_count": 23,
   "id": "59088203-32a3-46df-adbb-03228e9a3981",
   "metadata": {},
   "outputs": [],
   "source": [
    "MSE_lasso_cv_basic = sm.OLS( ((Y_test.to_numpy().reshape(-1,1) - yhat_lasso_cv_basic)**2 ) , np.ones( yhat_lasso_cv_basic.shape )  ).fit().summary2().tables[1].round(3)\n",
    "MSE_ridge_basic = sm.OLS( ((Y_test.to_numpy().reshape(-1,1) - yhat_ridge_basic)**2 ) , np.ones( yhat_ridge_basic.size )  ).fit().summary2().tables[1].round(3)\n",
    "MSE_elnet_basic = sm.OLS( ((Y_test.to_numpy().reshape(-1,1) - yhat_elnet_basic)**2 ) , np.ones( yhat_elnet_basic.size )  ).fit().summary2().tables[1].round(3)\n",
    "# our coefficient of MSE_elnet are far from r output"
   ]
  },
  {
   "cell_type": "code",
   "execution_count": 24,
   "id": "a304456b-f025-4db2-889f-0cc7c910cc9a",
   "metadata": {},
   "outputs": [],
   "source": [
    "R2_lasso_cv_basic = 1- MSE_ridge_basic.iloc[0,0] / np.var( Y_test )\n",
    "R2_ridge_basic = 1- MSE_lasso_cv_basic.iloc[0,0] / np.var( Y_test )\n",
    "R2_elnet_basic = 1- MSE_elnet_basic.iloc[0,0] / np.var( Y_test )"
   ]
  },
  {
   "cell_type": "markdown",
   "id": "a0552426-a9af-4fc0-96df-8f504b3b5c64",
   "metadata": {},
   "source": [
    "## 5. Random Forest Regressor"
   ]
  },
  {
   "cell_type": "code",
   "execution_count": 25,
   "id": "e48ccec2-9263-4ded-8b9b-7d0c56b2c702",
   "metadata": {},
   "outputs": [],
   "source": [
    "from sklearn.ensemble import RandomForestRegressor\n",
    "from sklearn.metrics import r2_score, mean_squared_error, accuracy_score\n",
    "from sklearn.model_selection import RandomizedSearchCV\n",
    "from sklearn.model_selection import GridSearchCV, train_test_split"
   ]
  },
  {
   "cell_type": "code",
   "execution_count": 26,
   "id": "0eea35e1-79f4-41e1-a660-c0c6e297e4f1",
   "metadata": {
    "tags": []
   },
   "outputs": [],
   "source": [
    "path = r'..\\..\\output\\data_preprocess\\dfs_0_i_mca.csv'\n",
    "data = pd.read_csv( path )"
   ]
  },
  {
   "cell_type": "code",
   "execution_count": 27,
   "id": "39eb1b1d-c5fa-48ac-9b4d-dae37795b697",
   "metadata": {},
   "outputs": [],
   "source": [
    "data = data.drop( [ 'monto_examinado', 'monto_objeto_servicio', 'corrup_intensa', \n",
    "                    'corrup_amplia', 'per_corrup1', 'per_corrup2' ], \n",
    "                  axis = 1 )"
   ]
  },
  {
   "cell_type": "code",
   "execution_count": 28,
   "id": "00c7775a-beca-476f-a488-2d5ffae6779e",
   "metadata": {},
   "outputs": [],
   "source": [
    "# Borrar aquellas filas en las que la variable dependiente tenga missing\n",
    "data = data.dropna( axis = 0, subset = [ 'monto_corrup2' ] )"
   ]
  },
  {
   "cell_type": "code",
   "execution_count": 29,
   "id": "78e98b0e-50e8-4f4a-bd51-58a14e42d456",
   "metadata": {},
   "outputs": [],
   "source": [
    "data = data.dropna( axis = 1 )"
   ]
  },
  {
   "cell_type": "code",
   "execution_count": 30,
   "id": "c4e2bcd7-e93a-465b-9676-10f648a5d650",
   "metadata": {},
   "outputs": [
    {
     "data": {
      "text/plain": [
       "0"
      ]
     },
     "execution_count": 30,
     "metadata": {},
     "output_type": "execute_result"
    }
   ],
   "source": [
    "data.isnull().sum().sum()"
   ]
  },
  {
   "cell_type": "code",
   "execution_count": 31,
   "id": "8b98655f-8864-45fb-8f6b-3d287a89f410",
   "metadata": {},
   "outputs": [],
   "source": [
    "x_train, x_test, y_train, y_test = train_test_split(data, data['monto_corrup2'], test_size = 0.3)"
   ]
  },
  {
   "cell_type": "code",
   "execution_count": 32,
   "id": "c0248170-4527-498f-aadd-a7990ac4667b",
   "metadata": {},
   "outputs": [
    {
     "name": "stdout",
     "output_type": "stream",
     "text": [
      "Fitting 5 folds for each of 8 candidates, totalling 40 fits\n",
      "{'criterion': 'squared_error', 'min_samples_leaf': 50, 'min_samples_split': 200, 'n_estimators': 300}\n",
      "0.3147647091005116\n",
      "Wall time: 8.26 s\n"
     ]
    }
   ],
   "source": [
    "%%time\n",
    "\n",
    "rf = RandomForestRegressor(random_state=0, n_jobs=5)\n",
    "\n",
    "# Parameters \n",
    "params = {\n",
    "    'n_estimators': [300, 200, 100, 50],\n",
    "    'min_samples_split': [400, 200],\n",
    "    'min_samples_leaf': [50],\n",
    "    'criterion': ['squared_error']}\n",
    "\n",
    "\n",
    "fgrid_search_cv = GridSearchCV(estimator = rf, \n",
    "                          param_grid = params, \n",
    "                          cv= 5,\n",
    "                          scoring= 'r2',\n",
    "                          return_train_score=True,\n",
    "                          n_jobs = 5, \n",
    "                          verbose = 10)\n",
    "\n",
    "fgrid_model_result = fgrid_search_cv.fit(x_train, y_train) \n",
    "print(fgrid_model_result.best_params_)\n",
    "print(fgrid_model_result.best_score_)"
   ]
  },
  {
   "cell_type": "code",
   "execution_count": 33,
   "id": "c12e8741-e727-4886-8836-9c3b0569c2a9",
   "metadata": {},
   "outputs": [
    {
     "data": {
      "text/plain": [
       "{'criterion': 'squared_error',\n",
       " 'min_samples_leaf': 50,\n",
       " 'min_samples_split': 200,\n",
       " 'n_estimators': 300}"
      ]
     },
     "execution_count": 33,
     "metadata": {},
     "output_type": "execute_result"
    }
   ],
   "source": [
    "# Mostrar los mejores parametros\n",
    "fgrid_model_result.best_params_"
   ]
  },
  {
   "cell_type": "code",
   "execution_count": 34,
   "id": "f5bf6494-fae5-4f9e-b3f7-f242c0e67d23",
   "metadata": {},
   "outputs": [],
   "source": [
    "# Entrenar el modelo optimo\n",
    "modelo_optimo = RandomForestRegressor( n_estimators = 300, \n",
    "                                       min_samples_split = 400, \n",
    "                                       min_samples_leaf = 50, \n",
    "                                       criterion = 'squared_error' )\n",
    "modelo_optimo.fit(x_train, y_train)\n",
    "y_pred = modelo_optimo.predict(x_test)"
   ]
  },
  {
   "cell_type": "code",
   "execution_count": 35,
   "id": "9f174980-f64a-49b2-92e2-652515a026a2",
   "metadata": {},
   "outputs": [],
   "source": [
    "MSE_random_forest = mean_squared_error(y_test, y_pred)\n",
    "R2_random_forest = r2_score(y_test, y_pred)"
   ]
  },
  {
   "cell_type": "markdown",
   "id": "0d2cc84f-a8c7-4661-a5f2-c251c04c1f24",
   "metadata": {},
   "source": [
    "## 6. XGboost"
   ]
  },
  {
   "cell_type": "code",
   "execution_count": 36,
   "id": "7257cac9-7bc4-4da1-827b-cf55b9bee221",
   "metadata": {},
   "outputs": [],
   "source": [
    "from xgboost import XGBRegressor"
   ]
  },
  {
   "cell_type": "code",
   "execution_count": 37,
   "id": "b277a432-d701-41e0-ab90-d941759dbf50",
   "metadata": {
    "tags": []
   },
   "outputs": [
    {
     "name": "stdout",
     "output_type": "stream",
     "text": [
      "Fitting 5 folds for each of 3 candidates, totalling 15 fits\n",
      "[22:13:04] WARNING: C:\\Users\\dev-admin\\croot\\xgboost-split_1675120659361\\work\\src\\learner.cc:576: \n",
      "Parameters: { \"reg\" } might not be used.\n",
      "\n",
      "  This could be a false alarm, with some parameters getting used by language bindings but\n",
      "  then being mistakenly passed down to XGBoost core, or some parameter actually being used\n",
      "  but getting flagged wrongly here. Please open an issue if you find any such cases.\n",
      "\n",
      "\n",
      "{'learning_rate': 1, 'max_depth': 5, 'n_estimators': 300, 'reg': 'squarederror'}\n",
      "0.8841682116789894\n",
      "Wall time: 15 s\n"
     ]
    }
   ],
   "source": [
    "%%time\n",
    "\n",
    "xgb = XGBRegressor()\n",
    "\n",
    "params = {\n",
    "      'n_estimators': [300, 200, 100],\n",
    "      'learning_rate': [1],\n",
    "      'max_depth': [5],\n",
    "      'reg':['squarederror']\n",
    "}\n",
    "\n",
    "xgb_grid_search_cv = GridSearchCV(estimator = xgb, \n",
    "                          param_grid = params, \n",
    "                          cv= 5,\n",
    "                          scoring= 'r2',\n",
    "                          return_train_score=True,\n",
    "                          n_jobs = 5, \n",
    "                          verbose = 10)\n",
    "\n",
    "xgrid_model_result = xgb_grid_search_cv.fit(x_train, y_train) \n",
    "print(xgrid_model_result.best_params_)\n",
    "print(xgrid_model_result.best_score_)"
   ]
  },
  {
   "cell_type": "code",
   "execution_count": 38,
   "id": "8c59d472-0375-4354-8bc0-1cfdc71bff2b",
   "metadata": {},
   "outputs": [
    {
     "data": {
      "text/plain": [
       "{'learning_rate': 1,\n",
       " 'max_depth': 5,\n",
       " 'n_estimators': 300,\n",
       " 'reg': 'squarederror'}"
      ]
     },
     "execution_count": 38,
     "metadata": {},
     "output_type": "execute_result"
    }
   ],
   "source": [
    "# Mostrar los mejores parametros\n",
    "xgrid_model_result.best_params_"
   ]
  },
  {
   "cell_type": "code",
   "execution_count": 39,
   "id": "0a5e9b88-6a20-4c9a-a47b-678e6f0c3726",
   "metadata": {
    "tags": []
   },
   "outputs": [
    {
     "name": "stdout",
     "output_type": "stream",
     "text": [
      "[22:13:07] WARNING: C:\\Users\\dev-admin\\croot\\xgboost-split_1675120659361\\work\\src\\learner.cc:576: \n",
      "Parameters: { \"reg\" } might not be used.\n",
      "\n",
      "  This could be a false alarm, with some parameters getting used by language bindings but\n",
      "  then being mistakenly passed down to XGBoost core, or some parameter actually being used\n",
      "  but getting flagged wrongly here. Please open an issue if you find any such cases.\n",
      "\n",
      "\n"
     ]
    }
   ],
   "source": [
    "# Entrenar el modelo optimo\n",
    "xgb_modelo_optimo = XGBRegressor( learning_rate = 1, \n",
    "                                       max_depth = 5, \n",
    "                                       n_estimators = 100, \n",
    "                                       reg = 'squared_error' )\n",
    "xgb_modelo_optimo.fit(x_train, y_train)\n",
    "y_pred = xgb_modelo_optimo.predict(x_test)"
   ]
  },
  {
   "cell_type": "code",
   "execution_count": 40,
   "id": "3c396b3e-df9d-4309-8246-1d148c611c50",
   "metadata": {},
   "outputs": [],
   "source": [
    "MSE_xgboost = mean_squared_error(y_test, y_pred)\n",
    "R2_xgboost = r2_score(y_test, y_pred)"
   ]
  },
  {
   "cell_type": "code",
   "execution_count": 41,
   "id": "7d18c6cf-5bad-4d46-ab0b-3b0345eca520",
   "metadata": {},
   "outputs": [
    {
     "data": {
      "text/plain": [
       "0.3268739424347362"
      ]
     },
     "execution_count": 41,
     "metadata": {},
     "output_type": "execute_result"
    }
   ],
   "source": [
    "R2_xgboost"
   ]
  },
  {
   "cell_type": "markdown",
   "id": "9072f4b2-2a2c-4d76-a0a6-93be29e0b5c6",
   "metadata": {},
   "source": [
    "## 7. Resultados"
   ]
  },
  {
   "cell_type": "code",
   "execution_count": 42,
   "id": "5a469516-244c-450f-b79a-e82587a5f478",
   "metadata": {},
   "outputs": [],
   "source": [
    "table = np.zeros( (7, 3) )"
   ]
  },
  {
   "cell_type": "code",
   "execution_count": 43,
   "id": "998f003e-4ddf-45c0-99c5-747f3d8586d8",
   "metadata": {},
   "outputs": [],
   "source": [
    "table[0,0:2]   = MSE_lm_basic\n",
    "table[1,0:2]   = MSE_lasso.iloc[0, [0, 1]]\n",
    "table[2,0:2]   = MSE_lasso_cv_basic.iloc[0, [0, 1]]\n",
    "table[3,0:2]   = MSE_ridge_basic.iloc[0, [0, 1]]\n",
    "table[4,0:2]   = MSE_elnet_basic.iloc[0, [0, 1]]\n",
    "table[5,0]   = MSE_random_forest\n",
    "table[6,0]   = MSE_xgboost"
   ]
  },
  {
   "cell_type": "code",
   "execution_count": 44,
   "id": "4fb23964-e184-4027-84e3-083702a1a0ff",
   "metadata": {},
   "outputs": [],
   "source": [
    "table[0,2]   = R2_lm_basic\n",
    "table[1,2]   = R2_lasso\n",
    "table[2,2]   = R2_lasso_cv_basic\n",
    "table[3,2]   = R2_ridge_basic\n",
    "table[4,2]   = R2_elnet_basic\n",
    "table[5,2]   = R2_random_forest\n",
    "table[6,2]   = R2_xgboost"
   ]
  },
  {
   "cell_type": "code",
   "execution_count": 45,
   "id": "783dc0ab-eedd-4972-8fd8-1b92859ca9ee",
   "metadata": {},
   "outputs": [
    {
     "data": {
      "text/html": [
       "<div>\n",
       "<style scoped>\n",
       "    .dataframe tbody tr th:only-of-type {\n",
       "        vertical-align: middle;\n",
       "    }\n",
       "\n",
       "    .dataframe tbody tr th {\n",
       "        vertical-align: top;\n",
       "    }\n",
       "\n",
       "    .dataframe thead th {\n",
       "        text-align: right;\n",
       "    }\n",
       "</style>\n",
       "<table border=\"1\" class=\"dataframe\">\n",
       "  <thead>\n",
       "    <tr style=\"text-align: right;\">\n",
       "      <th></th>\n",
       "      <th>MSE</th>\n",
       "      <th>S_E_ for MSE</th>\n",
       "      <th>R-squared</th>\n",
       "    </tr>\n",
       "  </thead>\n",
       "  <tbody>\n",
       "    <tr>\n",
       "      <th>Least Squares (basic)</th>\n",
       "      <td>2.064006e+15</td>\n",
       "      <td>6.115781e+14</td>\n",
       "      <td>-4.948</td>\n",
       "    </tr>\n",
       "    <tr>\n",
       "      <th>Lasso</th>\n",
       "      <td>3.430969e+14</td>\n",
       "      <td>1.786441e+14</td>\n",
       "      <td>0.006</td>\n",
       "    </tr>\n",
       "    <tr>\n",
       "      <th>Cross-Validated lasso</th>\n",
       "      <td>3.453562e+14</td>\n",
       "      <td>1.775808e+14</td>\n",
       "      <td>0.013</td>\n",
       "    </tr>\n",
       "    <tr>\n",
       "      <th>Cross-Validated ridge</th>\n",
       "      <td>3.406173e+14</td>\n",
       "      <td>1.755064e+14</td>\n",
       "      <td>-0.001</td>\n",
       "    </tr>\n",
       "    <tr>\n",
       "      <th>Cross-Validated elnet</th>\n",
       "      <td>3.453562e+14</td>\n",
       "      <td>1.775808e+14</td>\n",
       "      <td>-0.001</td>\n",
       "    </tr>\n",
       "    <tr>\n",
       "      <th>Random Forest</th>\n",
       "      <td>5.263792e+15</td>\n",
       "      <td>0.000000e+00</td>\n",
       "      <td>-0.003</td>\n",
       "    </tr>\n",
       "    <tr>\n",
       "      <th>XGBoost</th>\n",
       "      <td>3.533486e+15</td>\n",
       "      <td>0.000000e+00</td>\n",
       "      <td>0.327</td>\n",
       "    </tr>\n",
       "  </tbody>\n",
       "</table>\n",
       "</div>"
      ],
      "text/plain": [
       "                                MSE  S_E_ for MSE  R-squared\n",
       "Least Squares (basic)  2.064006e+15  6.115781e+14     -4.948\n",
       "Lasso                  3.430969e+14  1.786441e+14      0.006\n",
       "Cross-Validated lasso  3.453562e+14  1.775808e+14      0.013\n",
       "Cross-Validated ridge  3.406173e+14  1.755064e+14     -0.001\n",
       "Cross-Validated elnet  3.453562e+14  1.775808e+14     -0.001\n",
       "Random Forest          5.263792e+15  0.000000e+00     -0.003\n",
       "XGBoost                3.533486e+15  0.000000e+00      0.327"
      ]
     },
     "execution_count": 45,
     "metadata": {},
     "output_type": "execute_result"
    }
   ],
   "source": [
    "colnames_table= [\"MSE\", \"S_E_ for MSE\", \"R-squared\"]\n",
    "rownames_table= [\"Least Squares (basic)\", \"Lasso\",  \"Cross-Validated lasso\", \n",
    "                 \"Cross-Validated ridge\",\"Cross-Validated elnet\", \"Random Forest\",\n",
    "                 \"XGBoost\"]\n",
    "\n",
    "table_pandas = pd.DataFrame( table, columns = colnames_table )\n",
    "table_pandas.index = rownames_table\n",
    "\n",
    "table_pandas = table_pandas.round(3)\n",
    "table_pandas"
   ]
  },
  {
   "cell_type": "code",
   "execution_count": null,
   "id": "b7522aab-0104-4b82-9b90-503b9803afc6",
   "metadata": {},
   "outputs": [],
   "source": []
  },
  {
   "cell_type": "code",
   "execution_count": null,
   "id": "460ea50e-21b3-4523-8815-1ee6f1abc7c7",
   "metadata": {},
   "outputs": [],
   "source": []
  },
  {
   "cell_type": "code",
   "execution_count": null,
   "id": "e894454f-1ceb-409b-bab5-9eb05b10882d",
   "metadata": {},
   "outputs": [],
   "source": []
  },
  {
   "cell_type": "code",
   "execution_count": null,
   "id": "56ff045c-9b9a-4987-9f54-5d6489f82b48",
   "metadata": {},
   "outputs": [],
   "source": []
  },
  {
   "cell_type": "markdown",
   "id": "e0f92a83-0c9b-4bb8-9db9-574b0b73b43b",
   "metadata": {},
   "source": [
    "## 5. Resultados"
   ]
  },
  {
   "cell_type": "code",
   "execution_count": 46,
   "id": "5de904f2-3065-42a6-89f5-33a2c9c4e973",
   "metadata": {},
   "outputs": [],
   "source": [
    "#table = np.zeros( (5, 3) )\n",
    "#table"
   ]
  },
  {
   "cell_type": "code",
   "execution_count": 47,
   "id": "28c21bdc-5ff7-47d7-a1c0-d17ca8d9e15d",
   "metadata": {},
   "outputs": [],
   "source": [
    "#table[0,0:2]   = MSE_lm_basic\n",
    "#table[1,0:2]   = MSE_lasso.iloc[0, [0, 1]]\n",
    "#table[2,0:2]   = MSE_lasso_cv_basic.iloc[0, [0, 1]]\n",
    "#table[3,0:2]   = MSE_ridge_basic.iloc[0, [0, 1]]\n",
    "#table[4,0:2]   = MSE_elnet_basic.iloc[0, [0, 1]]"
   ]
  },
  {
   "cell_type": "code",
   "execution_count": 48,
   "id": "66976cae-47ab-496f-813f-b21a341f679a",
   "metadata": {},
   "outputs": [],
   "source": [
    "#table[0,2]   = R2_lm_basic\n",
    "#table[1,2]   = R2_lasso\n",
    "#table[2,2]   = R2_lasso_cv_basic\n",
    "#table[3,2]   = R2_ridge_basic\n",
    "#table[4,2]   = R2_elnet_basic"
   ]
  },
  {
   "cell_type": "code",
   "execution_count": 49,
   "id": "c44cdc73-c206-4f36-8a3a-f16befb71bff",
   "metadata": {},
   "outputs": [],
   "source": [
    "#colnames_table= [\"MSE\", \"S_E_ for MSE\", \"R-squared\"]\n",
    "#rownames_table= [\"Least Squares (basic)\", \"Lasso\",  \"Cross-Validated lasso\", \"Cross-Validated ridge\",\"Cross-Validated elnet\"]\n",
    "\n",
    "#table_pandas = pd.DataFrame( table, columns = colnames_table )\n",
    "#table_pandas.index = rownames_table\n",
    "\n",
    "#table_pandas = table_pandas.round(3)\n",
    "#table_html = table_pandas.to_latex()\n",
    "#table_pandas"
   ]
  },
  {
   "cell_type": "code",
   "execution_count": null,
   "id": "c12c3447-8dab-47a2-819e-5f2469a52728",
   "metadata": {},
   "outputs": [],
   "source": []
  },
  {
   "cell_type": "code",
   "execution_count": null,
   "id": "9982b5b0-4ba9-470f-bf66-0e778d869804",
   "metadata": {},
   "outputs": [],
   "source": []
  },
  {
   "cell_type": "code",
   "execution_count": null,
   "id": "9b2420ee-d4a3-49d5-b5c0-beff9a2c17c2",
   "metadata": {},
   "outputs": [],
   "source": []
  },
  {
   "cell_type": "code",
   "execution_count": null,
   "id": "2ac32781-232c-4c53-bc4b-adee7bc6a66f",
   "metadata": {},
   "outputs": [],
   "source": []
  },
  {
   "cell_type": "code",
   "execution_count": null,
   "id": "78ecc511-ae59-47d1-a9c4-bd531675f31c",
   "metadata": {},
   "outputs": [],
   "source": []
  },
  {
   "cell_type": "code",
   "execution_count": null,
   "id": "e8976ff1-f600-4849-8a48-a6645e387112",
   "metadata": {},
   "outputs": [],
   "source": []
  },
  {
   "cell_type": "code",
   "execution_count": null,
   "id": "c6d9ebda-88ab-4a55-963f-272b55882abd",
   "metadata": {},
   "outputs": [],
   "source": []
  },
  {
   "cell_type": "code",
   "execution_count": null,
   "id": "03dc4e83-d883-4bc8-80a1-9f2cc8ee6c75",
   "metadata": {},
   "outputs": [],
   "source": []
  },
  {
   "cell_type": "code",
   "execution_count": null,
   "id": "2d1b5443-f42e-4d15-ae53-d61b86e37843",
   "metadata": {},
   "outputs": [],
   "source": []
  },
  {
   "cell_type": "markdown",
   "id": "f2e64895-a6de-4951-a070-085d45349cb3",
   "metadata": {},
   "source": [
    "Apuntes:\n",
    "\n",
    "* Para definir los modelos patsy, estos borran por default la data missing. Para evitar este comportamiento se adiciona el parámetro: NA_action=patsy.NAAction(NA_types=[])\n",
    "https://stackoverflow.com/questions/51640071/stop-patsy-dmatrix-from-dropping-nan-rows\n",
    "\n",
    "\n",
    "* Para correr con missing values los modelos OLS, se adiciona el parámetro: missing='drop'\n",
    "\n",
    "* Si ponemos los dos ajustes, el modelo OLS si corre. \n",
    "\n",
    "* Este error \"zero-size array to reduction operation maximum which has no identity\" ocurre porque cuando tenemos demasiados missings, la dataframe se queda sin columnas, pues todas tienen al menos un missing. https://stackoverflow.com/questions/45545774/multiple-ols-regression-with-statsmodel-valueerror-zero-size-array-to-reduction"
   ]
  }
 ],
 "metadata": {
  "kernelspec": {
   "display_name": "Python 3 (ipykernel)",
   "language": "python",
   "name": "python3"
  },
  "language_info": {
   "codemirror_mode": {
    "name": "ipython",
    "version": 3
   },
   "file_extension": ".py",
   "mimetype": "text/x-python",
   "name": "python",
   "nbconvert_exporter": "python",
   "pygments_lexer": "ipython3",
   "version": "3.9.13"
  }
 },
 "nbformat": 4,
 "nbformat_minor": 5
}
