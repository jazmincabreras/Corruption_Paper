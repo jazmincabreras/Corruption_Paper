{
 "cells": [
  {
   "cell_type": "code",
   "execution_count": 2,
   "id": "2c81b9c5-5d4f-46f0-a272-cbd7dfe72ae0",
   "metadata": {},
   "outputs": [],
   "source": [
    "import pandas as  pd, numpy as np"
   ]
  },
  {
   "cell_type": "code",
   "execution_count": 3,
   "id": "0c47bc09-013d-45c8-8c7b-21696a6ee9d0",
   "metadata": {},
   "outputs": [],
   "source": [
    "# Cargar datos\n",
    "path1 = r'..\\..\\output\\data_preprocess\\dfs_0_i_base0_a.csv'\n",
    "path2 = r'..\\..\\output\\data_preprocess\\dfs_0_i_base1_a.csv'\n",
    "path3 = r'..\\..\\output\\data_preprocess\\dfs_0_i_base2_a.csv'\n",
    "path4 = r'..\\..\\output\\data_preprocess\\dfs_0_i_base3_a.csv'"
   ]
  },
  {
   "cell_type": "code",
   "execution_count": 4,
   "id": "a3aaaf4e-93cb-45af-824e-843b94f9155e",
   "metadata": {},
   "outputs": [],
   "source": [
    "data1 = pd.read_csv( path1 )\n",
    "data2 = pd.read_csv( path2 )\n",
    "data3 = pd.read_csv( path3 )\n",
    "data4 = pd.read_csv( path4 )"
   ]
  },
  {
   "cell_type": "code",
   "execution_count": 5,
   "id": "5f528e7e-6ad0-402d-8feb-703daac430da",
   "metadata": {},
   "outputs": [
    {
     "data": {
      "text/plain": [
       "1.0    0.665644\n",
       "0.0    0.334356\n",
       "Name: corrup_intensa, dtype: float64"
      ]
     },
     "execution_count": 5,
     "metadata": {},
     "output_type": "execute_result"
    }
   ],
   "source": [
    "data1[ 'corrup_intensa' ].value_counts( normalize = True )"
   ]
  },
  {
   "cell_type": "code",
   "execution_count": 6,
   "id": "630a1c78-f821-446c-8aec-fca664b97a5c",
   "metadata": {},
   "outputs": [
    {
     "data": {
      "text/plain": [
       "1.0    0.617751\n",
       "0.0    0.382249\n",
       "Name: corrup_intensa, dtype: float64"
      ]
     },
     "execution_count": 6,
     "metadata": {},
     "output_type": "execute_result"
    }
   ],
   "source": [
    "data2[ 'corrup_intensa' ].value_counts( normalize = True )"
   ]
  },
  {
   "cell_type": "code",
   "execution_count": 7,
   "id": "52f2b0d4-8592-4441-a23d-0e2aaea16eeb",
   "metadata": {},
   "outputs": [
    {
     "data": {
      "text/plain": [
       "1.0    0.66124\n",
       "0.0    0.33876\n",
       "Name: corrup_intensa, dtype: float64"
      ]
     },
     "execution_count": 7,
     "metadata": {},
     "output_type": "execute_result"
    }
   ],
   "source": [
    "data3[ 'corrup_intensa' ].value_counts( normalize = True )"
   ]
  },
  {
   "cell_type": "code",
   "execution_count": 8,
   "id": "0551a571-39e9-40a5-ba17-2cc15fdb69a3",
   "metadata": {},
   "outputs": [
    {
     "data": {
      "text/plain": [
       "1.0    0.576943\n",
       "0.0    0.423057\n",
       "Name: corrup_intensa, dtype: float64"
      ]
     },
     "execution_count": 8,
     "metadata": {},
     "output_type": "execute_result"
    }
   ],
   "source": [
    "data4[ 'corrup_intensa' ].value_counts( normalize = True )"
   ]
  }
 ],
 "metadata": {
  "kernelspec": {
   "display_name": "Python 3 (ipykernel)",
   "language": "python",
   "name": "python3"
  },
  "language_info": {
   "codemirror_mode": {
    "name": "ipython",
    "version": 3
   },
   "file_extension": ".py",
   "mimetype": "text/x-python",
   "name": "python",
   "nbconvert_exporter": "python",
   "pygments_lexer": "ipython3",
   "version": "3.9.13"
  }
 },
 "nbformat": 4,
 "nbformat_minor": 5
}
