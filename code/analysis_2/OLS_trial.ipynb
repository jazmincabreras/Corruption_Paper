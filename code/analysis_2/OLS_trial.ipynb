{
 "cells": [
  {
   "cell_type": "markdown",
   "id": "37ec35ae-4a3b-4ccb-ba46-3bf59e6a686e",
   "metadata": {},
   "source": [
    "# BASE 0"
   ]
  },
  {
   "cell_type": "code",
   "execution_count": 1,
   "id": "1fc46705-89db-4425-b9b3-89f3f922faf2",
   "metadata": {},
   "outputs": [],
   "source": [
    "import warnings\n",
    "warnings.filterwarnings('ignore')"
   ]
  },
  {
   "cell_type": "code",
   "execution_count": 2,
   "id": "9d404b42-3738-4fe2-86f0-f381b57ded81",
   "metadata": {},
   "outputs": [],
   "source": [
    "import pandas as  pd, numpy as np\n",
    "import matplotlib.pyplot as plt\n",
    "import statsmodels.api as sm\n",
    "import statsmodels.formula.api as smf"
   ]
  },
  {
   "cell_type": "code",
   "execution_count": 3,
   "id": "544b04ea-0892-4078-8f79-4025f401a634",
   "metadata": {},
   "outputs": [],
   "source": [
    "# Cargar datos\n",
    "path = r'..\\..\\output\\data_preprocess\\base0_ac_last.csv'\n",
    "data = pd.read_csv( path )"
   ]
  },
  {
   "cell_type": "code",
   "execution_count": 4,
   "id": "83e9b2eb-8324-4d10-bd77-c8b42e5007dc",
   "metadata": {},
   "outputs": [
    {
     "data": {
      "text/plain": [
       "(419, 6813)"
      ]
     },
     "execution_count": 4,
     "metadata": {},
     "output_type": "execute_result"
    }
   ],
   "source": [
    "data.shape"
   ]
  },
  {
   "cell_type": "code",
   "execution_count": 5,
   "id": "9d06d1cb-2fe0-414d-ab80-d698133630e5",
   "metadata": {},
   "outputs": [
    {
     "data": {
      "text/plain": [
       "1.0    0.725537\n",
       "0.0    0.274463\n",
       "Name: corrup_intensa, dtype: float64"
      ]
     },
     "execution_count": 5,
     "metadata": {},
     "output_type": "execute_result"
    }
   ],
   "source": [
    "data[ 'corrup_intensa' ].value_counts( normalize = True )"
   ]
  },
  {
   "cell_type": "code",
   "execution_count": 6,
   "id": "0ed533d1-094f-4a31-bb85-5e40326d2944",
   "metadata": {},
   "outputs": [],
   "source": [
    "from sklearn.model_selection import train_test_split"
   ]
  },
  {
   "cell_type": "code",
   "execution_count": 14,
   "id": "cd7fd114-3536-4881-8e7f-e7e471928b25",
   "metadata": {},
   "outputs": [],
   "source": [
    "dep_var = [ 'corrup_intensa' ]\n",
    "\n",
    "pred_vars1 = [ '_tejgtotfun_f5r08pgercon', '_tejgge_r08ct05biser', \n",
    "              '_tejgtotfun_f5r08protsoc', '_tejgrb_redr',  \n",
    "              '_tejgct_r08gstcr', 'piagfun_f5ct05pgercon',\n",
    "              '_tejgct_r07gstcr', 'tdvgfun_f5ct05pgercon',\n",
    "              '_tejgtotfun_f5r08amb', '_dfgdevpiagge_r08ct05popso' ]\n",
    "\n",
    "pred_vars2 = [ '_tejgtotfun_f2opseg', '_pimgct_r13gstcp',\n",
    "               '_dfgdevpiagfun_f5r08ct06protsoc', '_tejgfun_f5ct05opseg',\n",
    "               'pimgfun_f5r18ct06amb', '_tejgtotfun_f5trans',\n",
    "               'dfgdevpiagtotfun_f5dpub', 'dfgpimpiafun_f2ct05prevsoc',\n",
    "               'tejgfun_f5ct05agro', 'piagfun_f5r18ct06energia' ]\n",
    "        \n",
    "\n",
    "\n",
    "\n",
    "X1 = data[ pred_vars1 ]\n",
    "X2 = data[ pred_vars2 ]\n",
    "y = data[ 'corrup_intensa' ]"
   ]
  },
  {
   "cell_type": "code",
   "execution_count": 13,
   "id": "b8e6e2e8-633b-4e11-9ef3-29cb888ed1fa",
   "metadata": {},
   "outputs": [
    {
     "name": "stdout",
     "output_type": "stream",
     "text": [
      "Optimization terminated successfully.\n",
      "         Current function value: 0.543309\n",
      "         Iterations 7\n",
      "                              Results: Logit\n",
      "==========================================================================\n",
      "Model:                 Logit               Pseudo R-squared:    0.075     \n",
      "Dependent Variable:    corrup_intensa      AIC:                 475.2934  \n",
      "Date:                  2023-03-07 00:50    BIC:                 515.6721  \n",
      "No. Observations:      419                 Log-Likelihood:      -227.65   \n",
      "Df Model:              9                   LL-Null:             -246.22   \n",
      "Df Residuals:          409                 LLR p-value:         2.4691e-05\n",
      "Converged:             1.0000              Scale:               1.0000    \n",
      "No. Iterations:        7.0000                                             \n",
      "--------------------------------------------------------------------------\n",
      "                            Coef.  Std.Err.    z    P>|z|   [0.025  0.975]\n",
      "--------------------------------------------------------------------------\n",
      "_tejgtotfun_f5r08pgercon   -0.5051   0.3568 -1.4156 0.1569 -1.2045  0.1942\n",
      "_tejgge_r08ct05biser        0.4744   0.5406  0.8775 0.3802 -0.5852  1.5341\n",
      "_tejgtotfun_f5r08protsoc   -0.0634   0.0451 -1.4056 0.1598 -0.1517  0.0250\n",
      "_tejgrb_redr               -0.0205   0.0462 -0.4431 0.6577 -0.1110  0.0700\n",
      "_tejgct_r08gstcr            0.0506   0.6353  0.0797 0.9365 -1.1945  1.2958\n",
      "piagfun_f5ct05pgercon      -0.8027   0.4027 -1.9932 0.0462 -1.5920 -0.0134\n",
      "_tejgct_r07gstcr            0.0102   0.0291  0.3501 0.7263 -0.0468  0.0672\n",
      "tdvgfun_f5ct05pgercon       0.9115   0.4024  2.2651 0.0235  0.1228  1.7001\n",
      "_tejgtotfun_f5r08amb       -0.0774   0.0497 -1.5585 0.1191 -0.1747  0.0199\n",
      "_dfgdevpiagge_r08ct05popso  0.3741   0.6903  0.5420 0.5878 -0.9788  1.7271\n",
      "==========================================================================\n",
      "\n"
     ]
    }
   ],
   "source": [
    "import statsmodels.api as sm\n",
    "logit_model1 = sm.Logit(y,X1)\n",
    "result1 = logit_model1.fit()\n",
    "print(result1.summary2())"
   ]
  },
  {
   "cell_type": "code",
   "execution_count": 15,
   "id": "c447f361-f756-4158-8e88-2751387bbefa",
   "metadata": {},
   "outputs": [
    {
     "name": "stdout",
     "output_type": "stream",
     "text": [
      "Optimization terminated successfully.\n",
      "         Current function value: 0.601208\n",
      "         Iterations 7\n",
      "                                Results: Logit\n",
      "===============================================================================\n",
      "Model:                    Logit                 Pseudo R-squared:      -0.023  \n",
      "Dependent Variable:       corrup_intensa        AIC:                   523.8121\n",
      "Date:                     2023-03-07 00:52      BIC:                   564.1908\n",
      "No. Observations:         419                   Log-Likelihood:        -251.91 \n",
      "Df Model:                 9                     LL-Null:               -246.22 \n",
      "Df Residuals:             409                   LLR p-value:           1.0000  \n",
      "Converged:                1.0000                Scale:                 1.0000  \n",
      "No. Iterations:           7.0000                                               \n",
      "-------------------------------------------------------------------------------\n",
      "                                 Coef.  Std.Err.    z    P>|z|   [0.025  0.975]\n",
      "-------------------------------------------------------------------------------\n",
      "_tejgtotfun_f2opseg             -0.1054   0.0311 -3.3871 0.0007 -0.1665 -0.0444\n",
      "_pimgct_r13gstcp                 0.0455   0.0166  2.7345 0.0062  0.0129  0.0781\n",
      "_dfgdevpiagfun_f5r08ct06protsoc -3.0858   1.8404 -1.6767 0.0936 -6.6930  0.5214\n",
      "_tejgfun_f5ct05opseg            -0.0015   0.0400 -0.0382 0.9695 -0.0800  0.0769\n",
      "pimgfun_f5r18ct06amb             0.0430   0.0169  2.5525 0.0107  0.0100  0.0760\n",
      "_tejgtotfun_f5trans              0.0776   0.0282  2.7502 0.0060  0.0223  0.1330\n",
      "dfgdevpiagtotfun_f5dpub          0.1238   0.1091  1.1346 0.2566 -0.0901  0.3377\n",
      "dfgpimpiafun_f2ct05prevsoc      -0.1588   1.1394 -0.1394 0.8892 -2.3920  2.0744\n",
      "tejgfun_f5ct05agro              -0.0275   0.0321 -0.8552 0.3924 -0.0904  0.0355\n",
      "piagfun_f5r18ct06energia         0.0068   0.0268  0.2523 0.8008 -0.0458  0.0594\n",
      "===============================================================================\n",
      "\n"
     ]
    }
   ],
   "source": [
    "logit_model2 = sm.Logit(y,X2)\n",
    "result2 = logit_model2.fit()\n",
    "print(result2.summary2())"
   ]
  },
  {
   "cell_type": "code",
   "execution_count": 18,
   "id": "4611f5a6-3525-45d6-9833-6c610f301b65",
   "metadata": {},
   "outputs": [],
   "source": [
    "from sklearn.linear_model import LogisticRegression\n",
    "from sklearn.metrics import accuracy_score, confusion_matrix, log_loss, roc_auc_score\n",
    "from sklearn.metrics import classification_report"
   ]
  },
  {
   "cell_type": "code",
   "execution_count": 16,
   "id": "e83c935d-f666-4f4f-93b9-f78b0effa7e7",
   "metadata": {},
   "outputs": [],
   "source": [
    "x_train, x_test, y_train, y_test = train_test_split( data[ pred_vars1 ], data[ 'corrup_intensa' ], test_size = 0.25 )"
   ]
  },
  {
   "cell_type": "code",
   "execution_count": 19,
   "id": "7813d775-ebbe-4fba-92ee-89688223e953",
   "metadata": {},
   "outputs": [
    {
     "name": "stdout",
     "output_type": "stream",
     "text": [
      "Wall time: 32.3 ms\n"
     ]
    }
   ],
   "source": [
    "%%time\n",
    "\n",
    "# Implementing the model\n",
    "lg_model = LogisticRegression().fit( x_train, y_train )\n",
    "\n",
    "# Predict over test set\n",
    "y_lg_pred_class = lg_model.predict( x_test )\n",
    "y_lg_pred_prob = lg_model.predict_proba( x_test )[ :, 1 ]"
   ]
  },
  {
   "cell_type": "code",
   "execution_count": 20,
   "id": "ef85fc66-c936-4516-9735-3350dc80b13b",
   "metadata": {},
   "outputs": [],
   "source": [
    "# Calculating metrics\n",
    "columns = [ 'no', 'si' ]\n",
    "lg_report = classification_report(y_test, y_lg_pred_class, target_names = columns, output_dict = True )\n",
    "\n",
    "lg_no_precision = lg_report[ 'no' ][ 'precision' ]\n",
    "lg_no_recall = lg_report[ 'no' ][ 'recall' ]\n",
    "lg_no_f1_score = lg_report[ 'no' ][ 'f1-score' ]\n",
    "\n",
    "lg_si_precision = lg_report[ 'si' ][ 'precision' ]\n",
    "lg_si_recall = lg_report[ 'si' ][ 'recall' ]\n",
    "lg_si_f1_score = lg_report[ 'si' ][ 'f1-score' ]\n",
    "\n",
    "accuracy_lg = accuracy_score( y_test, y_lg_pred_class )\n",
    "log_loss_lg = log_loss( y_test, y_lg_pred_class )\n",
    "roc_auc_lg = roc_auc_score( y_test, y_lg_pred_prob )"
   ]
  },
  {
   "cell_type": "code",
   "execution_count": 22,
   "id": "24536de9-4f58-4c98-80a5-9d8dff6294e7",
   "metadata": {},
   "outputs": [
    {
     "data": {
      "text/plain": [
       "0.7772449869224063"
      ]
     },
     "execution_count": 22,
     "metadata": {},
     "output_type": "execute_result"
    }
   ],
   "source": [
    "roc_auc_lg"
   ]
  },
  {
   "cell_type": "code",
   "execution_count": 21,
   "id": "60b9cbb0-112b-4984-9b3c-2d087505b7c9",
   "metadata": {},
   "outputs": [
    {
     "name": "stdout",
     "output_type": "stream",
     "text": [
      "              precision    recall  f1-score   support\n",
      "\n",
      "          no       0.56      0.29      0.38        31\n",
      "          si       0.75      0.91      0.82        74\n",
      "\n",
      "    accuracy                           0.72       105\n",
      "   macro avg       0.66      0.60      0.60       105\n",
      "weighted avg       0.70      0.72      0.69       105\n",
      "\n"
     ]
    }
   ],
   "source": [
    "print( classification_report(y_test, y_lg_pred_class, target_names = columns))"
   ]
  },
  {
   "cell_type": "code",
   "execution_count": 23,
   "id": "41272fb3-a1be-4f74-a0ac-6cceefc3dd77",
   "metadata": {},
   "outputs": [
    {
     "data": {
      "text/plain": [
       "array([[-0.39730064,  0.56604888, -0.00843748, -0.04444433, -0.14165806,\n",
       "        -0.58033408,  0.0158754 ,  0.51729802, -0.08609331, -0.08882769]])"
      ]
     },
     "execution_count": 23,
     "metadata": {},
     "output_type": "execute_result"
    }
   ],
   "source": [
    "lg_model.coef_"
   ]
  },
  {
   "cell_type": "markdown",
   "id": "39fa16b8-3de3-483c-8534-76dff70f0156",
   "metadata": {},
   "source": [
    "# BASE 1"
   ]
  },
  {
   "cell_type": "code",
   "execution_count": 24,
   "id": "c6fcff4f-82fc-4acd-9ddc-ed51e081bccb",
   "metadata": {},
   "outputs": [],
   "source": [
    "path = r'..\\..\\output\\data_preprocess\\base1_ac_last.csv'\n",
    "data = pd.read_csv( path )"
   ]
  },
  {
   "cell_type": "code",
   "execution_count": 27,
   "id": "c09233e9-501e-4824-aa84-15e4c302f8ec",
   "metadata": {},
   "outputs": [],
   "source": [
    "dep_var = [ 'corrup_intensa' ]\n",
    "\n",
    "pred_vars1 = [ '_tejgfun_f2ct05amb', '_tejgge_r09ct05biser', 'tdvgge_r09ct05biser',           \n",
    "               'piagft_redr', 'dfgdevpiagfun_f2ct05pgercon', '_tejgfun_f5ct05amb',            \n",
    "               '_tejgtotfun_f2opseg', '_tejgtotfun_f5protsoc', '_tejgfun_f5ct05opseg',\n",
    "               '_tejgrb_reod' ]       \n",
    "\n",
    "pred_vars2 = [ '_tejgct_r18srdeu', 'piagtotfun_f5dpub', '_tdvgfun_f3ct06agro',       \n",
    "               'dfgdevpiagtotfun_f2turi', '_tejgfun_f2ct05protsoc', '_tejgtotfun_f2san',         \n",
    "               'per_054', '_devppimtotfun_f2san', '_tdvgfun_f5r07ct05agro', 'devppimtotfun_f2edu' ]      \n",
    "\n",
    "    \n",
    "X1 = data[ pred_vars1 ]\n",
    "X2 = data[ pred_vars2 ]\n",
    "y = data[ 'corrup_intensa' ]"
   ]
  },
  {
   "cell_type": "code",
   "execution_count": 26,
   "id": "bd4e33d4-e164-4a24-9b99-9f39b2ddcf07",
   "metadata": {},
   "outputs": [
    {
     "name": "stdout",
     "output_type": "stream",
     "text": [
      "Optimization terminated successfully.\n",
      "         Current function value: 0.576243\n",
      "         Iterations 6\n",
      "                              Results: Logit\n",
      "===========================================================================\n",
      "Model:                  Logit               Pseudo R-squared:    0.094     \n",
      "Dependent Variable:     corrup_intensa      AIC:                 661.9349  \n",
      "Date:                   2023-03-07 01:03    BIC:                 705.1606  \n",
      "No. Observations:       557                 Log-Likelihood:      -320.97   \n",
      "Df Model:               9                   LL-Null:             -354.07   \n",
      "Df Residuals:           547                 LLR p-value:         8.3711e-11\n",
      "Converged:              1.0000              Scale:               1.0000    \n",
      "No. Iterations:         6.0000                                             \n",
      "---------------------------------------------------------------------------\n",
      "                             Coef.  Std.Err.    z    P>|z|   [0.025  0.975]\n",
      "---------------------------------------------------------------------------\n",
      "_tejgfun_f2ct05amb          -0.0946   0.0447 -2.1156 0.0344 -0.1823 -0.0070\n",
      "_tejgge_r09ct05biser        -0.0797   0.0643 -1.2391 0.2153 -0.2058  0.0464\n",
      "tdvgge_r09ct05biser         -0.0496   0.0698 -0.7105 0.4774 -0.1864  0.0872\n",
      "piagft_redr                  0.1567   0.0685  2.2896 0.0220  0.0226  0.2909\n",
      "dfgdevpiagfun_f2ct05pgercon -0.0865   0.0571 -1.5144 0.1299 -0.1986  0.0255\n",
      "_tejgfun_f5ct05amb          -0.0272   0.0498 -0.5464 0.5848 -0.1248  0.0704\n",
      "_tejgtotfun_f2opseg         -0.0272   0.0456 -0.5962 0.5511 -0.1165  0.0622\n",
      "_tejgtotfun_f5protsoc       -0.0213   0.0397 -0.5370 0.5912 -0.0991  0.0564\n",
      "_tejgfun_f5ct05opseg         0.0255   0.0478  0.5350 0.5927 -0.0680  0.1191\n",
      "_tejgrb_reod                 0.1075   0.0539  1.9958 0.0460  0.0019  0.2131\n",
      "===========================================================================\n",
      "\n"
     ]
    }
   ],
   "source": [
    "import statsmodels.api as sm\n",
    "logit_model1 = sm.Logit(y,X1)\n",
    "result1 = logit_model1.fit()\n",
    "print(result1.summary2())"
   ]
  },
  {
   "cell_type": "code",
   "execution_count": 28,
   "id": "9eb2dbc1-d313-491f-9ef4-b60e8a49ad7e",
   "metadata": {},
   "outputs": [
    {
     "name": "stdout",
     "output_type": "stream",
     "text": [
      "Optimization terminated successfully.\n",
      "         Current function value: 0.645714\n",
      "         Iterations 5\n",
      "                            Results: Logit\n",
      "======================================================================\n",
      "Model:                 Logit              Pseudo R-squared:   -0.016  \n",
      "Dependent Variable:    corrup_intensa     AIC:                739.3253\n",
      "Date:                  2023-03-07 01:05   BIC:                782.5510\n",
      "No. Observations:      557                Log-Likelihood:     -359.66 \n",
      "Df Model:              9                  LL-Null:            -354.07 \n",
      "Df Residuals:          547                LLR p-value:        1.0000  \n",
      "Converged:             1.0000             Scale:              1.0000  \n",
      "No. Iterations:        5.0000                                         \n",
      "----------------------------------------------------------------------\n",
      "                         Coef.  Std.Err.    z    P>|z|   [0.025 0.975]\n",
      "----------------------------------------------------------------------\n",
      "_tejgct_r18srdeu        -0.0323   0.0299 -1.0792 0.2805 -0.0909 0.0263\n",
      "piagtotfun_f5dpub       -0.0173   0.0217 -0.7964 0.4258 -0.0599 0.0253\n",
      "_tdvgfun_f3ct06agro     -0.0243   0.0439 -0.5533 0.5801 -0.1104 0.0618\n",
      "dfgdevpiagtotfun_f2turi  1.1804   1.1583  1.0191 0.3082 -1.0898 3.4507\n",
      "_tejgfun_f2ct05protsoc  -0.0055   0.0122 -0.4480 0.6541 -0.0295 0.0185\n",
      "_tejgtotfun_f2san       -0.0566   0.0395 -1.4339 0.1516 -0.1340 0.0208\n",
      "per_054                  0.0004   0.0011  0.3618 0.7175 -0.0018 0.0026\n",
      "_devppimtotfun_f2san     0.3068   0.0850  3.6100 0.0003  0.1402 0.4734\n",
      "_tdvgfun_f5r07ct05agro   0.1067   0.0282  3.7814 0.0002  0.0514 0.1620\n",
      "devppimtotfun_f2edu      0.0592   0.0605  0.9781 0.3280 -0.0594 0.1778\n",
      "======================================================================\n",
      "\n"
     ]
    }
   ],
   "source": [
    "logit_model2 = sm.Logit(y,X2)\n",
    "result2 = logit_model2.fit()\n",
    "print(result2.summary2())"
   ]
  },
  {
   "cell_type": "markdown",
   "id": "a9e7032f-1167-43e4-8448-50f7d970246d",
   "metadata": {},
   "source": [
    "# RANDOM FOREST"
   ]
  },
  {
   "cell_type": "code",
   "execution_count": 43,
   "id": "75d2d268-3db7-4fdd-afb7-dcd1003c2283",
   "metadata": {},
   "outputs": [],
   "source": [
    "import warnings\n",
    "warnings.filterwarnings('ignore')"
   ]
  },
  {
   "cell_type": "code",
   "execution_count": 2,
   "id": "0df32032-296a-411d-a355-010b2c43f919",
   "metadata": {},
   "outputs": [],
   "source": [
    "import pandas as  pd, numpy as np\n",
    "import matplotlib.pyplot as plt\n",
    "import statsmodels.api as sm\n",
    "import statsmodels.formula.api as smf"
   ]
  },
  {
   "cell_type": "code",
   "execution_count": 44,
   "id": "bfef0de7-16a1-4200-a01b-801831705438",
   "metadata": {},
   "outputs": [],
   "source": [
    "# Cargar datos\n",
    "path = r'..\\..\\output\\data_preprocess\\base0_ac_last.csv'\n",
    "data = pd.read_csv( path )"
   ]
  },
  {
   "cell_type": "code",
   "execution_count": 45,
   "id": "f0adb65a-9598-43a9-ac12-fddf105f1fce",
   "metadata": {},
   "outputs": [
    {
     "data": {
      "text/plain": [
       "(419, 6813)"
      ]
     },
     "execution_count": 45,
     "metadata": {},
     "output_type": "execute_result"
    }
   ],
   "source": [
    "data.shape"
   ]
  },
  {
   "cell_type": "code",
   "execution_count": 46,
   "id": "62067d26-d7c8-4476-bdab-fc394a8f578c",
   "metadata": {},
   "outputs": [
    {
     "data": {
      "text/plain": [
       "1.0    0.725537\n",
       "0.0    0.274463\n",
       "Name: corrup_intensa, dtype: float64"
      ]
     },
     "execution_count": 46,
     "metadata": {},
     "output_type": "execute_result"
    }
   ],
   "source": [
    "data[ 'corrup_intensa' ].value_counts( normalize = True )"
   ]
  },
  {
   "cell_type": "markdown",
   "id": "94d4325d-93bf-4fea-ba31-28d5a447d4e5",
   "metadata": {},
   "source": [
    "## 2. Split variables"
   ]
  },
  {
   "cell_type": "code",
   "execution_count": 47,
   "id": "eceaa202-523b-4f9c-bfc9-469bb2d61f72",
   "metadata": {},
   "outputs": [],
   "source": [
    "from sklearn.model_selection import train_test_split"
   ]
  },
  {
   "cell_type": "code",
   "execution_count": 48,
   "id": "658e3f48-cd69-40fc-a6d1-25b0b39ea20a",
   "metadata": {},
   "outputs": [],
   "source": [
    "dep_var = [ 'corrup_intensa' ]\n",
    "other_vars = [ 'monto_examinado', 'monto_auditado', 'monto_objeto_servicio', \n",
    "               'monto_corrup1', 'monto_corrup2', 'tipo_control', 'corrup_amplia',\n",
    "               'per_corrup1', 'per_corrup2', '_monto', 'monto_' ]\n",
    "pred_vars = [ col for col in data.columns if col not in dep_var and col not in other_vars ]\n",
    "\n",
    "x_train, x_test, y_train, y_test = train_test_split( data[ pred_vars ], data[ 'corrup_intensa' ], test_size = 0.25 )"
   ]
  },
  {
   "cell_type": "code",
   "execution_count": 49,
   "id": "991e4424-9d62-4889-ad8e-c263b66c70bb",
   "metadata": {},
   "outputs": [],
   "source": [
    "from sklearn.ensemble import RandomForestClassifier\n",
    "from sklearn.model_selection import GridSearchCV\n",
    "from sklearn.feature_selection import SelectFromModel"
   ]
  },
  {
   "cell_type": "code",
   "execution_count": 50,
   "id": "8c25ae02-3db5-480e-81a3-670dcfdf91d9",
   "metadata": {},
   "outputs": [
    {
     "data": {
      "text/plain": [
       "SelectFromModel(estimator=RandomForestClassifier())"
      ]
     },
     "execution_count": 50,
     "metadata": {},
     "output_type": "execute_result"
    }
   ],
   "source": [
    "sel = SelectFromModel( RandomForestClassifier() )\n",
    "sel.fit( x_train, y_train )"
   ]
  },
  {
   "cell_type": "code",
   "execution_count": 51,
   "id": "024f5029-975f-44c7-a72c-3e18fdadfbac",
   "metadata": {},
   "outputs": [
    {
     "data": {
      "text/plain": [
       "array([False,  True, False, ...,  True, False,  True])"
      ]
     },
     "execution_count": 51,
     "metadata": {},
     "output_type": "execute_result"
    }
   ],
   "source": [
    "sel.get_support()"
   ]
  },
  {
   "cell_type": "code",
   "execution_count": 52,
   "id": "712a18e6-6c10-47a8-b8de-0c790e82a646",
   "metadata": {},
   "outputs": [
    {
     "data": {
      "text/plain": [
       "1683"
      ]
     },
     "execution_count": 52,
     "metadata": {},
     "output_type": "execute_result"
    }
   ],
   "source": [
    "selected_feat= x_train.columns[(sel.get_support())]\n",
    "len(selected_feat)"
   ]
  },
  {
   "cell_type": "code",
   "execution_count": 53,
   "id": "a36f4d97-a9ca-4d1a-a446-3d5a15ca4ac1",
   "metadata": {},
   "outputs": [
    {
     "name": "stdout",
     "output_type": "stream",
     "text": [
      "Index(['web', 'mue_pro_10', 'mue_pro_20', 'mue_pro_21', 'impres_muni_3',\n",
      "       'info_muni_2', 'per_001', 'per_003', 'per_004', 'per_011',\n",
      "       ...\n",
      "       '_tdvgtotfun_f5trans', '_devppimtotfun_f5trans', '_tdvgtotfun_f5turi',\n",
      "       '_dfgpimpiatotfun_f5turi', '_dfgdevpiagtotfun_f5turi',\n",
      "       '_piagtotfun_f5viv', '_pimgtotfun_f5viv', '_tdvgtotfun_f5viv',\n",
      "       '_dfgpimpiatotfun_f5viv', '_devppimtotfun_f5viv'],\n",
      "      dtype='object', length=1683)\n"
     ]
    }
   ],
   "source": [
    "print(selected_feat)"
   ]
  },
  {
   "cell_type": "code",
   "execution_count": 60,
   "id": "06d53628-5a45-4df7-acc4-11d2166790a7",
   "metadata": {},
   "outputs": [],
   "source": [
    "new_pred = pd.DataFrame( selected_feat ).head ( 10 ).values.tolist()"
   ]
  },
  {
   "cell_type": "code",
   "execution_count": 54,
   "id": "06538674-a366-496c-b2e9-8e5be4f92f2a",
   "metadata": {},
   "outputs": [
    {
     "data": {
      "text/plain": [
       "<AxesSubplot:>"
      ]
     },
     "execution_count": 54,
     "metadata": {},
     "output_type": "execute_result"
    },
    {
     "data": {
      "image/png": "[encoded data removed]",
      "text/plain": [
       "<Figure size 640x480 with 1 Axes>"
      ]
     },
     "metadata": {},
     "output_type": "display_data"
    }
   ],
   "source": [
    "pd.Series(sel.estimator_.feature_importances_.ravel()).hist()"
   ]
  },
  {
   "cell_type": "code",
   "execution_count": 63,
   "id": "669fef71-6c48-408d-bbe1-67003412712f",
   "metadata": {},
   "outputs": [],
   "source": [
    "new_pred = [ 'web', 'mue_pro_10', 'mue_pro_20', 'mue_pro_21', 'impres_muni_3',\n",
    "             'info_muni_2', 'per_001', 'per_003', 'per_004', 'per_011' ]"
   ]
  },
  {
   "cell_type": "code",
   "execution_count": 64,
   "id": "94fedcd4-c2af-470b-a666-8311addefc19",
   "metadata": {},
   "outputs": [],
   "source": [
    "X1 = data[ new_pred ]\n",
    "y = data[ 'corrup_intensa' ]"
   ]
  },
  {
   "cell_type": "code",
   "execution_count": 65,
   "id": "67266d06-669a-4437-9589-0a0f259156f6",
   "metadata": {},
   "outputs": [
    {
     "name": "stdout",
     "output_type": "stream",
     "text": [
      "Optimization terminated successfully.\n",
      "         Current function value: 0.575749\n",
      "         Iterations 5\n",
      "                        Results: Logit\n",
      "===============================================================\n",
      "Model:              Logit            Pseudo R-squared: 0.020   \n",
      "Dependent Variable: corrup_intensa   AIC:              502.4778\n",
      "Date:               2023-03-07 01:23 BIC:              542.8565\n",
      "No. Observations:   419              Log-Likelihood:   -241.24 \n",
      "Df Model:           9                LL-Null:          -246.22 \n",
      "Df Residuals:       409              LLR p-value:      0.35286 \n",
      "Converged:          1.0000           Scale:            1.0000  \n",
      "No. Iterations:     5.0000                                     \n",
      "---------------------------------------------------------------\n",
      "                  Coef.  Std.Err.    z    P>|z|   [0.025 0.975]\n",
      "---------------------------------------------------------------\n",
      "web               0.1715   0.2795  0.6135 0.5395 -0.3763 0.7193\n",
      "mue_pro_10        0.0574   0.1850  0.3105 0.7562 -0.3052 0.4200\n",
      "mue_pro_20       -0.0050   0.0044 -1.1491 0.2505 -0.0136 0.0036\n",
      "mue_pro_21        0.0120   0.0105  1.1455 0.2520 -0.0085 0.0325\n",
      "impres_muni_3     0.5987   0.2316  2.5853 0.0097  0.1448 1.0527\n",
      "info_muni_2       0.9830   0.1891  5.1988 0.0000  0.6124 1.3536\n",
      "per_001          -0.0124   0.0082 -1.5120 0.1305 -0.0284 0.0037\n",
      "per_003          -0.0217   0.0186 -1.1656 0.2438 -0.0581 0.0148\n",
      "per_004           0.0047   0.0348  0.1364 0.8915 -0.0634 0.0729\n",
      "per_011          -0.0316   0.0270 -1.1691 0.2424 -0.0846 0.0214\n",
      "===============================================================\n",
      "\n"
     ]
    }
   ],
   "source": [
    "import statsmodels.api as sm\n",
    "logit_model1 = sm.Logit(y,X1)\n",
    "result1 = logit_model1.fit()\n",
    "print(result1.summary2())"
   ]
  }
 ],
 "metadata": {
  "kernelspec": {
   "display_name": "Python 3 (ipykernel)",
   "language": "python",
   "name": "python3"
  },
  "language_info": {
   "codemirror_mode": {
    "name": "ipython",
    "version": 3
   },
   "file_extension": ".py",
   "mimetype": "text/x-python",
   "name": "python",
   "nbconvert_exporter": "python",
   "pygments_lexer": "ipython3",
   "version": "3.9.13"
  }
 },
 "nbformat": 4,
 "nbformat_minor": 5
}
