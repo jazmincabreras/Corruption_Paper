{
 "cells": [
  {
   "cell_type": "markdown",
   "id": "20441923-9b4c-4c6c-87b2-24e3f93e638b",
   "metadata": {},
   "source": [
    "# Variable dependiente: Corrupción Intensa (dicotómica)"
   ]
  },
  {
   "cell_type": "markdown",
   "id": "fa83588d-21c5-482b-9a30-93fb486073ae",
   "metadata": {},
   "source": [
    "## 1. Load data and Libraries"
   ]
  },
  {
   "cell_type": "code",
   "execution_count": 1,
   "id": "41b347cf-1513-4fc9-880c-a0bef2a8a709",
   "metadata": {},
   "outputs": [],
   "source": [
    "import warnings\n",
    "warnings.filterwarnings('ignore')"
   ]
  },
  {
   "cell_type": "code",
   "execution_count": 2,
   "id": "bd7f2b1f-13c4-44b1-ae99-21e610fbf6ef",
   "metadata": {},
   "outputs": [],
   "source": [
    "import pandas as  pd, numpy as np\n",
    "import matplotlib.pyplot as plt\n",
    "import statsmodels.api as sm\n",
    "import statsmodels.formula.api as smf"
   ]
  },
  {
   "cell_type": "code",
   "execution_count": 3,
   "id": "d031ebd0-f647-4e9f-be1d-5ee2284b029d",
   "metadata": {},
   "outputs": [],
   "source": [
    "# Cargar datos\n",
    "path = r'..\\..\\output\\data_preprocess\\base0_ac_last.csv'\n",
    "data = pd.read_csv( path )"
   ]
  },
  {
   "cell_type": "code",
   "execution_count": 4,
   "id": "2343315f-7352-4d46-a0aa-7207c86053ac",
   "metadata": {},
   "outputs": [
    {
     "data": {
      "text/plain": [
       "(419, 6813)"
      ]
     },
     "execution_count": 4,
     "metadata": {},
     "output_type": "execute_result"
    }
   ],
   "source": [
    "data.shape"
   ]
  },
  {
   "cell_type": "code",
   "execution_count": 5,
   "id": "c6d51e4d-52e9-4d0e-90da-2fdc93f105fd",
   "metadata": {},
   "outputs": [
    {
     "data": {
      "text/plain": [
       "1.0    0.725537\n",
       "0.0    0.274463\n",
       "Name: corrup_intensa, dtype: float64"
      ]
     },
     "execution_count": 5,
     "metadata": {},
     "output_type": "execute_result"
    }
   ],
   "source": [
    "data[ 'corrup_intensa' ].value_counts( normalize = True )"
   ]
  },
  {
   "cell_type": "markdown",
   "id": "1863270e-519f-4def-9a3e-000d9ed4cc31",
   "metadata": {},
   "source": [
    "## 2. Split variables"
   ]
  },
  {
   "cell_type": "code",
   "execution_count": 6,
   "id": "6dbc5c9a-e77a-4cc4-8d98-39f363556638",
   "metadata": {},
   "outputs": [],
   "source": [
    "from sklearn.model_selection import train_test_split"
   ]
  },
  {
   "cell_type": "code",
   "execution_count": 7,
   "id": "d6187f08-6f18-4b10-bf07-46285888b4e4",
   "metadata": {},
   "outputs": [],
   "source": [
    "dep_var = [ 'corrup_intensa' ]\n",
    "other_vars = [ 'monto_examinado', 'monto_auditado', 'monto_objeto_servicio', \n",
    "               'monto_corrup1', 'monto_corrup2', 'tipo_control', 'corrup_amplia',\n",
    "               'per_corrup1', 'per_corrup2', '_monto', 'monto_' ]\n",
    "pred_vars = [ col for col in data.columns if col not in dep_var and col not in other_vars ]\n",
    "\n",
    "x_train, x_test, y_train, y_test = train_test_split( data[ pred_vars ], data[ 'corrup_intensa' ], test_size = 0.25 )"
   ]
  },
  {
   "cell_type": "markdown",
   "id": "9119dc4d-eb22-4211-a9f3-2db9e439b153",
   "metadata": {},
   "source": [
    "## 3. Logistic Regression"
   ]
  },
  {
   "cell_type": "code",
   "execution_count": 8,
   "id": "aeb21e21-716a-405c-bc9e-4f82a8f9f9bb",
   "metadata": {},
   "outputs": [],
   "source": [
    "from sklearn.linear_model import LogisticRegression\n",
    "from sklearn.metrics import accuracy_score, confusion_matrix, log_loss, roc_auc_score\n",
    "from sklearn.metrics import classification_report"
   ]
  },
  {
   "cell_type": "code",
   "execution_count": 9,
   "id": "f11d31af-c0fe-47d4-b586-a7d701a83c7f",
   "metadata": {},
   "outputs": [
    {
     "name": "stdout",
     "output_type": "stream",
     "text": [
      "Wall time: 614 ms\n"
     ]
    }
   ],
   "source": [
    "%%time\n",
    "\n",
    "# Implementing the model\n",
    "lg_model = LogisticRegression().fit( x_train, y_train )\n",
    "\n",
    "# Predict over test set\n",
    "y_lg_pred_class = lg_model.predict( x_test )\n",
    "y_lg_pred_prob = lg_model.predict_proba( x_test )[ :, 1 ]"
   ]
  },
  {
   "cell_type": "code",
   "execution_count": 10,
   "id": "40a9e318-0744-40f7-9f85-2f3c7b9ebd78",
   "metadata": {},
   "outputs": [],
   "source": [
    "# Calculating metrics\n",
    "columns = [ 'no', 'si' ]\n",
    "lg_report = classification_report(y_test, y_lg_pred_class, target_names = columns, output_dict = True )\n",
    "\n",
    "lg_no_precision = lg_report[ 'no' ][ 'precision' ]\n",
    "lg_no_recall = lg_report[ 'no' ][ 'recall' ]\n",
    "lg_no_f1_score = lg_report[ 'no' ][ 'f1-score' ]\n",
    "\n",
    "lg_si_precision = lg_report[ 'si' ][ 'precision' ]\n",
    "lg_si_recall = lg_report[ 'si' ][ 'recall' ]\n",
    "lg_si_f1_score = lg_report[ 'si' ][ 'f1-score' ]\n",
    "\n",
    "accuracy_lg = accuracy_score( y_test, y_lg_pred_class )\n",
    "log_loss_lg = log_loss( y_test, y_lg_pred_class )\n",
    "roc_auc_lg = roc_auc_score( y_test, y_lg_pred_prob )"
   ]
  },
  {
   "cell_type": "code",
   "execution_count": 11,
   "id": "7e0249ca-7492-430c-929b-3afb534b0118",
   "metadata": {},
   "outputs": [
    {
     "name": "stdout",
     "output_type": "stream",
     "text": [
      "              precision    recall  f1-score   support\n",
      "\n",
      "          no       0.25      0.11      0.15        28\n",
      "          si       0.73      0.88      0.80        77\n",
      "\n",
      "    accuracy                           0.68       105\n",
      "   macro avg       0.49      0.50      0.47       105\n",
      "weighted avg       0.60      0.68      0.63       105\n",
      "\n"
     ]
    }
   ],
   "source": [
    "print( classification_report(y_test, y_lg_pred_class, target_names = columns))"
   ]
  },
  {
   "cell_type": "markdown",
   "id": "bc75946b-4aa1-46f9-b7ae-12764e6aabfd",
   "metadata": {},
   "source": [
    "## 4. Regularization Methods (Lasso, Ridge and Elastic Net)"
   ]
  },
  {
   "cell_type": "code",
   "execution_count": 12,
   "id": "6e1962f4-dd16-4777-a590-d89cea9d0b52",
   "metadata": {},
   "outputs": [],
   "source": [
    "from sklearn.linear_model import LogisticRegressionCV\n",
    "from sklearn.model_selection import GridSearchCV"
   ]
  },
  {
   "cell_type": "markdown",
   "id": "3f31b8ce-4aee-48b8-bdce-dd858441f8b6",
   "metadata": {},
   "source": [
    "## 4.1. Lasso"
   ]
  },
  {
   "cell_type": "code",
   "execution_count": 13,
   "id": "9c71c8f6-79a9-4242-9932-5514c2a74488",
   "metadata": {
    "tags": []
   },
   "outputs": [
    {
     "name": "stdout",
     "output_type": "stream",
     "text": [
      "Wall time: 12min 25s\n"
     ]
    }
   ],
   "source": [
    "%%time\n",
    "\n",
    "# Implementing the model\n",
    "lasso_model = LogisticRegressionCV( penalty = 'l1', solver = 'saga', cv = 10, random_state = 0 ).fit( x_train, y_train )\n",
    "\n",
    "# Predict over test set\n",
    "y_lasso_pred_class = lasso_model.predict( x_test )\n",
    "y_lasso_pred_prob = lasso_model.predict_proba( x_test )[ :, 1 ]"
   ]
  },
  {
   "cell_type": "code",
   "execution_count": 14,
   "id": "a07d1fb4-57c2-4acb-97da-0331b5ef4a48",
   "metadata": {},
   "outputs": [],
   "source": [
    "# Calculating metrics\n",
    "columns = [ 'no', 'si' ]\n",
    "lasso_report = classification_report(y_test, y_lasso_pred_class, target_names = columns, output_dict = True )\n",
    "\n",
    "lasso_no_precision = lasso_report[ 'no' ][ 'precision' ]\n",
    "lasso_no_recall = lasso_report[ 'no' ][ 'recall' ]\n",
    "lasso_no_f1_score = lasso_report[ 'no' ][ 'f1-score' ]\n",
    "\n",
    "lasso_si_precision = lasso_report[ 'si' ][ 'precision' ]\n",
    "lasso_si_recall = lasso_report[ 'si' ][ 'recall' ]\n",
    "lasso_si_f1_score = lasso_report[ 'si' ][ 'f1-score' ]\n",
    "\n",
    "accuracy_lasso = accuracy_score( y_test, y_lasso_pred_class )\n",
    "log_loss_lasso = log_loss( y_test, y_lasso_pred_class )\n",
    "roc_auc_lasso = roc_auc_score( y_test, y_lasso_pred_prob )"
   ]
  },
  {
   "cell_type": "code",
   "execution_count": 15,
   "id": "02aef0fe-28aa-4b6b-b01d-d6843049b766",
   "metadata": {},
   "outputs": [
    {
     "name": "stdout",
     "output_type": "stream",
     "text": [
      "              precision    recall  f1-score   support\n",
      "\n",
      "          no       0.00      0.00      0.00        28\n",
      "          si       0.73      1.00      0.85        77\n",
      "\n",
      "    accuracy                           0.73       105\n",
      "   macro avg       0.37      0.50      0.42       105\n",
      "weighted avg       0.54      0.73      0.62       105\n",
      "\n"
     ]
    }
   ],
   "source": [
    "print( classification_report(y_test, y_lasso_pred_class, target_names = columns ))"
   ]
  },
  {
   "cell_type": "code",
   "execution_count": 16,
   "id": "471d4a00-bc34-4d66-a98b-317800c101e9",
   "metadata": {},
   "outputs": [],
   "source": [
    "# coef_series = pd.DataFrame( data = lasso_model.coef_.reshape(-1, 1), index = lasso_model.feature_names_in_ )\n",
    "# a = coef_series.sort_values(by=0, ascending = False, key = abs )\n",
    "# a.to_excel('a.xlsx')"
   ]
  },
  {
   "cell_type": "markdown",
   "id": "c7fb248f-7bdf-4759-8fb2-cea5b6caac44",
   "metadata": {},
   "source": [
    "## 4.2. Ridge"
   ]
  },
  {
   "cell_type": "code",
   "execution_count": 17,
   "id": "bfa5f976-95a6-4d89-b3ce-b1696e1ea7b8",
   "metadata": {
    "tags": []
   },
   "outputs": [
    {
     "name": "stdout",
     "output_type": "stream",
     "text": [
      "Wall time: 8min 51s\n"
     ]
    }
   ],
   "source": [
    "%%time\n",
    "\n",
    "# Implementing the model\n",
    "ridge_model = LogisticRegressionCV( penalty = 'l2', solver = 'saga', cv = 10, random_state = 0 ).fit( x_train, y_train )\n",
    "\n",
    "# Predict over test set\n",
    "y_ridge_pred_class = ridge_model.predict( x_test )\n",
    "y_ridge_pred_prob = ridge_model.predict_proba( x_test )[ :, 1 ]"
   ]
  },
  {
   "cell_type": "code",
   "execution_count": 18,
   "id": "8f3c13c2-63d4-4dd0-bf8e-0e2ca4aaf07b",
   "metadata": {},
   "outputs": [],
   "source": [
    "# Calculating metrics\n",
    "columns = [ 'no', 'si' ]\n",
    "ridge_report = classification_report( y_test, y_ridge_pred_class, target_names = columns, output_dict = True )\n",
    "\n",
    "ridge_no_precision = ridge_report[ 'no' ][ 'precision' ]\n",
    "ridge_no_recall = ridge_report[ 'no' ][ 'recall' ]\n",
    "ridge_no_f1_score = ridge_report[ 'no' ][ 'f1-score' ]\n",
    "\n",
    "ridge_si_precision = ridge_report[ 'si' ][ 'precision' ]\n",
    "ridge_si_recall = ridge_report[ 'si' ][ 'recall' ]\n",
    "ridge_si_f1_score = ridge_report[ 'si' ][ 'f1-score' ]\n",
    "\n",
    "accuracy_ridge = accuracy_score( y_test, y_ridge_pred_class )\n",
    "log_loss_ridge = log_loss( y_test, y_ridge_pred_class )\n",
    "roc_auc_ridge = roc_auc_score( y_test, y_ridge_pred_prob )"
   ]
  },
  {
   "cell_type": "markdown",
   "id": "6bdc9cf1-c42c-402e-b703-74549afd90b0",
   "metadata": {},
   "source": [
    "### 4.3. Elastic Net"
   ]
  },
  {
   "cell_type": "code",
   "execution_count": 19,
   "id": "fd032ec1-7426-4e5f-a95a-03ba52f460c5",
   "metadata": {},
   "outputs": [
    {
     "name": "stdout",
     "output_type": "stream",
     "text": [
      "Wall time: 12min 40s\n"
     ]
    }
   ],
   "source": [
    "%%time\n",
    "\n",
    "# Implementing the model\n",
    "elasticnet_model = LogisticRegressionCV( penalty = 'elasticnet', solver = 'saga', cv = 10, random_state = 0, l1_ratios = [ 0.5 ] ).\\\n",
    "                                  fit( x_train, y_train )\n",
    "\n",
    "# Predict over test set\n",
    "y_elasticnet_pred_class = elasticnet_model.predict( x_test )\n",
    "y_elasticnet_pred_prob = elasticnet_model.predict_proba( x_test )[ :, 1 ]"
   ]
  },
  {
   "cell_type": "code",
   "execution_count": 20,
   "id": "5b0421e2-baa0-4aab-8ca0-5ff218eba627",
   "metadata": {},
   "outputs": [],
   "source": [
    "# Calculating metrics\n",
    "columns = [ 'no', 'si' ]\n",
    "elasticnet_report = classification_report( y_test, y_elasticnet_pred_class, target_names = columns, output_dict = True )\n",
    "\n",
    "elasticnet_no_precision = elasticnet_report[ 'no' ][ 'precision' ]\n",
    "elasticnet_no_recall = elasticnet_report[ 'no' ][ 'recall' ]\n",
    "elasticnet_no_f1_score = elasticnet_report[ 'no' ][ 'f1-score' ]\n",
    "\n",
    "elasticnet_si_precision = elasticnet_report[ 'si' ][ 'precision' ]\n",
    "elasticnet_si_recall = elasticnet_report[ 'si' ][ 'recall' ]\n",
    "elasticnet_si_f1_score = elasticnet_report[ 'si' ][ 'f1-score' ]\n",
    "\n",
    "accuracy_elasticnet = accuracy_score( y_test, y_elasticnet_pred_class )\n",
    "log_loss_elasticnet = log_loss( y_test, y_elasticnet_pred_class )\n",
    "roc_auc_elasticnet = roc_auc_score( y_test, y_elasticnet_pred_prob )"
   ]
  },
  {
   "cell_type": "markdown",
   "id": "df796fff-eadc-4c69-b7fa-6853601b39d6",
   "metadata": {
    "tags": []
   },
   "source": [
    "## 5. Random Forest"
   ]
  },
  {
   "cell_type": "code",
   "execution_count": 21,
   "id": "339e91e6-3c2d-4e4a-b5bf-890898dc71b2",
   "metadata": {},
   "outputs": [],
   "source": [
    "from sklearn.ensemble import RandomForestClassifier\n",
    "from sklearn.model_selection import GridSearchCV"
   ]
  },
  {
   "cell_type": "code",
   "execution_count": 22,
   "id": "d961295d-aed9-445d-af93-727c53241b10",
   "metadata": {
    "tags": []
   },
   "outputs": [
    {
     "name": "stdout",
     "output_type": "stream",
     "text": [
      "{'max_features': 'log2', 'n_estimators': 2000}\n",
      "Wall time: 7min 21s\n"
     ]
    }
   ],
   "source": [
    "%%time\n",
    "\n",
    "# Set the model\n",
    "rf_model = RandomForestClassifier( random_state = 0 )\n",
    "\n",
    "# Define param grid\n",
    "rf_param_grid = {\n",
    "    'n_estimators': [ 500, 1000, 2000 ],\n",
    "    'max_features': [ 'auto', 'sqrt', 'log2' ]\n",
    "}\n",
    "\n",
    "# Grid search\n",
    "rf_search = GridSearchCV( estimator = rf_model,\n",
    "                          param_grid = rf_param_grid )\n",
    "\n",
    "# Fit to data\n",
    "rf_search.fit( x_train, y_train )\n",
    "\n",
    "# Print best params and best score\n",
    "print( rf_search.best_params_ )\n",
    "\n",
    "# Select best params\n",
    "rf_max_features = rf_search.best_params_[ 'max_features' ] \n",
    "rf_n_estimators = rf_search.best_params_[ 'n_estimators' ] "
   ]
  },
  {
   "cell_type": "code",
   "execution_count": 23,
   "id": "36d7ba1d-fdc4-4014-b735-5975e89d75f8",
   "metadata": {},
   "outputs": [],
   "source": [
    "# Train the optimal model\n",
    "rf_optimal_model = RandomForestClassifier( max_features = rf_max_features, \n",
    "                                           n_estimators = rf_n_estimators )\n",
    "rf_optimal_model.fit( x_train, y_train )\n",
    "\n",
    "# Apply over test set\n",
    "y_rf_pred_class = rf_optimal_model.predict( x_test )\n",
    "y_rf_pred_prob = rf_optimal_model.predict_proba( x_test )[ :, 1 ]"
   ]
  },
  {
   "cell_type": "code",
   "execution_count": 24,
   "id": "300ba667-9eeb-4bb0-9600-8395d256b4a7",
   "metadata": {},
   "outputs": [],
   "source": [
    "# Calculating metrics\n",
    "columns = [ 'no', 'si' ]\n",
    "rf_report = classification_report(y_test, y_rf_pred_class, target_names = columns, output_dict = True )\n",
    "\n",
    "rf_no_precision = rf_report[ 'no' ][ 'precision' ]\n",
    "rf_no_recall = rf_report[ 'no' ][ 'recall' ]\n",
    "rf_no_f1_score = rf_report[ 'no' ][ 'f1-score' ]\n",
    "\n",
    "rf_si_precision = rf_report[ 'si' ][ 'precision' ]\n",
    "rf_si_recall = rf_report[ 'si' ][ 'recall' ]\n",
    "rf_si_f1_score = rf_report[ 'si' ][ 'f1-score' ]\n",
    "\n",
    "accuracy_rf = accuracy_score( y_test, y_rf_pred_class )\n",
    "log_loss_rf = log_loss( y_test, y_rf_pred_class )\n",
    "roc_auc_rf = roc_auc_score( y_test, y_rf_pred_prob )"
   ]
  },
  {
   "cell_type": "markdown",
   "id": "3f2ad86c-eb38-43e4-b5c3-0f78da50766e",
   "metadata": {},
   "source": [
    "## 6. Boosted Trees"
   ]
  },
  {
   "cell_type": "code",
   "execution_count": 25,
   "id": "38aa3a9a-9f56-4f2d-bd12-ff8982dadd9d",
   "metadata": {},
   "outputs": [],
   "source": [
    "from xgboost import XGBClassifier"
   ]
  },
  {
   "cell_type": "code",
   "execution_count": 26,
   "id": "b0d6a434-90b4-48ab-a8e2-b7123c52bedb",
   "metadata": {
    "tags": []
   },
   "outputs": [
    {
     "name": "stdout",
     "output_type": "stream",
     "text": [
      "{'learning_rate': 0.1, 'n_estimators': 500}\n",
      "Wall time: 28min 28s\n"
     ]
    }
   ],
   "source": [
    "%%time\n",
    "\n",
    "# Set the model\n",
    "xgb_model = XGBClassifier( use_label_encoder = False, objective = 'binary:logistic', verbosity = 0 )\n",
    "\n",
    "# Define param grid\n",
    "xgb_param_grid = {\n",
    "    'n_estimators': [ 500, 1000, 2000 ],\n",
    "    'learning_rate': [0.1, 0.5, 1]\n",
    "}\n",
    "\n",
    "# Grid search\n",
    "xgb_search = GridSearchCV( estimator = xgb_model,\n",
    "                           param_grid = xgb_param_grid )\n",
    "\n",
    "# Fit to data\n",
    "xgb_search.fit( x_train, y_train )\n",
    "\n",
    "# Print best params and best score\n",
    "print( xgb_search.best_params_ )\n",
    "\n",
    "# Select best params\n",
    "xgb_learning_rate = xgb_search.best_params_[ 'learning_rate' ] \n",
    "xgb_n_estimators = xgb_search.best_params_[ 'n_estimators' ] "
   ]
  },
  {
   "cell_type": "code",
   "execution_count": 27,
   "id": "e2c4d214-9058-4f95-968b-78391b96df1c",
   "metadata": {
    "tags": []
   },
   "outputs": [],
   "source": [
    "# Train the optimal model\n",
    "xgb_optimal_model = XGBClassifier( objective = 'binary:logistic', \n",
    "                                   verbosity = 0,\n",
    "                                   learning_rate = xgb_learning_rate, \n",
    "                                   n_estimators = xgb_n_estimators )\n",
    "xgb_optimal_model.fit( x_train, y_train )\n",
    "\n",
    "# Apply over test set\n",
    "y_xgb_pred_class = xgb_optimal_model.predict( x_test )\n",
    "y_xgb_pred_prob = xgb_optimal_model.predict_proba( x_test )[ :, 1 ]"
   ]
  },
  {
   "cell_type": "code",
   "execution_count": 28,
   "id": "6c177d8d-c95a-4c23-9f9a-d07f31976670",
   "metadata": {},
   "outputs": [],
   "source": [
    "# Calculating metrics\n",
    "columns = [ 'no', 'si' ]\n",
    "xgb_report = classification_report(y_test, y_xgb_pred_class, target_names = columns, output_dict = True )\n",
    "\n",
    "xgb_no_precision = xgb_report[ 'no' ][ 'precision' ]\n",
    "xgb_no_recall = xgb_report[ 'no' ][ 'recall' ]\n",
    "xgb_no_f1_score = xgb_report[ 'no' ][ 'f1-score' ]\n",
    "\n",
    "xgb_si_precision = xgb_report[ 'si' ][ 'precision' ]\n",
    "xgb_si_recall = xgb_report[ 'si' ][ 'recall' ]\n",
    "xgb_si_f1_score = xgb_report[ 'si' ][ 'f1-score' ]\n",
    "\n",
    "accuracy_xgb = accuracy_score( y_test, y_xgb_pred_class )\n",
    "log_loss_xgb = log_loss( y_test, y_xgb_pred_class )\n",
    "roc_auc_xgb = roc_auc_score( y_test, y_xgb_pred_prob )"
   ]
  },
  {
   "cell_type": "markdown",
   "id": "c54dd529-7134-4afa-a985-b91234ec63d4",
   "metadata": {},
   "source": [
    "## 4. Resultados"
   ]
  },
  {
   "cell_type": "code",
   "execution_count": 29,
   "id": "781ee6a5-178f-4f35-802d-6d17fbdd6bf8",
   "metadata": {},
   "outputs": [
    {
     "data": {
      "text/html": [
       "<div>\n",
       "<style scoped>\n",
       "    .dataframe tbody tr th:only-of-type {\n",
       "        vertical-align: middle;\n",
       "    }\n",
       "\n",
       "    .dataframe tbody tr th {\n",
       "        vertical-align: top;\n",
       "    }\n",
       "\n",
       "    .dataframe thead th {\n",
       "        text-align: right;\n",
       "    }\n",
       "</style>\n",
       "<table border=\"1\" class=\"dataframe\">\n",
       "  <thead>\n",
       "    <tr style=\"text-align: right;\">\n",
       "      <th></th>\n",
       "      <th>Overall_Accuracy</th>\n",
       "      <th>Roc_Auc</th>\n",
       "      <th>No_Precision</th>\n",
       "      <th>No_Recall</th>\n",
       "      <th>No_F1_Score</th>\n",
       "      <th>Si_Precision</th>\n",
       "      <th>Si_Recall</th>\n",
       "      <th>Si_F1_Score</th>\n",
       "    </tr>\n",
       "  </thead>\n",
       "  <tbody>\n",
       "    <tr>\n",
       "      <th>Logistic Regression</th>\n",
       "      <td>0.676</td>\n",
       "      <td>0.487</td>\n",
       "      <td>0.250</td>\n",
       "      <td>0.107</td>\n",
       "      <td>0.150</td>\n",
       "      <td>0.731</td>\n",
       "      <td>0.883</td>\n",
       "      <td>0.800</td>\n",
       "    </tr>\n",
       "    <tr>\n",
       "      <th>Lasso</th>\n",
       "      <td>0.733</td>\n",
       "      <td>0.490</td>\n",
       "      <td>0.000</td>\n",
       "      <td>0.000</td>\n",
       "      <td>0.000</td>\n",
       "      <td>0.733</td>\n",
       "      <td>1.000</td>\n",
       "      <td>0.846</td>\n",
       "    </tr>\n",
       "    <tr>\n",
       "      <th>Ridge</th>\n",
       "      <td>0.733</td>\n",
       "      <td>0.490</td>\n",
       "      <td>0.000</td>\n",
       "      <td>0.000</td>\n",
       "      <td>0.000</td>\n",
       "      <td>0.733</td>\n",
       "      <td>1.000</td>\n",
       "      <td>0.846</td>\n",
       "    </tr>\n",
       "    <tr>\n",
       "      <th>Elastic Net</th>\n",
       "      <td>0.733</td>\n",
       "      <td>0.490</td>\n",
       "      <td>0.000</td>\n",
       "      <td>0.000</td>\n",
       "      <td>0.000</td>\n",
       "      <td>0.733</td>\n",
       "      <td>1.000</td>\n",
       "      <td>0.846</td>\n",
       "    </tr>\n",
       "    <tr>\n",
       "      <th>Random Forest</th>\n",
       "      <td>0.695</td>\n",
       "      <td>0.582</td>\n",
       "      <td>0.375</td>\n",
       "      <td>0.214</td>\n",
       "      <td>0.273</td>\n",
       "      <td>0.753</td>\n",
       "      <td>0.870</td>\n",
       "      <td>0.807</td>\n",
       "    </tr>\n",
       "    <tr>\n",
       "      <th>Boosted Trees</th>\n",
       "      <td>0.714</td>\n",
       "      <td>0.570</td>\n",
       "      <td>0.455</td>\n",
       "      <td>0.357</td>\n",
       "      <td>0.400</td>\n",
       "      <td>0.783</td>\n",
       "      <td>0.844</td>\n",
       "      <td>0.812</td>\n",
       "    </tr>\n",
       "  </tbody>\n",
       "</table>\n",
       "</div>"
      ],
      "text/plain": [
       "                     Overall_Accuracy  Roc_Auc  No_Precision  No_Recall  \\\n",
       "Logistic Regression             0.676    0.487         0.250      0.107   \n",
       "Lasso                           0.733    0.490         0.000      0.000   \n",
       "Ridge                           0.733    0.490         0.000      0.000   \n",
       "Elastic Net                     0.733    0.490         0.000      0.000   \n",
       "Random Forest                   0.695    0.582         0.375      0.214   \n",
       "Boosted Trees                   0.714    0.570         0.455      0.357   \n",
       "\n",
       "                     No_F1_Score  Si_Precision  Si_Recall  Si_F1_Score  \n",
       "Logistic Regression        0.150         0.731      0.883        0.800  \n",
       "Lasso                      0.000         0.733      1.000        0.846  \n",
       "Ridge                      0.000         0.733      1.000        0.846  \n",
       "Elastic Net                0.000         0.733      1.000        0.846  \n",
       "Random Forest              0.273         0.753      0.870        0.807  \n",
       "Boosted Trees              0.400         0.783      0.844        0.812  "
      ]
     },
     "execution_count": 29,
     "metadata": {},
     "output_type": "execute_result"
    }
   ],
   "source": [
    "table = np.zeros( ( 6, 8 ) )\n",
    "\n",
    "table[ 0 ] = [ accuracy_lg, roc_auc_lg, lg_no_precision, lg_no_recall, \n",
    "               lg_no_f1_score, lg_si_precision, lg_si_recall, lg_si_f1_score ]\n",
    "\n",
    "table[ 1 ] = [ accuracy_lasso, roc_auc_lasso, lasso_no_precision, lasso_no_recall, \n",
    "               lasso_no_f1_score, lasso_si_precision, lasso_si_recall, lasso_si_f1_score ]\n",
    "\n",
    "table[ 2 ] = [ accuracy_ridge, roc_auc_ridge, ridge_no_precision, ridge_no_recall, \n",
    "               ridge_no_f1_score, ridge_si_precision, ridge_si_recall, ridge_si_f1_score ]\n",
    "\n",
    "table[ 3 ] = [ accuracy_elasticnet, roc_auc_elasticnet, elasticnet_no_precision, elasticnet_no_recall, \n",
    "               elasticnet_no_f1_score, elasticnet_si_precision, elasticnet_si_recall, elasticnet_si_f1_score ]\n",
    "\n",
    "table[ 4 ] = [ accuracy_rf, roc_auc_rf, rf_no_precision, rf_no_recall, \n",
    "               rf_no_f1_score, rf_si_precision, rf_si_recall, rf_si_f1_score ]\n",
    "\n",
    "table[ 5 ] = [ accuracy_xgb, roc_auc_xgb, xgb_no_precision, xgb_no_recall, \n",
    "               xgb_no_f1_score, xgb_si_precision, xgb_si_recall, xgb_si_f1_score ]\n",
    "\n",
    "colnames_table = [ \"Overall_Accuracy\", \"Roc_Auc\", \"No_Precision\", \"No_Recall\",\n",
    "                   \"No_F1_Score\", \"Si_Precision\", \"Si_Recall\", \"Si_F1_Score\" ]\n",
    "                  \n",
    "rownames_table = [ \"Logistic Regression\", \"Lasso\",\n",
    "                   \"Ridge\", \"Elastic Net\",\n",
    "                   \"Random Forest\", \"Boosted Trees\" ]\n",
    "\n",
    "table_pandas = pd.DataFrame( table, columns = colnames_table )\n",
    "table_pandas.index = rownames_table\n",
    "\n",
    "table_pandas = table_pandas.round(3)\n",
    "table_pandas"
   ]
  },
  {
   "cell_type": "markdown",
   "id": "c0e99aa0-bb34-4a90-a984-18ab3702cdb0",
   "metadata": {},
   "source": [
    "## 8. Feature Map"
   ]
  },
  {
   "cell_type": "code",
   "execution_count": 30,
   "id": "a355cf35-4c5a-4974-99d9-f8f7a169f01f",
   "metadata": {},
   "outputs": [
    {
     "data": {
      "text/plain": [
       "_tejgtotfun_f5r08pgercon      0.001415\n",
       "_tejgge_r08ct05biser          0.001327\n",
       "_tejgtotfun_f5r08protsoc      0.001053\n",
       "_tejgrb_redr                  0.001052\n",
       "_tejgct_r08gstcr              0.001049\n",
       "piagfun_f5ct05pgercon         0.001048\n",
       "_tejgct_r07gstcr              0.001044\n",
       "tdvgfun_f5ct05pgercon         0.001042\n",
       "_tejgtotfun_f5r08amb          0.001040\n",
       "_dfgdevpiagge_r08ct05popso    0.000981\n",
       "dtype: float64"
      ]
     },
     "execution_count": 30,
     "metadata": {},
     "output_type": "execute_result"
    }
   ],
   "source": [
    "# Random Forest\n",
    "fp_randomforest = pd.Series( rf_optimal_model.feature_importances_, index = pred_vars).\\\n",
    "                  sort_values( ascending = False )\n",
    "fp_randomforest.head(10)"
   ]
  },
  {
   "cell_type": "code",
   "execution_count": 31,
   "id": "7a0a9325-7092-4e73-9be8-28c5c518a6e9",
   "metadata": {},
   "outputs": [
    {
     "data": {
      "text/plain": [
       "_tejgtotfun_f2opseg                0.030434\n",
       "_pimgct_r13gstcp                   0.016739\n",
       "_dfgdevpiagfun_f5r08ct06protsoc    0.014049\n",
       "_tejgfun_f5ct05opseg               0.013653\n",
       "pimgfun_f5r18ct06amb               0.012519\n",
       "_tejgtotfun_f5trans                0.011478\n",
       "dfgdevpiagtotfun_f5dpub            0.011054\n",
       "dfgpimpiafun_f2ct05prevsoc         0.010489\n",
       "tejgfun_f5ct05agro                 0.010060\n",
       "piagfun_f5r18ct06energia           0.009620\n",
       "dtype: float32"
      ]
     },
     "execution_count": 31,
     "metadata": {},
     "output_type": "execute_result"
    }
   ],
   "source": [
    "# Boosted Trees\n",
    "fp_xgboost = pd.Series( xgb_optimal_model.feature_importances_, index = pred_vars).\\\n",
    "           sort_values( ascending = False )\n",
    "fp_xgboost.head(10)"
   ]
  },
  {
   "cell_type": "code",
   "execution_count": null,
   "id": "f5a99b22-0da0-4361-9534-f67d4c4eb607",
   "metadata": {},
   "outputs": [],
   "source": []
  }
 ],
 "metadata": {
  "kernelspec": {
   "display_name": "Python 3 (ipykernel)",
   "language": "python",
   "name": "python3"
  },
  "language_info": {
   "codemirror_mode": {
    "name": "ipython",
    "version": 3
   },
   "file_extension": ".py",
   "mimetype": "text/x-python",
   "name": "python",
   "nbconvert_exporter": "python",
   "pygments_lexer": "ipython3",
   "version": "3.9.13"
  }
 },
 "nbformat": 4,
 "nbformat_minor": 5
}
