{
 "cells": [
  {
   "cell_type": "markdown",
   "id": "6a7ca776-9d00-49b4-afbb-0e861fbb636f",
   "metadata": {},
   "source": [
    "## 1. Cargar los datos"
   ]
  },
  {
   "cell_type": "markdown",
   "id": "3d9cd2b1-fe8d-4c99-84e0-a2a7c2c299b4",
   "metadata": {},
   "source": [
    "#### 1.1. Importar librerias y módulos"
   ]
  },
  {
   "cell_type": "code",
   "execution_count": 1,
   "id": "5896ecc9-e30f-424d-83cb-66a51956f3bf",
   "metadata": {},
   "outputs": [],
   "source": [
    "import pandas as pd\n",
    "import numpy as np\n",
    "from glob import glob\n",
    "import funciones as fun\n",
    "import variables_nombres as vn\n",
    "from warnings import simplefilter"
   ]
  },
  {
   "cell_type": "code",
   "execution_count": 2,
   "id": "f86e1f1d-2190-4f79-921b-eae2454950f0",
   "metadata": {},
   "outputs": [],
   "source": [
    "#print(dir(fun))\n",
    "simplefilter( action = \"ignore\", category = pd.errors.PerformanceWarning )\n",
    "#pd.set_option('display.max_rows', 10)\n",
    "#pd.set_option('display.max_columns', 10)"
   ]
  },
  {
   "cell_type": "markdown",
   "id": "9bf350bc-e9f7-498c-a66f-f3c6eda9c398",
   "metadata": {},
   "source": [
    "#### 1.2. Importar bases "
   ]
  },
  {
   "cell_type": "markdown",
   "id": "7b4275ea-60a2-4304-af97-37d5a250a64c",
   "metadata": {},
   "source": [
    "Se importan las cuatro bases de manera conjunta, y se agrupan en la lista \"bases\". Para accerder a cada una de las bases se llama a la lista de bases + su respectivo índice. Ejemplo: bases[0]"
   ]
  },
  {
   "cell_type": "code",
   "execution_count": 3,
   "id": "72c6f7d4-d215-4d23-b198-6d869f4ac6de",
   "metadata": {},
   "outputs": [
    {
     "data": {
      "text/plain": [
       "'C:\\\\Users\\\\dell\\\\Documents\\\\QLAB\\\\Corruption_Paper\\\\code\\\\preprocess_data'"
      ]
     },
     "execution_count": 3,
     "metadata": {},
     "output_type": "execute_result"
    }
   ],
   "source": [
    "pwd"
   ]
  },
  {
   "cell_type": "code",
   "execution_count": 4,
   "id": "ccc53871-5ccb-44e6-8792-d24a841b1ade",
   "metadata": {},
   "outputs": [],
   "source": [
    "path = r'..\\..\\output\\data_build\\*.dta'"
   ]
  },
  {
   "cell_type": "code",
   "execution_count": 5,
   "id": "365907bc-a108-4bff-8aba-adf402cc99c6",
   "metadata": {
    "tags": []
   },
   "outputs": [
    {
     "name": "stdout",
     "output_type": "stream",
     "text": [
      "0\n",
      "1\n",
      "2\n",
      "3\n"
     ]
    }
   ],
   "source": [
    "bases = fun.importar_bases( path )\n",
    "for i, base in enumerate( bases ):\n",
    "    print( i )"
   ]
  },
  {
   "cell_type": "markdown",
   "id": "d631e25f-1ae4-4739-89aa-a8777ba4534b",
   "metadata": {},
   "source": [
    "#### 1.3. Filtrar solo aquellas variables que hicieron match"
   ]
  },
  {
   "cell_type": "markdown",
   "id": "eb82f96b-9827-441e-a134-a27b9a07f9e2",
   "metadata": {},
   "source": [
    "Se filtra las variables que previamente, en el preprocesamiento en Stata, hicieron match en la realización de merge."
   ]
  },
  {
   "cell_type": "code",
   "execution_count": null,
   "id": "0120d04f-89c1-4a10-8a96-66694c982493",
   "metadata": {
    "tags": []
   },
   "outputs": [],
   "source": [
    "for i, base in enumerate( bases ):\n",
    "    bases[i] = bases[i].loc[ bases[i]['_merge'] == 3 ]"
   ]
  },
  {
   "cell_type": "markdown",
   "id": "a9ec5084-fb47-40a1-b348-de93109123f4",
   "metadata": {},
   "source": [
    "#### 1.4. Última limpieza a las bases"
   ]
  },
  {
   "cell_type": "markdown",
   "id": "764021d4-9002-4eda-9e78-60a60cc91e14",
   "metadata": {},
   "source": [
    "Últimas modificaciones a las bases de datos"
   ]
  },
  {
   "cell_type": "code",
   "execution_count": 7,
   "id": "22718ca8-10ac-49b7-a7c4-cdd5cdc58f1c",
   "metadata": {},
   "outputs": [],
   "source": [
    "for i, base in enumerate( bases ):\n",
    "    data_cols = [ col for col in bases[i].columns if col not in vn.no_predictoras_variables and col not in vn.string_variables ]\n",
    "    encode_variables = { \"sexo\":{ \"Mujer\":1, \"Hombre\":2 }}\n",
    "    bases[i] = bases[i][data_cols]\n",
    "    bases[i] = bases[i].replace( encode_variables )\n",
    "    bases[i] = bases[i].astype( str ).replace( '', np.nan, regex = True )\n",
    "    bases[i] = bases[i].astype( str ).replace( '\\.+$', np.nan, regex = True ).astype( float )"
   ]
  },
  {
   "cell_type": "markdown",
   "id": "f55c3e04-aacf-4571-a67b-d231a4f40f84",
   "metadata": {
    "jupyter": {
     "outputs_hidden": true
    },
    "tags": []
   },
   "source": [
    "#### 1.5. Duplicar las bases de datos finales"
   ]
  },
  {
   "cell_type": "code",
   "execution_count": 11,
   "id": "878b2bb2-2c11-4eef-bbd7-24325b8d7276",
   "metadata": {},
   "outputs": [],
   "source": [
    "dfs = [ pd.DataFrame() for x in range( 4 ) ]\n",
    "for base in bases:\n",
    "    dfs = bases.copy()"
   ]
  },
  {
   "cell_type": "markdown",
   "id": "711556c2-c502-4737-8ac1-2cd27ee31da9",
   "metadata": {},
   "source": [
    "#### 1.6. Asignar nombres a las bases"
   ]
  },
  {
   "cell_type": "code",
   "execution_count": 17,
   "id": "2537a980-c221-4bbe-b109-b7ef831d636f",
   "metadata": {},
   "outputs": [],
   "source": [
    "dfs[0].name = 'base0'\n",
    "dfs[1].name = 'base1'\n",
    "dfs[2].name = 'base2'\n",
    "dfs[3].name = 'base3'"
   ]
  },
  {
   "cell_type": "markdown",
   "id": "e8330775-077f-40fa-b9e7-cd29c8bbb8f4",
   "metadata": {},
   "source": [
    "#### 1.7. Determinar el número de variables por cada fuente"
   ]
  },
  {
   "cell_type": "code",
   "execution_count": 13,
   "id": "9c40d8b5-668f-4bfb-a315-c8a1da5f89ad",
   "metadata": {
    "tags": []
   },
   "outputs": [
    {
     "name": "stdout",
     "output_type": "stream",
     "text": [
      "base0: Variables de Renamu: 693; Variables de SIAF: 4690\n",
      "base1: Variables de Renamu: 693; Variables de SIAF: 4690\n",
      "base2: Variables de Renamu: 693; Variables de SIAF: 4690\n",
      "base3: Variables de Renamu: 693; Variables de SIAF: 4690\n"
     ]
    }
   ],
   "source": [
    "fun.contar_variables( dfs )"
   ]
  },
  {
   "cell_type": "markdown",
   "id": "fa56371c-6cee-413f-8351-55466270739c",
   "metadata": {},
   "source": [
    "#### 1.8. Determinar las dimensiones de cada base"
   ]
  },
  {
   "cell_type": "code",
   "execution_count": 14,
   "id": "7f1951e6-fdd6-4216-9cce-0e4297620c11",
   "metadata": {
    "tags": []
   },
   "outputs": [
    {
     "name": "stdout",
     "output_type": "stream",
     "text": [
      "base0 (652, 5393)\n",
      "base1 (845, 5393)\n",
      "base2 (1290, 5393)\n",
      "base3 (1969, 5393)\n"
     ]
    }
   ],
   "source": [
    "fun.determinar_dimensiones( dfs )"
   ]
  },
  {
   "cell_type": "markdown",
   "id": "e34f73db-8a4f-4522-99e1-e630ca82d131",
   "metadata": {},
   "source": [
    "## 2. Primera forma: imputación con 0"
   ]
  },
  {
   "cell_type": "markdown",
   "id": "f7ba137a-4c16-4046-9f5d-362c64a3f96b",
   "metadata": {},
   "source": [
    "#### 2.1. Imputación"
   ]
  },
  {
   "cell_type": "markdown",
   "id": "794af8a6-9e6a-4c62-add3-34a70887da57",
   "metadata": {},
   "source": [
    "Se imputa los valores perdidos de las variables de SIAF con 0. No se generan variables dummy de control."
   ]
  },
  {
   "cell_type": "code",
   "execution_count": 15,
   "id": "2bc4326f-5d75-444c-8b37-9ed48366e128",
   "metadata": {
    "collapsed": true,
    "jupyter": {
     "outputs_hidden": true
    },
    "tags": []
   },
   "outputs": [
    {
     "data": {
      "text/plain": [
       "[     VFI  sexo  facebook  web  propie_muni  locales_propios  mue_pro  \\\n",
       " 0    1.0   1.0       0.0  1.0          1.0              NaN      1.0   \n",
       " 1    1.0   1.0       0.0  0.0          1.0              NaN      1.0   \n",
       " 2    1.0   2.0       0.0  0.0          1.0              NaN      1.0   \n",
       " 3    NaN   NaN       NaN  NaN          NaN              NaN      NaN   \n",
       " 4    1.0   2.0       1.0  0.0          0.0              NaN      1.0   \n",
       " ..   ...   ...       ...  ...          ...              ...      ...   \n",
       " 647  1.0   1.0       1.0  1.0          1.0              NaN      1.0   \n",
       " 648  1.0   2.0       1.0  1.0          1.0              3.0      1.0   \n",
       " 649  1.0   2.0       0.0  0.0          1.0              1.0      1.0   \n",
       " 650  1.0   2.0       1.0  1.0          0.0              NaN      1.0   \n",
       " 651  1.0   1.0       1.0  1.0          1.0              NaN      1.0   \n",
       " \n",
       "      mue_pro_1  mue_pro_2  mue_pro_3  ...  monto_auditado  monto_examinado  \\\n",
       " 0          1.0        0.0        1.0  ...             0.0              0.0   \n",
       " 1          1.0        1.0        0.0  ...             0.0              0.0   \n",
       " 2          1.0        3.0        0.0  ...       5593400.0        5593400.0   \n",
       " 3          NaN        NaN        NaN  ...       3374719.0        3374719.0   \n",
       " 4          1.0        1.0        1.0  ...             0.0              0.0   \n",
       " ..         ...        ...        ...  ...             ...              ...   \n",
       " 647        1.0        4.0        4.0  ...             0.0              0.0   \n",
       " 648        1.0        3.0        3.0  ...       2010530.0        2010530.0   \n",
       " 649        1.0        1.0        1.0  ...             0.0              0.0   \n",
       " 650        1.0        3.0        0.0  ...             0.0              0.0   \n",
       " 651        1.0        1.0        0.0  ...             0.0              0.0   \n",
       " \n",
       "      monto_objeto_servicio  corrup_intensa  corrup_amplia      monto_  \\\n",
       " 0               7662770.00             1.0            1.0  7662770.00   \n",
       " 1                172923.00             1.0            1.0   172923.00   \n",
       " 2                     0.00             1.0            1.0  5593400.00   \n",
       " 3                     0.00             1.0            1.0  3374719.00   \n",
       " 4                200046.00             1.0            1.0   200046.00   \n",
       " ..                     ...             ...            ...         ...   \n",
       " 647              376801.14             1.0            1.0   376801.12   \n",
       " 648                   0.00             1.0            1.0  2010530.00   \n",
       " 649             2688982.72             1.0            1.0  2688982.80   \n",
       " 650               71470.00             0.0            0.0    71470.00   \n",
       " 651                   0.00             1.0            1.0        0.00   \n",
       " \n",
       "      per_corrup1  per_corrup2  monto_corrup1  monto_corrup2  \n",
       " 0            5.0          0.0    7662770.000    7662770.000  \n",
       " 1            3.0          0.0     172923.000     172923.000  \n",
       " 2            4.0          0.0    5593400.000    5593400.000  \n",
       " 3            7.0          0.0    3374719.000    3374719.000  \n",
       " 4            8.0          4.0     200046.000     200046.000  \n",
       " ..           ...          ...            ...            ...  \n",
       " 647          1.0          0.0     376801.125     376801.125  \n",
       " 648          3.0          0.0    2010530.000    2010530.000  \n",
       " 649         20.0          1.0    2688982.750    2688982.750  \n",
       " 650          0.0          0.0          0.000          0.000  \n",
       " 651          2.0          0.0            NaN            NaN  \n",
       " \n",
       " [652 rows x 5393 columns],\n",
       "      VFI  sexo  facebook  web  propie_muni  locales_propios  mue_pro  \\\n",
       " 0    1.0   1.0       0.0  1.0          1.0              NaN      1.0   \n",
       " 1    1.0   1.0       0.0  0.0          1.0              NaN      1.0   \n",
       " 2    1.0   2.0       0.0  0.0          1.0              NaN      1.0   \n",
       " 3    NaN   NaN       NaN  NaN          NaN              NaN      NaN   \n",
       " 4    1.0   2.0       1.0  0.0          0.0              NaN      1.0   \n",
       " ..   ...   ...       ...  ...          ...              ...      ...   \n",
       " 840  1.0   2.0       1.0  1.0          1.0              NaN      1.0   \n",
       " 841  1.0   1.0       1.0  1.0          1.0              NaN      1.0   \n",
       " 842  1.0   1.0       1.0  1.0          1.0              NaN      1.0   \n",
       " 843  1.0   2.0       0.0  0.0          1.0              1.0      1.0   \n",
       " 844  1.0   2.0       0.0  0.0          1.0              1.0      1.0   \n",
       " \n",
       "      mue_pro_1  mue_pro_2  mue_pro_3  ...  monto_auditado  monto_examinado  \\\n",
       " 0          1.0        0.0        1.0  ...             NaN              NaN   \n",
       " 1          1.0        1.0        0.0  ...             NaN              NaN   \n",
       " 2          1.0        3.0        0.0  ...       5593400.0        5593400.0   \n",
       " 3          NaN        NaN        NaN  ...       3374719.0        3374719.0   \n",
       " 4          1.0        1.0        1.0  ...             NaN              NaN   \n",
       " ..         ...        ...        ...  ...             ...              ...   \n",
       " 840        1.0        3.0        4.0  ...        843000.0         843000.0   \n",
       " 841        1.0        4.0        4.0  ...             NaN              NaN   \n",
       " 842        1.0        4.0        4.0  ...             NaN              NaN   \n",
       " 843        1.0        1.0        1.0  ...             NaN              NaN   \n",
       " 844        1.0        1.0        1.0  ...             NaN              NaN   \n",
       " \n",
       "      monto_objeto_servicio  corrup_intensa  corrup_amplia  monto_  \\\n",
       " 0               7662770.00             1.0            1.0     NaN   \n",
       " 1                172923.00             1.0            1.0     NaN   \n",
       " 2                      NaN             1.0            1.0     NaN   \n",
       " 3                      NaN             1.0            1.0     NaN   \n",
       " 4                200046.00             1.0            1.0     NaN   \n",
       " ..                     ...             ...            ...     ...   \n",
       " 840                    NaN             0.0            1.0     NaN   \n",
       " 841              145801.14             0.0            0.0     NaN   \n",
       " 842              231000.00             0.0            0.0     NaN   \n",
       " 843             1000000.00             1.0            1.0     NaN   \n",
       " 844              850392.72             1.0            1.0     NaN   \n",
       " \n",
       "      per_corrup1  per_corrup2  monto_corrup1  monto_corrup2  \n",
       " 0            5.0          0.0            NaN            NaN  \n",
       " 1            3.0          0.0            NaN            NaN  \n",
       " 2            4.0          0.0            NaN            NaN  \n",
       " 3            7.0          0.0            NaN            NaN  \n",
       " 4            8.0          4.0            NaN            NaN  \n",
       " ..           ...          ...            ...            ...  \n",
       " 840          0.0         15.0            NaN            NaN  \n",
       " 841          0.0          0.0            NaN            NaN  \n",
       " 842          0.0          0.0            NaN            NaN  \n",
       " 843          5.0          0.0            NaN            NaN  \n",
       " 844          1.0          1.0            NaN            NaN  \n",
       " \n",
       " [845 rows x 5393 columns],\n",
       "       VFI  sexo  facebook  web  propie_muni  locales_propios  mue_pro  \\\n",
       " 0     1.0   1.0       0.0  1.0          1.0              NaN      1.0   \n",
       " 1     1.0   1.0       0.0  0.0          1.0              NaN      1.0   \n",
       " 2     1.0   2.0       0.0  0.0          1.0              NaN      1.0   \n",
       " 3     NaN   NaN       NaN  NaN          NaN              NaN      NaN   \n",
       " 4     NaN   NaN       NaN  NaN          NaN              NaN      NaN   \n",
       " ...   ...   ...       ...  ...          ...              ...      ...   \n",
       " 1285  1.0   2.0       1.0  1.0          1.0              3.0      1.0   \n",
       " 1286  1.0   2.0       0.0  0.0          1.0              1.0      1.0   \n",
       " 1287  1.0   2.0       1.0  1.0          0.0              NaN      1.0   \n",
       " 1288  1.0   1.0       1.0  1.0          1.0              NaN      1.0   \n",
       " 1289  1.0   2.0       0.0  1.0          1.0              5.0      1.0   \n",
       " \n",
       "       mue_pro_1  mue_pro_2  mue_pro_3  ...  monto_auditado  monto_examinado  \\\n",
       " 0           1.0        0.0        1.0  ...             0.0              0.0   \n",
       " 1           1.0        1.0        0.0  ...             0.0              0.0   \n",
       " 2           1.0        3.0        0.0  ...       5593400.0        5593400.0   \n",
       " 3           NaN        NaN        NaN  ...       3374719.0        3374719.0   \n",
       " 4           NaN        NaN        NaN  ...       3374719.0        3374719.0   \n",
       " ...         ...        ...        ...  ...             ...              ...   \n",
       " 1285        1.0        3.0        3.0  ...       2010530.0        2010530.0   \n",
       " 1286        1.0        1.0        1.0  ...             0.0              0.0   \n",
       " 1287        1.0        3.0        0.0  ...             0.0              0.0   \n",
       " 1288        1.0        1.0        0.0  ...             0.0              0.0   \n",
       " 1289        1.0        1.0        0.0  ...             0.0              0.0   \n",
       " \n",
       "       monto_objeto_servicio  corrup_intensa  corrup_amplia     monto_  \\\n",
       " 0                7662770.00             1.0            1.0  7662770.0   \n",
       " 1                 172923.00             1.0            1.0   172923.0   \n",
       " 2                      0.00             1.0            1.0  5593400.0   \n",
       " 3                      0.00             1.0            1.0  3374719.0   \n",
       " 4                      0.00             1.0            1.0  3374719.0   \n",
       " ...                     ...             ...            ...        ...   \n",
       " 1285                   0.00             1.0            1.0  2010530.0   \n",
       " 1286             2688982.72             1.0            1.0  2688982.8   \n",
       " 1287               71470.00             0.0            0.0    71470.0   \n",
       " 1288                   0.00             1.0            1.0        0.0   \n",
       " 1289                   0.00             1.0            1.0        0.0   \n",
       " \n",
       "       per_corrup1  per_corrup2  monto_corrup1  monto_corrup2  \n",
       " 0             5.0          0.0     7662770.00     7662770.00  \n",
       " 1             3.0          0.0      172923.00      172923.00  \n",
       " 2             4.0          0.0     5593400.00     5593400.00  \n",
       " 3             7.0          0.0     3374719.00     3374719.00  \n",
       " 4             7.0          0.0     3374719.00     3374719.00  \n",
       " ...           ...          ...            ...            ...  \n",
       " 1285          3.0          0.0     2010530.00     2010530.00  \n",
       " 1286         20.0          1.0     2688982.75     2688982.75  \n",
       " 1287          0.0          0.0           0.00           0.00  \n",
       " 1288          2.0          0.0            NaN            NaN  \n",
       " 1289          2.0          0.0            NaN            NaN  \n",
       " \n",
       " [1290 rows x 5393 columns],\n",
       "       VFI  sexo  facebook  web  propie_muni  locales_propios  mue_pro  \\\n",
       " 0     1.0   1.0       0.0  1.0          1.0              NaN      1.0   \n",
       " 1     1.0   1.0       0.0  0.0          1.0              NaN      1.0   \n",
       " 2     1.0   2.0       0.0  0.0          1.0              NaN      1.0   \n",
       " 3     NaN   NaN       NaN  NaN          NaN              NaN      NaN   \n",
       " 4     NaN   NaN       NaN  NaN          NaN              NaN      NaN   \n",
       " ...   ...   ...       ...  ...          ...              ...      ...   \n",
       " 1964  1.0   1.0       1.0  1.0          1.0              NaN      1.0   \n",
       " 1965  1.0   1.0       1.0  1.0          1.0              NaN      1.0   \n",
       " 1966  1.0   1.0       1.0  1.0          1.0              NaN      1.0   \n",
       " 1967  1.0   2.0       0.0  0.0          1.0              1.0      1.0   \n",
       " 1968  1.0   2.0       0.0  0.0          1.0              1.0      1.0   \n",
       " \n",
       "       mue_pro_1  mue_pro_2  mue_pro_3  ...  monto_auditado_promedio  \\\n",
       " 0           1.0        0.0        1.0  ...                      NaN   \n",
       " 1           1.0        1.0        0.0  ...                      NaN   \n",
       " 2           1.0        3.0        0.0  ...             5.593400e+06   \n",
       " 3           NaN        NaN        NaN  ...             6.749438e+05   \n",
       " 4           NaN        NaN        NaN  ...             6.749438e+05   \n",
       " ...         ...        ...        ...  ...                      ...   \n",
       " 1964        1.0        4.0        4.0  ...                      NaN   \n",
       " 1965        1.0        4.0        4.0  ...                      NaN   \n",
       " 1966        1.0        4.0        4.0  ...             1.037036e+05   \n",
       " 1967        1.0        1.0        1.0  ...                      NaN   \n",
       " 1968        1.0        1.0        1.0  ...                      NaN   \n",
       " \n",
       "       monto_examinado_promedio  monto_objeto_promedio  corrup_intensa  \\\n",
       " 0                          NaN           7.662770e+06             1.0   \n",
       " 1                          NaN           1.729230e+05             1.0   \n",
       " 2                 5.593400e+06                    NaN             1.0   \n",
       " 3                 6.749438e+05                    NaN             1.0   \n",
       " 4                 6.749438e+05                    NaN             1.0   \n",
       " ...                        ...                    ...             ...   \n",
       " 1964                       NaN           1.458011e+05             0.0   \n",
       " 1965                       NaN           0.000000e+00             1.0   \n",
       " 1966              1.037036e+05                    NaN             0.0   \n",
       " 1967                       NaN           1.000000e+06             1.0   \n",
       " 1968                       NaN           8.503928e+05             1.0   \n",
       " \n",
       "       corrup_amplia  monto_  per_corrup1  per_corrup2  monto_corrup1  \\\n",
       " 0               1.0     NaN          5.0          0.0            NaN   \n",
       " 1               1.0     NaN          3.0          0.0            NaN   \n",
       " 2               1.0     NaN          4.0          0.0            NaN   \n",
       " 3               1.0     NaN          7.0          0.0            NaN   \n",
       " 4               1.0     NaN          7.0          0.0            NaN   \n",
       " ...             ...     ...          ...          ...            ...   \n",
       " 1964            0.0     NaN          0.0          0.0            NaN   \n",
       " 1965            1.0     NaN          1.0          0.0            NaN   \n",
       " 1966            0.0     NaN          0.0          0.0            NaN   \n",
       " 1967            1.0     NaN          5.0          0.0            NaN   \n",
       " 1968            1.0     NaN          1.0          1.0            NaN   \n",
       " \n",
       "       monto_corrup2  \n",
       " 0               NaN  \n",
       " 1               NaN  \n",
       " 2               NaN  \n",
       " 3               NaN  \n",
       " 4               NaN  \n",
       " ...             ...  \n",
       " 1964            NaN  \n",
       " 1965            NaN  \n",
       " 1966            NaN  \n",
       " 1967            NaN  \n",
       " 1968            NaN  \n",
       " \n",
       " [1969 rows x 5393 columns]]"
      ]
     },
     "execution_count": 15,
     "metadata": {},
     "output_type": "execute_result"
    }
   ],
   "source": [
    "fun.imputar_i( dfs, vn.siaf_variables, 0, dummy = False )"
   ]
  },
  {
   "cell_type": "markdown",
   "id": "65cd4d24-fa3e-4d27-9613-259bffe070b9",
   "metadata": {},
   "source": [
    "#### 2.2. Filtrar por valores perdidos"
   ]
  },
  {
   "cell_type": "markdown",
   "id": "8773c1ab-f62e-42fd-a3dc-a4e575c9f204",
   "metadata": {},
   "source": [
    "Se descartan las variables con un porcentaje de valores perdidos mayor o igual al umbral 0.5"
   ]
  },
  {
   "cell_type": "code",
   "execution_count": 16,
   "id": "12ac6ef4-3be1-4c99-bfe2-7bd1ae39b8d3",
   "metadata": {
    "collapsed": true,
    "jupyter": {
     "outputs_hidden": true
    },
    "tags": []
   },
   "outputs": [
    {
     "data": {
      "text/plain": [
       "[     VFI  sexo  facebook  web  propie_muni  mue_pro  mue_pro_1  mue_pro_2  \\\n",
       " 0    1.0   1.0       0.0  1.0          1.0      1.0        1.0        0.0   \n",
       " 1    1.0   1.0       0.0  0.0          1.0      1.0        1.0        1.0   \n",
       " 2    1.0   2.0       0.0  0.0          1.0      1.0        1.0        3.0   \n",
       " 3    NaN   NaN       NaN  NaN          NaN      NaN        NaN        NaN   \n",
       " 4    1.0   2.0       1.0  0.0          0.0      1.0        1.0        1.0   \n",
       " ..   ...   ...       ...  ...          ...      ...        ...        ...   \n",
       " 647  1.0   1.0       1.0  1.0          1.0      1.0        1.0        4.0   \n",
       " 648  1.0   2.0       1.0  1.0          1.0      1.0        1.0        3.0   \n",
       " 649  1.0   2.0       0.0  0.0          1.0      1.0        1.0        1.0   \n",
       " 650  1.0   2.0       1.0  1.0          0.0      1.0        1.0        3.0   \n",
       " 651  1.0   1.0       1.0  1.0          1.0      1.0        1.0        1.0   \n",
       " \n",
       "      mue_pro_3  mue_pro_4  ...  monto_auditado  monto_examinado  \\\n",
       " 0          1.0        2.0  ...             0.0              0.0   \n",
       " 1          0.0        1.0  ...             0.0              0.0   \n",
       " 2          0.0        2.0  ...       5593400.0        5593400.0   \n",
       " 3          NaN        NaN  ...       3374719.0        3374719.0   \n",
       " 4          1.0        1.0  ...             0.0              0.0   \n",
       " ..         ...        ...  ...             ...              ...   \n",
       " 647        4.0        1.0  ...             0.0              0.0   \n",
       " 648        3.0        1.0  ...       2010530.0        2010530.0   \n",
       " 649        1.0        1.0  ...             0.0              0.0   \n",
       " 650        0.0        1.0  ...             0.0              0.0   \n",
       " 651        0.0        0.0  ...             0.0              0.0   \n",
       " \n",
       "      monto_objeto_servicio  corrup_intensa  corrup_amplia      monto_  \\\n",
       " 0               7662770.00             1.0            1.0  7662770.00   \n",
       " 1                172923.00             1.0            1.0   172923.00   \n",
       " 2                     0.00             1.0            1.0  5593400.00   \n",
       " 3                     0.00             1.0            1.0  3374719.00   \n",
       " 4                200046.00             1.0            1.0   200046.00   \n",
       " ..                     ...             ...            ...         ...   \n",
       " 647              376801.14             1.0            1.0   376801.12   \n",
       " 648                   0.00             1.0            1.0  2010530.00   \n",
       " 649             2688982.72             1.0            1.0  2688982.80   \n",
       " 650               71470.00             0.0            0.0    71470.00   \n",
       " 651                   0.00             1.0            1.0        0.00   \n",
       " \n",
       "      per_corrup1  per_corrup2  monto_corrup1  monto_corrup2  \n",
       " 0            5.0          0.0    7662770.000    7662770.000  \n",
       " 1            3.0          0.0     172923.000     172923.000  \n",
       " 2            4.0          0.0    5593400.000    5593400.000  \n",
       " 3            7.0          0.0    3374719.000    3374719.000  \n",
       " 4            8.0          4.0     200046.000     200046.000  \n",
       " ..           ...          ...            ...            ...  \n",
       " 647          1.0          0.0     376801.125     376801.125  \n",
       " 648          3.0          0.0    2010530.000    2010530.000  \n",
       " 649         20.0          1.0    2688982.750    2688982.750  \n",
       " 650          0.0          0.0          0.000          0.000  \n",
       " 651          2.0          0.0            NaN            NaN  \n",
       " \n",
       " [652 rows x 5061 columns],\n",
       "      VFI  sexo  facebook  web  propie_muni  mue_pro  mue_pro_1  mue_pro_2  \\\n",
       " 0    1.0   1.0       0.0  1.0          1.0      1.0        1.0        0.0   \n",
       " 1    1.0   1.0       0.0  0.0          1.0      1.0        1.0        1.0   \n",
       " 2    1.0   2.0       0.0  0.0          1.0      1.0        1.0        3.0   \n",
       " 3    NaN   NaN       NaN  NaN          NaN      NaN        NaN        NaN   \n",
       " 4    1.0   2.0       1.0  0.0          0.0      1.0        1.0        1.0   \n",
       " ..   ...   ...       ...  ...          ...      ...        ...        ...   \n",
       " 840  1.0   2.0       1.0  1.0          1.0      1.0        1.0        3.0   \n",
       " 841  1.0   1.0       1.0  1.0          1.0      1.0        1.0        4.0   \n",
       " 842  1.0   1.0       1.0  1.0          1.0      1.0        1.0        4.0   \n",
       " 843  1.0   2.0       0.0  0.0          1.0      1.0        1.0        1.0   \n",
       " 844  1.0   2.0       0.0  0.0          1.0      1.0        1.0        1.0   \n",
       " \n",
       "      mue_pro_3  mue_pro_4  ...  tejgtotfun_f5viv  tdvgtotfun_f5viv  \\\n",
       " 0          1.0        2.0  ...              0.00          0.000000   \n",
       " 1          0.0        1.0  ...          15500.00      15500.000000   \n",
       " 2          0.0        2.0  ...           9500.00       9500.000000   \n",
       " 3          NaN        NaN  ...              0.00          0.000000   \n",
       " 4          1.0        1.0  ...              0.00     291749.199951   \n",
       " ..         ...        ...  ...               ...               ...   \n",
       " 840        4.0        1.0  ...         622833.89     438308.250000   \n",
       " 841        4.0        1.0  ...              0.00     334471.110000   \n",
       " 842        4.0        1.0  ...              0.00     334471.110000   \n",
       " 843        1.0        1.0  ...              0.00          0.000000   \n",
       " 844        1.0        1.0  ...              0.00          0.000000   \n",
       " \n",
       "      dfgpimpiatotfun_f5viv  dfgdevpiagtotfun_f5viv  devppimtotfun_f5viv  \\\n",
       " 0                      0.0            0.000000e+00             0.000000   \n",
       " 1                  22878.0            1.550000e+04            67.750679   \n",
       " 2                   9500.0            9.500000e+03           100.000000   \n",
       " 3                      0.0            0.000000e+00             0.000000   \n",
       " 4                 659707.0            2.917492e+05            44.224056   \n",
       " ..                     ...                     ...                  ...   \n",
       " 840               532795.0            3.359482e+05            69.008080   \n",
       " 841             -1996701.0           -2.027600e+06            91.543121   \n",
       " 842             -1996701.0           -2.027600e+06            91.543121   \n",
       " 843                40952.0            0.000000e+00             0.000000   \n",
       " 844                40952.0            0.000000e+00             0.000000   \n",
       " \n",
       "      monto_objeto_servicio  corrup_intensa  corrup_amplia  per_corrup1  \\\n",
       " 0               7662770.00             1.0            1.0          5.0   \n",
       " 1                172923.00             1.0            1.0          3.0   \n",
       " 2                      NaN             1.0            1.0          4.0   \n",
       " 3                      NaN             1.0            1.0          7.0   \n",
       " 4                200046.00             1.0            1.0          8.0   \n",
       " ..                     ...             ...            ...          ...   \n",
       " 840                    NaN             0.0            1.0          0.0   \n",
       " 841              145801.14             0.0            0.0          0.0   \n",
       " 842              231000.00             0.0            0.0          0.0   \n",
       " 843             1000000.00             1.0            1.0          5.0   \n",
       " 844              850392.72             1.0            1.0          1.0   \n",
       " \n",
       "      per_corrup2  \n",
       " 0            0.0  \n",
       " 1            0.0  \n",
       " 2            0.0  \n",
       " 3            0.0  \n",
       " 4            4.0  \n",
       " ..           ...  \n",
       " 840         15.0  \n",
       " 841          0.0  \n",
       " 842          0.0  \n",
       " 843          0.0  \n",
       " 844          1.0  \n",
       " \n",
       " [845 rows x 5066 columns],\n",
       "       VFI  sexo  facebook  web  propie_muni  mue_pro  mue_pro_1  mue_pro_2  \\\n",
       " 0     1.0   1.0       0.0  1.0          1.0      1.0        1.0        0.0   \n",
       " 1     1.0   1.0       0.0  0.0          1.0      1.0        1.0        1.0   \n",
       " 2     1.0   2.0       0.0  0.0          1.0      1.0        1.0        3.0   \n",
       " 3     NaN   NaN       NaN  NaN          NaN      NaN        NaN        NaN   \n",
       " 4     NaN   NaN       NaN  NaN          NaN      NaN        NaN        NaN   \n",
       " ...   ...   ...       ...  ...          ...      ...        ...        ...   \n",
       " 1285  1.0   2.0       1.0  1.0          1.0      1.0        1.0        3.0   \n",
       " 1286  1.0   2.0       0.0  0.0          1.0      1.0        1.0        1.0   \n",
       " 1287  1.0   2.0       1.0  1.0          0.0      1.0        1.0        3.0   \n",
       " 1288  1.0   1.0       1.0  1.0          1.0      1.0        1.0        1.0   \n",
       " 1289  1.0   2.0       0.0  1.0          1.0      1.0        1.0        1.0   \n",
       " \n",
       "       mue_pro_3  mue_pro_4  ...  monto_auditado  monto_examinado  \\\n",
       " 0           1.0        2.0  ...             0.0              0.0   \n",
       " 1           0.0        1.0  ...             0.0              0.0   \n",
       " 2           0.0        2.0  ...       5593400.0        5593400.0   \n",
       " 3           NaN        NaN  ...       3374719.0        3374719.0   \n",
       " 4           NaN        NaN  ...       3374719.0        3374719.0   \n",
       " ...         ...        ...  ...             ...              ...   \n",
       " 1285        3.0        1.0  ...       2010530.0        2010530.0   \n",
       " 1286        1.0        1.0  ...             0.0              0.0   \n",
       " 1287        0.0        1.0  ...             0.0              0.0   \n",
       " 1288        0.0        0.0  ...             0.0              0.0   \n",
       " 1289        0.0        0.0  ...             0.0              0.0   \n",
       " \n",
       "       monto_objeto_servicio  corrup_intensa  corrup_amplia     monto_  \\\n",
       " 0                7662770.00             1.0            1.0  7662770.0   \n",
       " 1                 172923.00             1.0            1.0   172923.0   \n",
       " 2                      0.00             1.0            1.0  5593400.0   \n",
       " 3                      0.00             1.0            1.0  3374719.0   \n",
       " 4                      0.00             1.0            1.0  3374719.0   \n",
       " ...                     ...             ...            ...        ...   \n",
       " 1285                   0.00             1.0            1.0  2010530.0   \n",
       " 1286             2688982.72             1.0            1.0  2688982.8   \n",
       " 1287               71470.00             0.0            0.0    71470.0   \n",
       " 1288                   0.00             1.0            1.0        0.0   \n",
       " 1289                   0.00             1.0            1.0        0.0   \n",
       " \n",
       "       per_corrup1  per_corrup2  monto_corrup1  monto_corrup2  \n",
       " 0             5.0          0.0     7662770.00     7662770.00  \n",
       " 1             3.0          0.0      172923.00      172923.00  \n",
       " 2             4.0          0.0     5593400.00     5593400.00  \n",
       " 3             7.0          0.0     3374719.00     3374719.00  \n",
       " 4             7.0          0.0     3374719.00     3374719.00  \n",
       " ...           ...          ...            ...            ...  \n",
       " 1285          3.0          0.0     2010530.00     2010530.00  \n",
       " 1286         20.0          1.0     2688982.75     2688982.75  \n",
       " 1287          0.0          0.0           0.00           0.00  \n",
       " 1288          2.0          0.0            NaN            NaN  \n",
       " 1289          2.0          0.0            NaN            NaN  \n",
       " \n",
       " [1290 rows x 5156 columns],\n",
       "       VFI  sexo  facebook  web  propie_muni  mue_pro  mue_pro_1  mue_pro_2  \\\n",
       " 0     1.0   1.0       0.0  1.0          1.0      1.0        1.0        0.0   \n",
       " 1     1.0   1.0       0.0  0.0          1.0      1.0        1.0        1.0   \n",
       " 2     1.0   2.0       0.0  0.0          1.0      1.0        1.0        3.0   \n",
       " 3     NaN   NaN       NaN  NaN          NaN      NaN        NaN        NaN   \n",
       " 4     NaN   NaN       NaN  NaN          NaN      NaN        NaN        NaN   \n",
       " ...   ...   ...       ...  ...          ...      ...        ...        ...   \n",
       " 1964  1.0   1.0       1.0  1.0          1.0      1.0        1.0        4.0   \n",
       " 1965  1.0   1.0       1.0  1.0          1.0      1.0        1.0        4.0   \n",
       " 1966  1.0   1.0       1.0  1.0          1.0      1.0        1.0        4.0   \n",
       " 1967  1.0   2.0       0.0  0.0          1.0      1.0        1.0        1.0   \n",
       " 1968  1.0   2.0       0.0  0.0          1.0      1.0        1.0        1.0   \n",
       " \n",
       "       mue_pro_3  mue_pro_4  ...  tdvgtotfun_f5viv  dfgpimpiatotfun_f5viv  \\\n",
       " 0           1.0        2.0  ...              0.00                    0.0   \n",
       " 1           0.0        1.0  ...          15500.00                22878.0   \n",
       " 2           0.0        2.0  ...           9500.00                 9500.0   \n",
       " 3           NaN        NaN  ...              0.00                    0.0   \n",
       " 4           NaN        NaN  ...              0.00                    0.0   \n",
       " ...         ...        ...  ...               ...                    ...   \n",
       " 1964        4.0        1.0  ...         334471.11             -1996701.0   \n",
       " 1965        4.0        1.0  ...         334471.11             -1996701.0   \n",
       " 1966        4.0        1.0  ...         334471.11             -1996701.0   \n",
       " 1967        1.0        1.0  ...              0.00                40952.0   \n",
       " 1968        1.0        1.0  ...              0.00                40952.0   \n",
       " \n",
       "       dfgdevpiagtotfun_f5viv  devppimtotfun_f5viv  monto_auditado_promedio  \\\n",
       " 0                      0.000             0.000000                      NaN   \n",
       " 1                  15500.000            67.750679                      NaN   \n",
       " 2                   9500.000           100.000000             5.593400e+06   \n",
       " 3                      0.000             0.000000             6.749438e+05   \n",
       " 4                      0.000             0.000000             6.749438e+05   \n",
       " ...                      ...                  ...                      ...   \n",
       " 1964            -2027599.875            91.543121                      NaN   \n",
       " 1965            -2027599.875            91.543121                      NaN   \n",
       " 1966            -2027599.875            91.543121             1.037036e+05   \n",
       " 1967                   0.000             0.000000                      NaN   \n",
       " 1968                   0.000             0.000000                      NaN   \n",
       " \n",
       "       monto_examinado_promedio  corrup_intensa  corrup_amplia  per_corrup1  \\\n",
       " 0                          NaN             1.0            1.0          5.0   \n",
       " 1                          NaN             1.0            1.0          3.0   \n",
       " 2                 5.593400e+06             1.0            1.0          4.0   \n",
       " 3                 6.749438e+05             1.0            1.0          7.0   \n",
       " 4                 6.749438e+05             1.0            1.0          7.0   \n",
       " ...                        ...             ...            ...          ...   \n",
       " 1964                       NaN             0.0            0.0          0.0   \n",
       " 1965                       NaN             1.0            1.0          1.0   \n",
       " 1966              1.037036e+05             0.0            0.0          0.0   \n",
       " 1967                       NaN             1.0            1.0          5.0   \n",
       " 1968                       NaN             1.0            1.0          1.0   \n",
       " \n",
       "       per_corrup2  \n",
       " 0             0.0  \n",
       " 1             0.0  \n",
       " 2             0.0  \n",
       " 3             0.0  \n",
       " 4             0.0  \n",
       " ...           ...  \n",
       " 1964          0.0  \n",
       " 1965          0.0  \n",
       " 1966          0.0  \n",
       " 1967          0.0  \n",
       " 1968          1.0  \n",
       " \n",
       " [1969 rows x 5194 columns]]"
      ]
     },
     "execution_count": 16,
     "metadata": {},
     "output_type": "execute_result"
    }
   ],
   "source": [
    "fun.filtro_missings( dfs, 0.5 )"
   ]
  },
  {
   "cell_type": "markdown",
   "id": "061c1e92-1258-4469-af13-8bf3e760b570",
   "metadata": {},
   "source": [
    "Se verifica el numero de variables por fuente de cada base luego del paso 2.2."
   ]
  },
  {
   "cell_type": "code",
   "execution_count": 18,
   "id": "ad202ac7-e44c-4fe8-b887-ab03e8db73ec",
   "metadata": {
    "tags": []
   },
   "outputs": [
    {
     "name": "stdout",
     "output_type": "stream",
     "text": [
      "base0: Variables de Renamu: 361; Variables de SIAF: 4690\n",
      "base1: Variables de Renamu: 371; Variables de SIAF: 4690\n",
      "base2: Variables de Renamu: 456; Variables de SIAF: 4690\n",
      "base3: Variables de Renamu: 498; Variables de SIAF: 4690\n"
     ]
    }
   ],
   "source": [
    "fun.contar_variables( dfs )"
   ]
  },
  {
   "cell_type": "markdown",
   "id": "ad954617-04cc-46c9-869f-e74285bc643b",
   "metadata": {},
   "source": [
    "Se verifica la dimensionalidad de las bases de datos"
   ]
  },
  {
   "cell_type": "code",
   "execution_count": 19,
   "id": "558b085a-e138-4fed-b057-5a790545ec68",
   "metadata": {
    "tags": []
   },
   "outputs": [
    {
     "name": "stdout",
     "output_type": "stream",
     "text": [
      "base0 (652, 5061)\n",
      "base1 (845, 5066)\n",
      "base2 (1290, 5156)\n",
      "base3 (1969, 5194)\n"
     ]
    }
   ],
   "source": [
    "fun.determinar_dimensiones( dfs )"
   ]
  },
  {
   "cell_type": "markdown",
   "id": "ec0d3ecb-19f8-44a5-ada7-e8c7a5bf0e2d",
   "metadata": {},
   "source": [
    "Se verifica que las variables pertenecientes a SIAF ya no tengan valores perdidos"
   ]
  },
  {
   "cell_type": "code",
   "execution_count": 20,
   "id": "a3b2e4db-22ba-45f7-b779-1b9f5fd222ab",
   "metadata": {
    "tags": []
   },
   "outputs": [],
   "source": [
    "df0_siaf = fun.listar_variables( dfs[0], siaf = True )\n",
    "df1_siaf = fun.listar_variables( dfs[1], siaf = True )\n",
    "df2_siaf = fun.listar_variables( dfs[2], siaf = True )\n",
    "df3_siaf = fun.listar_variables( dfs[3], siaf = True )"
   ]
  },
  {
   "cell_type": "code",
   "execution_count": 21,
   "id": "1025c255-79f7-4fd5-9a80-0f091ba57053",
   "metadata": {
    "tags": []
   },
   "outputs": [
    {
     "name": "stdout",
     "output_type": "stream",
     "text": [
      "0\n",
      "0\n",
      "0\n",
      "0\n"
     ]
    }
   ],
   "source": [
    "print( dfs[0][df0_siaf].isnull().sum().sum(),\n",
    "       dfs[1][df1_siaf].isnull().sum().sum(),\n",
    "       dfs[2][df2_siaf].isnull().sum().sum(),\n",
    "       dfs[3][df3_siaf].isnull().sum().sum(), sep = \"\\n\" )"
   ]
  },
  {
   "cell_type": "markdown",
   "id": "63c3c16b-44a5-464c-8038-9cdf72b9e260",
   "metadata": {},
   "source": [
    "#### 2.3. Filtro por variabilidad"
   ]
  },
  {
   "cell_type": "markdown",
   "id": "fe97355d-0105-4444-8dd0-978fd51a0230",
   "metadata": {
    "tags": []
   },
   "source": [
    "Se descartan aquellas variables constantes, es decir, con una variabilidad de 0"
   ]
  },
  {
   "cell_type": "code",
   "execution_count": 22,
   "id": "026894af-e622-424a-bdd8-08ecb8a77828",
   "metadata": {
    "collapsed": true,
    "jupyter": {
     "outputs_hidden": true
    },
    "tags": []
   },
   "outputs": [
    {
     "name": "stderr",
     "output_type": "stream",
     "text": [
      "C:\\Users\\dell\\Documents\\QLAB\\Corruption_Paper\\code\\preprocess_data\\funciones.py:163: SettingWithCopyWarning: \n",
      "A value is trying to be set on a copy of a slice from a DataFrame\n",
      "\n",
      "See the caveats in the documentation: https://pandas.pydata.org/pandas-docs/stable/user_guide/indexing.html#returning-a-view-versus-a-copy\n",
      "  datasets[i].drop( columnas, axis = 1, inplace = True )\n",
      "C:\\Users\\dell\\Documents\\QLAB\\Corruption_Paper\\code\\preprocess_data\\funciones.py:163: SettingWithCopyWarning: \n",
      "A value is trying to be set on a copy of a slice from a DataFrame\n",
      "\n",
      "See the caveats in the documentation: https://pandas.pydata.org/pandas-docs/stable/user_guide/indexing.html#returning-a-view-versus-a-copy\n",
      "  datasets[i].drop( columnas, axis = 1, inplace = True )\n",
      "C:\\Users\\dell\\Documents\\QLAB\\Corruption_Paper\\code\\preprocess_data\\funciones.py:163: SettingWithCopyWarning: \n",
      "A value is trying to be set on a copy of a slice from a DataFrame\n",
      "\n",
      "See the caveats in the documentation: https://pandas.pydata.org/pandas-docs/stable/user_guide/indexing.html#returning-a-view-versus-a-copy\n",
      "  datasets[i].drop( columnas, axis = 1, inplace = True )\n",
      "C:\\Users\\dell\\Documents\\QLAB\\Corruption_Paper\\code\\preprocess_data\\funciones.py:163: SettingWithCopyWarning: \n",
      "A value is trying to be set on a copy of a slice from a DataFrame\n",
      "\n",
      "See the caveats in the documentation: https://pandas.pydata.org/pandas-docs/stable/user_guide/indexing.html#returning-a-view-versus-a-copy\n",
      "  datasets[i].drop( columnas, axis = 1, inplace = True )\n"
     ]
    },
    {
     "data": {
      "text/plain": [
       "[     sexo  facebook  web  propie_muni  mue_pro_1  mue_pro_2  mue_pro_3  \\\n",
       " 0     1.0       0.0  1.0          1.0        1.0        0.0        1.0   \n",
       " 1     1.0       0.0  0.0          1.0        1.0        1.0        0.0   \n",
       " 2     2.0       0.0  0.0          1.0        1.0        3.0        0.0   \n",
       " 3     NaN       NaN  NaN          NaN        NaN        NaN        NaN   \n",
       " 4     2.0       1.0  0.0          0.0        1.0        1.0        1.0   \n",
       " ..    ...       ...  ...          ...        ...        ...        ...   \n",
       " 647   1.0       1.0  1.0          1.0        1.0        4.0        4.0   \n",
       " 648   2.0       1.0  1.0          1.0        1.0        3.0        3.0   \n",
       " 649   2.0       0.0  0.0          1.0        1.0        1.0        1.0   \n",
       " 650   2.0       1.0  1.0          0.0        1.0        3.0        0.0   \n",
       " 651   1.0       1.0  1.0          1.0        1.0        1.0        0.0   \n",
       " \n",
       "      mue_pro_4  mue_pro_5  mue_pro_6  ...  monto_auditado  monto_examinado  \\\n",
       " 0          2.0        0.0        0.0  ...             0.0              0.0   \n",
       " 1          1.0        1.0        0.0  ...             0.0              0.0   \n",
       " 2          2.0        0.0        0.0  ...       5593400.0        5593400.0   \n",
       " 3          NaN        NaN        NaN  ...       3374719.0        3374719.0   \n",
       " 4          1.0        2.0        0.0  ...             0.0              0.0   \n",
       " ..         ...        ...        ...  ...             ...              ...   \n",
       " 647        1.0        6.0        1.0  ...             0.0              0.0   \n",
       " 648        1.0        3.0        0.0  ...       2010530.0        2010530.0   \n",
       " 649        1.0        1.0        0.0  ...             0.0              0.0   \n",
       " 650        1.0        6.0        0.0  ...             0.0              0.0   \n",
       " 651        0.0        NaN        NaN  ...             0.0              0.0   \n",
       " \n",
       "      monto_objeto_servicio  corrup_intensa  corrup_amplia      monto_  \\\n",
       " 0               7662770.00             1.0            1.0  7662770.00   \n",
       " 1                172923.00             1.0            1.0   172923.00   \n",
       " 2                     0.00             1.0            1.0  5593400.00   \n",
       " 3                     0.00             1.0            1.0  3374719.00   \n",
       " 4                200046.00             1.0            1.0   200046.00   \n",
       " ..                     ...             ...            ...         ...   \n",
       " 647              376801.14             1.0            1.0   376801.12   \n",
       " 648                   0.00             1.0            1.0  2010530.00   \n",
       " 649             2688982.72             1.0            1.0  2688982.80   \n",
       " 650               71470.00             0.0            0.0    71470.00   \n",
       " 651                   0.00             1.0            1.0        0.00   \n",
       " \n",
       "      per_corrup1  per_corrup2  monto_corrup1  monto_corrup2  \n",
       " 0            5.0          0.0    7662770.000    7662770.000  \n",
       " 1            3.0          0.0     172923.000     172923.000  \n",
       " 2            4.0          0.0    5593400.000    5593400.000  \n",
       " 3            7.0          0.0    3374719.000    3374719.000  \n",
       " 4            8.0          4.0     200046.000     200046.000  \n",
       " ..           ...          ...            ...            ...  \n",
       " 647          1.0          0.0     376801.125     376801.125  \n",
       " 648          3.0          0.0    2010530.000    2010530.000  \n",
       " 649         20.0          1.0    2688982.750    2688982.750  \n",
       " 650          0.0          0.0          0.000          0.000  \n",
       " 651          2.0          0.0            NaN            NaN  \n",
       " \n",
       " [652 rows x 3967 columns],\n",
       "      sexo  facebook  web  propie_muni  mue_pro_1  mue_pro_2  mue_pro_3  \\\n",
       " 0     1.0       0.0  1.0          1.0        1.0        0.0        1.0   \n",
       " 1     1.0       0.0  0.0          1.0        1.0        1.0        0.0   \n",
       " 2     2.0       0.0  0.0          1.0        1.0        3.0        0.0   \n",
       " 3     NaN       NaN  NaN          NaN        NaN        NaN        NaN   \n",
       " 4     2.0       1.0  0.0          0.0        1.0        1.0        1.0   \n",
       " ..    ...       ...  ...          ...        ...        ...        ...   \n",
       " 840   2.0       1.0  1.0          1.0        1.0        3.0        4.0   \n",
       " 841   1.0       1.0  1.0          1.0        1.0        4.0        4.0   \n",
       " 842   1.0       1.0  1.0          1.0        1.0        4.0        4.0   \n",
       " 843   2.0       0.0  0.0          1.0        1.0        1.0        1.0   \n",
       " 844   2.0       0.0  0.0          1.0        1.0        1.0        1.0   \n",
       " \n",
       "      mue_pro_4  mue_pro_5  mue_pro_6  ...  tejgtotfun_f5viv  tdvgtotfun_f5viv  \\\n",
       " 0          2.0        0.0        0.0  ...              0.00          0.000000   \n",
       " 1          1.0        1.0        0.0  ...          15500.00      15500.000000   \n",
       " 2          2.0        0.0        0.0  ...           9500.00       9500.000000   \n",
       " 3          NaN        NaN        NaN  ...              0.00          0.000000   \n",
       " 4          1.0        2.0        0.0  ...              0.00     291749.199951   \n",
       " ..         ...        ...        ...  ...               ...               ...   \n",
       " 840        1.0        3.0        3.0  ...         622833.89     438308.250000   \n",
       " 841        1.0        6.0        1.0  ...              0.00     334471.110000   \n",
       " 842        1.0        6.0        1.0  ...              0.00     334471.110000   \n",
       " 843        1.0        1.0        0.0  ...              0.00          0.000000   \n",
       " 844        1.0        1.0        0.0  ...              0.00          0.000000   \n",
       " \n",
       "      dfgpimpiatotfun_f5viv  dfgdevpiagtotfun_f5viv  devppimtotfun_f5viv  \\\n",
       " 0                      0.0            0.000000e+00             0.000000   \n",
       " 1                  22878.0            1.550000e+04            67.750679   \n",
       " 2                   9500.0            9.500000e+03           100.000000   \n",
       " 3                      0.0            0.000000e+00             0.000000   \n",
       " 4                 659707.0            2.917492e+05            44.224056   \n",
       " ..                     ...                     ...                  ...   \n",
       " 840               532795.0            3.359482e+05            69.008080   \n",
       " 841             -1996701.0           -2.027600e+06            91.543121   \n",
       " 842             -1996701.0           -2.027600e+06            91.543121   \n",
       " 843                40952.0            0.000000e+00             0.000000   \n",
       " 844                40952.0            0.000000e+00             0.000000   \n",
       " \n",
       "      monto_objeto_servicio  corrup_intensa  corrup_amplia  per_corrup1  \\\n",
       " 0               7662770.00             1.0            1.0          5.0   \n",
       " 1                172923.00             1.0            1.0          3.0   \n",
       " 2                      NaN             1.0            1.0          4.0   \n",
       " 3                      NaN             1.0            1.0          7.0   \n",
       " 4                200046.00             1.0            1.0          8.0   \n",
       " ..                     ...             ...            ...          ...   \n",
       " 840                    NaN             0.0            1.0          0.0   \n",
       " 841              145801.14             0.0            0.0          0.0   \n",
       " 842              231000.00             0.0            0.0          0.0   \n",
       " 843             1000000.00             1.0            1.0          5.0   \n",
       " 844              850392.72             1.0            1.0          1.0   \n",
       " \n",
       "      per_corrup2  \n",
       " 0            0.0  \n",
       " 1            0.0  \n",
       " 2            0.0  \n",
       " 3            0.0  \n",
       " 4            4.0  \n",
       " ..           ...  \n",
       " 840         15.0  \n",
       " 841          0.0  \n",
       " 842          0.0  \n",
       " 843          0.0  \n",
       " 844          1.0  \n",
       " \n",
       " [845 rows x 3972 columns],\n",
       "       sexo  facebook  web  propie_muni  mue_pro_1  mue_pro_2  mue_pro_3  \\\n",
       " 0      1.0       0.0  1.0          1.0        1.0        0.0        1.0   \n",
       " 1      1.0       0.0  0.0          1.0        1.0        1.0        0.0   \n",
       " 2      2.0       0.0  0.0          1.0        1.0        3.0        0.0   \n",
       " 3      NaN       NaN  NaN          NaN        NaN        NaN        NaN   \n",
       " 4      NaN       NaN  NaN          NaN        NaN        NaN        NaN   \n",
       " ...    ...       ...  ...          ...        ...        ...        ...   \n",
       " 1285   2.0       1.0  1.0          1.0        1.0        3.0        3.0   \n",
       " 1286   2.0       0.0  0.0          1.0        1.0        1.0        1.0   \n",
       " 1287   2.0       1.0  1.0          0.0        1.0        3.0        0.0   \n",
       " 1288   1.0       1.0  1.0          1.0        1.0        1.0        0.0   \n",
       " 1289   2.0       0.0  1.0          1.0        1.0        1.0        0.0   \n",
       " \n",
       "       mue_pro_4  mue_pro_5  mue_pro_6  ...  monto_auditado  monto_examinado  \\\n",
       " 0           2.0        0.0        0.0  ...             0.0              0.0   \n",
       " 1           1.0        1.0        0.0  ...             0.0              0.0   \n",
       " 2           2.0        0.0        0.0  ...       5593400.0        5593400.0   \n",
       " 3           NaN        NaN        NaN  ...       3374719.0        3374719.0   \n",
       " 4           NaN        NaN        NaN  ...       3374719.0        3374719.0   \n",
       " ...         ...        ...        ...  ...             ...              ...   \n",
       " 1285        1.0        3.0        0.0  ...       2010530.0        2010530.0   \n",
       " 1286        1.0        1.0        0.0  ...             0.0              0.0   \n",
       " 1287        1.0        6.0        0.0  ...             0.0              0.0   \n",
       " 1288        0.0        NaN        NaN  ...             0.0              0.0   \n",
       " 1289        0.0        NaN        NaN  ...             0.0              0.0   \n",
       " \n",
       "       monto_objeto_servicio  corrup_intensa  corrup_amplia     monto_  \\\n",
       " 0                7662770.00             1.0            1.0  7662770.0   \n",
       " 1                 172923.00             1.0            1.0   172923.0   \n",
       " 2                      0.00             1.0            1.0  5593400.0   \n",
       " 3                      0.00             1.0            1.0  3374719.0   \n",
       " 4                      0.00             1.0            1.0  3374719.0   \n",
       " ...                     ...             ...            ...        ...   \n",
       " 1285                   0.00             1.0            1.0  2010530.0   \n",
       " 1286             2688982.72             1.0            1.0  2688982.8   \n",
       " 1287               71470.00             0.0            0.0    71470.0   \n",
       " 1288                   0.00             1.0            1.0        0.0   \n",
       " 1289                   0.00             1.0            1.0        0.0   \n",
       " \n",
       "       per_corrup1  per_corrup2  monto_corrup1  monto_corrup2  \n",
       " 0             5.0          0.0     7662770.00     7662770.00  \n",
       " 1             3.0          0.0      172923.00      172923.00  \n",
       " 2             4.0          0.0     5593400.00     5593400.00  \n",
       " 3             7.0          0.0     3374719.00     3374719.00  \n",
       " 4             7.0          0.0     3374719.00     3374719.00  \n",
       " ...           ...          ...            ...            ...  \n",
       " 1285          3.0          0.0     2010530.00     2010530.00  \n",
       " 1286         20.0          1.0     2688982.75     2688982.75  \n",
       " 1287          0.0          0.0           0.00           0.00  \n",
       " 1288          2.0          0.0            NaN            NaN  \n",
       " 1289          2.0          0.0            NaN            NaN  \n",
       " \n",
       " [1290 rows x 4165 columns],\n",
       "       sexo  facebook  web  propie_muni  mue_pro_1  mue_pro_2  mue_pro_3  \\\n",
       " 0      1.0       0.0  1.0          1.0        1.0        0.0        1.0   \n",
       " 1      1.0       0.0  0.0          1.0        1.0        1.0        0.0   \n",
       " 2      2.0       0.0  0.0          1.0        1.0        3.0        0.0   \n",
       " 3      NaN       NaN  NaN          NaN        NaN        NaN        NaN   \n",
       " 4      NaN       NaN  NaN          NaN        NaN        NaN        NaN   \n",
       " ...    ...       ...  ...          ...        ...        ...        ...   \n",
       " 1964   1.0       1.0  1.0          1.0        1.0        4.0        4.0   \n",
       " 1965   1.0       1.0  1.0          1.0        1.0        4.0        4.0   \n",
       " 1966   1.0       1.0  1.0          1.0        1.0        4.0        4.0   \n",
       " 1967   2.0       0.0  0.0          1.0        1.0        1.0        1.0   \n",
       " 1968   2.0       0.0  0.0          1.0        1.0        1.0        1.0   \n",
       " \n",
       "       mue_pro_4  mue_pro_5  mue_pro_6  ...  tdvgtotfun_f5viv  \\\n",
       " 0           2.0        0.0        0.0  ...              0.00   \n",
       " 1           1.0        1.0        0.0  ...          15500.00   \n",
       " 2           2.0        0.0        0.0  ...           9500.00   \n",
       " 3           NaN        NaN        NaN  ...              0.00   \n",
       " 4           NaN        NaN        NaN  ...              0.00   \n",
       " ...         ...        ...        ...  ...               ...   \n",
       " 1964        1.0        6.0        1.0  ...         334471.11   \n",
       " 1965        1.0        6.0        1.0  ...         334471.11   \n",
       " 1966        1.0        6.0        1.0  ...         334471.11   \n",
       " 1967        1.0        1.0        0.0  ...              0.00   \n",
       " 1968        1.0        1.0        0.0  ...              0.00   \n",
       " \n",
       "       dfgpimpiatotfun_f5viv  dfgdevpiagtotfun_f5viv  devppimtotfun_f5viv  \\\n",
       " 0                       0.0                   0.000             0.000000   \n",
       " 1                   22878.0               15500.000            67.750679   \n",
       " 2                    9500.0                9500.000           100.000000   \n",
       " 3                       0.0                   0.000             0.000000   \n",
       " 4                       0.0                   0.000             0.000000   \n",
       " ...                     ...                     ...                  ...   \n",
       " 1964             -1996701.0            -2027599.875            91.543121   \n",
       " 1965             -1996701.0            -2027599.875            91.543121   \n",
       " 1966             -1996701.0            -2027599.875            91.543121   \n",
       " 1967                40952.0                   0.000             0.000000   \n",
       " 1968                40952.0                   0.000             0.000000   \n",
       " \n",
       "       monto_auditado_promedio  monto_examinado_promedio  corrup_intensa  \\\n",
       " 0                         NaN                       NaN             1.0   \n",
       " 1                         NaN                       NaN             1.0   \n",
       " 2                5.593400e+06              5.593400e+06             1.0   \n",
       " 3                6.749438e+05              6.749438e+05             1.0   \n",
       " 4                6.749438e+05              6.749438e+05             1.0   \n",
       " ...                       ...                       ...             ...   \n",
       " 1964                      NaN                       NaN             0.0   \n",
       " 1965                      NaN                       NaN             1.0   \n",
       " 1966             1.037036e+05              1.037036e+05             0.0   \n",
       " 1967                      NaN                       NaN             1.0   \n",
       " 1968                      NaN                       NaN             1.0   \n",
       " \n",
       "       corrup_amplia  per_corrup1  per_corrup2  \n",
       " 0               1.0          5.0          0.0  \n",
       " 1               1.0          3.0          0.0  \n",
       " 2               1.0          4.0          0.0  \n",
       " 3               1.0          7.0          0.0  \n",
       " 4               1.0          7.0          0.0  \n",
       " ...             ...          ...          ...  \n",
       " 1964            0.0          0.0          0.0  \n",
       " 1965            1.0          1.0          0.0  \n",
       " 1966            0.0          0.0          0.0  \n",
       " 1967            1.0          5.0          0.0  \n",
       " 1968            1.0          1.0          1.0  \n",
       " \n",
       " [1969 rows x 4201 columns]]"
      ]
     },
     "execution_count": 22,
     "metadata": {},
     "output_type": "execute_result"
    }
   ],
   "source": [
    "fun.filtro_variabilidad( dfs, 0 )"
   ]
  },
  {
   "cell_type": "markdown",
   "id": "9f9a0f5f-6cb4-44ae-b4c1-c5970a5d70bb",
   "metadata": {},
   "source": [
    "Se verifica la dimensionalidad de las bases tras el paso 2.3."
   ]
  },
  {
   "cell_type": "code",
   "execution_count": 23,
   "id": "4039ac1e-ee09-4c15-a76a-3617f628bb0e",
   "metadata": {},
   "outputs": [
    {
     "name": "stdout",
     "output_type": "stream",
     "text": [
      "base0 (652, 3967)\n",
      "base1 (845, 3972)\n",
      "base2 (1290, 4165)\n",
      "base3 (1969, 4201)\n"
     ]
    }
   ],
   "source": [
    "fun.determinar_dimensiones( dfs )"
   ]
  },
  {
   "cell_type": "markdown",
   "id": "f32dc35e-b70e-45e5-bec6-f15fb8552ad6",
   "metadata": {},
   "source": [
    "#### 2.4. Filtro por correlación"
   ]
  },
  {
   "cell_type": "markdown",
   "id": "d1ae5f76-1413-4a03-b66a-48f664e84954",
   "metadata": {},
   "source": [
    "Se realiza un filtro de correlación para cada una de las variables dependientes de la base0. El umbral es 0.8. Para mayor detalle en el funcionamiento del filtro, véase su respectiva sección en el módulo \"funciones.py\". Posteriormente se agrupa las bases filtradas de la base 0 en la lista \"dfs_0_i\". Luego, se asigna el nombre a cada una de las bases. Finalmente, se determina las dimensiones de las bases"
   ]
  },
  {
   "cell_type": "code",
   "execution_count": 30,
   "id": "c7c21a18-11bf-424e-ba96-2dbf2afb253f",
   "metadata": {
    "tags": []
   },
   "outputs": [],
   "source": [
    "dfs_0_ci = fun.filtro_correlacion( dfs[0], dfs[0][ 'corrup_intensa' ], 0.8 )\n",
    "dfs_0_ca = fun.filtro_correlacion( dfs[0], dfs[0][ 'corrup_amplia' ], 0.8 )\n",
    "dfs_0_mci = fun.filtro_correlacion( dfs[0], dfs[0][ 'monto_corrup1' ], 0.8 )\n",
    "dfs_0_mca = fun.filtro_correlacion( dfs[0], dfs[0][ 'monto_corrup2' ], 0.8 )\n",
    "dfs_0_pci = fun.filtro_correlacion( dfs[0], dfs[0][ 'per_corrup1' ], 0.8 )\n",
    "dfs_0_pca = fun.filtro_correlacion( dfs[0], dfs[0][ 'per_corrup2' ], 0.8 )"
   ]
  },
  {
   "cell_type": "code",
   "execution_count": 33,
   "id": "ae7190e9-9110-4ac2-86c1-13adf8e47aa1",
   "metadata": {},
   "outputs": [],
   "source": [
    "filtradas_0 = [ dfs_0_ci, dfs_0_ca, dfs_0_mci, dfs_0_mca, dfs_0_pci, dfs_0_pca ]\n",
    "dfs_0_i = []\n",
    "for i, filtrada_0 in enumerate( filtradas_0 ):\n",
    "    dfs_0_i.append( filtrada_0 )"
   ]
  },
  {
   "cell_type": "code",
   "execution_count": 37,
   "id": "681d31da-dc95-4418-a838-d71dce591cb5",
   "metadata": {
    "scrolled": true,
    "tags": []
   },
   "outputs": [],
   "source": [
    "dfs_0_i[0].name = 'dfs_0_i_ci'\n",
    "dfs_0_i[1].name = 'dfs_0_i_ca'\n",
    "dfs_0_i[2].name = 'dfs_0_i_mci'\n",
    "dfs_0_i[3].name = 'dfs_0_i_mca'\n",
    "dfs_0_i[4].name = 'dfs_0_i_pci'\n",
    "dfs_0_i[5].name = 'dfs_0_i_pca'"
   ]
  },
  {
   "cell_type": "code",
   "execution_count": 38,
   "id": "9b699c36-5278-4f41-bcd8-69005edd910b",
   "metadata": {
    "tags": []
   },
   "outputs": [
    {
     "name": "stdout",
     "output_type": "stream",
     "text": [
      "dfs_0_i_ci (652, 1266)\n",
      "dfs_0_i_ca (652, 1271)\n",
      "dfs_0_i_mci (652, 1277)\n",
      "dfs_0_i_mca (652, 1270)\n",
      "dfs_0_i_pci (652, 1268)\n",
      "dfs_0_i_pca (652, 1258)\n"
     ]
    }
   ],
   "source": [
    "fun.determinar_dimensiones( dfs_0_i )"
   ]
  },
  {
   "cell_type": "markdown",
   "id": "a8f606c0-3a88-43e9-ab48-225bef981e97",
   "metadata": {},
   "source": [
    "Se realiza el mismo procedimiento para cada una de las variables dependientes de la base1."
   ]
  },
  {
   "cell_type": "code",
   "execution_count": null,
   "id": "82c16d6f-452a-4031-a282-22e67c8d76cc",
   "metadata": {
    "tags": []
   },
   "outputs": [],
   "source": [
    "dfs_1_ci = fun.filtro_correlacion( dfs[1], dfs[1][ 'corrup_intensa' ], 0.8 )\n",
    "dfs_1_ca = fun.filtro_correlacion( dfs[1], dfs[1][ 'corrup_amplia' ], 0.8 )\n",
    "dfs_1_m = fun.filtro_correlacion( dfs[1], dfs[1][ 'monto' ], 0.8 )"
   ]
  },
  {
   "cell_type": "code",
   "execution_count": null,
   "id": "5ec2d288-0652-4625-8534-28bdf913e05b",
   "metadata": {
    "tags": []
   },
   "outputs": [],
   "source": [
    "filtradas_1 = [ dfs_1_ci, dfs_1_ca, dfs_1_m ]\n",
    "dfs_1_i = []\n",
    "for i, filtrada_1 in enumerate( filtradas_1 ):\n",
    "    dfs_1_i.append( filtrada_1 )"
   ]
  },
  {
   "cell_type": "code",
   "execution_count": null,
   "id": "04e78460-c8f8-4b3e-a698-7e65eb525fb0",
   "metadata": {},
   "outputs": [],
   "source": [
    "dfs_1_i[0].name = 'dfs_1_i_ci'\n",
    "dfs_1_i[1].name = 'dfs_1_i_ca'\n",
    "dfs_1_i[2].name = 'dfs_1_i_m'"
   ]
  },
  {
   "cell_type": "code",
   "execution_count": null,
   "id": "a8247fb0-6558-480c-99e1-acd605215ce0",
   "metadata": {},
   "outputs": [],
   "source": [
    "fun.determinar_dimensiones( dfs_1_i )"
   ]
  },
  {
   "cell_type": "markdown",
   "id": "95aaaec9-2920-4b1c-b56f-0bcb4ea41649",
   "metadata": {},
   "source": [
    "Se realiza el mismo procedimiento para cada una de las bases dependientes de la base2."
   ]
  },
  {
   "cell_type": "code",
   "execution_count": null,
   "id": "bc1f1d87-b0d0-4db0-8201-67881b66600a",
   "metadata": {},
   "outputs": [],
   "source": [
    "dfs_2_ci = fun.filtro_correlacion( dfs[2], dfs[2][ 'corrup_intensa' ], 0.8 )\n",
    "dfs_2_ca = fun.filtro_correlacion( dfs[2], dfs[2][ 'corrup_amplia' ], 0.8 )\n",
    "dfs_2_m = fun.filtro_correlacion( dfs[2], dfs[2][ 'monto' ], 0.8 )"
   ]
  },
  {
   "cell_type": "code",
   "execution_count": null,
   "id": "4c65adf5-6e26-4fc4-b38d-c6ff576848dc",
   "metadata": {},
   "outputs": [],
   "source": [
    "filtradas_2 = [ dfs_2_ci, dfs_2_ca, dfs_2_m ]\n",
    "dfs_2_i = []\n",
    "for i, filtrada_2 in enumerate( filtradas_2 ):\n",
    "    dfs_2_i.append( filtrada_2 )"
   ]
  },
  {
   "cell_type": "code",
   "execution_count": null,
   "id": "f7f61482-edab-4a42-8eaa-827bf311e113",
   "metadata": {},
   "outputs": [],
   "source": [
    "dfs_2_i[0].name = 'dfs_2_i_ci'\n",
    "dfs_2_i[1].name = 'dfs_2_i_ca'\n",
    "dfs_2_i[2].name = 'dfs_2_i_m'"
   ]
  },
  {
   "cell_type": "markdown",
   "id": "76250f40-e411-438e-86be-e32b67ea4891",
   "metadata": {},
   "source": [
    "Se realiza el mismo procedimiento para cada una de las bases dependientes de la base3."
   ]
  },
  {
   "cell_type": "code",
   "execution_count": null,
   "id": "33081c10-b81b-4152-b77c-95660a736de0",
   "metadata": {},
   "outputs": [],
   "source": [
    "dfs_3_ci = fun.filtro_correlacion( dfs[3], dfs[3][ 'corrup_intensa' ], 0.8 )\n",
    "dfs_3_ca = fun.filtro_correlacion( dfs[3], dfs[3][ 'corrup_amplia' ], 0.8 )\n",
    "dfs_3_m = fun.filtro_correlacion( dfs[3], dfs[3][ 'monto' ], 0.8 )"
   ]
  },
  {
   "cell_type": "code",
   "execution_count": null,
   "id": "d64d3150-ebb2-473e-99f6-19376c689cc9",
   "metadata": {},
   "outputs": [],
   "source": [
    "filtradas_3 = [ dfs_3_ci, dfs_3_ca, dfs_3_m ]\n",
    "dfs_3_i = []\n",
    "for i, filtrada_3 in enumerate( filtradas_3 ):\n",
    "    dfs_3_i.append( filtrada_3 )"
   ]
  },
  {
   "cell_type": "code",
   "execution_count": null,
   "id": "3d314fac-0b33-464b-8f68-e55fdad2ed39",
   "metadata": {},
   "outputs": [],
   "source": [
    "dfs_3_i[0].name = 'dfs_3_i_ci'\n",
    "dfs_3_i[1].name = 'dfs_3_i_ca'\n",
    "dfs_3_i[2].name = 'dfs_3_i_m'"
   ]
  },
  {
   "cell_type": "markdown",
   "id": "58f3723c-cd02-45e1-b389-8ebfe03d4b4c",
   "metadata": {
    "tags": []
   },
   "source": [
    "#### 2.5. Imputar outliers"
   ]
  },
  {
   "cell_type": "markdown",
   "id": "0f298b29-8c00-4be6-95be-909e3e5ce0f3",
   "metadata": {},
   "source": [
    "Se imputa los valores del percentil 1% superior con los valores del percentil 99% para cada una de las variables de SIAF. En este caso, la imputación se realiza sobre las tres bases resultantes de la base0."
   ]
  },
  {
   "cell_type": "code",
   "execution_count": 39,
   "id": "99f1cef5-1e37-42d7-abd6-111693490428",
   "metadata": {
    "collapsed": true,
    "jupyter": {
     "outputs_hidden": true
    },
    "tags": []
   },
   "outputs": [
    {
     "name": "stderr",
     "output_type": "stream",
     "text": [
      "C:\\Users\\dell\\Documents\\QLAB\\Corruption_Paper\\code\\preprocess_data\\funciones.py:355: SettingWithCopyWarning: \n",
      "A value is trying to be set on a copy of a slice from a DataFrame\n",
      "\n",
      "See the caveats in the documentation: https://pandas.pydata.org/pandas-docs/stable/user_guide/indexing.html#returning-a-view-versus-a-copy\n",
      "  dataframe.loc[ dataframe[var] > perc, var ] = perc\n"
     ]
    },
    {
     "data": {
      "text/plain": [
       "[     sexo  facebook  web  mue_pro_1  mue_pro_4  mue_pro_5  mue_pro_6  \\\n",
       " 0     1.0       0.0  1.0        1.0        2.0        0.0        0.0   \n",
       " 1     1.0       0.0  0.0        1.0        1.0        1.0        0.0   \n",
       " 2     2.0       0.0  0.0        1.0        2.0        0.0        0.0   \n",
       " 3     NaN       NaN  NaN        NaN        NaN        NaN        NaN   \n",
       " 4     2.0       1.0  0.0        1.0        1.0        2.0        0.0   \n",
       " ..    ...       ...  ...        ...        ...        ...        ...   \n",
       " 647   1.0       1.0  1.0        1.0        1.0        6.0        1.0   \n",
       " 648   2.0       1.0  1.0        1.0        1.0        3.0        0.0   \n",
       " 649   2.0       0.0  0.0        1.0        1.0        1.0        0.0   \n",
       " 650   2.0       1.0  1.0        1.0        1.0        6.0        0.0   \n",
       " 651   1.0       1.0  1.0        1.0        0.0        NaN        NaN   \n",
       " \n",
       "      mue_pro_7  mue_pro_10  mue_pro_13  ...  tdvgtotfun_f5viv  \\\n",
       " 0          2.0         2.0         2.0  ...          0.000000   \n",
       " 1          2.0         2.0         2.0  ...      15500.000000   \n",
       " 2          2.0         2.0         1.0  ...       9500.000000   \n",
       " 3          NaN         NaN         NaN  ...          0.000000   \n",
       " 4          1.0         0.0         0.0  ...     291749.199951   \n",
       " ..         ...         ...         ...  ...               ...   \n",
       " 647        1.0         1.0         0.0  ...     334471.110000   \n",
       " 648        1.0         1.0         0.0  ...     177361.930908   \n",
       " 649        1.0         1.0         1.0  ...          0.000000   \n",
       " 650        1.0         0.0         1.0  ...      56964.230286   \n",
       " 651        0.0         0.0         0.0  ...     111296.500000   \n",
       " \n",
       "      dfgpimpiatotfun_f5viv  devppimtotfun_f5viv  monto_examinado  \\\n",
       " 0                      0.0             0.000000              0.0   \n",
       " 1                  22878.0            67.750679              0.0   \n",
       " 2                   9500.0           100.000000        5593400.0   \n",
       " 3                      0.0             0.000000        3374719.0   \n",
       " 4                 659707.0            44.224056              0.0   \n",
       " ..                     ...                  ...              ...   \n",
       " 647             -1996701.0            91.543121              0.0   \n",
       " 648               248506.0            68.610374        2010530.0   \n",
       " 649                40952.0             0.000000              0.0   \n",
       " 650               -11628.0            96.565910              0.0   \n",
       " 651                31885.0            99.399384              0.0   \n",
       " \n",
       "      monto_objeto_servicio  corrup_intensa  corrup_amplia  per_corrup1  \\\n",
       " 0               7662770.00             1.0            1.0          5.0   \n",
       " 1                172923.00             1.0            1.0          3.0   \n",
       " 2                     0.00             1.0            1.0          4.0   \n",
       " 3                     0.00             1.0            1.0          7.0   \n",
       " 4                200046.00             1.0            1.0          8.0   \n",
       " ..                     ...             ...            ...          ...   \n",
       " 647              376801.14             1.0            1.0          1.0   \n",
       " 648                   0.00             1.0            1.0          3.0   \n",
       " 649             2688982.72             1.0            1.0         20.0   \n",
       " 650               71470.00             0.0            0.0          0.0   \n",
       " 651                   0.00             1.0            1.0          2.0   \n",
       " \n",
       "      per_corrup2  monto_corrup1  \n",
       " 0            0.0    7662770.000  \n",
       " 1            0.0     172923.000  \n",
       " 2            0.0    5593400.000  \n",
       " 3            0.0    3374719.000  \n",
       " 4            4.0     200046.000  \n",
       " ..           ...            ...  \n",
       " 647          0.0     376801.125  \n",
       " 648          0.0    2010530.000  \n",
       " 649          1.0    2688982.750  \n",
       " 650          0.0          0.000  \n",
       " 651          0.0            NaN  \n",
       " \n",
       " [652 rows x 1266 columns],\n",
       "      sexo  facebook  web  mue_pro_1  mue_pro_4  mue_pro_5  mue_pro_6  \\\n",
       " 0     1.0       0.0  1.0        1.0        2.0        0.0        0.0   \n",
       " 1     1.0       0.0  0.0        1.0        1.0        1.0        0.0   \n",
       " 2     2.0       0.0  0.0        1.0        2.0        0.0        0.0   \n",
       " 3     NaN       NaN  NaN        NaN        NaN        NaN        NaN   \n",
       " 4     2.0       1.0  0.0        1.0        1.0        2.0        0.0   \n",
       " ..    ...       ...  ...        ...        ...        ...        ...   \n",
       " 647   1.0       1.0  1.0        1.0        1.0        6.0        1.0   \n",
       " 648   2.0       1.0  1.0        1.0        1.0        3.0        0.0   \n",
       " 649   2.0       0.0  0.0        1.0        1.0        1.0        0.0   \n",
       " 650   2.0       1.0  1.0        1.0        1.0        6.0        0.0   \n",
       " 651   1.0       1.0  1.0        1.0        0.0        NaN        NaN   \n",
       " \n",
       "      mue_pro_7  mue_pro_10  mue_pro_13  ...  tejgtotfun_f5viv  \\\n",
       " 0          2.0         2.0         2.0  ...               0.0   \n",
       " 1          2.0         2.0         2.0  ...           15500.0   \n",
       " 2          2.0         2.0         1.0  ...            9500.0   \n",
       " 3          NaN         NaN         NaN  ...               0.0   \n",
       " 4          1.0         0.0         0.0  ...               0.0   \n",
       " ..         ...         ...         ...  ...               ...   \n",
       " 647        1.0         1.0         0.0  ...               0.0   \n",
       " 648        1.0         1.0         0.0  ...               0.0   \n",
       " 649        1.0         1.0         1.0  ...               0.0   \n",
       " 650        1.0         0.0         1.0  ...               0.0   \n",
       " 651        0.0         0.0         0.0  ...               0.0   \n",
       " \n",
       "      dfgpimpiatotfun_f5viv  devppimtotfun_f5viv  monto_examinado  \\\n",
       " 0                      0.0             0.000000              0.0   \n",
       " 1                  22878.0            67.750679              0.0   \n",
       " 2                   9500.0           100.000000        5593400.0   \n",
       " 3                      0.0             0.000000        3374719.0   \n",
       " 4                 659707.0            44.224056              0.0   \n",
       " ..                     ...                  ...              ...   \n",
       " 647             -1996701.0            91.543121              0.0   \n",
       " 648               248506.0            68.610374        2010530.0   \n",
       " 649                40952.0             0.000000              0.0   \n",
       " 650               -11628.0            96.565910              0.0   \n",
       " 651                31885.0            99.399384              0.0   \n",
       " \n",
       "      monto_objeto_servicio  corrup_intensa  corrup_amplia  per_corrup1  \\\n",
       " 0               7662770.00             1.0            1.0          5.0   \n",
       " 1                172923.00             1.0            1.0          3.0   \n",
       " 2                     0.00             1.0            1.0          4.0   \n",
       " 3                     0.00             1.0            1.0          7.0   \n",
       " 4                200046.00             1.0            1.0          8.0   \n",
       " ..                     ...             ...            ...          ...   \n",
       " 647              376801.14             1.0            1.0          1.0   \n",
       " 648                   0.00             1.0            1.0          3.0   \n",
       " 649             2688982.72             1.0            1.0         20.0   \n",
       " 650               71470.00             0.0            0.0          0.0   \n",
       " 651                   0.00             1.0            1.0          2.0   \n",
       " \n",
       "      per_corrup2  monto_corrup2  \n",
       " 0            0.0    7662770.000  \n",
       " 1            0.0     172923.000  \n",
       " 2            0.0    5593400.000  \n",
       " 3            0.0    3374719.000  \n",
       " 4            4.0     200046.000  \n",
       " ..           ...            ...  \n",
       " 647          0.0     376801.125  \n",
       " 648          0.0    2010530.000  \n",
       " 649          1.0    2688982.750  \n",
       " 650          0.0          0.000  \n",
       " 651          0.0            NaN  \n",
       " \n",
       " [652 rows x 1271 columns],\n",
       "      sexo  facebook  web  propie_muni  mue_pro_1  mue_pro_4  mue_pro_5  \\\n",
       " 0     1.0       0.0  1.0          1.0        1.0        2.0        0.0   \n",
       " 1     1.0       0.0  0.0          1.0        1.0        1.0        1.0   \n",
       " 2     2.0       0.0  0.0          1.0        1.0        2.0        0.0   \n",
       " 3     NaN       NaN  NaN          NaN        NaN        NaN        NaN   \n",
       " 4     2.0       1.0  0.0          0.0        1.0        1.0        2.0   \n",
       " ..    ...       ...  ...          ...        ...        ...        ...   \n",
       " 647   1.0       1.0  1.0          1.0        1.0        1.0        6.0   \n",
       " 648   2.0       1.0  1.0          1.0        1.0        1.0        3.0   \n",
       " 649   2.0       0.0  0.0          1.0        1.0        1.0        1.0   \n",
       " 650   2.0       1.0  1.0          0.0        1.0        1.0        6.0   \n",
       " 651   1.0       1.0  1.0          1.0        1.0        0.0        NaN   \n",
       " \n",
       "      mue_pro_6  mue_pro_7  mue_pro_10  ...  tdvgtotfun_f5viv  \\\n",
       " 0          0.0        2.0         2.0  ...          0.000000   \n",
       " 1          0.0        2.0         2.0  ...      15500.000000   \n",
       " 2          0.0        2.0         2.0  ...       9500.000000   \n",
       " 3          NaN        NaN         NaN  ...          0.000000   \n",
       " 4          0.0        1.0         0.0  ...     291749.199951   \n",
       " ..         ...        ...         ...  ...               ...   \n",
       " 647        1.0        1.0         1.0  ...     334471.110000   \n",
       " 648        0.0        1.0         1.0  ...     177361.930908   \n",
       " 649        0.0        1.0         1.0  ...          0.000000   \n",
       " 650        0.0        1.0         0.0  ...      56964.230286   \n",
       " 651        NaN        0.0         0.0  ...     111296.500000   \n",
       " \n",
       "      dfgpimpiatotfun_f5viv  devppimtotfun_f5viv  monto_examinado  \\\n",
       " 0                      0.0             0.000000              0.0   \n",
       " 1                  22878.0            67.750679              0.0   \n",
       " 2                   9500.0           100.000000        5593400.0   \n",
       " 3                      0.0             0.000000        3374719.0   \n",
       " 4                 659707.0            44.224056              0.0   \n",
       " ..                     ...                  ...              ...   \n",
       " 647             -1996701.0            91.543121              0.0   \n",
       " 648               248506.0            68.610374        2010530.0   \n",
       " 649                40952.0             0.000000              0.0   \n",
       " 650               -11628.0            96.565910              0.0   \n",
       " 651                31885.0            99.399384              0.0   \n",
       " \n",
       "      monto_objeto_servicio  corrup_intensa  corrup_amplia  per_corrup1  \\\n",
       " 0               7662770.00             1.0            1.0          5.0   \n",
       " 1                172923.00             1.0            1.0          3.0   \n",
       " 2                     0.00             1.0            1.0          4.0   \n",
       " 3                     0.00             1.0            1.0          7.0   \n",
       " 4                200046.00             1.0            1.0          8.0   \n",
       " ..                     ...             ...            ...          ...   \n",
       " 647              376801.14             1.0            1.0          1.0   \n",
       " 648                   0.00             1.0            1.0          3.0   \n",
       " 649             2688982.72             1.0            1.0         20.0   \n",
       " 650               71470.00             0.0            0.0          0.0   \n",
       " 651                   0.00             1.0            1.0          2.0   \n",
       " \n",
       "      per_corrup2  monto_corrup1  \n",
       " 0            0.0    7662770.000  \n",
       " 1            0.0     172923.000  \n",
       " 2            0.0    5593400.000  \n",
       " 3            0.0    3374719.000  \n",
       " 4            4.0     200046.000  \n",
       " ..           ...            ...  \n",
       " 647          0.0     376801.125  \n",
       " 648          0.0    2010530.000  \n",
       " 649          1.0    2688982.750  \n",
       " 650          0.0          0.000  \n",
       " 651          0.0            NaN  \n",
       " \n",
       " [652 rows x 1277 columns],\n",
       "      sexo  facebook  web  propie_muni  mue_pro_1  mue_pro_4  mue_pro_5  \\\n",
       " 0     1.0       0.0  1.0          1.0        1.0        2.0        0.0   \n",
       " 1     1.0       0.0  0.0          1.0        1.0        1.0        1.0   \n",
       " 2     2.0       0.0  0.0          1.0        1.0        2.0        0.0   \n",
       " 3     NaN       NaN  NaN          NaN        NaN        NaN        NaN   \n",
       " 4     2.0       1.0  0.0          0.0        1.0        1.0        2.0   \n",
       " ..    ...       ...  ...          ...        ...        ...        ...   \n",
       " 647   1.0       1.0  1.0          1.0        1.0        1.0        6.0   \n",
       " 648   2.0       1.0  1.0          1.0        1.0        1.0        3.0   \n",
       " 649   2.0       0.0  0.0          1.0        1.0        1.0        1.0   \n",
       " 650   2.0       1.0  1.0          0.0        1.0        1.0        6.0   \n",
       " 651   1.0       1.0  1.0          1.0        1.0        0.0        NaN   \n",
       " \n",
       "      mue_pro_6  mue_pro_7  mue_pro_10  ...  tejgtotfun_f5viv  \\\n",
       " 0          0.0        2.0         2.0  ...               0.0   \n",
       " 1          0.0        2.0         2.0  ...           15500.0   \n",
       " 2          0.0        2.0         2.0  ...            9500.0   \n",
       " 3          NaN        NaN         NaN  ...               0.0   \n",
       " 4          0.0        1.0         0.0  ...               0.0   \n",
       " ..         ...        ...         ...  ...               ...   \n",
       " 647        1.0        1.0         1.0  ...               0.0   \n",
       " 648        0.0        1.0         1.0  ...               0.0   \n",
       " 649        0.0        1.0         1.0  ...               0.0   \n",
       " 650        0.0        1.0         0.0  ...               0.0   \n",
       " 651        NaN        0.0         0.0  ...               0.0   \n",
       " \n",
       "      tdvgtotfun_f5viv  devppimtotfun_f5viv  monto_examinado  \\\n",
       " 0            0.000000             0.000000              0.0   \n",
       " 1        15500.000000            67.750679              0.0   \n",
       " 2         9500.000000           100.000000        5593400.0   \n",
       " 3            0.000000             0.000000        3374719.0   \n",
       " 4       291749.199951            44.224056              0.0   \n",
       " ..                ...                  ...              ...   \n",
       " 647     334471.110000            91.543121              0.0   \n",
       " 648     177361.930908            68.610374        2010530.0   \n",
       " 649          0.000000             0.000000              0.0   \n",
       " 650      56964.230286            96.565910              0.0   \n",
       " 651     111296.500000            99.399384              0.0   \n",
       " \n",
       "      monto_objeto_servicio  corrup_intensa  corrup_amplia  per_corrup1  \\\n",
       " 0               7662770.00             1.0            1.0          5.0   \n",
       " 1                172923.00             1.0            1.0          3.0   \n",
       " 2                     0.00             1.0            1.0          4.0   \n",
       " 3                     0.00             1.0            1.0          7.0   \n",
       " 4                200046.00             1.0            1.0          8.0   \n",
       " ..                     ...             ...            ...          ...   \n",
       " 647              376801.14             1.0            1.0          1.0   \n",
       " 648                   0.00             1.0            1.0          3.0   \n",
       " 649             2688982.72             1.0            1.0         20.0   \n",
       " 650               71470.00             0.0            0.0          0.0   \n",
       " 651                   0.00             1.0            1.0          2.0   \n",
       " \n",
       "      per_corrup2  monto_corrup2  \n",
       " 0            0.0    7662770.000  \n",
       " 1            0.0     172923.000  \n",
       " 2            0.0    5593400.000  \n",
       " 3            0.0    3374719.000  \n",
       " 4            4.0     200046.000  \n",
       " ..           ...            ...  \n",
       " 647          0.0     376801.125  \n",
       " 648          0.0    2010530.000  \n",
       " 649          1.0    2688982.750  \n",
       " 650          0.0          0.000  \n",
       " 651          0.0            NaN  \n",
       " \n",
       " [652 rows x 1270 columns],\n",
       "      sexo  facebook  web  propie_muni  mue_pro_1  mue_pro_4  mue_pro_5  \\\n",
       " 0     1.0       0.0  1.0          1.0        1.0        2.0        0.0   \n",
       " 1     1.0       0.0  0.0          1.0        1.0        1.0        1.0   \n",
       " 2     2.0       0.0  0.0          1.0        1.0        2.0        0.0   \n",
       " 3     NaN       NaN  NaN          NaN        NaN        NaN        NaN   \n",
       " 4     2.0       1.0  0.0          0.0        1.0        1.0        2.0   \n",
       " ..    ...       ...  ...          ...        ...        ...        ...   \n",
       " 647   1.0       1.0  1.0          1.0        1.0        1.0        6.0   \n",
       " 648   2.0       1.0  1.0          1.0        1.0        1.0        3.0   \n",
       " 649   2.0       0.0  0.0          1.0        1.0        1.0        1.0   \n",
       " 650   2.0       1.0  1.0          0.0        1.0        1.0        6.0   \n",
       " 651   1.0       1.0  1.0          1.0        1.0        0.0        NaN   \n",
       " \n",
       "      mue_pro_6  mue_pro_7  mue_pro_10  ...  tejgtotfun_f5viv  \\\n",
       " 0          0.0        2.0         2.0  ...               0.0   \n",
       " 1          0.0        2.0         2.0  ...           15500.0   \n",
       " 2          0.0        2.0         2.0  ...            9500.0   \n",
       " 3          NaN        NaN         NaN  ...               0.0   \n",
       " 4          0.0        1.0         0.0  ...               0.0   \n",
       " ..         ...        ...         ...  ...               ...   \n",
       " 647        1.0        1.0         1.0  ...               0.0   \n",
       " 648        0.0        1.0         1.0  ...               0.0   \n",
       " 649        0.0        1.0         1.0  ...               0.0   \n",
       " 650        0.0        1.0         0.0  ...               0.0   \n",
       " 651        NaN        0.0         0.0  ...               0.0   \n",
       " \n",
       "      tdvgtotfun_f5viv  devppimtotfun_f5viv  monto_examinado  \\\n",
       " 0            0.000000             0.000000              0.0   \n",
       " 1        15500.000000            67.750679              0.0   \n",
       " 2         9500.000000           100.000000        5593400.0   \n",
       " 3            0.000000             0.000000        3374719.0   \n",
       " 4       291749.199951            44.224056              0.0   \n",
       " ..                ...                  ...              ...   \n",
       " 647     334471.110000            91.543121              0.0   \n",
       " 648     177361.930908            68.610374        2010530.0   \n",
       " 649          0.000000             0.000000              0.0   \n",
       " 650      56964.230286            96.565910              0.0   \n",
       " 651     111296.500000            99.399384              0.0   \n",
       " \n",
       "      monto_objeto_servicio  corrup_intensa  corrup_amplia  per_corrup1  \\\n",
       " 0               7662770.00             1.0            1.0          5.0   \n",
       " 1                172923.00             1.0            1.0          3.0   \n",
       " 2                     0.00             1.0            1.0          4.0   \n",
       " 3                     0.00             1.0            1.0          7.0   \n",
       " 4                200046.00             1.0            1.0          8.0   \n",
       " ..                     ...             ...            ...          ...   \n",
       " 647              376801.14             1.0            1.0          1.0   \n",
       " 648                   0.00             1.0            1.0          3.0   \n",
       " 649             2688982.72             1.0            1.0         20.0   \n",
       " 650               71470.00             0.0            0.0          0.0   \n",
       " 651                   0.00             1.0            1.0          2.0   \n",
       " \n",
       "      per_corrup2  monto_corrup1  \n",
       " 0            0.0    7662770.000  \n",
       " 1            0.0     172923.000  \n",
       " 2            0.0    5593400.000  \n",
       " 3            0.0    3374719.000  \n",
       " 4            4.0     200046.000  \n",
       " ..           ...            ...  \n",
       " 647          0.0     376801.125  \n",
       " 648          0.0    2010530.000  \n",
       " 649          1.0    2688982.750  \n",
       " 650          0.0          0.000  \n",
       " 651          0.0            NaN  \n",
       " \n",
       " [652 rows x 1268 columns],\n",
       "      sexo  facebook  web  mue_pro_1  mue_pro_3  mue_pro_4  mue_pro_5  \\\n",
       " 0     1.0       0.0  1.0        1.0        1.0        2.0        0.0   \n",
       " 1     1.0       0.0  0.0        1.0        0.0        1.0        1.0   \n",
       " 2     2.0       0.0  0.0        1.0        0.0        2.0        0.0   \n",
       " 3     NaN       NaN  NaN        NaN        NaN        NaN        NaN   \n",
       " 4     2.0       1.0  0.0        1.0        1.0        1.0        2.0   \n",
       " ..    ...       ...  ...        ...        ...        ...        ...   \n",
       " 647   1.0       1.0  1.0        1.0        4.0        1.0        6.0   \n",
       " 648   2.0       1.0  1.0        1.0        3.0        1.0        3.0   \n",
       " 649   2.0       0.0  0.0        1.0        1.0        1.0        1.0   \n",
       " 650   2.0       1.0  1.0        1.0        0.0        1.0        6.0   \n",
       " 651   1.0       1.0  1.0        1.0        0.0        0.0        NaN   \n",
       " \n",
       "      mue_pro_6  mue_pro_7  mue_pro_10  ...  tejgtotfun_f5viv  \\\n",
       " 0          0.0        2.0         2.0  ...               0.0   \n",
       " 1          0.0        2.0         2.0  ...           15500.0   \n",
       " 2          0.0        2.0         2.0  ...            9500.0   \n",
       " 3          NaN        NaN         NaN  ...               0.0   \n",
       " 4          0.0        1.0         0.0  ...               0.0   \n",
       " ..         ...        ...         ...  ...               ...   \n",
       " 647        1.0        1.0         1.0  ...               0.0   \n",
       " 648        0.0        1.0         1.0  ...               0.0   \n",
       " 649        0.0        1.0         1.0  ...               0.0   \n",
       " 650        0.0        1.0         0.0  ...               0.0   \n",
       " 651        NaN        0.0         0.0  ...               0.0   \n",
       " \n",
       "      tdvgtotfun_f5viv  devppimtotfun_f5viv  monto_examinado  \\\n",
       " 0            0.000000             0.000000              0.0   \n",
       " 1        15500.000000            67.750679              0.0   \n",
       " 2         9500.000000           100.000000        5593400.0   \n",
       " 3            0.000000             0.000000        3374719.0   \n",
       " 4       291749.199951            44.224056              0.0   \n",
       " ..                ...                  ...              ...   \n",
       " 647     334471.110000            91.543121              0.0   \n",
       " 648     177361.930908            68.610374        2010530.0   \n",
       " 649          0.000000             0.000000              0.0   \n",
       " 650      56964.230286            96.565910              0.0   \n",
       " 651     111296.500000            99.399384              0.0   \n",
       " \n",
       "      monto_objeto_servicio  corrup_intensa  corrup_amplia  per_corrup1  \\\n",
       " 0               7662770.00             1.0            1.0          5.0   \n",
       " 1                172923.00             1.0            1.0          3.0   \n",
       " 2                     0.00             1.0            1.0          4.0   \n",
       " 3                     0.00             1.0            1.0          7.0   \n",
       " 4                200046.00             1.0            1.0          8.0   \n",
       " ..                     ...             ...            ...          ...   \n",
       " 647              376801.14             1.0            1.0          1.0   \n",
       " 648                   0.00             1.0            1.0          3.0   \n",
       " 649             2688982.72             1.0            1.0         20.0   \n",
       " 650               71470.00             0.0            0.0          0.0   \n",
       " 651                   0.00             1.0            1.0          2.0   \n",
       " \n",
       "      per_corrup2  monto_corrup2  \n",
       " 0            0.0    7662770.000  \n",
       " 1            0.0     172923.000  \n",
       " 2            0.0    5593400.000  \n",
       " 3            0.0    3374719.000  \n",
       " 4            4.0     200046.000  \n",
       " ..           ...            ...  \n",
       " 647          0.0     376801.125  \n",
       " 648          0.0    2010530.000  \n",
       " 649          1.0    2688982.750  \n",
       " 650          0.0          0.000  \n",
       " 651          0.0            NaN  \n",
       " \n",
       " [652 rows x 1258 columns]]"
      ]
     },
     "execution_count": 39,
     "metadata": {},
     "output_type": "execute_result"
    }
   ],
   "source": [
    "fun.imputar_outliers( dfs_0_i, vn.siaf_variables, 0.01 )"
   ]
  },
  {
   "cell_type": "markdown",
   "id": "0355f60e-f746-4c5a-9abb-2841622816bc",
   "metadata": {},
   "source": [
    "Se aplica el mismo procedimiento para las tres bases resultantes de la base1."
   ]
  },
  {
   "cell_type": "code",
   "execution_count": null,
   "id": "3587c5ba-b6ea-46b0-80a9-2fb182e9b64f",
   "metadata": {},
   "outputs": [],
   "source": [
    "fun.imputar_outliers( dfs_1_i, vn.siaf_variables, 0.01 )"
   ]
  },
  {
   "cell_type": "markdown",
   "id": "65d817b8-47b8-420b-b532-eae54c8853a5",
   "metadata": {},
   "source": [
    "Se aplica el mismo procedimiento para las tres bases resultantes de la base2."
   ]
  },
  {
   "cell_type": "code",
   "execution_count": null,
   "id": "3f6f00ff-b810-47e8-875f-960a9d692a25",
   "metadata": {},
   "outputs": [],
   "source": [
    "fun.imputar_outliers( dfs_2_i, vn.siaf_variables, 0.01 )"
   ]
  },
  {
   "cell_type": "markdown",
   "id": "9069f159-ee0c-46ac-ac1f-deed7976b5a5",
   "metadata": {},
   "source": [
    "Se aplica el mismo procedimiento para las tres bases resultantes de la base3."
   ]
  },
  {
   "cell_type": "code",
   "execution_count": null,
   "id": "0024df45-49ba-4313-8395-6b42f1b7eac5",
   "metadata": {},
   "outputs": [],
   "source": [
    "fun.imputar_outliers( dfs_3_i, vn.siaf_variables, 0.01 )"
   ]
  },
  {
   "cell_type": "markdown",
   "id": "b426b5a9-a22f-486b-b1a3-4de3c6e9df47",
   "metadata": {},
   "source": [
    "#### 2.6. Transformaciones logarítmicas"
   ]
  },
  {
   "cell_type": "markdown",
   "id": "65b3981c-999a-41cd-ae49-38ce460711b6",
   "metadata": {},
   "source": [
    "Se realiza una transformación logarítmica a todas las variables pertenecientes a SIAF. La transformación se aplica sobre las tres bases de datos resultantes de la base0."
   ]
  },
  {
   "cell_type": "code",
   "execution_count": 40,
   "id": "3703e508-e990-46cf-b064-8b9dde876fc1",
   "metadata": {
    "collapsed": true,
    "jupyter": {
     "outputs_hidden": true
    },
    "tags": []
   },
   "outputs": [
    {
     "name": "stderr",
     "output_type": "stream",
     "text": [
      "C:\\Users\\dell\\Documents\\QLAB\\Corruption_Paper\\code\\preprocess_data\\funciones.py:378: SettingWithCopyWarning: \n",
      "A value is trying to be set on a copy of a slice from a DataFrame.\n",
      "Try using .loc[row_indexer,col_indexer] = value instead\n",
      "\n",
      "See the caveats in the documentation: https://pandas.pydata.org/pandas-docs/stable/user_guide/indexing.html#returning-a-view-versus-a-copy\n",
      "  datasets[i][var] = np.log( datasets[i][var] + 1 )\n",
      "C:\\Anaconda\\lib\\site-packages\\pandas\\core\\arraylike.py:397: RuntimeWarning: invalid value encountered in log\n",
      "  result = getattr(ufunc, method)(*inputs, **kwargs)\n",
      "C:\\Anaconda\\lib\\site-packages\\pandas\\core\\arraylike.py:397: RuntimeWarning: divide by zero encountered in log\n",
      "  result = getattr(ufunc, method)(*inputs, **kwargs)\n"
     ]
    },
    {
     "data": {
      "text/plain": [
       "[     sexo  facebook  web  mue_pro_1  mue_pro_4  mue_pro_5  mue_pro_6  \\\n",
       " 0     1.0       0.0  1.0        1.0        2.0        0.0        0.0   \n",
       " 1     1.0       0.0  0.0        1.0        1.0        1.0        0.0   \n",
       " 2     2.0       0.0  0.0        1.0        2.0        0.0        0.0   \n",
       " 3     NaN       NaN  NaN        NaN        NaN        NaN        NaN   \n",
       " 4     2.0       1.0  0.0        1.0        1.0        2.0        0.0   \n",
       " ..    ...       ...  ...        ...        ...        ...        ...   \n",
       " 647   1.0       1.0  1.0        1.0        1.0        6.0        1.0   \n",
       " 648   2.0       1.0  1.0        1.0        1.0        3.0        0.0   \n",
       " 649   2.0       0.0  0.0        1.0        1.0        1.0        0.0   \n",
       " 650   2.0       1.0  1.0        1.0        1.0        6.0        0.0   \n",
       " 651   1.0       1.0  1.0        1.0        0.0        NaN        NaN   \n",
       " \n",
       "      mue_pro_7  mue_pro_10  mue_pro_13  ...  tdvgtotfun_f5viv  \\\n",
       " 0          2.0         2.0         2.0  ...          0.000000   \n",
       " 1          2.0         2.0         2.0  ...          9.648660   \n",
       " 2          2.0         2.0         1.0  ...          9.159152   \n",
       " 3          NaN         NaN         NaN  ...          0.000000   \n",
       " 4          1.0         0.0         0.0  ...         12.583653   \n",
       " ..         ...         ...         ...  ...               ...   \n",
       " 647        1.0         1.0         0.0  ...         12.720309   \n",
       " 648        1.0         1.0         0.0  ...         12.085953   \n",
       " 649        1.0         1.0         1.0  ...          0.000000   \n",
       " 650        1.0         0.0         1.0  ...         10.950196   \n",
       " 651        0.0         0.0         0.0  ...         11.619962   \n",
       " \n",
       "      dfgpimpiatotfun_f5viv  devppimtotfun_f5viv  monto_examinado  \\\n",
       " 0                 0.000000             0.000000              0.0   \n",
       " 1                10.037975             4.230487              0.0   \n",
       " 2                 9.159152             4.615121        5593400.0   \n",
       " 3                 0.000000             0.000000        3374719.0   \n",
       " 4                13.399553             3.811629              0.0   \n",
       " ..                     ...                  ...              ...   \n",
       " 647                    NaN             4.527675              0.0   \n",
       " 648              12.423226             4.242914        2010530.0   \n",
       " 649              10.620180             0.000000              0.0   \n",
       " 650                    NaN             4.580528              0.0   \n",
       " 651              10.369922             4.609156              0.0   \n",
       " \n",
       "      monto_objeto_servicio  corrup_intensa  corrup_amplia  per_corrup1  \\\n",
       " 0               7662770.00             1.0            1.0          5.0   \n",
       " 1                172923.00             1.0            1.0          3.0   \n",
       " 2                     0.00             1.0            1.0          4.0   \n",
       " 3                     0.00             1.0            1.0          7.0   \n",
       " 4                200046.00             1.0            1.0          8.0   \n",
       " ..                     ...             ...            ...          ...   \n",
       " 647              376801.14             1.0            1.0          1.0   \n",
       " 648                   0.00             1.0            1.0          3.0   \n",
       " 649             2688982.72             1.0            1.0         20.0   \n",
       " 650               71470.00             0.0            0.0          0.0   \n",
       " 651                   0.00             1.0            1.0          2.0   \n",
       " \n",
       "      per_corrup2  monto_corrup1  \n",
       " 0            0.0    7662770.000  \n",
       " 1            0.0     172923.000  \n",
       " 2            0.0    5593400.000  \n",
       " 3            0.0    3374719.000  \n",
       " 4            4.0     200046.000  \n",
       " ..           ...            ...  \n",
       " 647          0.0     376801.125  \n",
       " 648          0.0    2010530.000  \n",
       " 649          1.0    2688982.750  \n",
       " 650          0.0          0.000  \n",
       " 651          0.0            NaN  \n",
       " \n",
       " [652 rows x 1266 columns],\n",
       "      sexo  facebook  web  mue_pro_1  mue_pro_4  mue_pro_5  mue_pro_6  \\\n",
       " 0     1.0       0.0  1.0        1.0        2.0        0.0        0.0   \n",
       " 1     1.0       0.0  0.0        1.0        1.0        1.0        0.0   \n",
       " 2     2.0       0.0  0.0        1.0        2.0        0.0        0.0   \n",
       " 3     NaN       NaN  NaN        NaN        NaN        NaN        NaN   \n",
       " 4     2.0       1.0  0.0        1.0        1.0        2.0        0.0   \n",
       " ..    ...       ...  ...        ...        ...        ...        ...   \n",
       " 647   1.0       1.0  1.0        1.0        1.0        6.0        1.0   \n",
       " 648   2.0       1.0  1.0        1.0        1.0        3.0        0.0   \n",
       " 649   2.0       0.0  0.0        1.0        1.0        1.0        0.0   \n",
       " 650   2.0       1.0  1.0        1.0        1.0        6.0        0.0   \n",
       " 651   1.0       1.0  1.0        1.0        0.0        NaN        NaN   \n",
       " \n",
       "      mue_pro_7  mue_pro_10  mue_pro_13  ...  tejgtotfun_f5viv  \\\n",
       " 0          2.0         2.0         2.0  ...          0.000000   \n",
       " 1          2.0         2.0         2.0  ...          9.648660   \n",
       " 2          2.0         2.0         1.0  ...          9.159152   \n",
       " 3          NaN         NaN         NaN  ...          0.000000   \n",
       " 4          1.0         0.0         0.0  ...          0.000000   \n",
       " ..         ...         ...         ...  ...               ...   \n",
       " 647        1.0         1.0         0.0  ...          0.000000   \n",
       " 648        1.0         1.0         0.0  ...          0.000000   \n",
       " 649        1.0         1.0         1.0  ...          0.000000   \n",
       " 650        1.0         0.0         1.0  ...          0.000000   \n",
       " 651        0.0         0.0         0.0  ...          0.000000   \n",
       " \n",
       "      dfgpimpiatotfun_f5viv  devppimtotfun_f5viv  monto_examinado  \\\n",
       " 0                 0.000000             0.000000              0.0   \n",
       " 1                10.037975             4.230487              0.0   \n",
       " 2                 9.159152             4.615121        5593400.0   \n",
       " 3                 0.000000             0.000000        3374719.0   \n",
       " 4                13.399553             3.811629              0.0   \n",
       " ..                     ...                  ...              ...   \n",
       " 647                    NaN             4.527675              0.0   \n",
       " 648              12.423226             4.242914        2010530.0   \n",
       " 649              10.620180             0.000000              0.0   \n",
       " 650                    NaN             4.580528              0.0   \n",
       " 651              10.369922             4.609156              0.0   \n",
       " \n",
       "      monto_objeto_servicio  corrup_intensa  corrup_amplia  per_corrup1  \\\n",
       " 0               7662770.00             1.0            1.0          5.0   \n",
       " 1                172923.00             1.0            1.0          3.0   \n",
       " 2                     0.00             1.0            1.0          4.0   \n",
       " 3                     0.00             1.0            1.0          7.0   \n",
       " 4                200046.00             1.0            1.0          8.0   \n",
       " ..                     ...             ...            ...          ...   \n",
       " 647              376801.14             1.0            1.0          1.0   \n",
       " 648                   0.00             1.0            1.0          3.0   \n",
       " 649             2688982.72             1.0            1.0         20.0   \n",
       " 650               71470.00             0.0            0.0          0.0   \n",
       " 651                   0.00             1.0            1.0          2.0   \n",
       " \n",
       "      per_corrup2  monto_corrup2  \n",
       " 0            0.0    7662770.000  \n",
       " 1            0.0     172923.000  \n",
       " 2            0.0    5593400.000  \n",
       " 3            0.0    3374719.000  \n",
       " 4            4.0     200046.000  \n",
       " ..           ...            ...  \n",
       " 647          0.0     376801.125  \n",
       " 648          0.0    2010530.000  \n",
       " 649          1.0    2688982.750  \n",
       " 650          0.0          0.000  \n",
       " 651          0.0            NaN  \n",
       " \n",
       " [652 rows x 1271 columns],\n",
       "      sexo  facebook  web  propie_muni  mue_pro_1  mue_pro_4  mue_pro_5  \\\n",
       " 0     1.0       0.0  1.0          1.0        1.0        2.0        0.0   \n",
       " 1     1.0       0.0  0.0          1.0        1.0        1.0        1.0   \n",
       " 2     2.0       0.0  0.0          1.0        1.0        2.0        0.0   \n",
       " 3     NaN       NaN  NaN          NaN        NaN        NaN        NaN   \n",
       " 4     2.0       1.0  0.0          0.0        1.0        1.0        2.0   \n",
       " ..    ...       ...  ...          ...        ...        ...        ...   \n",
       " 647   1.0       1.0  1.0          1.0        1.0        1.0        6.0   \n",
       " 648   2.0       1.0  1.0          1.0        1.0        1.0        3.0   \n",
       " 649   2.0       0.0  0.0          1.0        1.0        1.0        1.0   \n",
       " 650   2.0       1.0  1.0          0.0        1.0        1.0        6.0   \n",
       " 651   1.0       1.0  1.0          1.0        1.0        0.0        NaN   \n",
       " \n",
       "      mue_pro_6  mue_pro_7  mue_pro_10  ...  tdvgtotfun_f5viv  \\\n",
       " 0          0.0        2.0         2.0  ...          0.000000   \n",
       " 1          0.0        2.0         2.0  ...          9.648660   \n",
       " 2          0.0        2.0         2.0  ...          9.159152   \n",
       " 3          NaN        NaN         NaN  ...          0.000000   \n",
       " 4          0.0        1.0         0.0  ...         12.583653   \n",
       " ..         ...        ...         ...  ...               ...   \n",
       " 647        1.0        1.0         1.0  ...         12.720309   \n",
       " 648        0.0        1.0         1.0  ...         12.085953   \n",
       " 649        0.0        1.0         1.0  ...          0.000000   \n",
       " 650        0.0        1.0         0.0  ...         10.950196   \n",
       " 651        NaN        0.0         0.0  ...         11.619962   \n",
       " \n",
       "      dfgpimpiatotfun_f5viv  devppimtotfun_f5viv  monto_examinado  \\\n",
       " 0                 0.000000             0.000000              0.0   \n",
       " 1                10.037975             4.230487              0.0   \n",
       " 2                 9.159152             4.615121        5593400.0   \n",
       " 3                 0.000000             0.000000        3374719.0   \n",
       " 4                13.399553             3.811629              0.0   \n",
       " ..                     ...                  ...              ...   \n",
       " 647                    NaN             4.527675              0.0   \n",
       " 648              12.423226             4.242914        2010530.0   \n",
       " 649              10.620180             0.000000              0.0   \n",
       " 650                    NaN             4.580528              0.0   \n",
       " 651              10.369922             4.609156              0.0   \n",
       " \n",
       "      monto_objeto_servicio  corrup_intensa  corrup_amplia  per_corrup1  \\\n",
       " 0               7662770.00             1.0            1.0          5.0   \n",
       " 1                172923.00             1.0            1.0          3.0   \n",
       " 2                     0.00             1.0            1.0          4.0   \n",
       " 3                     0.00             1.0            1.0          7.0   \n",
       " 4                200046.00             1.0            1.0          8.0   \n",
       " ..                     ...             ...            ...          ...   \n",
       " 647              376801.14             1.0            1.0          1.0   \n",
       " 648                   0.00             1.0            1.0          3.0   \n",
       " 649             2688982.72             1.0            1.0         20.0   \n",
       " 650               71470.00             0.0            0.0          0.0   \n",
       " 651                   0.00             1.0            1.0          2.0   \n",
       " \n",
       "      per_corrup2  monto_corrup1  \n",
       " 0            0.0    7662770.000  \n",
       " 1            0.0     172923.000  \n",
       " 2            0.0    5593400.000  \n",
       " 3            0.0    3374719.000  \n",
       " 4            4.0     200046.000  \n",
       " ..           ...            ...  \n",
       " 647          0.0     376801.125  \n",
       " 648          0.0    2010530.000  \n",
       " 649          1.0    2688982.750  \n",
       " 650          0.0          0.000  \n",
       " 651          0.0            NaN  \n",
       " \n",
       " [652 rows x 1277 columns],\n",
       "      sexo  facebook  web  propie_muni  mue_pro_1  mue_pro_4  mue_pro_5  \\\n",
       " 0     1.0       0.0  1.0          1.0        1.0        2.0        0.0   \n",
       " 1     1.0       0.0  0.0          1.0        1.0        1.0        1.0   \n",
       " 2     2.0       0.0  0.0          1.0        1.0        2.0        0.0   \n",
       " 3     NaN       NaN  NaN          NaN        NaN        NaN        NaN   \n",
       " 4     2.0       1.0  0.0          0.0        1.0        1.0        2.0   \n",
       " ..    ...       ...  ...          ...        ...        ...        ...   \n",
       " 647   1.0       1.0  1.0          1.0        1.0        1.0        6.0   \n",
       " 648   2.0       1.0  1.0          1.0        1.0        1.0        3.0   \n",
       " 649   2.0       0.0  0.0          1.0        1.0        1.0        1.0   \n",
       " 650   2.0       1.0  1.0          0.0        1.0        1.0        6.0   \n",
       " 651   1.0       1.0  1.0          1.0        1.0        0.0        NaN   \n",
       " \n",
       "      mue_pro_6  mue_pro_7  mue_pro_10  ...  tejgtotfun_f5viv  \\\n",
       " 0          0.0        2.0         2.0  ...          0.000000   \n",
       " 1          0.0        2.0         2.0  ...          9.648660   \n",
       " 2          0.0        2.0         2.0  ...          9.159152   \n",
       " 3          NaN        NaN         NaN  ...          0.000000   \n",
       " 4          0.0        1.0         0.0  ...          0.000000   \n",
       " ..         ...        ...         ...  ...               ...   \n",
       " 647        1.0        1.0         1.0  ...          0.000000   \n",
       " 648        0.0        1.0         1.0  ...          0.000000   \n",
       " 649        0.0        1.0         1.0  ...          0.000000   \n",
       " 650        0.0        1.0         0.0  ...          0.000000   \n",
       " 651        NaN        0.0         0.0  ...          0.000000   \n",
       " \n",
       "      tdvgtotfun_f5viv  devppimtotfun_f5viv  monto_examinado  \\\n",
       " 0            0.000000             0.000000              0.0   \n",
       " 1            9.648660             4.230487              0.0   \n",
       " 2            9.159152             4.615121        5593400.0   \n",
       " 3            0.000000             0.000000        3374719.0   \n",
       " 4           12.583653             3.811629              0.0   \n",
       " ..                ...                  ...              ...   \n",
       " 647         12.720309             4.527675              0.0   \n",
       " 648         12.085953             4.242914        2010530.0   \n",
       " 649          0.000000             0.000000              0.0   \n",
       " 650         10.950196             4.580528              0.0   \n",
       " 651         11.619962             4.609156              0.0   \n",
       " \n",
       "      monto_objeto_servicio  corrup_intensa  corrup_amplia  per_corrup1  \\\n",
       " 0               7662770.00             1.0            1.0          5.0   \n",
       " 1                172923.00             1.0            1.0          3.0   \n",
       " 2                     0.00             1.0            1.0          4.0   \n",
       " 3                     0.00             1.0            1.0          7.0   \n",
       " 4                200046.00             1.0            1.0          8.0   \n",
       " ..                     ...             ...            ...          ...   \n",
       " 647              376801.14             1.0            1.0          1.0   \n",
       " 648                   0.00             1.0            1.0          3.0   \n",
       " 649             2688982.72             1.0            1.0         20.0   \n",
       " 650               71470.00             0.0            0.0          0.0   \n",
       " 651                   0.00             1.0            1.0          2.0   \n",
       " \n",
       "      per_corrup2  monto_corrup2  \n",
       " 0            0.0    7662770.000  \n",
       " 1            0.0     172923.000  \n",
       " 2            0.0    5593400.000  \n",
       " 3            0.0    3374719.000  \n",
       " 4            4.0     200046.000  \n",
       " ..           ...            ...  \n",
       " 647          0.0     376801.125  \n",
       " 648          0.0    2010530.000  \n",
       " 649          1.0    2688982.750  \n",
       " 650          0.0          0.000  \n",
       " 651          0.0            NaN  \n",
       " \n",
       " [652 rows x 1270 columns],\n",
       "      sexo  facebook  web  propie_muni  mue_pro_1  mue_pro_4  mue_pro_5  \\\n",
       " 0     1.0       0.0  1.0          1.0        1.0        2.0        0.0   \n",
       " 1     1.0       0.0  0.0          1.0        1.0        1.0        1.0   \n",
       " 2     2.0       0.0  0.0          1.0        1.0        2.0        0.0   \n",
       " 3     NaN       NaN  NaN          NaN        NaN        NaN        NaN   \n",
       " 4     2.0       1.0  0.0          0.0        1.0        1.0        2.0   \n",
       " ..    ...       ...  ...          ...        ...        ...        ...   \n",
       " 647   1.0       1.0  1.0          1.0        1.0        1.0        6.0   \n",
       " 648   2.0       1.0  1.0          1.0        1.0        1.0        3.0   \n",
       " 649   2.0       0.0  0.0          1.0        1.0        1.0        1.0   \n",
       " 650   2.0       1.0  1.0          0.0        1.0        1.0        6.0   \n",
       " 651   1.0       1.0  1.0          1.0        1.0        0.0        NaN   \n",
       " \n",
       "      mue_pro_6  mue_pro_7  mue_pro_10  ...  tejgtotfun_f5viv  \\\n",
       " 0          0.0        2.0         2.0  ...          0.000000   \n",
       " 1          0.0        2.0         2.0  ...          9.648660   \n",
       " 2          0.0        2.0         2.0  ...          9.159152   \n",
       " 3          NaN        NaN         NaN  ...          0.000000   \n",
       " 4          0.0        1.0         0.0  ...          0.000000   \n",
       " ..         ...        ...         ...  ...               ...   \n",
       " 647        1.0        1.0         1.0  ...          0.000000   \n",
       " 648        0.0        1.0         1.0  ...          0.000000   \n",
       " 649        0.0        1.0         1.0  ...          0.000000   \n",
       " 650        0.0        1.0         0.0  ...          0.000000   \n",
       " 651        NaN        0.0         0.0  ...          0.000000   \n",
       " \n",
       "      tdvgtotfun_f5viv  devppimtotfun_f5viv  monto_examinado  \\\n",
       " 0            0.000000             0.000000              0.0   \n",
       " 1            9.648660             4.230487              0.0   \n",
       " 2            9.159152             4.615121        5593400.0   \n",
       " 3            0.000000             0.000000        3374719.0   \n",
       " 4           12.583653             3.811629              0.0   \n",
       " ..                ...                  ...              ...   \n",
       " 647         12.720309             4.527675              0.0   \n",
       " 648         12.085953             4.242914        2010530.0   \n",
       " 649          0.000000             0.000000              0.0   \n",
       " 650         10.950196             4.580528              0.0   \n",
       " 651         11.619962             4.609156              0.0   \n",
       " \n",
       "      monto_objeto_servicio  corrup_intensa  corrup_amplia  per_corrup1  \\\n",
       " 0               7662770.00             1.0            1.0          5.0   \n",
       " 1                172923.00             1.0            1.0          3.0   \n",
       " 2                     0.00             1.0            1.0          4.0   \n",
       " 3                     0.00             1.0            1.0          7.0   \n",
       " 4                200046.00             1.0            1.0          8.0   \n",
       " ..                     ...             ...            ...          ...   \n",
       " 647              376801.14             1.0            1.0          1.0   \n",
       " 648                   0.00             1.0            1.0          3.0   \n",
       " 649             2688982.72             1.0            1.0         20.0   \n",
       " 650               71470.00             0.0            0.0          0.0   \n",
       " 651                   0.00             1.0            1.0          2.0   \n",
       " \n",
       "      per_corrup2  monto_corrup1  \n",
       " 0            0.0    7662770.000  \n",
       " 1            0.0     172923.000  \n",
       " 2            0.0    5593400.000  \n",
       " 3            0.0    3374719.000  \n",
       " 4            4.0     200046.000  \n",
       " ..           ...            ...  \n",
       " 647          0.0     376801.125  \n",
       " 648          0.0    2010530.000  \n",
       " 649          1.0    2688982.750  \n",
       " 650          0.0          0.000  \n",
       " 651          0.0            NaN  \n",
       " \n",
       " [652 rows x 1268 columns],\n",
       "      sexo  facebook  web  mue_pro_1  mue_pro_3  mue_pro_4  mue_pro_5  \\\n",
       " 0     1.0       0.0  1.0        1.0        1.0        2.0        0.0   \n",
       " 1     1.0       0.0  0.0        1.0        0.0        1.0        1.0   \n",
       " 2     2.0       0.0  0.0        1.0        0.0        2.0        0.0   \n",
       " 3     NaN       NaN  NaN        NaN        NaN        NaN        NaN   \n",
       " 4     2.0       1.0  0.0        1.0        1.0        1.0        2.0   \n",
       " ..    ...       ...  ...        ...        ...        ...        ...   \n",
       " 647   1.0       1.0  1.0        1.0        4.0        1.0        6.0   \n",
       " 648   2.0       1.0  1.0        1.0        3.0        1.0        3.0   \n",
       " 649   2.0       0.0  0.0        1.0        1.0        1.0        1.0   \n",
       " 650   2.0       1.0  1.0        1.0        0.0        1.0        6.0   \n",
       " 651   1.0       1.0  1.0        1.0        0.0        0.0        NaN   \n",
       " \n",
       "      mue_pro_6  mue_pro_7  mue_pro_10  ...  tejgtotfun_f5viv  \\\n",
       " 0          0.0        2.0         2.0  ...          0.000000   \n",
       " 1          0.0        2.0         2.0  ...          9.648660   \n",
       " 2          0.0        2.0         2.0  ...          9.159152   \n",
       " 3          NaN        NaN         NaN  ...          0.000000   \n",
       " 4          0.0        1.0         0.0  ...          0.000000   \n",
       " ..         ...        ...         ...  ...               ...   \n",
       " 647        1.0        1.0         1.0  ...          0.000000   \n",
       " 648        0.0        1.0         1.0  ...          0.000000   \n",
       " 649        0.0        1.0         1.0  ...          0.000000   \n",
       " 650        0.0        1.0         0.0  ...          0.000000   \n",
       " 651        NaN        0.0         0.0  ...          0.000000   \n",
       " \n",
       "      tdvgtotfun_f5viv  devppimtotfun_f5viv  monto_examinado  \\\n",
       " 0            0.000000             0.000000              0.0   \n",
       " 1            9.648660             4.230487              0.0   \n",
       " 2            9.159152             4.615121        5593400.0   \n",
       " 3            0.000000             0.000000        3374719.0   \n",
       " 4           12.583653             3.811629              0.0   \n",
       " ..                ...                  ...              ...   \n",
       " 647         12.720309             4.527675              0.0   \n",
       " 648         12.085953             4.242914        2010530.0   \n",
       " 649          0.000000             0.000000              0.0   \n",
       " 650         10.950196             4.580528              0.0   \n",
       " 651         11.619962             4.609156              0.0   \n",
       " \n",
       "      monto_objeto_servicio  corrup_intensa  corrup_amplia  per_corrup1  \\\n",
       " 0               7662770.00             1.0            1.0          5.0   \n",
       " 1                172923.00             1.0            1.0          3.0   \n",
       " 2                     0.00             1.0            1.0          4.0   \n",
       " 3                     0.00             1.0            1.0          7.0   \n",
       " 4                200046.00             1.0            1.0          8.0   \n",
       " ..                     ...             ...            ...          ...   \n",
       " 647              376801.14             1.0            1.0          1.0   \n",
       " 648                   0.00             1.0            1.0          3.0   \n",
       " 649             2688982.72             1.0            1.0         20.0   \n",
       " 650               71470.00             0.0            0.0          0.0   \n",
       " 651                   0.00             1.0            1.0          2.0   \n",
       " \n",
       "      per_corrup2  monto_corrup2  \n",
       " 0            0.0    7662770.000  \n",
       " 1            0.0     172923.000  \n",
       " 2            0.0    5593400.000  \n",
       " 3            0.0    3374719.000  \n",
       " 4            4.0     200046.000  \n",
       " ..           ...            ...  \n",
       " 647          0.0     376801.125  \n",
       " 648          0.0    2010530.000  \n",
       " 649          1.0    2688982.750  \n",
       " 650          0.0          0.000  \n",
       " 651          0.0            NaN  \n",
       " \n",
       " [652 rows x 1258 columns]]"
      ]
     },
     "execution_count": 40,
     "metadata": {},
     "output_type": "execute_result"
    }
   ],
   "source": [
    "fun.transformacion_log( dfs_0_i )"
   ]
  },
  {
   "cell_type": "code",
   "execution_count": null,
   "id": "32035d23-9836-4f80-b40b-5ea978e24464",
   "metadata": {},
   "outputs": [],
   "source": [
    "Se aplica el mismo procedimiento para las tres bases de datos resultantes de la base1. "
   ]
  },
  {
   "cell_type": "code",
   "execution_count": null,
   "id": "b90c6def-3cdb-4c3f-ae7f-89cf9e624bb5",
   "metadata": {},
   "outputs": [],
   "source": [
    "fun.transformacion_log( dfs_1_i )"
   ]
  },
  {
   "cell_type": "code",
   "execution_count": null,
   "id": "73d538a4-0f9f-4a86-b180-bfd8e4a8ec61",
   "metadata": {},
   "outputs": [],
   "source": [
    "Se aplica el mismo procedimiento para las tres bases de datos resultantes de la base2. "
   ]
  },
  {
   "cell_type": "code",
   "execution_count": null,
   "id": "25b584d9-207f-409b-83cc-77db406293ab",
   "metadata": {},
   "outputs": [],
   "source": [
    "fun.transformacion_log( dfs_2_i )"
   ]
  },
  {
   "cell_type": "code",
   "execution_count": null,
   "id": "a8bca8b1-7e3c-4fff-a590-183f0f4a12c8",
   "metadata": {},
   "outputs": [],
   "source": [
    "Se aplica el mismo procedimiento para las tres bases de datos resultantes de la base3. "
   ]
  },
  {
   "cell_type": "code",
   "execution_count": null,
   "id": "96d786a5-75d7-4d28-9c36-fc21ef5dd1cd",
   "metadata": {},
   "outputs": [],
   "source": [
    "fun.transformacion_log( dfs_3_i )"
   ]
  },
  {
   "cell_type": "markdown",
   "id": "4402149c-edf1-498e-aff2-6d774f2a4e22",
   "metadata": {},
   "source": [
    "#### 2.7. Exportar las bases de datos"
   ]
  },
  {
   "cell_type": "code",
   "execution_count": 42,
   "id": "bf44d9cb-f589-45f5-a2ae-4afa79c6ea3d",
   "metadata": {},
   "outputs": [],
   "source": [
    "# Base 0\n",
    "\n",
    "dfs_0_i[0].to_csv( r'..\\..\\output\\data_preprocess\\dfs_0_i_ci.csv', index = False )\n",
    "dfs_0_i[1].to_csv( r'..\\..\\output\\data_preprocess\\dfs_0_i_ca.csv', index = False )\n",
    "dfs_0_i[2].to_csv( r'..\\..\\output\\data_preprocess\\dfs_0_i_mci.csv', index = False )\n",
    "dfs_0_i[3].to_csv( r'..\\..\\output\\data_preprocess\\dfs_0_i_mca.csv', index = False )\n",
    "dfs_0_i[4].to_csv( r'..\\..\\output\\data_preprocess\\dfs_0_i_pci.csv', index = False )\n",
    "dfs_0_i[5].to_csv( r'..\\..\\output\\data_preprocess\\dfs_0_i_pca.csv', index = False )"
   ]
  },
  {
   "cell_type": "markdown",
   "id": "6ec5870d-7374-477b-9f61-9c3eaedf3e88",
   "metadata": {
    "tags": []
   },
   "source": [
    "## 3. Segunda forma: imputación con media y moda"
   ]
  },
  {
   "cell_type": "markdown",
   "id": "98c60931-91d4-47bd-9655-5772dcd641cd",
   "metadata": {},
   "source": [
    "Se reestablece los valores originales de \"dfs\""
   ]
  },
  {
   "cell_type": "code",
   "execution_count": null,
   "id": "d9ba6a0d-6e30-438a-bb17-72a390acb00b",
   "metadata": {},
   "outputs": [],
   "source": [
    "dfs = [ pd.DataFrame() for x in range( 4 ) ]\n",
    "for base in bases:\n",
    "    dfs = bases.copy()"
   ]
  },
  {
   "cell_type": "code",
   "execution_count": null,
   "id": "582380b0-8f22-4a84-96f4-b2c55c0ba0eb",
   "metadata": {},
   "outputs": [],
   "source": [
    "dfs[0].name = 'base0'\n",
    "dfs[1].name = 'base1'\n",
    "dfs[2].name = 'base2'\n",
    "dfs[3].name = 'base3'"
   ]
  },
  {
   "cell_type": "markdown",
   "id": "17d6d632-0625-4149-8785-5e75e04a1618",
   "metadata": {},
   "source": [
    "#### 3.1. Filtrar por valores perdidos"
   ]
  },
  {
   "cell_type": "markdown",
   "id": "ed663de6-5fc7-4d88-92a8-aab85a8c3dc8",
   "metadata": {},
   "source": [
    "Se descartan las variables con un porcentaje de valores perdidos mayor o igual al umbral 0.5"
   ]
  },
  {
   "cell_type": "code",
   "execution_count": null,
   "id": "656dcc4e-5dfc-4f1b-9af6-8c15d7768565",
   "metadata": {
    "tags": []
   },
   "outputs": [],
   "source": [
    "fun.filtro_missings( dfs, 0.3 )"
   ]
  },
  {
   "cell_type": "code",
   "execution_count": null,
   "id": "e4fb1082-047a-47f7-a4e9-bdbc2ffdc748",
   "metadata": {
    "tags": []
   },
   "outputs": [],
   "source": [
    "fun.determinar_dimensiones ( dfs )"
   ]
  },
  {
   "cell_type": "markdown",
   "id": "515de093-2643-4bfa-ad66-8816dcaab06b",
   "metadata": {},
   "source": [
    "#### 3.2. Imputación"
   ]
  },
  {
   "cell_type": "markdown",
   "id": "04a431f9-6ee2-4a64-90f3-9a63b353992f",
   "metadata": {},
   "source": [
    "Se imputa con media a las variables de SIAF y con moda a las variables de Renamu. No se generan variables dummy de control."
   ]
  },
  {
   "cell_type": "code",
   "execution_count": null,
   "id": "fef53d9c-a2b1-4114-b912-66299f83370e",
   "metadata": {
    "tags": []
   },
   "outputs": [],
   "source": [
    "fun.imputar_ii( dfs, siaf = True, dummy = False )\n",
    "fun.imputar_ii( dfs, siaf = False, dummy = False )"
   ]
  },
  {
   "cell_type": "code",
   "execution_count": null,
   "id": "1841e44c-7a50-497a-85fa-2bd1e72dedeb",
   "metadata": {
    "tags": []
   },
   "outputs": [],
   "source": [
    "fun.determinar_dimensiones ( dfs )"
   ]
  },
  {
   "cell_type": "markdown",
   "id": "9c84bb41-ea8e-46d3-8a08-661cfcfb365b",
   "metadata": {},
   "source": [
    "#### 3.3. Filtro por variabilidad"
   ]
  },
  {
   "cell_type": "markdown",
   "id": "5f1446c7-ce36-4685-b1f4-b06ec2fff15e",
   "metadata": {
    "tags": []
   },
   "source": [
    "Se descartan aquellas variables constantes, es decir, con una variabilidad de 0"
   ]
  },
  {
   "cell_type": "code",
   "execution_count": null,
   "id": "9be5c957-8d35-4439-9409-69a87e6f8e4c",
   "metadata": {
    "tags": []
   },
   "outputs": [],
   "source": [
    "fun.filtro_variabilidad( dfs, 0 )"
   ]
  },
  {
   "cell_type": "markdown",
   "id": "545c06d3-e01d-470e-8532-c5cc73391b06",
   "metadata": {},
   "source": [
    "#### 2.4. Filtro por correlación"
   ]
  },
  {
   "cell_type": "markdown",
   "id": "f07a3b6e-21cc-45bf-acc1-9a9348c08659",
   "metadata": {},
   "source": [
    "Se realiza un filtro de correlación para cada una de las variables dependientes de la base0. El umbral es 0.8. Para mayor detalle en el funcionamiento del filtro, véase su respectiva sección en el módulo \"funciones.py\". Posteriormente se agrupa las bases filtradas de la base 0 en la lista \"dfs_0_i\". Luego, se asigna el nombre a cada una de las bases. Finalmente, se determina las dimensiones de las bases"
   ]
  },
  {
   "cell_type": "code",
   "execution_count": null,
   "id": "d490a797-72b0-4795-8638-09d6488909d7",
   "metadata": {
    "tags": []
   },
   "outputs": [],
   "source": [
    "dfs_0_ci = fun.filtro_correlacion( dfs[0], dfs[0][ 'corrup_intensa' ], 0.8 )\n",
    "dfs_0_ca = fun.filtro_correlacion( dfs[0], dfs[0][ 'corrup_amplia' ], 0.8 )\n",
    "dfs_0_m = fun.filtro_correlacion( dfs[0], dfs[0][ 'monto' ], 0.8 )"
   ]
  },
  {
   "cell_type": "code",
   "execution_count": null,
   "id": "541bacbb-0acc-45f0-95d0-aa68f77efc86",
   "metadata": {},
   "outputs": [],
   "source": [
    "filtradas_0 = [ dfs_0_ci, dfs_0_ca, dfs_0_m ]\n",
    "dfs_0_i = []\n",
    "for i, filtrada_0 in enumerate( filtradas_0 ):\n",
    "    dfs_0_i.append( filtrada_0 )"
   ]
  },
  {
   "cell_type": "code",
   "execution_count": null,
   "id": "8672f236-aa76-4fbc-bced-9bb837d735d4",
   "metadata": {
    "scrolled": true,
    "tags": []
   },
   "outputs": [],
   "source": [
    "dfs_0_i[0].name = 'dfs_0_i_ci'\n",
    "dfs_0_i[1].name = 'dfs_0_i_ca'\n",
    "dfs_0_i[2].name = 'dfs_0_i_m'"
   ]
  },
  {
   "cell_type": "code",
   "execution_count": null,
   "id": "f9a11c24-733e-4235-912e-9d02ed6fb256",
   "metadata": {},
   "outputs": [],
   "source": [
    "fun.determinar_dimensiones( dfs_0_i )"
   ]
  },
  {
   "cell_type": "markdown",
   "id": "cbef0136-4d90-4400-9855-4b5ee9d549ce",
   "metadata": {},
   "source": [
    "Se realiza el mismo procedimiento para cada una de las variables dependientes de la base1."
   ]
  },
  {
   "cell_type": "code",
   "execution_count": null,
   "id": "825af2c0-a85c-4191-ae70-6daff14db631",
   "metadata": {
    "tags": []
   },
   "outputs": [],
   "source": [
    "dfs_1_ci = fun.filtro_correlacion( dfs[1], dfs[1][ 'corrup_intensa' ], 0.8 )\n",
    "dfs_1_ca = fun.filtro_correlacion( dfs[1], dfs[1][ 'corrup_amplia' ], 0.8 )\n",
    "dfs_1_m = fun.filtro_correlacion( dfs[1], dfs[1][ 'monto' ], 0.8 )"
   ]
  },
  {
   "cell_type": "code",
   "execution_count": null,
   "id": "daebb6d0-dcdc-4a17-9fc5-377e8dad9601",
   "metadata": {
    "tags": []
   },
   "outputs": [],
   "source": [
    "filtradas_1 = [ dfs_1_ci, dfs_1_ca, dfs_1_m ]\n",
    "dfs_1_i = []\n",
    "for i, filtrada_1 in enumerate( filtradas_1 ):\n",
    "    dfs_1_i.append( filtrada_1 )"
   ]
  },
  {
   "cell_type": "code",
   "execution_count": null,
   "id": "f06a2bf1-b0ea-4ef8-ab0d-01b49bc2c7f6",
   "metadata": {},
   "outputs": [],
   "source": [
    "dfs_1_i[0].name = 'dfs_1_i_ci'\n",
    "dfs_1_i[1].name = 'dfs_1_i_ca'\n",
    "dfs_1_i[2].name = 'dfs_1_i_m'"
   ]
  },
  {
   "cell_type": "code",
   "execution_count": null,
   "id": "242c1ff5-0033-454c-a44d-504bd912a807",
   "metadata": {},
   "outputs": [],
   "source": [
    "fun.determinar_dimensiones( dfs_1_i )"
   ]
  },
  {
   "cell_type": "markdown",
   "id": "3e5fa843-719d-4591-aa7b-b1c85e0bc095",
   "metadata": {},
   "source": [
    "Se realiza el mismo procedimiento para cada una de las bases dependientes de la base2."
   ]
  },
  {
   "cell_type": "code",
   "execution_count": null,
   "id": "f300d3d4-e046-4806-88e9-a08e6e0b03e0",
   "metadata": {},
   "outputs": [],
   "source": [
    "dfs_2_ci = fun.filtro_correlacion( dfs[2], dfs[2][ 'corrup_intensa' ], 0.8 )\n",
    "dfs_2_ca = fun.filtro_correlacion( dfs[2], dfs[2][ 'corrup_amplia' ], 0.8 )\n",
    "dfs_2_m = fun.filtro_correlacion( dfs[2], dfs[2][ 'monto' ], 0.8 )"
   ]
  },
  {
   "cell_type": "code",
   "execution_count": null,
   "id": "96384039-e9bd-4304-9e52-8e2c626ace28",
   "metadata": {},
   "outputs": [],
   "source": [
    "filtradas_2 = [ dfs_2_ci, dfs_2_ca, dfs_2_m ]\n",
    "dfs_2_i = []\n",
    "for i, filtrada_2 in enumerate( filtradas_2 ):\n",
    "    dfs_2_i.append( filtrada_2 )"
   ]
  },
  {
   "cell_type": "code",
   "execution_count": null,
   "id": "f7a0bffd-c86b-4043-b767-2f1655a3ea4e",
   "metadata": {},
   "outputs": [],
   "source": [
    "dfs_2_i[0].name = 'dfs_2_i_ci'\n",
    "dfs_2_i[1].name = 'dfs_2_i_ca'\n",
    "dfs_2_i[2].name = 'dfs_2_i_m'"
   ]
  },
  {
   "cell_type": "markdown",
   "id": "e3afaf43-25e8-4dbf-b505-46a6b472c1bf",
   "metadata": {},
   "source": [
    "Se realiza el mismo procedimiento para cada una de las bases dependientes de la base3."
   ]
  },
  {
   "cell_type": "code",
   "execution_count": null,
   "id": "13099f27-437f-48d5-b637-0e5ced777cd1",
   "metadata": {},
   "outputs": [],
   "source": [
    "dfs_3_ci = fun.filtro_correlacion( dfs[3], dfs[3][ 'corrup_intensa' ], 0.8 )\n",
    "dfs_3_ca = fun.filtro_correlacion( dfs[3], dfs[3][ 'corrup_amplia' ], 0.8 )\n",
    "dfs_3_m = fun.filtro_correlacion( dfs[3], dfs[3][ 'monto' ], 0.8 )"
   ]
  },
  {
   "cell_type": "code",
   "execution_count": null,
   "id": "0b78ed73-eecd-42f0-b839-cc7cb08cdd93",
   "metadata": {},
   "outputs": [],
   "source": [
    "filtradas_3 = [ dfs_3_ci, dfs_3_ca, dfs_3_m ]\n",
    "dfs_3_i = []\n",
    "for i, filtrada_3 in enumerate( filtradas_3 ):\n",
    "    dfs_3_i.append( filtrada_3 )"
   ]
  },
  {
   "cell_type": "code",
   "execution_count": null,
   "id": "121a516f-9945-4c93-b12b-746c2d10c6f1",
   "metadata": {},
   "outputs": [],
   "source": [
    "dfs_3_i[0].name = 'dfs_3_i_ci'\n",
    "dfs_3_i[1].name = 'dfs_3_i_ca'\n",
    "dfs_3_i[2].name = 'dfs_3_i_m'"
   ]
  },
  {
   "cell_type": "markdown",
   "id": "882ed814-9f22-4051-9826-213426a3d73f",
   "metadata": {
    "tags": []
   },
   "source": [
    "#### 2.5. Imputar outliers"
   ]
  },
  {
   "cell_type": "markdown",
   "id": "17d3a607-662a-4ff1-aa5d-5e8eae73c62e",
   "metadata": {},
   "source": [
    "Se imputa los valores del percentil 1% superior con los valores del percentil 99% para cada una de las variables de SIAF. En este caso, la imputación se realiza sobre las tres bases resultantes de la base0."
   ]
  },
  {
   "cell_type": "code",
   "execution_count": null,
   "id": "1de4a8f5-5d9e-4559-ae76-fdfa65b06690",
   "metadata": {
    "tags": []
   },
   "outputs": [],
   "source": [
    "fun.imputar_outliers( dfs_0_i, vn.siaf_variables, 0.01 )"
   ]
  },
  {
   "cell_type": "markdown",
   "id": "783fa07d-b03a-415c-b96b-d47803a017c0",
   "metadata": {},
   "source": [
    "Se aplica el mismo procedimiento para las tres bases resultantes de la base1."
   ]
  },
  {
   "cell_type": "code",
   "execution_count": null,
   "id": "cd2ed071-50db-40f1-882c-e5609b904de7",
   "metadata": {},
   "outputs": [],
   "source": [
    "fun.imputar_outliers( dfs_1_i, vn.siaf_variables, 0.01 )"
   ]
  },
  {
   "cell_type": "markdown",
   "id": "2193798d-2c53-4732-a6ff-cff748acf8d2",
   "metadata": {},
   "source": [
    "Se aplica el mismo procedimiento para las tres bases resultantes de la base2."
   ]
  },
  {
   "cell_type": "code",
   "execution_count": null,
   "id": "7309cdcc-a62e-4f43-a085-5061402eba0f",
   "metadata": {},
   "outputs": [],
   "source": [
    "fun.imputar_outliers( dfs_2_i, vn.siaf_variables, 0.01 )"
   ]
  },
  {
   "cell_type": "markdown",
   "id": "e39caac4-97ba-45cc-aefb-7ee0e1c60a6c",
   "metadata": {},
   "source": [
    "Se aplica el mismo procedimiento para las tres bases resultantes de la base3."
   ]
  },
  {
   "cell_type": "code",
   "execution_count": null,
   "id": "e2cdefff-2f26-453d-b2e8-ac003a956288",
   "metadata": {},
   "outputs": [],
   "source": [
    "fun.imputar_outliers( dfs_3_i, vn.siaf_variables, 0.01 )"
   ]
  },
  {
   "cell_type": "markdown",
   "id": "008a635d-7d5e-4917-9634-a33efcf4cec8",
   "metadata": {},
   "source": [
    "#### 3.6. Transformaciones logarítmicas"
   ]
  },
  {
   "cell_type": "markdown",
   "id": "dbaed796-a5a5-4d0f-b57c-fa8d45f71a70",
   "metadata": {},
   "source": [
    "Se realiza una transformación logarítmica a todas las variables pertenecientes a SIAF. La transformación se aplica sobre las tres bases de datos resultantes de la base0."
   ]
  },
  {
   "cell_type": "code",
   "execution_count": null,
   "id": "af99797d-1538-4b77-92ff-0edf904162cc",
   "metadata": {
    "tags": []
   },
   "outputs": [],
   "source": [
    "fun.transformacion_log( dfs_0_i )"
   ]
  },
  {
   "cell_type": "code",
   "execution_count": null,
   "id": "345b3278-6042-47d4-9a9c-f0dfe2b11949",
   "metadata": {},
   "outputs": [],
   "source": [
    "Se aplica el mismo procedimiento para las tres bases de datos resultantes de la base1. "
   ]
  },
  {
   "cell_type": "code",
   "execution_count": null,
   "id": "a1d737c6-9be4-4445-a598-b6707f769cb8",
   "metadata": {},
   "outputs": [],
   "source": [
    "fun.transformacion_log( dfs_1_i )"
   ]
  },
  {
   "cell_type": "code",
   "execution_count": null,
   "id": "2e0479df-3ec1-42d0-8906-310a303e926d",
   "metadata": {},
   "outputs": [],
   "source": [
    "Se aplica el mismo procedimiento para las tres bases de datos resultantes de la base2. "
   ]
  },
  {
   "cell_type": "code",
   "execution_count": null,
   "id": "5549e319-b99e-411d-a550-36fd15c7ebfe",
   "metadata": {},
   "outputs": [],
   "source": [
    "fun.transformacion_log( dfs_2_i )"
   ]
  },
  {
   "cell_type": "code",
   "execution_count": null,
   "id": "6ade20a3-8088-4368-9883-5a5904b65548",
   "metadata": {},
   "outputs": [],
   "source": [
    "Se aplica el mismo procedimiento para las tres bases de datos resultantes de la base3. "
   ]
  },
  {
   "cell_type": "code",
   "execution_count": null,
   "id": "a6aad53b-3bfd-4766-b171-8c89a6046cc5",
   "metadata": {},
   "outputs": [],
   "source": [
    "fun.transformacion_log( dfs_3_i )"
   ]
  },
  {
   "cell_type": "markdown",
   "id": "71ea830b-94a1-4e94-9632-8a787e5bb45a",
   "metadata": {
    "tags": []
   },
   "source": [
    "## 4. Tercera forma: imputación con deep learning mediante la librería datawig"
   ]
  },
  {
   "cell_type": "markdown",
   "id": "86420288-51af-4453-a646-8f10b7b54b8c",
   "metadata": {},
   "source": [
    "Se reestablece los valores originales de \"dfs\""
   ]
  },
  {
   "cell_type": "code",
   "execution_count": null,
   "id": "0a0eefce-083c-40ac-885f-36432c746311",
   "metadata": {},
   "outputs": [],
   "source": [
    "dfs = [ pd.DataFrame() for x in range( 4 ) ]\n",
    "for base in bases:\n",
    "    dfs = bases.copy()"
   ]
  },
  {
   "cell_type": "code",
   "execution_count": null,
   "id": "0d4b88c8-e1e8-4bbd-af9c-010f5cee84fd",
   "metadata": {},
   "outputs": [],
   "source": [
    "dfs[0].name = 'base0'\n",
    "dfs[1].name = 'base1'\n",
    "dfs[2].name = 'base2'\n",
    "dfs[3].name = 'base3'"
   ]
  },
  {
   "cell_type": "markdown",
   "id": "6314cc8e-33f2-4ec6-8168-c5c55d4e9ea6",
   "metadata": {},
   "source": [
    "#### 4.1. Filtrar por valores perdidos"
   ]
  },
  {
   "cell_type": "markdown",
   "id": "0f72038f-78fd-41b8-a80f-d27dc89fca1a",
   "metadata": {},
   "source": [
    "Se descartan las variables con un porcentaje de valores perdidos mayor o igual al umbral 0.5"
   ]
  },
  {
   "cell_type": "code",
   "execution_count": null,
   "id": "c5ce00aa-3f39-45da-b4fd-026014933858",
   "metadata": {
    "tags": []
   },
   "outputs": [],
   "source": [
    "fun.filtro_missings( dfs, 0.5 )"
   ]
  },
  {
   "cell_type": "code",
   "execution_count": null,
   "id": "676580be-b87e-4c93-a635-2038bd1ba80b",
   "metadata": {
    "tags": []
   },
   "outputs": [],
   "source": [
    "fun.determinar_dimensiones ( dfs )"
   ]
  },
  {
   "cell_type": "markdown",
   "id": "3be3fc2f-b5c1-43e1-9c8f-2bca4a6fbc88",
   "metadata": {},
   "source": [
    "#### 4.2. Imputación"
   ]
  },
  {
   "cell_type": "markdown",
   "id": "c3915e89-44d8-485c-ac21-cf446dbec13b",
   "metadata": {},
   "source": [
    "Se imputa usando deep learning mediante el algoritmo datawig. No se generan variables dummy de control. Para mayor detalle, sobre la forma de imputación, revísese la función \"imputar_iii\" en el módulo \"funciones.py\". Se recomienda usar este método de imputación con precaución. De momento, la función \"Imputar_iii\" está comentada en el módulo. En caso se desee usar, debe descomentar en el módulo \"funciones.py\" la función, los paquetes vinculados a datawig, y crear un envirment con la versión de python 3.7."
   ]
  },
  {
   "cell_type": "code",
   "execution_count": null,
   "id": "59be220d-5cc2-46c8-8b0d-1f972f8383bf",
   "metadata": {
    "tags": []
   },
   "outputs": [],
   "source": [
    "dfs[0] = fun.imputar_iii( dfs[0] )\n",
    "dfs[1] = fun.imputar_iii( dfs[1] )\n",
    "dfs[2] = fun.imputar_iii( dfs[2] )\n",
    "dfs[3] = fun.imputar_iii( dfs[3] )"
   ]
  },
  {
   "cell_type": "code",
   "execution_count": null,
   "id": "d411fc27-c230-4dc2-b3ce-71f38a3de0e0",
   "metadata": {
    "tags": []
   },
   "outputs": [],
   "source": [
    "fun.determinar_dimensiones ( dfs )"
   ]
  },
  {
   "cell_type": "markdown",
   "id": "bc781081-53c5-49fb-8539-d7de23d02716",
   "metadata": {},
   "source": [
    "#### 4.3. Filtro por variabilidad"
   ]
  },
  {
   "cell_type": "markdown",
   "id": "1e07beab-4cea-40c6-82e2-3ad63fc61c66",
   "metadata": {
    "tags": []
   },
   "source": [
    "Se descartan aquellas variables constantes, es decir, con una variabilidad de 0"
   ]
  },
  {
   "cell_type": "code",
   "execution_count": null,
   "id": "548b2818-6d1e-4e68-8d11-0a5d139c65c6",
   "metadata": {
    "tags": []
   },
   "outputs": [],
   "source": [
    "fun.filtro_variabilidad( dfs, 0 )"
   ]
  },
  {
   "cell_type": "markdown",
   "id": "722acc5a-3cc7-424e-8766-cd1cd1cb6eaa",
   "metadata": {},
   "source": [
    "#### 4.4. Filtro por correlación"
   ]
  },
  {
   "cell_type": "markdown",
   "id": "6fd84d3b-4dd1-4fb3-804f-1799b4b96d81",
   "metadata": {},
   "source": [
    "Se realiza un filtro de correlación para cada una de las variables dependientes de la base0. El umbral es 0.8. Para mayor detalle en el funcionamiento del filtro, véase su respectiva sección en el módulo \"funciones.py\". Posteriormente se agrupa las bases filtradas de la base 0 en la lista \"dfs_0_i\". Luego, se asigna el nombre a cada una de las bases. Finalmente, se determina las dimensiones de las bases"
   ]
  },
  {
   "cell_type": "code",
   "execution_count": null,
   "id": "76af82a0-98f9-4ff3-aba6-081c0cce871b",
   "metadata": {
    "tags": []
   },
   "outputs": [],
   "source": [
    "dfs_0_ci = fun.filtro_correlacion( dfs[0], dfs[0][ 'corrup_intensa' ], 0.8 )\n",
    "dfs_0_ca = fun.filtro_correlacion( dfs[0], dfs[0][ 'corrup_amplia' ], 0.8 )\n",
    "dfs_0_m = fun.filtro_correlacion( dfs[0], dfs[0][ 'monto' ], 0.8 )"
   ]
  },
  {
   "cell_type": "code",
   "execution_count": null,
   "id": "774cd1fc-4b06-44c5-a71a-f6d023294dbe",
   "metadata": {},
   "outputs": [],
   "source": [
    "filtradas_0 = [ dfs_0_ci, dfs_0_ca, dfs_0_m ]\n",
    "dfs_0_i = []\n",
    "for i, filtrada_0 in enumerate( filtradas_0 ):\n",
    "    dfs_0_i.append( filtrada_0 )"
   ]
  },
  {
   "cell_type": "code",
   "execution_count": null,
   "id": "814d6029-6621-4b3b-bb5e-05d5c3d449e6",
   "metadata": {
    "scrolled": true,
    "tags": []
   },
   "outputs": [],
   "source": [
    "dfs_0_i[0].name = 'dfs_0_i_ci'\n",
    "dfs_0_i[1].name = 'dfs_0_i_ca'\n",
    "dfs_0_i[2].name = 'dfs_0_i_m'"
   ]
  },
  {
   "cell_type": "code",
   "execution_count": null,
   "id": "8bb08207-3be4-4b63-a72f-4633a605b4b2",
   "metadata": {},
   "outputs": [],
   "source": [
    "fun.determinar_dimensiones( dfs_0_i )"
   ]
  },
  {
   "cell_type": "markdown",
   "id": "23b7060e-a56b-482d-a072-7d1d11242cd0",
   "metadata": {},
   "source": [
    "Se realiza el mismo procedimiento para cada una de las variables dependientes de la base1."
   ]
  },
  {
   "cell_type": "code",
   "execution_count": null,
   "id": "b165be82-1a8b-4dee-ab46-8b8f2e77f424",
   "metadata": {
    "tags": []
   },
   "outputs": [],
   "source": [
    "dfs_1_ci = fun.filtro_correlacion( dfs[1], dfs[1][ 'corrup_intensa' ], 0.8 )\n",
    "dfs_1_ca = fun.filtro_correlacion( dfs[1], dfs[1][ 'corrup_amplia' ], 0.8 )\n",
    "dfs_1_m = fun.filtro_correlacion( dfs[1], dfs[1][ 'monto' ], 0.8 )"
   ]
  },
  {
   "cell_type": "code",
   "execution_count": null,
   "id": "1c71c38f-dc6c-4479-b2ca-dea2c1ae367e",
   "metadata": {
    "tags": []
   },
   "outputs": [],
   "source": [
    "filtradas_1 = [ dfs_1_ci, dfs_1_ca, dfs_1_m ]\n",
    "dfs_1_i = []\n",
    "for i, filtrada_1 in enumerate( filtradas_1 ):\n",
    "    dfs_1_i.append( filtrada_1 )"
   ]
  },
  {
   "cell_type": "code",
   "execution_count": null,
   "id": "1df5b6aa-b7c4-4a90-a56a-3058e68642cf",
   "metadata": {},
   "outputs": [],
   "source": [
    "dfs_1_i[0].name = 'dfs_1_i_ci'\n",
    "dfs_1_i[1].name = 'dfs_1_i_ca'\n",
    "dfs_1_i[2].name = 'dfs_1_i_m'"
   ]
  },
  {
   "cell_type": "code",
   "execution_count": null,
   "id": "c78681f4-be7d-4624-9d0f-fcf27748ba3e",
   "metadata": {},
   "outputs": [],
   "source": [
    "fun.determinar_dimensiones( dfs_1_i )"
   ]
  },
  {
   "cell_type": "markdown",
   "id": "8831669e-cf15-44ed-bfba-5c6381a2ba59",
   "metadata": {},
   "source": [
    "Se realiza el mismo procedimiento para cada una de las bases dependientes de la base2."
   ]
  },
  {
   "cell_type": "code",
   "execution_count": null,
   "id": "26f8823a-e675-40ac-a1d9-c39d6fc7cb05",
   "metadata": {},
   "outputs": [],
   "source": [
    "dfs_2_ci = fun.filtro_correlacion( dfs[2], dfs[2][ 'corrup_intensa' ], 0.8 )\n",
    "dfs_2_ca = fun.filtro_correlacion( dfs[2], dfs[2][ 'corrup_amplia' ], 0.8 )\n",
    "dfs_2_m = fun.filtro_correlacion( dfs[2], dfs[2][ 'monto' ], 0.8 )"
   ]
  },
  {
   "cell_type": "code",
   "execution_count": null,
   "id": "113e2c66-822e-46d8-aec7-f27cb5db0855",
   "metadata": {},
   "outputs": [],
   "source": [
    "filtradas_2 = [ dfs_2_ci, dfs_2_ca, dfs_2_m ]\n",
    "dfs_2_i = []\n",
    "for i, filtrada_2 in enumerate( filtradas_2 ):\n",
    "    dfs_2_i.append( filtrada_2 )"
   ]
  },
  {
   "cell_type": "code",
   "execution_count": null,
   "id": "8ea14b12-fb04-416b-80a7-99396f85798d",
   "metadata": {},
   "outputs": [],
   "source": [
    "dfs_2_i[0].name = 'dfs_2_i_ci'\n",
    "dfs_2_i[1].name = 'dfs_2_i_ca'\n",
    "dfs_2_i[2].name = 'dfs_2_i_m'"
   ]
  },
  {
   "cell_type": "markdown",
   "id": "3bfdf05a-0a27-40c5-a15e-37b8a59f472b",
   "metadata": {},
   "source": [
    "Se realiza el mismo procedimiento para cada una de las bases dependientes de la base3."
   ]
  },
  {
   "cell_type": "code",
   "execution_count": null,
   "id": "6d59879f-ffa0-4b68-9376-72c385932307",
   "metadata": {},
   "outputs": [],
   "source": [
    "dfs_3_ci = fun.filtro_correlacion( dfs[3], dfs[3][ 'corrup_intensa' ], 0.8 )\n",
    "dfs_3_ca = fun.filtro_correlacion( dfs[3], dfs[3][ 'corrup_amplia' ], 0.8 )\n",
    "dfs_3_m = fun.filtro_correlacion( dfs[3], dfs[3][ 'monto' ], 0.8 )"
   ]
  },
  {
   "cell_type": "code",
   "execution_count": null,
   "id": "a51b87fd-a11d-433e-a848-def2162d261c",
   "metadata": {},
   "outputs": [],
   "source": [
    "filtradas_3 = [ dfs_3_ci, dfs_3_ca, dfs_3_m ]\n",
    "dfs_3_i = []\n",
    "for i, filtrada_3 in enumerate( filtradas_3 ):\n",
    "    dfs_3_i.append( filtrada_3 )"
   ]
  },
  {
   "cell_type": "code",
   "execution_count": null,
   "id": "9bace63d-0c37-459c-aca9-23c57b9e5192",
   "metadata": {},
   "outputs": [],
   "source": [
    "dfs_3_i[0].name = 'dfs_3_i_ci'\n",
    "dfs_3_i[1].name = 'dfs_3_i_ca'\n",
    "dfs_3_i[2].name = 'dfs_3_i_m'"
   ]
  },
  {
   "cell_type": "markdown",
   "id": "3e19fbda-fddb-4cef-89a9-8bd491056f5b",
   "metadata": {
    "tags": []
   },
   "source": [
    "#### 4.5. Imputar outliers"
   ]
  },
  {
   "cell_type": "markdown",
   "id": "f7905e3f-a566-4e63-b661-9ec47e3cf2e4",
   "metadata": {},
   "source": [
    "Se imputa los valores del percentil 1% superior con los valores del percentil 99% para cada una de las variables de SIAF. En este caso, la imputación se realiza sobre las tres bases resultantes de la base0."
   ]
  },
  {
   "cell_type": "code",
   "execution_count": null,
   "id": "553a7d5d-679e-4ede-b7b9-811d7c872276",
   "metadata": {
    "tags": []
   },
   "outputs": [],
   "source": [
    "fun.imputar_outliers( dfs_0_i, vn.siaf_variables, 0.01 )"
   ]
  },
  {
   "cell_type": "markdown",
   "id": "5763bfaf-8170-4af5-9a18-e9b4a527bc3e",
   "metadata": {},
   "source": [
    "Se aplica el mismo procedimiento para las tres bases resultantes de la base1."
   ]
  },
  {
   "cell_type": "code",
   "execution_count": null,
   "id": "7bf7ba12-6eb7-40ca-9a3a-237af93f9b08",
   "metadata": {},
   "outputs": [],
   "source": [
    "fun.imputar_outliers( dfs_1_i, vn.siaf_variables, 0.01 )"
   ]
  },
  {
   "cell_type": "markdown",
   "id": "625064d5-1152-4185-8b25-8fa38eb3da43",
   "metadata": {},
   "source": [
    "Se aplica el mismo procedimiento para las tres bases resultantes de la base2."
   ]
  },
  {
   "cell_type": "code",
   "execution_count": null,
   "id": "713e2e42-9fb3-47d9-a631-e72a75525285",
   "metadata": {},
   "outputs": [],
   "source": [
    "fun.imputar_outliers( dfs_2_i, vn.siaf_variables, 0.01 )"
   ]
  },
  {
   "cell_type": "markdown",
   "id": "0e4b529e-9941-45ff-9ff2-db675c340b85",
   "metadata": {},
   "source": [
    "Se aplica el mismo procedimiento para las tres bases resultantes de la base3."
   ]
  },
  {
   "cell_type": "code",
   "execution_count": null,
   "id": "31207471-4737-4c61-9719-4063f737e308",
   "metadata": {},
   "outputs": [],
   "source": [
    "fun.imputar_outliers( dfs_3_i, vn.siaf_variables, 0.01 )"
   ]
  },
  {
   "cell_type": "markdown",
   "id": "0e63fb45-e269-44a4-b71b-cb29bbb5b3ff",
   "metadata": {},
   "source": [
    "#### 4.6. Transformaciones logarítmicas"
   ]
  },
  {
   "cell_type": "markdown",
   "id": "5cb41529-7fdf-4379-84d5-ddd143d0bb5e",
   "metadata": {},
   "source": [
    "Se realiza una transformación logarítmica a todas las variables pertenecientes a SIAF. La transformación se aplica sobre las tres bases de datos resultantes de la base0."
   ]
  },
  {
   "cell_type": "code",
   "execution_count": null,
   "id": "190f01f3-7733-416e-91bb-508ff53b7721",
   "metadata": {},
   "outputs": [],
   "source": [
    "fun.transformacion_log( dfs_0_i )"
   ]
  },
  {
   "cell_type": "code",
   "execution_count": null,
   "id": "d4d901d8-eef4-4867-9f93-c87a5b03a369",
   "metadata": {},
   "outputs": [],
   "source": [
    "Se aplica el mismo procedimiento para las tres bases de datos resultantes de la base1. "
   ]
  },
  {
   "cell_type": "code",
   "execution_count": null,
   "id": "00b64a7e-5cef-413c-b368-4b2ff4ac5b14",
   "metadata": {},
   "outputs": [],
   "source": [
    "fun.transformacion_log( dfs_1_i )"
   ]
  },
  {
   "cell_type": "code",
   "execution_count": null,
   "id": "b73b7178-23f7-445a-b8fb-5c3eb17d4fa2",
   "metadata": {},
   "outputs": [],
   "source": [
    "Se aplica el mismo procedimiento para las tres bases de datos resultantes de la base2. "
   ]
  },
  {
   "cell_type": "code",
   "execution_count": null,
   "id": "9917c16d-9fb7-4439-add7-4cfcbc709a03",
   "metadata": {},
   "outputs": [],
   "source": [
    "fun.transformacion_log( dfs_2_i )"
   ]
  },
  {
   "cell_type": "code",
   "execution_count": null,
   "id": "290297bd-6992-490a-8c93-0f343df71513",
   "metadata": {},
   "outputs": [],
   "source": [
    "Se aplica el mismo procedimiento para las tres bases de datos resultantes de la base3. "
   ]
  },
  {
   "cell_type": "code",
   "execution_count": null,
   "id": "868859bd-f59d-492c-b0e4-56cd31714fce",
   "metadata": {},
   "outputs": [],
   "source": [
    "fun.transformacion_log( dfs_3_i )"
   ]
  }
 ],
 "metadata": {
  "kernelspec": {
   "display_name": "Python 3 (ipykernel)",
   "language": "python",
   "name": "python3"
  },
  "language_info": {
   "codemirror_mode": {
    "name": "ipython",
    "version": 3
   },
   "file_extension": ".py",
   "mimetype": "text/x-python",
   "name": "python",
   "nbconvert_exporter": "python",
   "pygments_lexer": "ipython3",
   "version": "3.9.13"
  }
 },
 "nbformat": 4,
 "nbformat_minor": 5
}
